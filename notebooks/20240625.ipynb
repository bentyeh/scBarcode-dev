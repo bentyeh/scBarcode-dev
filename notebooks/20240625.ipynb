{
 "cells": [
  {
   "cell_type": "markdown",
   "id": "9b403e46-2214-4aef-94db-2628630c42a9",
   "metadata": {},
   "source": [
    "Status: mostly complete\n",
    "\n",
    "Conclusions: specificity is too low to pair chromatin fragments with cells of origin.\n",
    "- At ~50% sequencing coverage, ~50% of species-specific beads contain mixed cell oligos - i.e., half of beads whose chromatin fragments are all human-derived have mouse cell oligos, and vice versa."
   ]
  },
  {
   "cell_type": "markdown",
   "id": "e643472d-822d-454e-8d55-ffa25097208d",
   "metadata": {},
   "source": [
    "# Setup"
   ]
  },
  {
   "cell_type": "code",
   "execution_count": 1,
   "id": "4f87266c-7e0f-411d-a5cb-ecc9eaea3fd6",
   "metadata": {},
   "outputs": [],
   "source": [
    "%load_ext autoreload\n",
    "%autoreload 2\n",
    "%load_ext watermark"
   ]
  },
  {
   "cell_type": "code",
   "execution_count": 2,
   "id": "18b3cb07-879e-4796-a7fc-534d47cc4421",
   "metadata": {},
   "outputs": [],
   "source": [
    "# Python Standard Library modules\n",
    "import collections\n",
    "import copy\n",
    "import gzip\n",
    "import itertools\n",
    "import os\n",
    "import re\n",
    "import sys\n",
    "\n",
    "# Basic SciPy packages\n",
    "import numpy as np\n",
    "import scipy\n",
    "import pandas as pd\n",
    "\n",
    "# Visualization packages\n",
    "import matplotlib.pyplot as plt\n",
    "import seaborn as sns\n",
    "\n",
    "from tqdm.auto import tqdm\n",
    "import IPython.display\n",
    "\n",
    "import pysam\n",
    "\n",
    "# Custom modules\n",
    "sys.path.append('../scripts')\n",
    "import string_distances\n",
    "import parse_barcodes\n",
    "from helpers import fastq_parse"
   ]
  },
  {
   "cell_type": "code",
   "execution_count": 3,
   "id": "45089337-2684-4988-83a1-ac2fb66af6b2",
   "metadata": {},
   "outputs": [
    {
     "name": "stdout",
     "output_type": "stream",
     "text": [
      "Last updated: 2024-06-29T23:23:35.756564-07:00\n",
      "\n",
      "Python implementation: CPython\n",
      "Python version       : 3.10.12\n",
      "IPython version      : 8.14.0\n",
      "\n",
      "Compiler    : GCC 12.3.0\n",
      "OS          : Linux\n",
      "Release     : 5.14.0-362.24.1.el9_3.x86_64\n",
      "Machine     : x86_64\n",
      "Processor   : x86_64\n",
      "CPU cores   : 128\n",
      "Architecture: 64bit\n",
      "\n",
      "conda environment: py3\n",
      "\n",
      "seaborn   : 0.12.2\n",
      "re        : 2.2.1\n",
      "scipy     : 1.11.1\n",
      "sys       : 3.10.12 | packaged by conda-forge | (main, Jun 23 2023, 22:40:32) [GCC 12.3.0]\n",
      "matplotlib: 3.7.2\n",
      "IPython   : 8.14.0\n",
      "numpy     : 1.23.5\n",
      "pandas    : 2.0.2\n",
      "pysam     : 0.21.0\n",
      "\n"
     ]
    }
   ],
   "source": [
    "%watermark\n",
    "%watermark --conda\n",
    "%watermark --iversions"
   ]
  },
  {
   "cell_type": "code",
   "execution_count": 4,
   "id": "abe376ce-dbb5-4106-9fba-27d4bf2b02a3",
   "metadata": {},
   "outputs": [
    {
     "name": "stdout",
     "output_type": "stream",
     "text": [
      "splitcode, version 0.30.0\n"
     ]
    }
   ],
   "source": [
    "%%bash\n",
    "splitcode --version"
   ]
  },
  {
   "cell_type": "code",
   "execution_count": 5,
   "id": "d0277387-e93a-4b9f-9cff-421b4ffc4af7",
   "metadata": {},
   "outputs": [],
   "source": [
    "DIR_PROJECT = '/central/groups/guttman/btyeh/scBarcode'\n",
    "DIR_DATA = os.path.join(DIR_PROJECT, 'data', '20240625')\n",
    "DIR_AUX = os.path.join(DIR_PROJECT, 'data_aux', '20240625')\n",
    "DIR_PROC = os.path.join(DIR_PROJECT, 'data_proc', '20240625')\n",
    "DIR_RESULTS = os.path.join(DIR_PROJECT, 'results', '20240625')\n",
    "\n",
    "os.makedirs(DIR_AUX, exist_ok=True)\n",
    "os.makedirs(DIR_PROC, exist_ok=True)\n",
    "os.makedirs(DIR_RESULTS, exist_ok=True)"
   ]
  },
  {
   "cell_type": "code",
   "execution_count": 6,
   "id": "fee44c72-6a91-41ab-9146-4a2b362e717e",
   "metadata": {},
   "outputs": [],
   "source": [
    "def estimate_library_complexity(count_total, count_dedup, ub=None, max_err=1e-3):\n",
    "    '''\n",
    "    See https://github.com/bentyeh/resources/blob/main/bioinformatics/models_genomics.md\n",
    "\n",
    "    Generative model: Poisson sampling (i.e., with replacement) count_total reads from\n",
    "    M unique molecules, such that count_dedup molecules were sampled at least once. Solve\n",
    "    for M.\n",
    "    '''\n",
    "    if ub is None:\n",
    "        ub = count_total*1e5\n",
    "    res = scipy.optimize.minimize_scalar(\n",
    "      fun=lambda M: (M * (1 - np.exp(-count_total/M)) - count_dedup)**2,\n",
    "      bracket=(count_dedup, ub)\n",
    "    )\n",
    "    assert res.fun < max_err\n",
    "    return res.x\n",
    "\n",
    "def estimate_library_complexity2(count_total, count_mean, ub=None, max_err=1e-3):\n",
    "    '''\n",
    "    See https://github.com/bentyeh/resources/blob/main/bioinformatics/models_genomics.md\n",
    "\n",
    "    Generative model: Poisson sampling (i.e., with replacement) count_total reads from\n",
    "    M unique molecules, yielding mean observed counts count_mean. Solve for M.\n",
    "    '''\n",
    "    ub = ub if ub is not None else count_total*1e5\n",
    "    res = scipy.optimize.minimize_scalar(\n",
    "      fun=lambda M: ((count_total / M) / (1 - np.exp(-count_total / M)) - count_mean)**2,\n",
    "      bracket=(count_total / count_mean, ub)\n",
    "    )\n",
    "    assert res.fun < max_err\n",
    "    return res.x"
   ]
  },
  {
   "cell_type": "code",
   "execution_count": 7,
   "id": "fa8d0fcb-c473-49cc-82e1-b925b5bc3bc3",
   "metadata": {},
   "outputs": [],
   "source": [
    "# from https://docs.python.org/3/library/itertools.html\n",
    "def grouper(iterable, n, *, incomplete='fill', fillvalue=None):\n",
    "    \"Collect data into non-overlapping fixed-length chunks or blocks.\"\n",
    "    # grouper('ABCDEFG', 3, fillvalue='x') → ABC DEF Gxx\n",
    "    # grouper('ABCDEFG', 3, incomplete='strict') → ABC DEF ValueError\n",
    "    # grouper('ABCDEFG', 3, incomplete='ignore') → ABC DEF\n",
    "    iterators = [iter(iterable)] * n\n",
    "    match incomplete:\n",
    "        case 'fill':\n",
    "            return zip_longest(*iterators, fillvalue=fillvalue)\n",
    "        case 'strict':\n",
    "            return zip(*iterators, strict=True)\n",
    "        case 'ignore':\n",
    "            return zip(*iterators)\n",
    "        case _:\n",
    "            raise ValueError('Expected fill, strict, or ignore')"
   ]
  },
  {
   "cell_type": "markdown",
   "id": "f8d43dcb-edb1-4e7d-8fca-ff5787556e10",
   "metadata": {},
   "source": [
    "## Build combined human-mouse genome index"
   ]
  },
  {
   "cell_type": "markdown",
   "id": "466c5649-e5b9-4007-8b61-1d94c93971fa",
   "metadata": {},
   "source": [
    "Download all FASTA files (1 file per chromosome) for human and mouse genomes. Rename human chromosomes from \"chr*\" to \"h_chr*\" and mouse chromosomes from \"chr*\" to \"m_chr*\""
   ]
  },
  {
   "cell_type": "code",
   "execution_count": 8,
   "id": "abcffd63-f1b5-4945-967e-eae52cbab15b",
   "metadata": {},
   "outputs": [],
   "source": [
    "%%bash\n",
    "PATH_SCRATCH='/central/scratch/btyeh/hg38'\n",
    "PATH_INDEX='/central/scratch/btyeh/index_hg38_mm10'\n",
    "if [ ! -f \"$PATH_INDEX\"/hg38_mm10.rev.1.bt2l ] && [ ! -f \"$PATH_SCRATCH\"/h_chr1.fa ]; then\n",
    "    mkdir -p \"$PATH_SCRATCH\"\n",
    "    wget -nc -q -O - https://hgdownload.soe.ucsc.edu/goldenPath/hg38/bigZips/hg38.chromFa.tar.gz |\n",
    "        tar -xz -C \"$PATH_SCRATCH\"\n",
    "    mv \"$PATH_SCRATCH\"/chroms/*.fa \"$PATH_SCRATCH\"\n",
    "    \n",
    "    # remove alternate loci sequences\n",
    "    rm -r \"$PATH_SCRATCH\"/chroms \"$PATH_SCRATCH\"/*_alt.fa\n",
    "    \n",
    "    cd \"$PATH_SCRATCH\"\n",
    "    for file in chr*.fa; do\n",
    "        new_file=\"h_${file}\"\n",
    "        sed -e 's/^>chr/>h_chr/' \"$file\" > \"$new_file\"\n",
    "        rm \"$file\"\n",
    "    done\n",
    "fi"
   ]
  },
  {
   "cell_type": "code",
   "execution_count": 9,
   "id": "a57d003f-d057-4c08-b3ba-b4366832a02b",
   "metadata": {},
   "outputs": [],
   "source": [
    "%%bash\n",
    "PATH_SCRATCH='/central/scratch/btyeh/mm10'\n",
    "PATH_INDEX='/central/scratch/btyeh/index_hg38_mm10'\n",
    "if [ ! -f \"$PATH_INDEX\"/hg38_mm10.rev.1.bt2l ] && [ ! -f \"$PATH_SCRATCH\"/m_chr1.fa ]; then\n",
    "    mkdir -p \"$PATH_SCRATCH\"\n",
    "    wget -nc -q -O - https://hgdownload.soe.ucsc.edu/goldenPath/mm10/bigZips/chromFa.tar.gz |\n",
    "        tar -xz -C \"$PATH_SCRATCH\"\n",
    "    \n",
    "    cd \"$PATH_SCRATCH\"\n",
    "    for file in chr*.fa; do\n",
    "        new_file=\"m_${file}\"\n",
    "        sed -e 's/^>chr/>m_chr/' \"$file\" > \"$new_file\"\n",
    "        rm \"$file\"\n",
    "    done\n",
    "fi"
   ]
  },
  {
   "cell_type": "markdown",
   "id": "afa98474-0d61-4266-a259-3a1d1571f8fc",
   "metadata": {},
   "source": [
    "Build combined genome index"
   ]
  },
  {
   "cell_type": "code",
   "execution_count": 10,
   "id": "822616d5-cae0-4f8a-af25-75e45891cb80",
   "metadata": {
    "scrolled": true
   },
   "outputs": [],
   "source": [
    "%%bash -s {DIR_PROJECT}\n",
    "DIR_PROJECT=\"$1\"\n",
    "\n",
    "PATH_SBATCH=\"${DIR_PROJECT}/scripts/20240625/build_index.sbatch\"\n",
    "PATH_INDEX='/central/scratch/btyeh/index_hg38_mm10'\n",
    "\n",
    "if [ ! -f \"$PATH_INDEX\"/hg38_mm10.rev.1.bt2l ]; then\n",
    "    sbatch --output=\"$PATH_INDEX\"/slurm.out --error=\"$PATH_INDEX\"/slurm.err \"$PATH_SBATCH\"\n",
    "fi"
   ]
  },
  {
   "cell_type": "markdown",
   "id": "fd0653fd-09c7-4acc-83d2-c68056e7c1ca",
   "metadata": {},
   "source": [
    "### Create IGV Genome JSON file"
   ]
  },
  {
   "cell_type": "markdown",
   "id": "4654c901-6733-45a6-be0c-5afc30dac38a",
   "metadata": {},
   "source": [
    "Concatenate all reference chromosome FASTA files and build a FASTA index"
   ]
  },
  {
   "cell_type": "code",
   "execution_count": 11,
   "id": "a3e7de08-cfb0-4780-8228-2898daec3f5b",
   "metadata": {},
   "outputs": [],
   "source": [
    "%%bash\n",
    "PATH_SCRATCH='/central/scratch/btyeh'\n",
    "PATH_INDEX=\"${PATH_SCRATCH}/index_hg38_mm10\"\n",
    "\n",
    "if [ ! -f \"$PATH_INDEX\"/hg38_mm10.fa.fai ]; then\n",
    "    source ~/.bashrc\n",
    "    conda activate chipdip\n",
    "    \n",
    "    cat \"$PATH_SCRATCH\"/hg38/*.fa \"$PATH_SCRATCH\"/mm10/*.fa > \"$PATH_INDEX\"/hg38_mm10.fa\n",
    "    samtools faidx \"$PATH_INDEX\"/hg38_mm10.fa\n",
    "fi"
   ]
  },
  {
   "cell_type": "markdown",
   "id": "52017ec1-5473-4930-bb0d-549f7286531a",
   "metadata": {},
   "source": [
    "Download GENCODE annotations"
   ]
  },
  {
   "cell_type": "code",
   "execution_count": 12,
   "id": "c8b55a30-b08a-4e42-9fb5-ca0d58848a44",
   "metadata": {
    "scrolled": true
   },
   "outputs": [],
   "source": [
    "%%bash\n",
    "set -e\n",
    "\n",
    "PATH_SCRATCH='/central/scratch/btyeh'\n",
    "PATH_ANNOT=\"$PATH_SCRATCH\"/annot\n",
    "\n",
    "if [ ! -f \"$PATH_ANNOT\"/hg38_mm10.gtf.gz.tbi ]; then\n",
    "    source ~/.bashrc\n",
    "    conda activate chipdip\n",
    "    mkdir -p \"$PATH_ANNOT\"\n",
    "    \n",
    "    # download human GENCODE GTF and rename chromosomes\n",
    "    wget -q -O - https://ftp.ebi.ac.uk/pub/databases/gencode/Gencode_human/release_46/gencode.v46.basic.annotation.gtf.gz |\n",
    "        unpigz -p 4 -c |\n",
    "        sort -k 1,1V -k 4,4V -k 5,5V |\n",
    "        sed -E -e 's/^chr/h_chr/' > \"$PATH_ANNOT\"/hg38.gtf\n",
    "    \n",
    "    # download mouse GENCODE GTF and rename chromosomes\n",
    "    wget -q -O - https://ftp.ebi.ac.uk/pub/databases/gencode/Gencode_mouse/release_M25/gencode.vM25.basic.annotation.gtf.gz |\n",
    "        unpigz -p 4 -c |\n",
    "        sort -k 1,1V -k 4,4V -k 5,5V |\n",
    "        sed -E -e 's/^chr/m_chr/' > \"$PATH_ANNOT\"/mm10.gtf\n",
    "    \n",
    "    # concatenate human and mouse genome GTFs\n",
    "    cat \"$PATH_ANNOT\"/hg38.gtf \"$PATH_ANNOT\"/mm10.gtf |\n",
    "        bgzip --threads 4 -c /dev/stdin > \"$PATH_ANNOT\"/hg38_mm10.gtf.gz\n",
    "    \n",
    "    rm \"$PATH_ANNOT\"/hg38.gtf \"$PATH_ANNOT\"/mm10.gtf\n",
    "    \n",
    "    # index the combined GTF\n",
    "    tabix -f \"$PATH_ANNOT\"/hg38_mm10.gtf.gz\n",
    "fi"
   ]
  },
  {
   "cell_type": "markdown",
   "id": "e54b312e-35a1-474c-9973-c197c5341c60",
   "metadata": {},
   "source": [
    "# FastQC"
   ]
  },
  {
   "cell_type": "code",
   "execution_count": 13,
   "id": "9915030e-18cb-485c-9ec8-116a1c5824dc",
   "metadata": {},
   "outputs": [
    {
     "name": "stdout",
     "output_type": "stream",
     "text": [
      "application/gzip\n",
      "application/gzip\n"
     ]
    }
   ],
   "source": [
    "%%bash -s {DIR_DATA} {DIR_PROC}\n",
    "DIR_DATA=\"$1\"\n",
    "DIR_PROC=\"$2\"\n",
    "DIR_FASTQC_OUT=\"${DIR_PROC}/fastqc\"\n",
    "if [ ! -d \"$DIR_FASTQC_OUT\" ]; then\n",
    "    mkdir \"${DIR_PROC}/fastqc\"\n",
    "    cd \"$DIR_DATA\"\n",
    "    source ~/.bashrc\n",
    "    conda activate chipdip\n",
    "    fastqc *.fastq.gz -t 20 -q -o \"$DIR_FASTQC_OUT\"\n",
    "fi"
   ]
  },
  {
   "cell_type": "markdown",
   "id": "69f47cd1-5d3b-4f50-b96e-52799b84709f",
   "metadata": {},
   "source": [
    "# Pipeline\n",
    "\n",
    "1. Identify and trim bead barcode for all reads (add barcode to read name). Discard reads without a complete bead barcode.\n",
    "2. Split cell oligos from chromatin. Discard reads that do not match either.\n",
    "   - Trim DPM from Read 1 of chromatin reads\n",
    "\n",
    "Cell oligo processing\n",
    "- ✅ Identify cell barcode + UMI (add barcode and UMI as SAM tags)\n",
    "- ✅ Deduplicate by cell barcode, bead barcode, and UMI\n",
    "\n",
    "Chromatin processing\n",
    "- ✅ Check that DPM sequence on Read 1 and Read 2 match\n",
    "- ✅ Paired-end alignment to human-mouse mixed genome\n",
    "- ✅ Deduplicate by alignment position and bead barcode"
   ]
  },
  {
   "cell_type": "markdown",
   "id": "475baac2-b135-4e9e-a787-08daec861e7a",
   "metadata": {},
   "source": [
    "## Identify bead barcode"
   ]
  },
  {
   "cell_type": "code",
   "execution_count": 14,
   "id": "2f04edf0-fa4e-4587-b886-a93a0ba82ab0",
   "metadata": {},
   "outputs": [],
   "source": [
    "path_splitcode_bead_barcode = os.path.join(DIR_AUX, 'splitcode_config-bead_barcode.tsv')"
   ]
  },
  {
   "cell_type": "code",
   "execution_count": 15,
   "id": "1657f8cf-2856-4119-b993-45a0dbe80cab",
   "metadata": {},
   "outputs": [
    {
     "name": "stderr",
     "output_type": "stream",
     "text": [
      "* Forcing --gzip because all output file names end in .gz\n",
      "* Using a list of 289 tags (vector size: 289; map size: 110,903; num elements in map: 113,119)\n",
      "* will process sample 1: /central/groups/guttman/btyeh/scBarcode/data/20240625/CTCF_scChIP-seq_1pct_aliquot3_R1.fastq.gz\n",
      "                         /central/groups/guttman/btyeh/scBarcode/data/20240625/CTCF_scChIP-seq_1pct_aliquot3_R2.fastq.gz\n",
      "* processing the reads ...\n",
      "done \n",
      "* processed 3,307,406 reads, 1,190,856 reads were assigned\n"
     ]
    }
   ],
   "source": [
    "%%bash -s {DIR_DATA} {DIR_PROC} {path_splitcode_bead_barcode}\n",
    "DIR_DATA=\"$1\"\n",
    "DIR_PROC=\"$2\"\n",
    "PATH_CONFIG=\"$3\"\n",
    "\n",
    "PATH_R1=\"$DIR_DATA/CTCF_scChIP-seq_1pct_aliquot3_R1.fastq.gz\"\n",
    "PATH_R2=\"$DIR_DATA/CTCF_scChIP-seq_1pct_aliquot3_R2.fastq.gz\"\n",
    "PATH_MAPPING=\"$DIR_PROC/mapping_bead-barcode.tsv\"\n",
    "PATH_SUMMARY=\"$DIR_PROC/summary_bead-barcode.json\"\n",
    "PATH_OUT1=\"$DIR_PROC/R1_bead-barcode.fastq.gz\"\n",
    "PATH_OUT2=\"$DIR_PROC/R2_bead-barcode.fastq.gz\"\n",
    "\n",
    "splitcode -c \"$PATH_CONFIG\" \\\n",
    "    --nFastqs=2 --com-names --assign --no-outb -t 8 \\\n",
    "    --mapping=\"$PATH_MAPPING\" --summary=\"$PATH_SUMMARY\" --output=\"$PATH_OUT1\",\"$PATH_OUT2\" \\\n",
    "    \"$PATH_R1\" \"$PATH_R2\"\n",
    "\n",
    "gzip -f \"$PATH_MAPPING\""
   ]
  },
  {
   "cell_type": "markdown",
   "id": "2db91522-7642-4827-89fa-5ac0f58092f7",
   "metadata": {},
   "source": [
    "Modify read names so that there is no whitespace between the read name and bead barcode."
   ]
  },
  {
   "cell_type": "code",
   "execution_count": 16,
   "id": "c8339a82-8335-4ce2-b48a-3d355524d249",
   "metadata": {},
   "outputs": [],
   "source": [
    "%%bash -s {DIR_PROC}\n",
    "DIR_PROC=\"$1\"\n",
    "\n",
    "PATH_OUT1=\"$DIR_PROC/R1_bead-barcode.fastq.gz\"\n",
    "PATH_OUT2=\"$DIR_PROC/R2_bead-barcode.fastq.gz\"\n",
    "PATH_TMP=\"$DIR_PROC/tmp.fastq.gz\"\n",
    "\n",
    "zcat \"$PATH_OUT1\" | sed -e 's/ BI:i:/::bead=/' | gzip > \"$PATH_TMP\"\n",
    "mv \"$PATH_TMP\" \"$PATH_OUT1\"\n",
    "\n",
    "zcat \"$PATH_OUT2\" | sed -e 's/ BI:i:/::bead=/' | gzip > \"$PATH_TMP\"\n",
    "mv \"$PATH_TMP\" \"$PATH_OUT2\""
   ]
  },
  {
   "cell_type": "markdown",
   "id": "7bda6ae7-2d61-4bb9-8a88-90818421ce77",
   "metadata": {},
   "source": [
    "Parse mapping into pandas DataFrame"
   ]
  },
  {
   "cell_type": "code",
   "execution_count": 17,
   "id": "eb23ef8f-16d7-4cd9-b99a-a1781aaac2be",
   "metadata": {},
   "outputs": [],
   "source": [
    "regex_bead_barcode = (\n",
    "    'NYStgBot_(?P<Y>\\d+),'\n",
    "    'OddBot_(?P<Odd3>\\d+),'\n",
    "    'EvenBot_(?P<Even2>\\d+),'\n",
    "    'OddBot_(?P<Odd2>\\d+),'\n",
    "    'EvenBot_(?P<Even>\\d+),'\n",
    "    'OddBot_(?P<Odd>\\d+),'\n",
    "    'DPMBot6_(?P<DPM>\\d+)'\n",
    ")\n",
    "df_bead_barcodes = pd.read_csv(\n",
    "    os.path.join(DIR_PROC, 'mapping_bead-barcode.tsv.gz'),\n",
    "    sep='\\t',\n",
    "    names=['final_barcode', 'barcode', 'count'],\n",
    "    dtype={'count': int}\n",
    ")\n",
    "df_bead_barcodes = pd.concat(\n",
    "    (\n",
    "        df_bead_barcodes.drop(columns=['final_barcode', 'barcode']),\n",
    "        df_bead_barcodes['barcode'].str.extract(regex_bead_barcode).astype(np.uint8)\n",
    "    ),\n",
    "    axis=1\n",
    ")"
   ]
  },
  {
   "cell_type": "markdown",
   "id": "5d972b76-ea05-4926-b71e-3230acf04737",
   "metadata": {},
   "source": [
    "## Split cell oligos and chromatin"
   ]
  },
  {
   "cell_type": "code",
   "execution_count": 18,
   "id": "b00080fb-f2c7-4116-8f07-04c40dc8e4f1",
   "metadata": {},
   "outputs": [],
   "source": [
    "path_splitcode_split_cell_oligo_chromatin = os.path.join(DIR_AUX, 'splitcode_config-split_cell_oligo_chromatin.tsv')\n",
    "path_keep_grp = os.path.join(DIR_AUX, 'keep_group-split_cell_oligo_chromatin.txt')"
   ]
  },
  {
   "cell_type": "code",
   "execution_count": 19,
   "id": "30f1548f-f03e-4ed4-807a-95cb202d27ef",
   "metadata": {},
   "outputs": [
    {
     "name": "stderr",
     "output_type": "stream",
     "text": [
      "* Using a list of 133 tags (vector size: 133; map size: 197; num elements in map: 197)\n",
      "* will process sample 1: /central/groups/guttman/btyeh/scBarcode/data_proc/20240625/R1_bead-barcode.fastq.gz\n",
      "                         /central/groups/guttman/btyeh/scBarcode/data_proc/20240625/R2_bead-barcode.fastq.gz\n",
      "* processing the reads ...\n",
      "done \n",
      "* processed 1,190,856 reads, 1,099,693 reads were assigned\n"
     ]
    }
   ],
   "source": [
    "%%bash -s {DIR_PROC} {path_splitcode_split_cell_oligo_chromatin} {path_keep_grp}\n",
    "DIR_PROC=\"$1\"\n",
    "PATH_CONFIG=\"$2\"\n",
    "PATH_KEEP_GRP=\"$3\"\n",
    "\n",
    "PATH_R1=\"$DIR_PROC/R1_bead-barcode.fastq.gz\"\n",
    "PATH_R2=\"$DIR_PROC/R2_bead-barcode.fastq.gz\"\n",
    "\n",
    "# change working directory to DIR_PROC so that the split files are generated in that directory\n",
    "cd \"$DIR_PROC\"\n",
    "\n",
    "splitcode -c \"$PATH_CONFIG\" \\\n",
    "    --nFastqs=2 --assign --no-outb -t 8 --mod-names --keep-grp=\"$PATH_KEEP_GRP\" --keep-r1-r2 --gzip --no-output \\\n",
    "    --mapping=/dev/null \\\n",
    "    \"$PATH_R1\" \"$PATH_R2\""
   ]
  },
  {
   "cell_type": "markdown",
   "id": "511624af-7c80-41bd-b57d-f8d2581ee6e4",
   "metadata": {},
   "source": [
    "## Chromatin read processing"
   ]
  },
  {
   "cell_type": "markdown",
   "id": "835526bb-bbb5-4e9c-a038-0ef2829ff9f7",
   "metadata": {},
   "source": [
    "Discard genomic reads with unmatched DPM sequence on Read 1 and Read 2, since we cannot be sure which bead they correspond to."
   ]
  },
  {
   "cell_type": "code",
   "execution_count": 20,
   "id": "e95d3023-8ec4-4a1d-87d2-799950d8eafd",
   "metadata": {},
   "outputs": [
    {
     "data": {
      "application/vnd.jupyter.widget-view+json": {
       "model_id": "53082a40dc4441fa88e5d3044b1050d3",
       "version_major": 2,
       "version_minor": 0
      },
      "text/plain": [
       "0it [00:00, ?it/s]"
      ]
     },
     "metadata": {},
     "output_type": "display_data"
    },
    {
     "name": "stdout",
     "output_type": "stream",
     "text": [
      "Number of reads with mismatched DPM on read 1 and read 2: 1052 / 1016694 = 0.103%\n"
     ]
    }
   ],
   "source": [
    "path_genomic_R1 = os.path.join(DIR_PROC, 'genomic_R1.fastq.gz')\n",
    "path_tmp_R1 = os.path.join(DIR_PROC, 'tmp_R1.fastq.gz')\n",
    "\n",
    "path_genomic_R2 = os.path.join(DIR_PROC, 'genomic_R2.fastq.gz')\n",
    "path_tmp_R2 = os.path.join(DIR_PROC, 'tmp_R2.fastq.gz')\n",
    "\n",
    "regex_bead = re.compile(r'bead=(\\d+):')\n",
    "regex_DPM = re.compile('\\[DPMBot6_(\\d+)\\]')\n",
    "\n",
    "bead_to_DPM = df_bead_barcodes['DPM'].to_dict()\n",
    "count_mismatch = 0\n",
    "\n",
    "with gzip.open(path_genomic_R1, 'rt') as f1, \\\n",
    "     gzip.open(path_genomic_R2, 'rt') as f2, \\\n",
    "     gzip.open(path_tmp_R1, 'wt') as o1, \\\n",
    "     gzip.open(path_tmp_R2, 'wt') as o2:\n",
    "    for i, ((name1, seq1, thrd1, qual1), (name2, seq2, thrd2, qual2)) in tqdm(enumerate(zip(fastq_parse(f1), fastq_parse(f2)))):\n",
    "        bead = int(regex_bead.search(name1).groups()[0])\n",
    "        bead_DPM = int(bead_to_DPM[bead])\n",
    "        chromatin_DPM = int(regex_DPM.search(name1).groups()[0])\n",
    "        if bead_DPM == chromatin_DPM:\n",
    "            o1.write(f'{name1}\\n{seq1}\\n{thrd1}\\n{qual1}\\n')\n",
    "            o2.write(f'{name2}\\n{seq2}\\n{thrd2}\\n{qual2}\\n')\n",
    "        else:\n",
    "            count_mismatch += 1\n",
    "\n",
    "os.replace(path_tmp_R1, path_genomic_R1)\n",
    "os.replace(path_tmp_R2, path_genomic_R2)\n",
    "\n",
    "print(f'Number of reads with mismatched DPM on read 1 and read 2: {count_mismatch} / {i} = {count_mismatch / i:.3%}')"
   ]
  },
  {
   "cell_type": "markdown",
   "id": "c7a49733-b122-4309-ae37-0f173bf9d9bb",
   "metadata": {},
   "source": [
    "Trim sequencing adapters"
   ]
  },
  {
   "cell_type": "code",
   "execution_count": 21,
   "id": "b6b24e7c-e937-488d-80fb-429d5b9c8120",
   "metadata": {},
   "outputs": [],
   "source": [
    "%%bash -s {DIR_PROC}\n",
    "DIR_PROC=\"$1\"\n",
    "DIR_TRIMMED=\"${DIR_PROC}/trimmed\"\n",
    "mkdir -p \"$DIR_TRIMMED\"\n",
    "\n",
    "PATH_R1=\"${DIR_PROC}/genomic_R1.fastq.gz\"\n",
    "PATH_R2=\"${DIR_PROC}/genomic_R2.fastq.gz\"\n",
    "PATH_LOG=\"${DIR_TRIMMED}/trim_galore.log\"\n",
    "\n",
    "source ~/.bashrc\n",
    "conda activate chipdip\n",
    "\n",
    "trim_galore \\\n",
    "  --paired \\\n",
    "  --gzip \\\n",
    "  --cores 2 \\\n",
    "  --quality 20 \\\n",
    "  -o \"$DIR_TRIMMED\" \\\n",
    "  \"$PATH_R1\" \"$PATH_R2\" &> \"$PATH_LOG\""
   ]
  },
  {
   "cell_type": "markdown",
   "id": "d39ce98c-342b-4b7f-aed7-47d59530c775",
   "metadata": {},
   "source": [
    "Paired-end alignment to combined human-mouse genome"
   ]
  },
  {
   "cell_type": "code",
   "execution_count": 22,
   "id": "0bf12ec3-ccf4-4753-a4a0-51469cfeb9f8",
   "metadata": {},
   "outputs": [
    {
     "name": "stdout",
     "output_type": "stream",
     "text": [
      "Submitted batch job 42361521\n"
     ]
    }
   ],
   "source": [
    "%%bash -s {DIR_PROJECT} {DIR_PROC}\n",
    "DIR_PROJECT=\"$1\"\n",
    "DIR_PROC=\"$2\"\n",
    "PATH_SBATCH=\"${DIR_PROJECT}/scripts/20240625/align.sbatch\"\n",
    "sbatch --output=\"$DIR_PROC\"/slurm_align.out --error=\"$DIR_PROC\"/slurm_align.err \"$PATH_SBATCH\""
   ]
  },
  {
   "cell_type": "markdown",
   "id": "b9ce1d8a-203a-48e0-aebd-e0f76ea703fa",
   "metadata": {},
   "source": [
    "Filter aligned reads\n",
    "- required flags: 3\n",
    "  - 0x1: read paired\n",
    "  - 0x2: read mapped in proper pair\n",
    "- exclude flags (any): 2828\n",
    "  - read unmapped: 0x4\n",
    "  - mate unmapped: 0x8\n",
    "  - secondary alignment: 0x100\n",
    "  - not passing filters, such as platform/vendor quality controls: 0x200 \n",
    "  - supplementary (chimeric) alignment: 0x800\n",
    "- mapping quality: at least 20 (corresponding to 1% probability that mapping position is wrong)"
   ]
  },
  {
   "cell_type": "code",
   "execution_count": 23,
   "id": "c1be6476-e50f-4e74-abb3-997480a08056",
   "metadata": {},
   "outputs": [
    {
     "name": "stderr",
     "output_type": "stream",
     "text": [
      "[bam_sort_core] merging from 0 files and 4 in-memory blocks...\n"
     ]
    }
   ],
   "source": [
    "%%bash -s {DIR_PROC}\n",
    "DIR_PROC=\"$1\"\n",
    "source ~/.bashrc\n",
    "conda activate chipdip\n",
    "samtools view -h -b -q 20 -f 3 -F 2828 \"${DIR_PROC}/genomic.bam\" |\n",
    "    samtools sort -@ 4 -o \"${DIR_PROC}/genomic_filtered.sorted.bam\"\n",
    "samtools index -@ 4 \"${DIR_PROC}/genomic_filtered.sorted.bam\" # index for loading into IGV"
   ]
  },
  {
   "cell_type": "markdown",
   "id": "7718c733-c1c3-4a31-92cf-576c7b231ede",
   "metadata": {},
   "source": [
    "Create name-sorted BAM file for easy read-pair identification"
   ]
  },
  {
   "cell_type": "code",
   "execution_count": 24,
   "id": "2dff18e9-e9ce-4b92-9dac-64c023324115",
   "metadata": {},
   "outputs": [
    {
     "name": "stderr",
     "output_type": "stream",
     "text": [
      "[bam_sort_core] merging from 0 files and 4 in-memory blocks...\n"
     ]
    }
   ],
   "source": [
    "%%bash -s {DIR_PROC}\n",
    "DIR_PROC=\"$1\"\n",
    "source ~/.bashrc\n",
    "conda activate chipdip\n",
    "samtools sort -@ 4 -n \"${DIR_PROC}/genomic_filtered.sorted.bam\" > \"${DIR_PROC}/genomic_filtered.name_sorted.bam\""
   ]
  },
  {
   "cell_type": "markdown",
   "id": "cefa175c-93f2-457f-b85c-84898931ea9b",
   "metadata": {},
   "source": [
    "### Convert read pairs to single entries of (bead, chr, start, end)"
   ]
  },
  {
   "cell_type": "markdown",
   "id": "3d7c32dc-0880-422b-80a3-78c90d76e5d4",
   "metadata": {},
   "source": [
    "At this point, all read pairs now have one of the following pairs of flags:\n",
    "- 99 (R1 sense) + 147 (R2 antisense)\n",
    "- 83 (R1 antisense) + 163 (R2 sense)"
   ]
  },
  {
   "cell_type": "markdown",
   "id": "b39dfe8b-0c2c-4ee0-b809-a22bb820e98a",
   "metadata": {},
   "source": [
    "Notes about `pysam.AlignedSegment` (determined empirically when [documentation](https://pysam.readthedocs.io/en/latest/api.html#pysam.AlignedSegment) is lacking)\n",
    "- For any mapped read, `reference_end` >= `reference_start`\n",
    "- `template_length` is obtained from column 9 in the underlying SAM/BAM file.\n",
    "  - From the SAM format specification: \"The `TLEN` field is positive for the leftmost segment of the template, negative for the rightmost\""
   ]
  },
  {
   "cell_type": "markdown",
   "id": "0fa7e0f8-beeb-44ee-8ef8-7e27f9e159de",
   "metadata": {},
   "source": [
    "Here, I essentially try to create a BED3 file entry for each read pair."
   ]
  },
  {
   "cell_type": "code",
   "execution_count": 25,
   "id": "16e25622-ed51-4960-8898-16b2f4717339",
   "metadata": {},
   "outputs": [
    {
     "name": "stderr",
     "output_type": "stream",
     "text": [
      "[E::idx_find_and_load] Could not retrieve index file for '/central/groups/guttman/btyeh/scBarcode/data_proc/20240625/genomic_filtered.name_sorted.bam'\n"
     ]
    },
    {
     "data": {
      "application/vnd.jupyter.widget-view+json": {
       "model_id": "a675c62335714a408923473af5084f7e",
       "version_major": 2,
       "version_minor": 0
      },
      "text/plain": [
       "0it [00:00, ?it/s]"
      ]
     },
     "metadata": {},
     "output_type": "display_data"
    }
   ],
   "source": [
    "read_pairs = []\n",
    "with pysam.AlignmentFile(os.path.join(DIR_PROC, 'genomic_filtered.name_sorted.bam'), 'rb') as f:\n",
    "    for read1, read2 in tqdm(grouper(f.fetch(until_eof=True), 2, incomplete='strict')):\n",
    "        assert read1.qname == read2.qname\n",
    "        assert read1.reference_name == read2.reference_name\n",
    "        assert read1.reference_end >= read1.reference_start\n",
    "        assert read2.reference_end >= read2.reference_start\n",
    "        assert read1.template_length == -read2.template_length\n",
    "        bead = int(regex_bead.search(read1.qname).groups()[0])\n",
    "        if read1.is_reverse:\n",
    "            assert read2.is_forward\n",
    "            entry = (bead, read1.reference_name, read2.reference_start, read1.reference_end - 1)\n",
    "        else:\n",
    "            assert read1.is_forward and read2.is_reverse\n",
    "            entry = (bead, read1.reference_name, read1.reference_start, read2.reference_end - 1)\n",
    "        assert entry[3] >= entry[2]\n",
    "        assert entry[3] - entry[2] + 1 == abs(read1.template_length)\n",
    "        read_pairs.append(entry)"
   ]
  },
  {
   "cell_type": "markdown",
   "id": "d06ef339-6e11-4a93-928e-5d58cfde66c7",
   "metadata": {},
   "source": [
    "### Deduplicate chromatin read pairs and estimate complexity"
   ]
  },
  {
   "cell_type": "markdown",
   "id": "97149259-3eec-4920-a5dd-c5315fe5e349",
   "metadata": {},
   "source": [
    "Options of deduplicating chromatin read pairs\n",
    "1. Least conservative (i.e., retaining the most reads): only count as duplicates read pairs with identical bead, chr, start, and end.\n",
    "2. Count as duplicates read pairs with identical bead, chr, and start.\n",
    "3. Count as duplicates read pairs with identical bead, chr, and start.\n",
    "4. Most conservative (i.e., retaining the fewest reads): any read pair with identical bead, chr, and either start or end.\n",
    "   - This deduplicates over sets of reads, not just pairs of reads. Two reads with different start and end positions can now count as duplicates if a third read shares the start of the first read and the end of the second read."
   ]
  },
  {
   "cell_type": "markdown",
   "id": "bee9c9cf-8a6a-434f-8246-1df69c23871b",
   "metadata": {},
   "source": [
    "Note that each DNA fragment yields 2 unique amplicons due to ligating DPMs on both ends of the fragment - one where read 1 yields the sense sequence, and one where read 1 yields the antisense sequence. This raises some potential concerns:\n",
    "1. Deduplication. We want to treat all reads arising from the same DNA fragment as duplicates, regardless of orientation. By essentially creating a BED3 entry for each read pair, we already remove strandedness information. Consequently, any of the deduplication options proposed above will treat as duplicates 2 read pairs arising from the same DNA fragment but with different orientations.\n",
    "2. Complexity. By counting duplicates per concern 1 above, this means that the complexity that we estimate is of the true number of DNA fragments, which is what we want to know.\n",
    "3. Ligation and sequencing errors. The DPM ligations on either end of the DNA fragment may have have slightly different insertions/deletions, leading to slightly offset start and end positions. Consequently, deduplicating by both start *or* end positions would better account for ligation and sequencing errors."
   ]
  },
  {
   "cell_type": "code",
   "execution_count": 26,
   "id": "ae8b9ec9-faee-414f-bff1-14a85f1581bc",
   "metadata": {},
   "outputs": [],
   "source": [
    "n_chromatin_nodedup = len(read_pairs)\n",
    "n_chromatin_dedup_start_and_end = len(set(read_pairs))\n",
    "n_chromatin_dedup_start = len(set(entry[0:3] for entry in read_pairs))\n",
    "n_chromatin_dedup_end = len(set((entry[0], entry[1], entry[3]) for entry in read_pairs))\n",
    "\n",
    "read_pairs_start_or_end = collections.defaultdict(list)\n",
    "for bead, chrom, start, end in read_pairs:\n",
    "    read_pairs_start_or_end[(bead, chrom)].append({'start': set((start,)), 'end': set((end,))})\n",
    "for (bead, chrom), deduped_pairs in read_pairs_start_or_end.items():\n",
    "    for i in range(len(deduped_pairs) - 1):\n",
    "        pair_i = deduped_pairs[i]\n",
    "        for j in range(i+1, len(deduped_pairs)):\n",
    "            pair_j = deduped_pairs[j]\n",
    "            if (len(pair_i['start'] & pair_j['start']) > 0) or (len(pair_i['end'] & pair_j['end']) > 0):\n",
    "                # merge start and end positions of pair j into pair i\n",
    "                pair_i['start'] |= pair_j['start']\n",
    "                pair_i['end'] |= pair_j['end']\n",
    "                deduped_pairs[i] = pair_i\n",
    "                deduped_pairs[j] = {'start': set(), 'end': set()}\n",
    "    read_pairs_start_or_end[(bead, chrom)] = [pair for pair in deduped_pairs if len(pair['start']) > 0]\n",
    "# validate this 4th method of deduplication\n",
    "for (bead, chrom), deduped_pairs in read_pairs_start_or_end.items():\n",
    "    for i in range(len(deduped_pairs) - 1):\n",
    "        pair_i = deduped_pairs[i]\n",
    "        assert len(pair_i['start']) > 0 and len(pair_i['end']) > 0\n",
    "        for j in range(i+1, len(deduped_pairs)):\n",
    "            pair_j = deduped_pairs[j]\n",
    "            assert (len(pair_i['start'] & pair_j['start']) == 0) and (len(pair_i['end'] & pair_j['end']) == 0)\n",
    "    assert len(deduped_pairs[-1]['start']) > 0 and len(deduped_pairs[-1]['end']) > 0\n",
    "\n",
    "n_chromatin_dedup_start_or_end = sum(map(len, read_pairs_start_or_end.values()))"
   ]
  },
  {
   "cell_type": "code",
   "execution_count": 27,
   "id": "f0a6c4dd-1809-4557-8ea9-d77fc531d8e4",
   "metadata": {},
   "outputs": [
    {
     "name": "stdout",
     "output_type": "stream",
     "text": [
      "Properly aligned chromatin read pairs (prior to deduplication) 765162\n",
      "Deduplicated by start and end positions: 564565\n",
      "Deduplicated by start position only: 563886\n",
      "Deduplicated by end position only: 563901\n",
      "Deduplicated by start or end positions: 563222\n"
     ]
    }
   ],
   "source": [
    "print('Properly aligned chromatin read pairs (prior to deduplication)', n_chromatin_nodedup)\n",
    "print('Deduplicated by start and end positions:', n_chromatin_dedup_start_and_end)\n",
    "print('Deduplicated by start position only:', n_chromatin_dedup_start)\n",
    "print('Deduplicated by end position only:', n_chromatin_dedup_end)\n",
    "print('Deduplicated by start or end positions:', n_chromatin_dedup_start_or_end)"
   ]
  },
  {
   "cell_type": "markdown",
   "id": "53f038da-53e3-45e8-907c-7268cb681c69",
   "metadata": {},
   "source": [
    "Complexity estimates"
   ]
  },
  {
   "cell_type": "code",
   "execution_count": 28,
   "id": "ea98ad81-b7ba-437e-8b72-b2bce48faba4",
   "metadata": {},
   "outputs": [
    {
     "name": "stdout",
     "output_type": "stream",
     "text": [
      "Complexity estimates (conservative, liberal): (1181423, 1191231)\n"
     ]
    }
   ],
   "source": [
    "complexity_chromatin_high = estimate_library_complexity(n_chromatin_nodedup, n_chromatin_dedup_start_and_end)\n",
    "complexity_chromatin_low = estimate_library_complexity(n_chromatin_nodedup, n_chromatin_dedup_start_or_end)\n",
    "print('Complexity estimates (conservative, liberal): ({:.0f}, {:.0f})'.format(complexity_chromatin_low, complexity_chromatin_high))"
   ]
  },
  {
   "cell_type": "markdown",
   "id": "9ed1faee-fe5c-4a96-8c95-50aa70369073",
   "metadata": {},
   "source": [
    "Estimate additional reads required to obtain saturation. For simplicity, I use deduplication by start and end positions in this calculation."
   ]
  },
  {
   "cell_type": "code",
   "execution_count": 29,
   "id": "49b57adf-7303-442a-bb7d-01f84219359d",
   "metadata": {},
   "outputs": [],
   "source": [
    "df_chromatin = (\n",
    "    pd.DataFrame(read_pairs, columns=['bead', 'chr', 'start', 'end'])\n",
    "    .groupby(['bead', 'chr', 'start', 'end'])\n",
    "    .size()\n",
    "    .rename('count')\n",
    "    .reset_index()\n",
    ")\n",
    "df_chromatin['count'].to_csv(os.path.join(DIR_PROC, 'chromatin_counts.txt'), index=False, header=False)"
   ]
  },
  {
   "cell_type": "code",
   "execution_count": 30,
   "id": "58da3883-4b79-4678-a736-a2738057d9e9",
   "metadata": {},
   "outputs": [],
   "source": [
    "%%bash -s {DIR_PROC}\n",
    "DIR_PROC=\"$1\"\n",
    "\n",
    "source ~/.bashrc\n",
    "conda activate genomics\n",
    "\n",
    "PATH_CHROMATIN_COUNTS=\"${DIR_PROC}/chromatin_counts.txt\"\n",
    "PATH_CHROMATIN_COMPLEXITY_CURVE=\"${DIR_PROC}/chromatin_complexity_curve.tsv\"\n",
    "PATH_CHROMATIN_COMPLEXITY_TOTAL=\"${DIR_PROC}/chromatin_complexity_total.tsv\"\n",
    "\n",
    "preseq lc_extrap -o \"$PATH_CHROMATIN_COMPLEXITY_CURVE\" -e 30000000 -s 100000 \\\n",
    "    -V <(cut -f 1 \"$PATH_CHROMATIN_COUNTS\")\n",
    "\n",
    "preseq pop_size -o \"$PATH_CHROMATIN_COMPLEXITY_TOTAL\" -V <(cut -f 1 \"$PATH_CHROMATIN_COUNTS\")"
   ]
  },
  {
   "cell_type": "code",
   "execution_count": 31,
   "id": "99e62f23-de29-4744-a8fa-8c510b99eb0d",
   "metadata": {},
   "outputs": [],
   "source": [
    "path_chromatin_complexity_curve = os.path.join(DIR_PROC, 'chromatin_complexity_curve.tsv')\n",
    "path_chromatin_complexity_total = os.path.join(DIR_PROC, 'chromatin_complexity_total.tsv')\n",
    "\n",
    "df_chromatin_complexity_curve = pd.read_csv(path_chromatin_complexity_curve, sep='\\t', header=0)\n",
    "complexity_chromatin_preseq = pd.read_csv(path_chromatin_complexity_total, sep='\\t', header=0).squeeze()"
   ]
  },
  {
   "cell_type": "code",
   "execution_count": 32,
   "id": "e1ef1ac7-7216-44e3-b42a-c3856d9a735c",
   "metadata": {},
   "outputs": [
    {
     "data": {
      "image/png": "[encoded data removed]",
      "text/plain": [
       "<Figure size 640x480 with 1 Axes>"
      ]
     },
     "metadata": {},
     "output_type": "display_data"
    }
   ],
   "source": [
    "ax = sns.lineplot(\n",
    "    df_chromatin_complexity_curve,\n",
    "    x='TOTAL_READS',\n",
    "    y='EXPECTED_DISTINCT'\n",
    ")\n",
    "ax.axhline(\n",
    "    y=complexity_chromatin_preseq['pop_size_estimate'],\n",
    "    c='C1',\n",
    "    label='estimated total complexity (preseq)'\n",
    ")\n",
    "ax.axhline(\n",
    "    y=complexity_chromatin_high,\n",
    "    c='C2',\n",
    "    label='estimated total complexity (naive Poisson)'\n",
    ")\n",
    "ax.axhline(\n",
    "    y=0.90*complexity_chromatin_preseq['pop_size_estimate'],\n",
    "    c='C3',\n",
    "    ls='dotted',\n",
    "    label='90% of total complexity'\n",
    ")\n",
    "ax.axvline(\n",
    "    x=df_chromatin['count'].sum(),\n",
    "    c='C4',\n",
    "    label='Current sequencing depth'\n",
    ")\n",
    "ax.set_title('Chromatin sequencing complexity curve')\n",
    "ax.set_ylim(0, None)\n",
    "ax.set_xlim(0, None)\n",
    "ax.legend()\n",
    "ax.figure.show()"
   ]
  },
  {
   "cell_type": "code",
   "execution_count": 33,
   "id": "6834148b-53cd-4b45-b5d0-bdc9171d274e",
   "metadata": {},
   "outputs": [
    {
     "name": "stdout",
     "output_type": "stream",
     "text": [
      "Amount (fold) more sequencing required to achieve 90% coverage:\n"
     ]
    },
    {
     "data": {
      "text/plain": [
       "25.746181854300136"
      ]
     },
     "execution_count": 33,
     "metadata": {},
     "output_type": "execute_result"
    }
   ],
   "source": [
    "print('Amount (fold) more sequencing required to achieve 90% coverage:')\n",
    "df_chromatin_complexity_curve.loc[\n",
    "    df_chromatin_complexity_curve['EXPECTED_DISTINCT'] >= 0.9 * complexity_chromatin_preseq['pop_size_estimate'],\n",
    "    'TOTAL_READS'\n",
    "].min() / df_chromatin['count'].sum()"
   ]
  },
  {
   "cell_type": "markdown",
   "id": "f62ac21f-ea37-4352-85ad-838084107c0d",
   "metadata": {},
   "source": [
    "Coverage estimates"
   ]
  },
  {
   "cell_type": "code",
   "execution_count": 34,
   "id": "b4d33f75-e10a-4369-ae19-35f86ae6ed41",
   "metadata": {},
   "outputs": [
    {
     "name": "stdout",
     "output_type": "stream",
     "text": [
      "Coverage estimate (naive Poisson model): ~47.4%\n",
      "Coverage estimate (preseq): ~26.8%\n"
     ]
    }
   ],
   "source": [
    "print('Coverage estimate (naive Poisson model): ~{:.1%}'.format(n_chromatin_dedup_start_and_end / complexity_chromatin_high))\n",
    "# alternatively use n_chromatin_dedup_start_or_end / complexity_chromatin_low, which gives a similar result\n",
    "\n",
    "print('Coverage estimate (preseq): ~{:.1%}'.format(n_chromatin_dedup_start_and_end / complexity_chromatin_preseq['pop_size_estimate']))"
   ]
  },
  {
   "cell_type": "markdown",
   "id": "bc0d4e01-5fa7-4c8b-a339-bfaa8199b7be",
   "metadata": {},
   "source": [
    "### Chromatin statistics"
   ]
  },
  {
   "cell_type": "code",
   "execution_count": 35,
   "id": "d1f93e68-919d-4990-817f-fe94d93f7033",
   "metadata": {},
   "outputs": [],
   "source": [
    "df_chromatin['length'] = df_chromatin['end'] - df_chromatin['start'] + 1\n",
    "df_chromatin['species'] = df_chromatin['chr'].str[0].map(dict(h='human', m='mouse')).astype('category')"
   ]
  },
  {
   "cell_type": "markdown",
   "id": "300ce24e-b7e2-4690-861c-2abf66132937",
   "metadata": {},
   "source": [
    "Number of deduplicated mouse and human chromatin reads is very similar"
   ]
  },
  {
   "cell_type": "code",
   "execution_count": 36,
   "id": "425b360e-d386-4a0e-84cf-d055e2db0092",
   "metadata": {},
   "outputs": [
    {
     "data": {
      "text/plain": [
       "species\n",
       "human    271806\n",
       "mouse    292759\n",
       "dtype: int64"
      ]
     },
     "execution_count": 36,
     "metadata": {},
     "output_type": "execute_result"
    }
   ],
   "source": [
    "df_chromatin.groupby('species').size()"
   ]
  },
  {
   "cell_type": "markdown",
   "id": "9e07af8f-1574-47e2-a608-ab4437a6b726",
   "metadata": {},
   "source": [
    "Mouse and human chromatin have similar fragmentation sizes, with mouse fragments slightly smaller than human."
   ]
  },
  {
   "cell_type": "code",
   "execution_count": 37,
   "id": "a52fc2a6-b193-4776-b57c-6fa282ccf320",
   "metadata": {},
   "outputs": [
    {
     "data": {
      "image/png": "[encoded data removed]",
      "text/plain": [
       "<Figure size 640x480 with 2 Axes>"
      ]
     },
     "metadata": {},
     "output_type": "display_data"
    }
   ],
   "source": [
    "fig, axs = plt.subplots(2, 1, sharex=True, sharey=False, constrained_layout=True)\n",
    "sns.ecdfplot(df_chromatin, x='length', hue='species', ax=axs[0])\n",
    "sns.histplot(df_chromatin, x='length', hue='species', ax=axs[1])\n",
    "fig.savefig(os.path.join(DIR_RESULTS, 'chromatin_fragmentation_size.png'), bbox_inches='tight', dpi=300)"
   ]
  },
  {
   "cell_type": "markdown",
   "id": "b446eb12-e13e-4942-94a0-b947390eff4c",
   "metadata": {},
   "source": [
    "The periodic peaks in the histogram for insert size likely corresponds to some barcoding artifact.\n",
    "\n",
    "\\<TODO\\>"
   ]
  },
  {
   "cell_type": "markdown",
   "id": "6a02b9e3-683f-43be-b81c-ea90f2e07a79",
   "metadata": {},
   "source": [
    "## Oligo read processing"
   ]
  },
  {
   "cell_type": "markdown",
   "id": "e8dc757d-08c2-4233-bbbc-274f22de1387",
   "metadata": {},
   "source": [
    "### Extract UMIs and reformat read names\n",
    "- splitcode-output read name structure: `@<name>::bead=<#>::[oligo_ID][LigEven] RX:Z:ACCCGTGC`\n",
    "- Final read name structure = `@<name>::bead=<#>::[oligo_ID]::umi=<umi>`"
   ]
  },
  {
   "cell_type": "code",
   "execution_count": 38,
   "id": "77c328fe-621e-4573-b0e6-8c314ad7f16c",
   "metadata": {},
   "outputs": [
    {
     "name": "stderr",
     "output_type": "stream",
     "text": [
      "* Forcing --gzip because all output file names end in .gz\n",
      "* Using a list of 0 tags (vector size: 0; map size: 0; num elements in map: 0)\n",
      "* will process sample 1: /central/groups/guttman/btyeh/scBarcode/data_proc/20240625/oligos_R1.fastq.gz\n",
      "                         /central/groups/guttman/btyeh/scBarcode/data_proc/20240625/oligos_R2.fastq.gz\n",
      "* processing the reads ...\n",
      "done \n",
      "* processed 82,998 reads\n"
     ]
    }
   ],
   "source": [
    "%%bash -s {DIR_PROC}\n",
    "DIR_PROC=\"$1\"\n",
    "\n",
    "PATH_R1=\"${DIR_PROC}/oligos_R1.fastq.gz\"\n",
    "PATH_R2=\"${DIR_PROC}/oligos_R2.fastq.gz\"\n",
    "PATH_TMP1=\"${DIR_PROC}/tmp_R1.fastq.gz\"\n",
    "PATH_TMP2=\"${DIR_PROC}/tmp_R2.fastq.gz\"\n",
    "\n",
    "splitcode --nFastqs=2 --extract '0:9<umi[8]>' --x-names --no-x-out -t 8 \\\n",
    "    --output=\"$PATH_TMP1\",\"$PATH_TMP2\" \\\n",
    "    \"$PATH_R1\" \"$PATH_R2\"\n",
    "\n",
    "unpigz -c \"$PATH_TMP1\" |\n",
    "    sed -E -e 's/(\\[LigEven\\])? RX:Z:([ATCGN]+)/::umi=\\2/' |\n",
    "    gzip > \"$PATH_R1\"\n",
    "\n",
    "unpigz -c \"$PATH_TMP2\" |\n",
    "    sed -E -e 's/(\\[LigEven\\])? RX:Z:([ATCGN]+)/::umi=\\2/' |\n",
    "    gzip > \"$PATH_R2\""
   ]
  },
  {
   "cell_type": "markdown",
   "id": "b91487a7-d547-42b9-927d-9d6832300efb",
   "metadata": {},
   "source": [
    "### Detect cell barcodes from both read 1 and read 2\n",
    "\n",
    "Read pairs with complete barcodes are separated from read pairs with incomplete barcodes."
   ]
  },
  {
   "cell_type": "code",
   "execution_count": 39,
   "id": "ed8c443a-62b8-4944-a899-95960a1d373a",
   "metadata": {},
   "outputs": [],
   "source": [
    "path_splitcode_cell_barcode = os.path.join(DIR_AUX, 'splitcode_config-cell_barcode.tsv')"
   ]
  },
  {
   "cell_type": "code",
   "execution_count": 40,
   "id": "d4a41961-eb1a-4fc8-ba76-fe92f6627647",
   "metadata": {},
   "outputs": [
    {
     "name": "stderr",
     "output_type": "stream",
     "text": [
      "* Forcing --gzip because all output file names end in .gz\n",
      "* Using a list of 193 tags (vector size: 193; map size: 31,280; num elements in map: 31,970)\n",
      "* will process sample 1: /central/groups/guttman/btyeh/scBarcode/data_proc/20240625/oligos_R1.fastq.gz\n",
      "                         /central/groups/guttman/btyeh/scBarcode/data_proc/20240625/oligos_R2.fastq.gz\n",
      "* processing the reads ...\n",
      "done \n",
      "* processed 82,998 reads, 12,768 reads were assigned\n"
     ]
    }
   ],
   "source": [
    "%%bash -s {DIR_PROC} {path_splitcode_cell_barcode}\n",
    "DIR_PROC=\"$1\"\n",
    "PATH_CONFIG=\"$2\"\n",
    "\n",
    "PATH_R1=\"${DIR_PROC}/oligos_R1.fastq.gz\"\n",
    "PATH_R2=\"${DIR_PROC}/oligos_R2.fastq.gz\"\n",
    "PATH_MAPPING=\"${DIR_PROC}/mapping_cell-barcode.tsv\"\n",
    "PATH_SUMMARY=\"${DIR_PROC}/summary_cell-barcode.json\"\n",
    "PATH_OUT1=\"${DIR_PROC}/oligos_cell-barcode_R1.fasta.gz\"\n",
    "PATH_OUT2=\"${DIR_PROC}/oligos_cell-barcode_R2.fasta.gz\"\n",
    "PATH_UNASSIGNED1=\"${DIR_PROC}/oligos_unassigned_R1.fasta.gz\"\n",
    "PATH_UNASSIGNED2=\"${DIR_PROC}/oligos_unassigned_R2.fasta.gz\"\n",
    "\n",
    "splitcode -c \"$PATH_CONFIG\" \\\n",
    "    --nFastqs=2 --com-names --assign --no-outb --x-names --no-x-out --out-fasta -t 8 \\\n",
    "    --mapping=\"$PATH_MAPPING\" --summary=\"$PATH_SUMMARY\" \\\n",
    "    --output=\"$PATH_OUT1\",\"$PATH_OUT2\" --unassigned=\"$PATH_UNASSIGNED1\",\"$PATH_UNASSIGNED2\" \\\n",
    "    \"$PATH_R1\" \"$PATH_R2\"\n",
    "\n",
    "gzip -f \"$PATH_MAPPING\""
   ]
  },
  {
   "cell_type": "markdown",
   "id": "67e4a749-cfb2-4b34-b52a-6dd270e2d7c4",
   "metadata": {},
   "source": [
    "For fully-barcoded cell oligos, modify read names so that there is no whitespace between the read name and cell barcode."
   ]
  },
  {
   "cell_type": "code",
   "execution_count": 41,
   "id": "e85981c5-4e0d-490d-82a0-a5b33e023546",
   "metadata": {},
   "outputs": [],
   "source": [
    "%%bash -s {DIR_PROC}\n",
    "DIR_PROC=\"$1\"\n",
    "\n",
    "PATH_OUT1=\"${DIR_PROC}/oligos_cell-barcode_R1.fasta.gz\"\n",
    "PATH_OUT2=\"${DIR_PROC}/oligos_cell-barcode_R2.fasta.gz\"\n",
    "PATH_TMP=\"${DIR_PROC}/tmp.fasta.gz\"\n",
    "\n",
    "zcat \"$PATH_OUT1\" | sed -e 's/ BI:i:/::cell=/' | gzip > \"$PATH_TMP\"\n",
    "mv \"$PATH_TMP\" \"$PATH_OUT1\"\n",
    "\n",
    "zcat \"$PATH_OUT2\" | sed -e 's/ BI:i:/::cell=/' | gzip > \"$PATH_TMP\"\n",
    "mv \"$PATH_TMP\" \"$PATH_OUT2\""
   ]
  },
  {
   "cell_type": "markdown",
   "id": "dd176228-d4fc-4c74-834c-d38a6ce5379d",
   "metadata": {},
   "source": [
    "### Deduplicate and simplify oligos\n",
    "\n",
    "At this point, we have extracted all possible information from the cell oligos and no longer need the read sequences or even the original read names."
   ]
  },
  {
   "cell_type": "markdown",
   "id": "22e872f9-48cf-476c-b7bc-fde3edbd2974",
   "metadata": {},
   "source": [
    "#### Fully barcoded oligos"
   ]
  },
  {
   "cell_type": "markdown",
   "id": "65fd80da-a52a-4406-b346-9418d108a239",
   "metadata": {},
   "source": [
    "Simplify the representation of each cell oligo read into the following structure:\n",
    "\n",
    "`bead=<#>::[human/mouse_<#>]::umi=<umi>::cell=<#>`\n",
    "\n",
    "This allows for easy deduplication based on bead barcode, cell barcode, and UMI."
   ]
  },
  {
   "cell_type": "code",
   "execution_count": 42,
   "id": "39d846d7-8091-4755-a05f-9c09712fa459",
   "metadata": {
    "scrolled": true
   },
   "outputs": [
    {
     "name": "stdout",
     "output_type": "stream",
     "text": [
      "Number of unique cell oligos: 7793\n",
      "Number of unique cells: 6884\n",
      "Number of unique beads: 5838\n"
     ]
    }
   ],
   "source": [
    "%%bash -s {DIR_PROC}\n",
    "DIR_PROC=\"$1\"\n",
    "\n",
    "PATH_OUT1=\"${DIR_PROC}/oligos_cell-barcode_R1.fasta.gz\"\n",
    "PATH_OLIGO_FULL_COUNTS=\"${DIR_PROC}/oligos_full_barcode_counts.txt\"\n",
    "\n",
    "zcat \"$PATH_OUT1\" |\n",
    "    grep -E -o \"::bead.*\" | \n",
    "    sed -E -e 's/^:://' -e 's/ BI:i:/::cell=/' |\n",
    "    sort |\n",
    "    uniq -c |\n",
    "    sed -E -e 's/^ *([^ ]+) +/\\1\\t/' > \"$PATH_OLIGO_FULL_COUNTS\"\n",
    "\n",
    "echo \"Number of unique cell oligos:\" $(wc -l \"$PATH_OLIGO_FULL_COUNTS\" | cut -f 1 -d ' ')\n",
    "echo \"Number of unique cells:\" $(grep -E -o 'cell=.*' \"$PATH_OLIGO_FULL_COUNTS\" | sort | uniq | wc -l)\n",
    "echo \"Number of unique beads:\" $(grep -E -o '(bead=[0-9]+)' \"$PATH_OLIGO_FULL_COUNTS\" | sort | uniq | wc -l)"
   ]
  },
  {
   "cell_type": "markdown",
   "id": "5becf6b8-aade-4b59-9e9e-fcf8cc527b72",
   "metadata": {},
   "source": [
    "Compare with expected number of cells: 78,000  \n",
    "Compare with expected number of beads: 1% * 148.15 uL * 2.7e6 beads/uL = 4,000,000 beads"
   ]
  },
  {
   "cell_type": "markdown",
   "id": "1a0fcf9f-05b1-4078-b573-3482eb361e68",
   "metadata": {},
   "source": [
    "##### Complexity and sequencing saturation estimates"
   ]
  },
  {
   "cell_type": "code",
   "execution_count": 43,
   "id": "c79420ab-6b37-4396-b9dd-36038dfd7bb5",
   "metadata": {},
   "outputs": [],
   "source": [
    "dtype_species = pd.CategoricalDtype(categories=('human', 'mouse'), ordered=True)\n",
    "dtype_oligo_ID = pd.CategoricalDtype(categories=[f'human_{i}' for i in range(1, 49)] + [f'mouse_{i}' for i in range(1, 49)], ordered=True)"
   ]
  },
  {
   "cell_type": "code",
   "execution_count": 44,
   "id": "9178fd1f-9542-4e08-8ec2-054ade45f545",
   "metadata": {},
   "outputs": [],
   "source": [
    "path_oligo_counts = os.path.join(DIR_PROC, 'oligos_full_barcode_counts.txt')\n",
    "df_oligo_counts = pd.read_csv(path_oligo_counts, sep='\\t', names=['count', 'oligo'])\n",
    "\n",
    "regex_oligo_full_barcode = 'bead=(?P<bead>\\d+)::\\[(?P<oligo_ID>.*)\\]::umi=(?P<umi>[ATCGN]+)::cell=(?P<cell>\\d+)'\n",
    "df_oligo_counts = pd.concat(\n",
    "    (\n",
    "        df_oligo_counts.drop(columns='oligo'),\n",
    "        df_oligo_counts['oligo'].str.extract(regex_oligo_full_barcode)\n",
    "    ),\n",
    "    axis=1\n",
    ").astype({'bead': int, 'cell': 'Int64', 'oligo_ID': dtype_oligo_ID})\n",
    "df_oligo_counts['species'] = df_oligo_counts['oligo_ID'].str.extract('(mouse|human)').astype(dtype_species)"
   ]
  },
  {
   "cell_type": "code",
   "execution_count": 45,
   "id": "2122b03d-cb5a-44b5-a2fa-621dd956417e",
   "metadata": {},
   "outputs": [
    {
     "name": "stdout",
     "output_type": "stream",
     "text": [
      "Total reads of fully barcoded cell oligos observed: 12768\n",
      "Unique fully barcoded cell oligos observed: 7793\n",
      "2 estimates of total unique fully barcoded cell oligos in the aliquot: 11773, 11773\n",
      "Estimated fully barcoded cell oligo coverage: 66.19%\n"
     ]
    }
   ],
   "source": [
    "complexity_oligo_est1 = estimate_library_complexity(df_oligo_counts['count'].sum(), len(df_oligo_counts))\n",
    "complexity_oligo_est2 = estimate_library_complexity2(df_oligo_counts['count'].sum(), df_oligo_counts['count'].mean())\n",
    "\n",
    "print('Total reads of fully barcoded cell oligos observed:', df_oligo_counts['count'].sum())\n",
    "print('Unique fully barcoded cell oligos observed:', len(df_oligo_counts['count']))\n",
    "print('2 estimates of total unique fully barcoded cell oligos in the aliquot: {:.0f}, {:.0f}'.format(complexity_oligo_est1, complexity_oligo_est2))\n",
    "print('Estimated fully barcoded cell oligo coverage: {:.2%}'.format(len(df_oligo_counts['count']) / complexity_oligo_est1))"
   ]
  },
  {
   "cell_type": "markdown",
   "id": "3dbcb2b6-3c25-4996-9a3e-0caecff2e77f",
   "metadata": {},
   "source": [
    "Estimate additional reads required to obtain saturation"
   ]
  },
  {
   "cell_type": "code",
   "execution_count": 46,
   "id": "c8d7013e-2918-49df-8124-0dc120f5f2c7",
   "metadata": {},
   "outputs": [],
   "source": [
    "%%bash -s {DIR_PROC}\n",
    "DIR_PROC=\"$1\"\n",
    "\n",
    "source ~/.bashrc\n",
    "conda activate genomics\n",
    "\n",
    "PATH_OLIGO_FULL_COUNTS=\"${DIR_PROC}/oligos_full_barcode_counts.txt\"\n",
    "PATH_OLIGO_FULL_BARCODE_COMPLEXITY_CURVE=\"${DIR_PROC}/oligos_full_barcode_complexity_curve.tsv\"\n",
    "PATH_OLIGO_FULL_BARCODE_COMPLEXITY_TOTAL=\"${DIR_PROC}/oligos_full_barcode_complexity_total.tsv\"\n",
    "\n",
    "preseq lc_extrap -o \"$PATH_OLIGO_FULL_BARCODE_COMPLEXITY_CURVE\" -e 1000000 -s 10000 \\\n",
    "    -V <(cut -f 1 \"$PATH_OLIGO_FULL_COUNTS\")\n",
    "\n",
    "preseq pop_size -o \"$PATH_OLIGO_FULL_BARCODE_COMPLEXITY_TOTAL\" -V <(cut -f 1 \"$PATH_OLIGO_FULL_COUNTS\")"
   ]
  },
  {
   "cell_type": "code",
   "execution_count": 47,
   "id": "98e3c763-5aa5-48cc-a92a-a3527f95ad92",
   "metadata": {},
   "outputs": [],
   "source": [
    "path_oligo_full_barcode_complexity_curve = os.path.join(DIR_PROC, 'oligos_full_barcode_complexity_curve.tsv')\n",
    "path_oligo_full_barcode_complexity_total = os.path.join(DIR_PROC, 'oligos_full_barcode_complexity_total.tsv')\n",
    "\n",
    "df_oligo_full_barcode_complexity_curve = pd.read_csv(path_oligo_full_barcode_complexity_curve, sep='\\t', header=0)\n",
    "oligo_full_barcode_complexity_total = pd.read_csv(path_oligo_full_barcode_complexity_total, sep='\\t', header=0).squeeze()"
   ]
  },
  {
   "cell_type": "code",
   "execution_count": 48,
   "id": "4e2adffb-5438-40f4-b378-e30c4cc85bb9",
   "metadata": {},
   "outputs": [
    {
     "data": {
      "image/png": "[encoded data removed]",
      "text/plain": [
       "<Figure size 640x480 with 1 Axes>"
      ]
     },
     "metadata": {},
     "output_type": "display_data"
    }
   ],
   "source": [
    "ax = sns.lineplot(\n",
    "    df_oligo_full_barcode_complexity_curve,\n",
    "    x='TOTAL_READS',\n",
    "    y='EXPECTED_DISTINCT'\n",
    ")\n",
    "ax.axhline(\n",
    "    y=oligo_full_barcode_complexity_total['pop_size_estimate'],\n",
    "    c='C1',\n",
    "    label='estimated total complexity (preseq)'\n",
    ")\n",
    "ax.axhline(\n",
    "    y=0.90*oligo_full_barcode_complexity_total['pop_size_estimate'],\n",
    "    c='C2',\n",
    "    ls='dotted',\n",
    "    label='90% of total complexity'\n",
    ")\n",
    "ax.axvline(\n",
    "    x=df_oligo_counts['count'].sum(),\n",
    "    c='C2',\n",
    "    label='Current sequencing depth'\n",
    ")\n",
    "ax.set_title('Oligo full barcode sequencing complexity curve')\n",
    "ax.legend()\n",
    "ax.figure.show()"
   ]
  },
  {
   "cell_type": "code",
   "execution_count": 49,
   "id": "8e926990-3365-471f-99cb-647f23a9ce3c",
   "metadata": {},
   "outputs": [
    {
     "name": "stdout",
     "output_type": "stream",
     "text": [
      "Amount (fold) more sequencing required to achieve 90% coverage:\n"
     ]
    },
    {
     "data": {
      "text/plain": [
       "10.964912280701755"
      ]
     },
     "execution_count": 49,
     "metadata": {},
     "output_type": "execute_result"
    }
   ],
   "source": [
    "print('Amount (fold) more sequencing required to achieve 90% coverage:')\n",
    "df_oligo_full_barcode_complexity_curve.loc[\n",
    "    df_oligo_full_barcode_complexity_curve['EXPECTED_DISTINCT'] >= 0.9 * oligo_full_barcode_complexity_total['pop_size_estimate'],\n",
    "    'TOTAL_READS'\n",
    "].min() / df_oligo_counts['count'].sum()"
   ]
  },
  {
   "cell_type": "markdown",
   "id": "4cb5bd29-ad00-4565-8267-37e68311dd64",
   "metadata": {},
   "source": [
    "#### Non-fully barcoded oligos"
   ]
  },
  {
   "cell_type": "markdown",
   "id": "df0c64df-d006-48ba-b456-b34445109673",
   "metadata": {},
   "source": [
    "Simplify the representation of each cell oligo read into the following structure:\n",
    "\n",
    "`bead=<#>::[human/mouse_<#>]::umi=<umi>`\n",
    "\n",
    "Deduplicate based on bead barcode, species, and UMI."
   ]
  },
  {
   "cell_type": "code",
   "execution_count": 50,
   "id": "a74c506b-7219-4781-968b-428986a35940",
   "metadata": {},
   "outputs": [
    {
     "name": "stdout",
     "output_type": "stream",
     "text": [
      "Number of unique cell oligos: 36656\n"
     ]
    }
   ],
   "source": [
    "%%bash -s {DIR_PROC}\n",
    "DIR_PROC=\"$1\"\n",
    "\n",
    "PATH_UNASSIGNED1=\"${DIR_PROC}/oligos_unassigned_R1.fasta.gz\"\n",
    "PATH_OLIGO_PARTIAL_COUNTS=\"${DIR_PROC}/oligos_partial_barcode_counts.txt\"\n",
    "\n",
    "zcat \"$PATH_UNASSIGNED1\" |\n",
    "    grep -E -o \"::bead.*\" | \n",
    "    sed -E -e 's/^:://' |\n",
    "    sort |\n",
    "    uniq -c |\n",
    "    sed -E -e 's/^ *([^ ]+) +/\\1\\t/' > \"$PATH_OLIGO_PARTIAL_COUNTS\"\n",
    "\n",
    "echo \"Number of unique cell oligos:\" $(wc -l \"$PATH_OLIGO_PARTIAL_COUNTS\" | cut -f 1 -d ' ')"
   ]
  },
  {
   "cell_type": "markdown",
   "id": "b69b1c73-0fb6-4938-a11a-a10119cbf654",
   "metadata": {},
   "source": [
    "Probability that UMIs are insufficient to resolve these non-fully-barcoded oligos\n",
    "- Determine the maximum number of non-fully barcoded oligos per `bead=<#>::[human/mouse_<#>]` class and compare that with the representation space of the 8 bp UMIs.\n",
    "  - Binomial distribution: $n$ trials = number of reads in a particular `bead=<#>::[human/mouse_<#>]` class, $p$ probability = 1/UMI space.\n",
    "  - Probability of a collision = 1-CDF(1)\n",
    "- Result: extremely unlikely for 2 such deduplicated reads to actually originate from the same original oligo --> we assume that the deduplication here is \"complete.\"\n",
    "- 198 of these partial barcodes may actually be PCR duplicates of a full barcode, where the partial barcode was not detected as a full barcode due to sequencing errors.\n",
    "  - For beads associated with multiple oligo barcodes (whether partial or full), these partial barcodes may erroneously inflate the perceived number of on-bead collisions."
   ]
  },
  {
   "cell_type": "code",
   "execution_count": 51,
   "id": "b3c18822-b53f-493c-af8c-5c0417e8e337",
   "metadata": {},
   "outputs": [],
   "source": [
    "path_oligo_partial_counts = os.path.join(DIR_PROC, 'oligos_partial_barcode_counts.txt')\n",
    "df_oligo_partial_counts = pd.read_csv(path_oligo_partial_counts, sep='\\t', names=['count', 'oligo'])\n",
    "\n",
    "regex_oligo_partial_barcode = r'bead=(?P<bead>\\d+)::\\[(?P<oligo_ID>.*)\\]::umi=(?P<umi>[ATCGN]+)'\n",
    "df_oligo_partial_counts = pd.concat(\n",
    "    (\n",
    "        df_oligo_partial_counts.drop(columns='oligo'),\n",
    "        df_oligo_partial_counts['oligo'].str.extract(regex_oligo_partial_barcode)\n",
    "    ),\n",
    "    axis=1\n",
    ").astype({'bead': int, 'oligo_ID': dtype_oligo_ID})\n",
    "df_oligo_partial_counts['species'] = df_oligo_partial_counts['oligo_ID'].str.extract('(mouse|human)').astype(dtype_species)"
   ]
  },
  {
   "cell_type": "code",
   "execution_count": 52,
   "id": "520e5416-cda2-4b4d-8782-16b08a1d2bd9",
   "metadata": {},
   "outputs": [
    {
     "name": "stdout",
     "output_type": "stream",
     "text": [
      "Maximum number of non-fully-barcoded oligos sharing a bead and oligo ID: 173\n",
      "Probability that 2 or more of those oligos have the same UMI: 3.458034444570046e-06\n"
     ]
    }
   ],
   "source": [
    "p_collision = 1 - scipy.stats.binom.cdf(\n",
    "    1,\n",
    "    df_oligo_partial_counts.groupby(['bead', 'oligo_ID'])['count'].sum().max(),\n",
    "    1/(4**8)\n",
    ")\n",
    "print(\n",
    "    'Maximum number of non-fully-barcoded oligos sharing a bead and oligo ID:',\n",
    "    df_oligo_partial_counts.groupby(['bead', 'oligo_ID'])['count'].sum().max()\n",
    ")\n",
    "print(\n",
    "    'Probability that 2 or more of those oligos have the same UMI:',\n",
    "    p_collision\n",
    ")"
   ]
  },
  {
   "cell_type": "code",
   "execution_count": 53,
   "id": "75c23631-9862-40af-81e9-ac42d520095c",
   "metadata": {},
   "outputs": [
    {
     "data": {
      "text/plain": [
       "198"
      ]
     },
     "execution_count": 53,
     "metadata": {},
     "output_type": "execute_result"
    }
   ],
   "source": [
    "df_oligo_counts_merged = (\n",
    "    df_oligo_counts\n",
    "    .drop(columns='count')\n",
    "    .merge(\n",
    "        df_oligo_partial_counts[['bead', 'oligo_ID', 'umi', 'species']],\n",
    "        how='outer',\n",
    "        indicator=True\n",
    "    )\n",
    ")\n",
    "sum(df_oligo_counts_merged['_merge'] == 'both')"
   ]
  },
  {
   "cell_type": "markdown",
   "id": "00e1cf45-829a-4864-95e8-de616fa91a43",
   "metadata": {},
   "source": [
    "## Oligo-chromatin pairing"
   ]
  },
  {
   "cell_type": "code",
   "execution_count": 54,
   "id": "353e54f6-7478-4f1c-ac8d-55eda4afc916",
   "metadata": {},
   "outputs": [],
   "source": [
    "class Bead:\n",
    "    def __init__(self, bead_ID, oligos=None, chromatin=None):\n",
    "        self.bead_ID = bead_ID\n",
    "        self.oligos = oligos if oligos is not None else set()\n",
    "        self.chromatin = chromatin if chromatin is not None else set()\n",
    "        self.oligo_counts = collections.Counter([(oligo_ID, cell) for (oligo_ID, umi, cell) in self.oligos])\n",
    "    def add_chromatin(self, chrom, start, end):\n",
    "        self.chromatin.add((chrom, start, end))\n",
    "    def add_oligo(self, oligo_ID, umi, cell=pd.NA):\n",
    "        self.oligos.add((oligo_ID, umi, cell))\n",
    "        self.oligo_counts[(oligo_ID, cell)] += 1\n",
    "    def oligo_species_counts(self):\n",
    "        assert len(self.oligos) == sum(self.oligo_counts.values())\n",
    "        species_counts = np.zeros(2, dtype=int)\n",
    "        for oligo_ID, _, _ in self.oligos:\n",
    "            if oligo_ID.startswith('human'):\n",
    "                species_counts[0] += 1\n",
    "            elif oligo_ID.startswith('mouse'):\n",
    "                species_counts[1] += 1\n",
    "            else:\n",
    "                raise ValueError(f'Unexpected oligo_ID {oligo_ID}')\n",
    "        assert len(self.oligos) == species_counts.sum()\n",
    "        return {'human': species_counts[0], 'mouse': species_counts[1]}\n",
    "    def max_prop_oligo_species(self):\n",
    "        '''\n",
    "        Return\n",
    "        - species: str or None\n",
    "        - count: int\n",
    "        - proportion: np.float64\n",
    "\n",
    "        If proportion is 0.5, species is 'human'\n",
    "        '''\n",
    "        assert len(self.oligos) == sum(self.oligo_counts.values())\n",
    "        if len(self.oligos) > 0:\n",
    "            species_counts = self.oligo_species_counts()\n",
    "            if species_counts['human'] >= species_counts['mouse']:\n",
    "                species_main = 'human'\n",
    "                count = species_counts['human']\n",
    "            else:\n",
    "                species_main = 'mouse'\n",
    "                count = species_counts['mouse']\n",
    "            return species_main, count, count / sum(species_counts.values())\n",
    "        else:\n",
    "            return None, 0, np.nan\n",
    "    def max_prop_oligo(self):\n",
    "        '''\n",
    "        Return\n",
    "        - oligo: tuple or None\n",
    "          - oligo_ID: str\n",
    "          - cell: pd.Int64\n",
    "        - count: int\n",
    "        - proportion: np.float64\n",
    "        '''\n",
    "        assert len(self.oligos) == sum(self.oligo_counts.values())\n",
    "        if len(self.oligos) > 0:\n",
    "            (oligo_ID, cell), count = self.oligo_counts.most_common(1)[0]\n",
    "            return (oligo_ID, cell), count, count / len(self.oligos)\n",
    "        else:\n",
    "            return None, 0, np.nan\n",
    "    def status(self, species_prop_thresh=0.8, species_min_count=1, oligo_prop_thresh=0.8, oligo_min_count=1):\n",
    "        '''\n",
    "        Return\n",
    "        - (species_main, species_status)\n",
    "        - (oligo_main, oligo_status)\n",
    "        '''\n",
    "        if len(self.oligos) == 0 or len(self.chromatin) == 0:\n",
    "            return None\n",
    "\n",
    "        # determine oligo main status\n",
    "        (oligo_ID, cell), oligo_count, oligo_prop = self.max_prop_oligo()\n",
    "        if oligo_count == 0:\n",
    "            oligo_status = 'none'\n",
    "        elif oligo_count < oligo_min_count:\n",
    "            oligo_status = 'uncertain'\n",
    "        elif oligo_prop < oligo_prop_thresh:\n",
    "            oligo_status = 'ambiguous'\n",
    "        elif oligo_prop == 1:\n",
    "            oligo_status = 'unique'\n",
    "        else:\n",
    "            oligo_status = 'predominant'\n",
    "\n",
    "        species, species_count, species_prop = self.max_prop_oligo_species()\n",
    "        if species_count == 0:\n",
    "            species_status = 'none'\n",
    "        elif species_count < species_min_count:\n",
    "            species_status = 'uncertain'\n",
    "        elif species_prop < species_prop_thresh:\n",
    "            species_status = 'ambiguous'\n",
    "        elif species_prop == 1:\n",
    "            species_status = 'unique'\n",
    "        else:\n",
    "            species_status = 'predominant'\n",
    "\n",
    "        return (species, species_status), ((oligo_ID, cell), oligo_status)\n",
    "    def get_chromatin_species_counts(self):\n",
    "        species_counts = dict(mouse=0, human=0)\n",
    "        for chrom, _, _ in self.chromatin:\n",
    "            if chrom.startswith('m_chr'):\n",
    "                species_counts['mouse'] += 1\n",
    "            elif chrom.startswith('h_chr'):\n",
    "                species_counts['human'] += 1\n",
    "            else:\n",
    "                raise ValueError(f'Unexpected chromosome name {chrom}')\n",
    "        return species_counts\n",
    "    def proper_pairing(self, return_type='status', **kwargs):\n",
    "        '''\n",
    "        Returns:\n",
    "        - If 0 oligos, 0 chromatin, or more than 1 type of chromatin species: None\n",
    "        - Otherwise: (species_pairing, cell_pairing)\n",
    "        '''\n",
    "        if len(self.oligos) == 0:\n",
    "            if len(self.chromatin) == 0:\n",
    "                return 'empty bead'\n",
    "            else:\n",
    "                return 'no oligos'\n",
    "        elif len(self.chromatin) == 0:\n",
    "            return 'no chromatin'\n",
    "\n",
    "        chromatin_species_counts = self.get_chromatin_species_counts()\n",
    "        if chromatin_species_counts['mouse'] > 0 and chromatin_species_counts['human'] > 0:\n",
    "            # contains both human and mouse chromatin --> cannot determine whether bead barcode-cell barcode pairing was specific\n",
    "            return 'overloaded bead'\n",
    "        if chromatin_species_counts['mouse'] == 0 and chromatin_species_counts['human'] > 0:\n",
    "            chromatin_species = 'human'\n",
    "        elif chromatin_species_counts['mouse'] > 0 and chromatin_species_counts['human'] == 0:\n",
    "            chromatin_species = 'mouse'\n",
    "        else:\n",
    "            # no chromatin - should have returned None prior to this point\n",
    "            raise RuntimeError\n",
    "\n",
    "        if return_type == 'status':\n",
    "            (oligo_species, oligo_species_status), ((oligo_ID, cell), oligo_status) = self.status(**kwargs)\n",
    "    \n",
    "            # species pairing\n",
    "            if chromatin_species == oligo_species:\n",
    "                species_pairing = oligo_species_status\n",
    "                # oligo pairing\n",
    "                if oligo_ID[:5] != chromatin_species:\n",
    "                    return (species_pairing, 'mixed')\n",
    "                return (species_pairing, oligo_status)\n",
    "            else:\n",
    "                return ('mixed', 'mixed')\n",
    "        elif return_type == 'counts':\n",
    "            return (chromatin_species, self.oligo_species_counts())\n",
    "        else:\n",
    "            raise ValueError(f'return_type of {return_type} not valid.')"
   ]
  },
  {
   "cell_type": "code",
   "execution_count": 55,
   "id": "34e4cf99-6a9a-4c2f-b900-65a7a9125c52",
   "metadata": {},
   "outputs": [
    {
     "data": {
      "application/vnd.jupyter.widget-view+json": {
       "model_id": "d520ed98872d4e67a4923af917618210",
       "version_major": 2,
       "version_minor": 0
      },
      "text/plain": [
       "0it [00:00, ?it/s]"
      ]
     },
     "metadata": {},
     "output_type": "display_data"
    },
    {
     "data": {
      "application/vnd.jupyter.widget-view+json": {
       "model_id": "111ecd88da98473d8adef31fd8ad756a",
       "version_major": 2,
       "version_minor": 0
      },
      "text/plain": [
       "0it [00:00, ?it/s]"
      ]
     },
     "metadata": {},
     "output_type": "display_data"
    },
    {
     "data": {
      "application/vnd.jupyter.widget-view+json": {
       "model_id": "0d95fc5b42db4ee89fce54645790f612",
       "version_major": 2,
       "version_minor": 0
      },
      "text/plain": [
       "0it [00:00, ?it/s]"
      ]
     },
     "metadata": {},
     "output_type": "display_data"
    }
   ],
   "source": [
    "beads = {} # map from bead ID to bead object; uses full and partial oligo barcodes\n",
    "for _, row in tqdm(df_chromatin.iterrows()):\n",
    "    if row['bead'] not in beads:\n",
    "        beads[row['bead']] = Bead(row['bead'], chromatin={(row['chr'], row['start'], row['end'])})\n",
    "    else:\n",
    "        beads[row['bead']].add_chromatin(row['chr'], row['start'], row['end'])\n",
    "beads2 = copy.deepcopy(beads) # same as beads, but uses only full oligo barcdes\n",
    "\n",
    "for _, row in tqdm(df_oligo_counts_merged.iterrows()):\n",
    "    if row['bead'] not in beads:\n",
    "        beads[row['bead']] = Bead(row['bead'], oligos={(row['oligo_ID'], row['umi'], row['cell'])})\n",
    "    else:\n",
    "        beads[row['bead']].add_oligo(row['oligo_ID'], row['umi'], row['cell'])\n",
    "\n",
    "for _, row in tqdm(df_oligo_counts.iterrows()):\n",
    "    if row['bead'] not in beads2:\n",
    "        beads2[row['bead']] = Bead(row['bead'], oligos={(row['oligo_ID'], row['umi'], row['cell'])})\n",
    "    else:\n",
    "        beads2[row['bead']].add_oligo(row['oligo_ID'], row['umi'], row['cell'])"
   ]
  },
  {
   "cell_type": "markdown",
   "id": "d811d851-28de-47b5-8864-7e56c1ffcf3d",
   "metadata": {},
   "source": [
    "### Specificity"
   ]
  },
  {
   "cell_type": "code",
   "execution_count": 56,
   "id": "b330756c-e137-4563-b2ad-589e79d8a077",
   "metadata": {},
   "outputs": [
    {
     "data": {
      "text/plain": [
       "Counter({'no oligos': 356866,\n",
       "         'no chromatin': 27728,\n",
       "         ('mixed', 'mixed'): 2049,\n",
       "         ('unique', 'unique'): 1858,\n",
       "         'overloaded bead': 1800,\n",
       "         ('unique', 'ambiguous'): 50,\n",
       "         ('ambiguous', 'ambiguous'): 32,\n",
       "         ('ambiguous', 'mixed'): 6})"
      ]
     },
     "execution_count": 56,
     "metadata": {},
     "output_type": "execute_result"
    }
   ],
   "source": [
    "pairing_counts = collections.Counter(bead.proper_pairing() for bead in beads.values())\n",
    "pairing_counts"
   ]
  },
  {
   "cell_type": "code",
   "execution_count": 57,
   "id": "ea76a0d2-4915-4e93-873a-8cda68d653be",
   "metadata": {
    "scrolled": true
   },
   "outputs": [
    {
     "data": {
      "text/plain": [
       "Counter({'no oligos': 361448,\n",
       "         'no chromatin': 4625,\n",
       "         'overloaded bead': 474,\n",
       "         ('mixed', 'mixed'): 382,\n",
       "         ('unique', 'unique'): 351,\n",
       "         ('ambiguous', 'ambiguous'): 4,\n",
       "         ('unique', 'ambiguous'): 2})"
      ]
     },
     "execution_count": 57,
     "metadata": {},
     "output_type": "execute_result"
    }
   ],
   "source": [
    "pairing_counts2 = collections.Counter(bead.proper_pairing() for bead in beads2.values())\n",
    "pairing_counts2"
   ]
  },
  {
   "cell_type": "markdown",
   "id": "88d9f220-f3e3-4cd6-8224-90c2e3028f27",
   "metadata": {},
   "source": [
    "Mixing proportion: for beads with only 1 chromatin species, what proportion have cell oligos from a different species?"
   ]
  },
  {
   "cell_type": "code",
   "execution_count": 58,
   "id": "51bda147-91f4-4325-aaff-c0f413e5e3ff",
   "metadata": {},
   "outputs": [
    {
     "name": "stdout",
     "output_type": "stream",
     "text": [
      "0.5224030037546934\n"
     ]
    }
   ],
   "source": [
    "numerator = sum(count for statuses, count in pairing_counts.items() if (type(statuses) is tuple) and (statuses[0] != 'unique'))\n",
    "denominator = sum(count for statuses, count in pairing_counts.items() if type(statuses) is tuple)\n",
    "print(numerator / denominator)"
   ]
  },
  {
   "cell_type": "code",
   "execution_count": 59,
   "id": "d1ed5af9-857e-480a-a0ef-6d802e2e399b",
   "metadata": {},
   "outputs": [
    {
     "name": "stdout",
     "output_type": "stream",
     "text": [
      "0.5223274695534507\n"
     ]
    }
   ],
   "source": [
    "numerator = sum(count for statuses, count in pairing_counts2.items() if (type(statuses) is tuple) and (statuses[0] != 'unique'))\n",
    "denominator = sum(count for statuses, count in pairing_counts2.items() if type(statuses) is tuple)\n",
    "print(numerator / denominator)"
   ]
  },
  {
   "cell_type": "code",
   "execution_count": 60,
   "id": "4d30c9a3-92e8-4b9b-b07c-f858884df817",
   "metadata": {},
   "outputs": [
    {
     "name": "stdout",
     "output_type": "stream",
     "text": [
      "2087 3995 0.5224030037546934\n"
     ]
    }
   ],
   "source": [
    "bead_to_cell_oligo_species = df_oligo_counts_merged.groupby('bead')['species'].agg(lambda x: x.iloc[0] if len(set(x)) == 1 else None).to_dict()\n",
    "\n",
    "total = 0\n",
    "mixed = 0\n",
    "for bead, g in df_chromatin.groupby('bead'):\n",
    "    if len(g['species'].unique()) == 1 and bead in bead_to_cell_oligo_species:\n",
    "        chromatin_species = g['species'].iloc[0]\n",
    "        oligo_species = bead_to_cell_oligo_species[bead]\n",
    "        if oligo_species is None or oligo_species != chromatin_species:\n",
    "            mixed += 1\n",
    "        total += 1\n",
    "print(mixed, total, mixed / total)"
   ]
  },
  {
   "cell_type": "code",
   "execution_count": 65,
   "id": "ca6acfbd-546e-44b7-8517-d02d1c91c1e5",
   "metadata": {},
   "outputs": [],
   "source": [
    "df_mixing_results = []\n",
    "for bead in beads.values():\n",
    "    result = bead.proper_pairing(return_type='counts')\n",
    "    if type(result) is tuple:\n",
    "        df_mixing_results.append((result[0], result[1]['human'], result[1]['mouse']))\n",
    "df_mixing_results = pd.DataFrame(df_mixing_results, columns=['bead species', 'human oligo counts', 'mouse oligo counts'])\n",
    "df_mixing_results = df_mixing_results.groupby(list(df_mixing_results.columns)).size().rename('count').reset_index()"
   ]
  },
  {
   "cell_type": "code",
   "execution_count": 67,
   "id": "d16eeb3f-78ce-46d5-acb9-e8b4a7c6be6d",
   "metadata": {},
   "outputs": [
    {
     "data": {
      "image/png": "[encoded data removed]",
      "text/plain": [
       "<Figure size 640x480 with 1 Axes>"
      ]
     },
     "metadata": {},
     "output_type": "display_data"
    }
   ],
   "source": [
    "ax = sns.scatterplot(\n",
    "    # x-jitter human oligo counts for visualization\n",
    "    df_mixing_results.rename(columns={'bead species': 'bead chromatin species'}) \\\n",
    "        .assign(**{'human oligo counts': df_mixing_results['human oligo counts'] + 0.2 * (df_mixing_results['bead species'] == 'human').astype(float) - 0.1}),\n",
    "    x='human oligo counts',\n",
    "    y='mouse oligo counts',\n",
    "    hue='bead chromatin species',\n",
    "    size='count',\n",
    "    sizes=(30, 150)\n",
    ")\n",
    "ax.set_title('Oligo counts for single-chromatin-species beads')\n",
    "sns.move_legend(ax, \"upper left\", bbox_to_anchor=(1, 1))\n",
    "ax.figure.savefig(os.path.join(DIR_RESULTS, 'single-chromatin-species-beads_mixing.png'), bbox_inches='tight', dpi=300)"
   ]
  },
  {
   "cell_type": "markdown",
   "id": "f922f18f-db12-4b75-9788-1e652cdd3bff",
   "metadata": {},
   "source": [
    "Proportion of human-chromatin-only beads with only mouse oligos"
   ]
  },
  {
   "cell_type": "code",
   "execution_count": 68,
   "id": "7596c7fa-3533-4253-8be5-71e23353a6a5",
   "metadata": {},
   "outputs": [
    {
     "data": {
      "text/plain": [
       "0.5549132947976878"
      ]
     },
     "execution_count": 68,
     "metadata": {},
     "output_type": "execute_result"
    }
   ],
   "source": [
    "df_mixing_results.loc[\n",
    "    (df_mixing_results['bead species'] == 'human') & \\\n",
    "    (df_mixing_results['human oligo counts'] == 0),\n",
    "    'count'\n",
    "].sum() / df_mixing_results.loc[\n",
    "    df_mixing_results['bead species'] == 'human',\n",
    "    'count'\n",
    "].sum()"
   ]
  },
  {
   "cell_type": "markdown",
   "id": "167dc9ef-719a-43f5-8816-63808bc0b7dd",
   "metadata": {},
   "source": [
    "Proportion of mouse-chromatin-only beads with only human oligos"
   ]
  },
  {
   "cell_type": "code",
   "execution_count": 69,
   "id": "d87df192-152f-41b5-97f0-1f63251e7d4b",
   "metadata": {},
   "outputs": [
    {
     "data": {
      "text/plain": [
       "0.4555449330783939"
      ]
     },
     "execution_count": 69,
     "metadata": {},
     "output_type": "execute_result"
    }
   ],
   "source": [
    "df_mixing_results.loc[\n",
    "    (df_mixing_results['bead species'] == 'mouse') & \\\n",
    "    (df_mixing_results['mouse oligo counts'] == 0),\n",
    "    'count'\n",
    "].sum() / df_mixing_results.loc[\n",
    "    df_mixing_results['bead species'] == 'mouse',\n",
    "    'count'\n",
    "].sum()"
   ]
  },
  {
   "cell_type": "markdown",
   "id": "4d7aaaa8-98df-496a-8de8-33a58cc85f64",
   "metadata": {
    "jp-MarkdownHeadingCollapsed": true
   },
   "source": [
    "# Old"
   ]
  },
  {
   "cell_type": "code",
   "execution_count": null,
   "id": "ac64a5db-c501-453f-9217-6bee104d2756",
   "metadata": {},
   "outputs": [],
   "source": [
    "bead_to_cell_oligo_species_count = df_oligo_counts_merged.groupby('bead')['species'].agg(lambda x: len(set(x))).to_dict()\n",
    "total = 0\n",
    "mixed = 0\n",
    "for bead, g in df_chromatin.groupby('bead'):\n",
    "    if len(g['species'].unique()) == 1 and bead in bead_to_cell_oligo_species_count:\n",
    "        if bead_to_cell_oligo_species_count[bead] > 1:\n",
    "            mixed += 1\n",
    "        total += 1\n",
    "print(mixed, total, mixed / total)"
   ]
  },
  {
   "cell_type": "markdown",
   "id": "150dcbc3-1222-48d2-baa6-55ae67143f14",
   "metadata": {},
   "source": [
    "### Oligo statistics"
   ]
  },
  {
   "cell_type": "markdown",
   "id": "b5f31780-7dbc-433c-8d88-6f81887e2251",
   "metadata": {},
   "source": [
    "Counts of oligos per bead"
   ]
  },
  {
   "cell_type": "code",
   "execution_count": null,
   "id": "49816694-1ba0-4a7d-b7a4-24b47f92f778",
   "metadata": {},
   "outputs": [],
   "source": [
    "path_oligos_R1 = os.path.join(DIR_PROC, 'oligos_R1.fastq.gz')\n",
    "bead_species_counts = collections.defaultdict(int)\n",
    "regex_species = re.compile('human|mouse')\n",
    "with gzip.open(path_oligos_R1, 'rt') as f:\n",
    "    for name, _, _, _ in tqdm(fastq_parse(f)):\n",
    "        bead = int(regex_bead.search(name).groups()[0])\n",
    "        species = regex_species.search(name).group()\n",
    "        bead_species_counts[(bead, species)] += 1"
   ]
  },
  {
   "cell_type": "code",
   "execution_count": null,
   "id": "369c98bf-5142-4194-b158-a47e310238c5",
   "metadata": {},
   "outputs": [],
   "source": [
    "df_bead_oligo_species = pd.Series(bead_species_counts).rename('count').reset_index().rename(columns=dict(level_0='bead', level_1='species'))"
   ]
  },
  {
   "cell_type": "code",
   "execution_count": null,
   "id": "58e91b3d-4315-46c7-a58d-7f2e9cce48d0",
   "metadata": {},
   "outputs": [],
   "source": [
    "df_bead_oligo_species.groupby('bead')['count'].sum().sort_values(ascending=False).head(10)"
   ]
  },
  {
   "cell_type": "code",
   "execution_count": null,
   "id": "a495fc98-05c3-4ce1-98e9-bd406ae413cf",
   "metadata": {},
   "outputs": [],
   "source": [
    "tmp = df_bead_oligo_species.groupby('bead').agg(**{\n",
    "    'max_proportion': pd.NamedAgg(column='count', aggfunc=lambda x: max(x / x.sum())),\n",
    "    'total_count': pd.NamedAgg(column='count', aggfunc='sum')})"
   ]
  },
  {
   "cell_type": "code",
   "execution_count": null,
   "id": "deb16302-6458-49e3-8cba-160d075438af",
   "metadata": {},
   "outputs": [],
   "source": [
    "ax = sns.scatterplot(\n",
    "    tmp.loc[(tmp['total_count'] > 2) & (tmp['total_count'] < 20)],\n",
    "    x='total_count',\n",
    "    y='max_proportion'\n",
    ")"
   ]
  },
  {
   "cell_type": "markdown",
   "id": "d25d0a77-2c2d-4f44-990b-6feab297255d",
   "metadata": {},
   "source": [
    "# Todo"
   ]
  },
  {
   "cell_type": "markdown",
   "id": "31ce4836-18ed-477a-b54e-ed9835158a73",
   "metadata": {},
   "source": [
    "Re-check all code"
   ]
  },
  {
   "cell_type": "markdown",
   "id": "5f160e8c-bf1d-4233-b0c2-48f7c51d875f",
   "metadata": {},
   "source": [
    "Check CTCF ChIP tracks\n",
    "- extract species-specific track, compare against ENCODE or other references\n",
    "- peak calling / motif finding"
   ]
  }
 ],
 "metadata": {
  "kernelspec": {
   "display_name": "py3",
   "language": "python",
   "name": "py3"
  },
  "language_info": {
   "codemirror_mode": {
    "name": "ipython",
    "version": 3
   },
   "file_extension": ".py",
   "mimetype": "text/x-python",
   "name": "python",
   "nbconvert_exporter": "python",
   "pygments_lexer": "ipython3",
   "version": "3.10.12"
  }
 },
 "nbformat": 4,
 "nbformat_minor": 5
}
