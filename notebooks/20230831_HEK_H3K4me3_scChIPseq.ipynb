{
 "cells": [
  {
   "cell_type": "code",
   "execution_count": 1,
   "id": "6e8cbee0-801f-450c-a1b5-6339159b3762",
   "metadata": {},
   "outputs": [],
   "source": [
    "import collections\n",
    "import os\n",
    "import re\n",
    "import pandas as pd\n",
    "import matplotlib.pyplot as plt\n",
    "import seaborn as sns"
   ]
  },
  {
   "cell_type": "code",
   "execution_count": 2,
   "id": "41db6375-a09f-4472-9142-c6e149774420",
   "metadata": {},
   "outputs": [],
   "source": [
    "DIR_PROJECT = '/central/groups/guttman/btyeh/scBarcode'\n",
    "DIR_DATA = os.path.join(DIR_PROJECT, 'data', '20230831_HEK_H3K4me3_scChIPseq')\n",
    "DIR_REF = os.path.join(DIR_PROJECT, 'data_ref')\n",
    "DIR_AUX = os.path.join(DIR_PROJECT, 'data_aux', '20230831_HEK_H3K4me3_scChIPseq')\n",
    "DIR_PROC = os.path.join(DIR_PROJECT, 'data_proc', '20230831_HEK_H3K4me3_scChIPseq')\n",
    "os.makedirs(DIR_AUX, exist_ok=True)\n",
    "os.makedirs(DIR_REF, exist_ok=True)\n",
    "os.makedirs(DIR_PROC, exist_ok=True)"
   ]
  },
  {
   "cell_type": "markdown",
   "id": "4f693547-bdee-4359-9bf6-fc44193413f7",
   "metadata": {},
   "source": [
    "# Download reference data"
   ]
  },
  {
   "cell_type": "markdown",
   "id": "45937093-7b83-4d3e-a147-d44f8d831a23",
   "metadata": {},
   "source": [
    "ENCODE HEK H3K4me3 Peaks - see [ENCODE experiment ENCSR000DTU](https://www.encodeproject.org/experiments/ENCSR000DTU/)\n",
    "- Replicated peaks: ENCFF297UMP = Bed file, ENCFF798XQI = bigBed file (same information, just different file format)"
   ]
  },
  {
   "cell_type": "code",
   "execution_count": 3,
   "id": "be1c2c76-b20b-4615-869b-2c2d89b9cecc",
   "metadata": {},
   "outputs": [],
   "source": [
    "%%bash -s {DIR_REF}\n",
    "DIR_REF=\"$1\"\n",
    "cd \"$DIR_REF\"\n",
    "if [ ! -f \"ENCODE_HEK_H3K4me3.bed\" ]; then\n",
    "    URL_ENCODE_HEK_H3K4ME3='https://www.encodeproject.org/files/ENCFF297UMP/@@download/ENCFF297UMP.bed.gz'\n",
    "    wget -q -O \"ENCODE_HEK_H3K4me3.bed.gz\" \"$URL_ENCODE_HEK_H3K4ME3\"\n",
    "    zcat \"ENCODE_HEK_H3K4me3.bed.gz\" |\n",
    "        sort -k1,1V -k2,2g -k3,3g > \"ENCODE_HEK_H3K4me3.bed\"\n",
    "    rm \"ENCODE_HEK_H3K4me3.bed.gz\"\n",
    "fi"
   ]
  },
  {
   "cell_type": "code",
   "execution_count": 4,
   "id": "916f75cf-a51f-4b6b-8d83-de92c4f217b5",
   "metadata": {},
   "outputs": [],
   "source": [
    "path_ENCODE_HEK_H3K4me3 = os.path.join(DIR_REF, 'ENCODE_HEK_H3K4me3.bed')"
   ]
  },
  {
   "cell_type": "markdown",
   "id": "a14c07af-c0e2-45a4-a05c-e935651b2dfb",
   "metadata": {},
   "source": [
    "Count total number of bases covered by ENCODE HEK H3K4me3 peaks"
   ]
  },
  {
   "cell_type": "code",
   "execution_count": 5,
   "id": "79dadac1-880f-408d-b2a8-a6aa726e8855",
   "metadata": {},
   "outputs": [
    {
     "name": "stdout",
     "output_type": "stream",
     "text": [
      "29078674\n"
     ]
    }
   ],
   "source": [
    "%%bash -s {path_ENCODE_HEK_H3K4me3}\n",
    "path_ENCODE_HEK_H3K4me3=\"$1\"\n",
    "source ~/.bashrc\n",
    "conda activate chipdip\n",
    "bedtools merge -i \"$path_ENCODE_HEK_H3K4me3\" | awk -F'\\t' 'BEGIN{SUM=0} {SUM += $3-$2} END {print SUM}'"
   ]
  },
  {
   "cell_type": "markdown",
   "id": "b028af79-49a1-41cc-b1fc-188f9ffb86c7",
   "metadata": {},
   "source": [
    "Compare with GRCh38 genome size: 3,088,269,832 bp of placed scaffolds"
   ]
  },
  {
   "cell_type": "code",
   "execution_count": 6,
   "id": "cd5cd264-8f6d-4ec3-b351-d0bd982d5f82",
   "metadata": {},
   "outputs": [
    {
     "data": {
      "text/plain": [
       "0.00941584627699721"
      ]
     },
     "execution_count": 6,
     "metadata": {},
     "output_type": "execute_result"
    }
   ],
   "source": [
    "29078674 / 3088269832"
   ]
  },
  {
   "cell_type": "markdown",
   "id": "2c761091-7726-4349-9581-de6b40620bc5",
   "metadata": {},
   "source": [
    "# Sequencing QC"
   ]
  },
  {
   "cell_type": "markdown",
   "id": "1fda4cfe-c4cd-4b45-be1d-e69743914259",
   "metadata": {},
   "source": [
    "Read lengths: R1 = 101 bp, R2 = 201 bp"
   ]
  },
  {
   "cell_type": "markdown",
   "id": "a52ac976-55f3-4bd2-b3ae-eda48e23ba7f",
   "metadata": {},
   "source": [
    "Merge aliquots"
   ]
  },
  {
   "cell_type": "code",
   "execution_count": 8,
   "id": "7800a2ac-7642-4a71-8fa3-4f41676c4d1d",
   "metadata": {
    "scrolled": true
   },
   "outputs": [],
   "source": [
    "%%bash -s {DIR_DATA} {DIR_PROC}\n",
    "DIR_DATA=\"$1\"\n",
    "DIR_PROC=\"$2\"\n",
    "if [ ! -f \"${DIR_PROC}/R1.fastq.gz\" ] || [ ! -f \"${DIR_PROC}/R2.fastq.gz\" ]; then\n",
    "    unpigz -c \"$DIR_DATA\"/*R1_001.fastq.gz | pigz -p 8 > \"${DIR_PROC}/R1.fastq.gz\"\n",
    "    unpigz -c \"$DIR_DATA\"/*R2_001.fastq.gz | pigz -p 8 > \"${DIR_PROC}/R2.fastq.gz\"\n",
    "fi"
   ]
  },
  {
   "cell_type": "markdown",
   "id": "bcd17739-156c-40a0-a388-e480d9448d9a",
   "metadata": {},
   "source": [
    "Number of total paired reads"
   ]
  },
  {
   "cell_type": "code",
   "execution_count": 9,
   "id": "8b8138f2-9c6d-49eb-b4b8-8622abf556d2",
   "metadata": {},
   "outputs": [
    {
     "name": "stdout",
     "output_type": "stream",
     "text": [
      "7320179\n"
     ]
    }
   ],
   "source": [
    "%%bash -s {DIR_DATA}\n",
    "DIR_DATA=\"$1\"\n",
    "cd \"$DIR_DATA\"\n",
    "unpigz -c *R1_001.fastq.gz | wc -l | awk '{print $1/4}'"
   ]
  },
  {
   "cell_type": "code",
   "execution_count": 192,
   "id": "5a328f60-6f9b-4703-b1f0-d3557234f103",
   "metadata": {
    "collapsed": true,
    "jupyter": {
     "outputs_hidden": true
    }
   },
   "outputs": [
    {
     "name": "stdout",
     "output_type": "stream",
     "text": [
      "application/gzip\n",
      "application/gzip\n",
      "application/gzip\n",
      "application/gzip\n",
      "application/gzip\n",
      "application/gzip\n",
      "application/gzip\n",
      "application/gzip\n",
      "application/gzip\n",
      "application/gzip\n",
      "application/gzip\n",
      "application/gzip\n",
      "application/gzip\n",
      "application/gzip\n",
      "application/gzip\n",
      "application/gzip\n",
      "application/gzip\n",
      "application/gzip\n",
      "application/gzip\n",
      "application/gzip\n",
      "application/gzip\n",
      "application/gzip\n",
      "application/gzip\n",
      "application/gzip\n",
      "application/gzip\n",
      "application/gzip\n",
      "application/gzip\n",
      "application/gzip\n"
     ]
    }
   ],
   "source": [
    "%%bash -s {DIR_DATA} {DIR_AUX}\n",
    "DIR_DATA=\"$1\"\n",
    "DIR_AUX=\"$2\"\n",
    "source ~/.bashrc\n",
    "conda activate chipdip\n",
    "DIR_FASTQC_OUT=\"$DIR_AUX/fastqc\"\n",
    "if [ ! -d \"$DIR_FASTQC_OUT\" ]; then\n",
    "    mkdir \"$DIR_AUX/fastqc\"\n",
    "fi\n",
    "cd \"$DIR_DATA\"\n",
    "fastqc *.fastq.gz -t 20 -q -o \"$DIR_FASTQC_OUT\""
   ]
  },
  {
   "cell_type": "markdown",
   "id": "078149c5-b981-4b70-880b-b856ef6be521",
   "metadata": {},
   "source": [
    "# Read structure analysis"
   ]
  },
  {
   "cell_type": "markdown",
   "id": "c4448756-4031-41cf-9baf-d52cec50578b",
   "metadata": {},
   "source": [
    "Barcode structure: Oligo + R1-R3 + NYLigOdd + DPM + Odd + Even + Odd + Even + NYLigEven\n",
    "\n",
    "Sizes (total difference of 7 nt difference between min and max: 2 terminal tags + Oligo ID)\n",
    "- Oligo ID: 9-10 nt\n",
    "- UMI: 8 nt\n",
    "- R1-R3 unique: 16 nt\n",
    "- Odd/Even unique: 17 nt\n",
    "- DPM unique: 9 nt\n",
    "- DPM Bot: 33 nt\n",
    "- NYStgBot: 31-34 nt\n",
    "- NYLigOdd/EvenStg unique: 9-12 nt\n",
    "- Odd/Even/R1-R3 overhang: 7 nt\n",
    "- Barcode length: add 52 nt\n",
    "  - 30 nt for oligo 3' end + 22 nt for NYStgBot 5' end\n",
    "- Barcode length, DPMTop: add 51 nt\n",
    "  - 30 nt for oligo 3' end + 21 nt for DPMTop 3' end\n",
    "- PCR length, 2Puni + 2Pbc: add 136 nt\n",
    "  - 2Puni (69 nt) + 2Pbc (66 nt) + 1 nt (because 2Puni misses 1 nt from Illumina multiplexing read 1 primer)\n",
    "- PCR length, 2Puni + 2Puni: add 140 nt\n",
    "\n",
    "Expected read structures\n",
    "- Oligo, full (read length: 262-269 bp, barcode length: 314-321 bp, PCR length: 398-405 bp) [[Benchling](https://benchling.com/s/seq-k7mxBE3eUhg4N7XV5WC3)]\n",
    "  - R1: oligo barcode (rc) + UMI (rc) + R1 + R2 + R3 + Y + DPM + Odd + Even + Odd + Even + Y\n",
    "  - R2: Y_bot + Even_bot + Odd_bot + Even_bot + Odd_bot + DPM_bot + Y_bot + R3_bot + R2_bot + R1_bot + UMI + oligo barcode\n",
    "- Oligo, short (read length: 102-106 bp, barcode length: 154-168 bp, PCR length: 238-242 bp) [[Benchling](https://benchling.com/s/seq-T9t12cM5vSMuNkk1PUH1)]\n",
    "  - R1: oligo barcode (rc) + UMI (rc) + R1 + R2 + R3 + Y\n",
    "  - R2: Y_bot + R3_bot + R2_bot + R1_bot + UMI + oligo barcode\n",
    "- Oligo, short (DPM top) (read length: 134-138 bp, barcode length: 185-189 bp, PCR length: 274-278 bp) [[Benchling](https://benchling.com/s/seq-YQ37AIh0UOMtjQ0MwhdE)]\n",
    "  - R1 (1): oligo barcode (rc) + UMI (rc) + R1 + R2 + R3 + Y + DPM top\n",
    "  - R1 (2): DPM_bot + Y_bot + R3_bot + R2_bot + R1_bot + UMI (rc) + oligo barcode (rc)\n",
    "  - R2: n/a\n",
    "- Oligo, cluster only (read length: 129-133 bp, barcode length: 181-185 bp, PCR length: 265-268 bp) [[Benchling](https://benchling.com/s/seq-jUgAj6D6IiIv4XCJvHI1)]\n",
    "  - R1: oligo barcode (rc) + UMI (rc) + Odd + Even + Odd + Even + Y\n",
    "  - R2: Y_bot + Even_bot + Odd_bot + Even_bot + Odd_bot + UMI + oligo barcode\n",
    "- Chromatin\n",
    "  - R1: DPM_bot + DNA + A + DPM + Odd + Even + Odd + Even + Y\n",
    "  - R2: Y_bot + Even_bot + Odd_bot + Even_bot + Odd_bot + DPM_bot + DNA + DPM\n",
    "\n",
    "Unexpected dominant read structures\n",
    "- DPM dimer, cluster only (read length: 147-150 bp, PCR length: 283-286 bp)\n",
    "  - R1: DPMBot + DPMTop + OddTop + EvenTop\n",
    "  - R2: Y_bot + EvenBot + OddBot + EvenBot + OddBot + DPMBot + DPMTop"
   ]
  },
  {
   "cell_type": "markdown",
   "id": "d521405f-6d4f-4130-9557-69fc5c22731c",
   "metadata": {},
   "source": [
    "| Structure                       | Count   | Proportion of total | Proportion of parent |\n",
    "| ------------------------------- | ------- | ------------------- | -------------------- |\n",
    "| `Total`                         | 7320179 | 100%                | n/a                  |\n",
    "| `Oligo` at start of read 1      | 1329579 | 18.16%              | 18.16%               |\n",
    "| `- Oligo, short`                | 314846  | 4.3%                | 23.68%               |\n",
    "| `- Oligo, full`                 | 792     | 0.01%               | 0.06%                |\n",
    "| `- Oligo, cluster only`         | 274254  | 3.75%               | 20.63%               |\n",
    "| `- Oligo, short (DPM top)`      | ~0      | ~0%                 | ~0%                  |\n",
    "| `DPM`                           | 5542531 | 75.72%              | 75.72%               |\n",
    "| `- Chromatin, putative`         | 185019  | 2.53%               | 3.34%                |\n",
    "| `  - Chromatin, aligned`        | 83925   | 1.15%               | 45.36%               |\n",
    "| `    - Chromatin, H3K4me3 peak` | 4332    | 0.06%               | 5.16%                |\n",
    "| `- DPM dimer, cluster only`     | 2139174 | 29.22%              | 38.60%               |"
   ]
  },
  {
   "cell_type": "markdown",
   "id": "593e5cab-03e4-4c8d-88e1-c82cffe879ad",
   "metadata": {},
   "source": [
    "## Detect all technical sequences"
   ]
  },
  {
   "cell_type": "markdown",
   "id": "38b964d1-2a50-45f7-acf4-060973e65a3d",
   "metadata": {},
   "source": [
    "At least 1 technical sequence is present in essentially all reads"
   ]
  },
  {
   "cell_type": "code",
   "execution_count": 11,
   "id": "b976c7ad-b206-42c5-8950-6344b570b410",
   "metadata": {},
   "outputs": [
    {
     "name": "stderr",
     "output_type": "stream",
     "text": [
      "* Using a list of 1017 tags (vector size: 2030; map size: 1,156,025; num elements in map: 1,300,305)\n",
      "* will process sample 1: /central/groups/guttman/btyeh/scBarcode/data_proc/20230831_HEK_H3K4me3_scChIPseq/R1.fastq.gz\n",
      "                         /central/groups/guttman/btyeh/scBarcode/data_proc/20230831_HEK_H3K4me3_scChIPseq/R2.fastq.gz\n",
      "* processing the reads ...\n",
      "done \n",
      "* processed 7,320,179 reads, 7,318,991 reads were assigned\n"
     ]
    }
   ],
   "source": [
    "%%bash -s {DIR_PROC} {DIR_AUX}\n",
    "DIR_PROC=\"$1\"\n",
    "DIR_AUX=\"$2\"\n",
    "\n",
    "PATH_R1=\"${DIR_PROC}/R1.fastq.gz\"\n",
    "PATH_R2=\"${DIR_PROC}/R2.fastq.gz\"\n",
    "PATH_CONFIG=\"${DIR_AUX}/splitcode_config-all_short.tsv\"\n",
    "PATH_MAPPING=\"${DIR_AUX}/mapping-all_short.tsv\"\n",
    "PATH_SUMMARY=\"${DIR_AUX}/summary-all_short.json\"\n",
    "PATH_OUTPUT1=\"${DIR_PROC}/out_R1-all_short.fastq.gz\"\n",
    "PATH_OUTPUT2=\"${DIR_PROC}/out_R2-all_short.fastq.gz\"\n",
    "\n",
    "splitcode -c \"$PATH_CONFIG\" \\\n",
    "    --assign --no-outb --loc-names --nFastqs=2 --gzip --compress 6 -t 8 \\\n",
    "    --output=\"${PATH_OUTPUT1},${PATH_OUTPUT2}\" --mapping=\"$PATH_MAPPING\" --summary=\"$PATH_SUMMARY\" \\\n",
    "    \"$PATH_R1\" \"$PATH_R2\""
   ]
  },
  {
   "cell_type": "markdown",
   "id": "4ce6c615-25e3-43d2-9352-a8840901e0a9",
   "metadata": {},
   "source": [
    "Order of tags output by splitcode: read 1, then read 2, from left to right"
   ]
  },
  {
   "cell_type": "code",
   "execution_count": 12,
   "id": "a4a7c794-b64e-4113-80e8-f5f4a9c584e6",
   "metadata": {},
   "outputs": [
    {
     "name": "stdout",
     "output_type": "stream",
     "text": [
      "DPMBot6_21,DPMTop6_63,OddTop_9,EvenTop_34,NYStgBot_8,EvenBot_72,OddBot_42,EvenBot_34,OddBot_9,DPMBot6_63,DPMTop6_21                                              408188\n",
      "DPMBot6_21,DPMTop6_63,OddTop_9,EvenTop_34,NYStgBot_8,EvenBot_72,OddBot_42,EvenBot_34,OddBot_9,DPMBot6_63,DPMTop6_21,DPMBot6_1                                    62428\n",
      "DPMBot6_21,DPMTop6_63,OddTop_42,EvenTop_72,NYLigEvenStgTop_8,NYStgBot_8,EvenBot_72,OddBot_42,DPMBot6_63,DPMTop6_21                                               44506\n",
      "DPMBot6_14,DPMTop6_74,OddTop_18,EvenTop_33,NYStgBot_35,EvenBot_46,OddBot_37,EvenBot_33,OddBot_18,DPMBot6_74,DPMTop6_14                                           38239\n",
      "DPMBot6_21,DPMTop6_63,NYLigEvenStgTop_8,adapter,NYStgBot_8,DPMBot6_63,DPMTop6_21                                                                                 35855\n",
      "DPMBot6_22,DPMTop6_75,OddTop_21,EvenTop_31,NYStgBot_20,EvenBot_38,OddBot_72,EvenBot_31,OddBot_21,DPMBot6_75,DPMTop6_22                                           32469\n",
      "DPMBot6_44,DPMTop6_54,OddTop_11,EvenTop_7,NYStgBot_37,EvenBot_40,OddBot_39,EvenBot_7,OddBot_11,DPMBot6_54,DPMBot6_44,adapter                                     27435\n",
      "DPMBot6_45,DPMTop6_66,OddTop_8,EvenTop_36,NYStgBot_8,EvenBot_69,OddBot_52,EvenBot_36,OddBot_8,DPMBot6_66,DPMTop6_45                                              21732\n",
      "DPMBot6_22,DPMTop6_75,OddTop_33,EvenTop_33,NYStgBot_21,EvenBot_69,OddBot_62,EvenBot_33,OddBot_33,DPMBot6_75,DPMTop6_22                                           13610\n",
      "DPMBot6_22,DPMTop6_75,OddTop_26,EvenTop_14,NYStgBot_10,EvenBot_39,OddBot_50,EvenBot_14,OddBot_26,DPMBot6_75,DPMTop6_22                                           13605\n"
     ]
    }
   ],
   "source": [
    "%%bash -s {DIR_AUX}\n",
    "DIR_AUX=\"$1\"\n",
    "PATH_MAPPING=\"${DIR_AUX}/mapping-all_short.tsv\"\n",
    "cut -f 2,3 \"$PATH_MAPPING\" | sort -r -n -k 2 | column -t -s $'\\t' | head"
   ]
  },
  {
   "cell_type": "code",
   "execution_count": 13,
   "id": "12088d2d-bfb1-489b-82cc-6d094d28a6ff",
   "metadata": {},
   "outputs": [],
   "source": [
    "%%bash -s {DIR_PROC} {DIR_AUX}\n",
    "DIR_PROC=\"$1\"\n",
    "DIR_AUX=\"$2\"\n",
    "PATH_OUTPUT=\"${DIR_PROC}/out_R1-all_short.fastq.gz\"\n",
    "PATH_MAPPING_LOC=\"${DIR_AUX}/mapping_loc-all_short.tsv\"\n",
    "\n",
    "unpigz -c \"$PATH_OUTPUT\" |\n",
    "    grep -o -E -e 'LX:Z:.*' | \n",
    "    sed -e 's/LX:Z://' |\n",
    "    sort |\n",
    "    uniq -c |\n",
    "    sort -n -r -k1 |\n",
    "    sed -E -e 's/^\\s+//' -e 's/\\s+/\\t/' > \"$PATH_MAPPING_LOC\""
   ]
  },
  {
   "cell_type": "markdown",
   "id": "aa31dfc9-a93e-46bb-ac3f-baff69e60474",
   "metadata": {},
   "source": [
    "Terminology\n",
    "- `loc`: locations given in format `<file #>,<start>-<end>`\n",
    "- `order`: no locations\n",
    "- `R1`: only tags found in read 1; locations (if present) are simplified to `<start>-<end>`\n",
    "- `R2`: only tags found in read 2; locations (if present) are simplified to `<start>-<end>`\n",
    "- `group`: tag names are reduced to their group (e.g., `DPMBot6` instead of `DPMBot6_22`)"
   ]
  },
  {
   "cell_type": "code",
   "execution_count": 14,
   "id": "27c4e43a-fb78-424b-b4f3-c144378aa292",
   "metadata": {},
   "outputs": [],
   "source": [
    "df = pd.read_csv(os.path.join(DIR_AUX, 'mapping_loc-all_short.tsv'), sep='\\t', header=None, names=['count', 'pattern_loc'])"
   ]
  },
  {
   "cell_type": "code",
   "execution_count": 15,
   "id": "e92461bb-5a46-4114-b2e8-c662ff4eca7a",
   "metadata": {},
   "outputs": [],
   "source": [
    "df['pattern_loc_group'] = df['pattern_loc'].str.replace('_\\d+:', ':', regex=True)\n",
    "df['pattern_order'] = df['pattern_loc'].str.replace(':\\d+,\\d+-\\d+', '', regex=True)\n",
    "df['pattern_order_group'] = df['pattern_order'].str.replace('_(\\d+|bc\\d+)', '', regex=True)\n",
    "df['pattern_loc_R1'] = df['pattern_loc'].str.extract('(([^,:]+:0,\\d+-\\d+,?)+)', expand=False)[0].str.replace(':0,', ':').str.rstrip(',')\n",
    "df['pattern_loc_R2'] = df['pattern_loc'].str.extract('(([^,:]+:1,\\d+-\\d+,?)+)', expand=False)[0].str.replace(':1,', ':').str.rstrip(',')\n",
    "df['pattern_loc_group_R1'] = df['pattern_loc_R1'].str.replace('_(\\d+|bc\\d+)', '', regex=True)\n",
    "df['pattern_loc_group_R2'] = df['pattern_loc_R2'].str.replace('_(\\d+|bc\\d+)', '', regex=True)\n",
    "df['pattern_order_R1'] = df['pattern_loc_R1'].str.replace(':\\d+-\\d+', '', regex=True).str.rstrip(',')\n",
    "df['pattern_order_R2'] = df['pattern_loc_R2'].str.replace(':\\d+-\\d+', '', regex=True).str.rstrip(',')\n",
    "df['pattern_order_group_R1'] = df['pattern_order_R1'].str.replace('_(\\d+|bc\\d+)', '', regex=True)\n",
    "df['pattern_order_group_R2'] = df['pattern_order_R2'].str.replace('_(\\d+|bc\\d+)', '', regex=True)"
   ]
  },
  {
   "cell_type": "code",
   "execution_count": 16,
   "id": "1f820142-6819-4a24-9cd2-5e40eedc9279",
   "metadata": {},
   "outputs": [],
   "source": [
    "mask_R1_NA = df['pattern_loc_R1'].isna()\n",
    "mask_R2_NA = df['pattern_loc_R2'].isna()\n",
    "assert (mask_R1_NA & mask_R2_NA).sum() == 0"
   ]
  },
  {
   "cell_type": "code",
   "execution_count": 17,
   "id": "3cbd6a5e-5b3d-4228-94ee-1c17d17b1ecb",
   "metadata": {},
   "outputs": [
    {
     "name": "stdout",
     "output_type": "stream",
     "text": [
      "Number of R1 reads without detected tags: 8045\n",
      "Number of R2 reads without detected tags: 30759\n"
     ]
    }
   ],
   "source": [
    "print('Number of R1 reads without detected tags:', df.loc[mask_R1_NA, 'count'].sum())\n",
    "print('Number of R2 reads without detected tags:', df.loc[mask_R2_NA, 'count'].sum())"
   ]
  },
  {
   "cell_type": "code",
   "execution_count": 18,
   "id": "0f17f8fd-16eb-4fdf-993d-364e018b9b39",
   "metadata": {},
   "outputs": [],
   "source": [
    "# convenient views into the data; for read only, not to modify\n",
    "df_R1_tagged = df.loc[~mask_R1_NA]\n",
    "df_R2_tagged = df.loc[~mask_R2_NA]\n",
    "df_pair_tagged = df.loc[~(mask_R1_NA | mask_R2_NA)]"
   ]
  },
  {
   "cell_type": "markdown",
   "id": "1cb83237-05c4-4b5d-ae78-124f4fd66882",
   "metadata": {},
   "source": [
    "### Read 1"
   ]
  },
  {
   "cell_type": "markdown",
   "id": "129dc16e-df7a-4d12-a530-61eb7bf3f921",
   "metadata": {},
   "source": [
    "Most common tag groups, with location"
   ]
  },
  {
   "cell_type": "code",
   "execution_count": 19,
   "id": "0694fefe-7c52-4218-8c42-da79a84e38b1",
   "metadata": {},
   "outputs": [
    {
     "data": {
      "text/plain": [
       "pattern_loc_group_R1\n",
       "DPMBot6:0-9,DPMTop6:10-30,OddTop:35-59,EvenTop:59-83                           2903137\n",
       "DPMBot6:0-9,DPMTop6:10-30,OddTop:35-59,EvenTop:59-83,NYLigEvenStgTop:83-100     333745\n",
       "DPMBot6:0-9,EvenTop:26-50,OddTop:50-74,EvenTop:74-98                            294247\n",
       "DPMBot6:0-9,DPMTop6:10-30,OddTop:35-59,EvenTop:59-83,NYLigEvenStgTop:83-99      282688\n",
       "OligoRC:0-9,OddTop:17-41,EvenTop:41-65,OddTop:65-89                             209451\n",
       "OligoRC:0-10,R1Top:18-41,R2Top:41-64,R3Top:64-87                                193389\n",
       "OligoRC:0-9,R1Top:17-40,R2Top:40-63,R3Top:63-86                                 181516\n",
       "DPMBot6:0-9,DPMTop6:10-30,NYLigEvenStgTop:35-52,adapter:52-65                   158670\n",
       "DPMBot6:0-9,DPMTop6:10-30,NYLigEvenStgTop:35-51,adapter:51-64                   153559\n",
       "DPMBot6:0-9,NYLigEvenStgTop:26-43,adapter:43-56                                 143143\n",
       "Name: count, dtype: int64"
      ]
     },
     "execution_count": 19,
     "metadata": {},
     "output_type": "execute_result"
    }
   ],
   "source": [
    "df_R1_tagged.groupby('pattern_loc_group_R1')['count'].sum().sort_values(ascending=False).head(10)"
   ]
  },
  {
   "cell_type": "markdown",
   "id": "60f8b266-ef18-4e7b-b8dd-d38fcd11933b",
   "metadata": {},
   "source": [
    "Most common tag orders"
   ]
  },
  {
   "cell_type": "code",
   "execution_count": 20,
   "id": "5c74e77d-f629-4f50-915e-30775eaca8c2",
   "metadata": {},
   "outputs": [
    {
     "data": {
      "text/plain": [
       "pattern_order_group_R1\n",
       "DPMBot6,DPMTop6,OddTop,EvenTop                    3011410\n",
       "DPMBot6,DPMTop6,OddTop,EvenTop,NYLigEvenStgTop     638682\n",
       "OligoRC,R1Top,R2Top,R3Top                          404643\n",
       "OligoRC,OddTop,EvenTop,OddTop                      342870\n",
       "DPMBot6,DPMTop6,NYLigEvenStgTop,adapter            321300\n",
       "DPMBot6,EvenTop,OddTop,EvenTop                     307938\n",
       "DPMBot6,NYLigEvenStgTop,adapter                    276525\n",
       "DPMBot6,EvenTop,NYLigEvenStgTop,adapter            201581\n",
       "DPMBot6,OddTop,EvenTop,NYLigEvenStgTop             188579\n",
       "DPMBot6                                            103905\n",
       "Name: count, dtype: int64"
      ]
     },
     "execution_count": 20,
     "metadata": {},
     "output_type": "execute_result"
    }
   ],
   "source": [
    "df_R1_tagged.groupby('pattern_order_group_R1')['count'].sum().sort_values(ascending=False).head(10)"
   ]
  },
  {
   "cell_type": "markdown",
   "id": "979d35ba-3400-40ec-941e-a5699a277656",
   "metadata": {},
   "source": [
    "Most common starting tags"
   ]
  },
  {
   "cell_type": "code",
   "execution_count": 21,
   "id": "160e40e0-fc9e-401d-9cef-14b1e68176cc",
   "metadata": {},
   "outputs": [
    {
     "data": {
      "text/plain": [
       "first_tag\n",
       "DPMBot6_22:0-9      1615665\n",
       "DPMBot6_21:0-9      1185360\n",
       "DPMBot6_14:0-9       543132\n",
       "DPMBot6_18:0-9       509146\n",
       "DPMBot6_1:0-9        503471\n",
       "OligoRC_bc4:0-9      436226\n",
       "OligoRC_bc5:0-10     321600\n",
       "OligoRC_bc3:0-9      298597\n",
       "OligoRC_bc2:0-10     273156\n",
       "DPMBot6_44:0-9       272743\n",
       "Name: count, dtype: int64"
      ]
     },
     "execution_count": 21,
     "metadata": {},
     "output_type": "execute_result"
    }
   ],
   "source": [
    "df_R1_tagged.assign(first_tag=df_R1_tagged['pattern_loc_R1'].map(lambda s: s.split(',')[0])) \\\n",
    "    .groupby('first_tag')['count'].sum().sort_values(ascending=False).head(10)"
   ]
  },
  {
   "cell_type": "code",
   "execution_count": 22,
   "id": "eb398298-5916-4ddd-af87-376bc13f79ab",
   "metadata": {},
   "outputs": [
    {
     "data": {
      "text/plain": [
       "first_tag_group\n",
       "DPMBot6:0-9      5542531\n",
       "OligoRC:0-9       734823\n",
       "OligoRC:0-10      594756\n",
       "DPMTop6:9-29       56494\n",
       "DPMTop6:10-30      23923\n",
       "DPMTop6:1-21       22111\n",
       "OddTop:25-49       17290\n",
       "NYStgBot:0-10      16740\n",
       "OddTop:17-41       13778\n",
       "NYStgBot:0-9       13754\n",
       "Name: count, dtype: int64"
      ]
     },
     "execution_count": 22,
     "metadata": {},
     "output_type": "execute_result"
    }
   ],
   "source": [
    "df_R1_tagged.assign(first_tag_group=df_R1_tagged['pattern_loc_group_R1'].map(lambda s: s.split(',')[0])) \\\n",
    "    .groupby('first_tag_group')['count'].sum().sort_values(ascending=False).head(10)"
   ]
  },
  {
   "cell_type": "markdown",
   "id": "61e33bf5-d8c2-4c4a-940a-4e30abf35a94",
   "metadata": {},
   "source": [
    "### Read 2"
   ]
  },
  {
   "cell_type": "markdown",
   "id": "7895d0e6-db7c-4fb3-bfad-8a345b98e912",
   "metadata": {},
   "source": [
    "Most common tag groups, with location"
   ]
  },
  {
   "cell_type": "code",
   "execution_count": 23,
   "id": "e0492955-a99e-4d3c-b2f5-0cf75af23e1e",
   "metadata": {},
   "outputs": [
    {
     "data": {
      "text/plain": [
       "pattern_loc_group_R2\n",
       "NYStgBot:0-9,EvenBot:9-33,OddBot:33-57,EvenBot:57-81,OddBot:81-105,DPMBot6:128-137,DPMTop6:138-158      969425\n",
       "NYStgBot:0-10,EvenBot:10-34,OddBot:34-58,EvenBot:58-82,OddBot:82-106,DPMBot6:129-138,DPMTop6:139-159    870475\n",
       "NYStgBot:0-10,EvenBot:10-34,OddBot:34-58,DPMBot6:81-90,DPMTop6:91-111                                   255477\n",
       "NYStgBot:0-9,EvenBot:9-33,OddBot:33-57,DPMBot6:80-89,DPMTop6:90-110                                     225525\n",
       "NYStgBot:0-10,DPMBot6:33-42,DPMTop6:43-63                                                               138243\n",
       "NYStgBot:0-10,EvenBot:10-34,DPMTop6:34-54                                                               134909\n",
       "NYStgBot:0-9,DPMBot6:32-41,DPMTop6:42-62                                                                134251\n",
       "NYStgBot:0-9,EvenBot:9-33,DPMTop6:33-53                                                                 105745\n",
       "NYStgBot:0-9,EvenBot:9-33,OddBot:33-57,EvenBot:57-81,OddBot:81-105,DPMTop6:105-125                      102575\n",
       "NYStgBot:0-10,EvenBot:10-34,OddBot:34-58,EvenBot:58-82,OddBot:82-106,DPMTop6:106-126                    101530\n",
       "Name: count, dtype: int64"
      ]
     },
     "execution_count": 23,
     "metadata": {},
     "output_type": "execute_result"
    }
   ],
   "source": [
    "df_R2_tagged.groupby('pattern_loc_group_R2')['count'].sum().sort_values(ascending=False).head(10)"
   ]
  },
  {
   "cell_type": "markdown",
   "id": "635ca4f8-7d5c-4570-a894-e70dea49c714",
   "metadata": {},
   "source": [
    "Most common tag orders"
   ]
  },
  {
   "cell_type": "code",
   "execution_count": 24,
   "id": "73ec8501-bd8d-4270-83f9-6663962a2aea",
   "metadata": {},
   "outputs": [
    {
     "data": {
      "text/plain": [
       "pattern_order_group_R2\n",
       "NYStgBot,EvenBot,OddBot,EvenBot,OddBot,DPMBot6,DPMTop6           2195637\n",
       "NYStgBot,EvenBot,OddBot,DPMBot6,DPMTop6                           563071\n",
       "NYStgBot,EvenBot,OddBot,EvenBot,OddBot,Oligo                      355394\n",
       "NYStgBot,R3Bot,R2Bot,R1Bot,Oligo                                  324364\n",
       "NYStgBot,EvenBot,OddBot,EvenBot,OddBot,DPMTop6                    294709\n",
       "NYStgBot,DPMBot6,DPMTop6                                          287336\n",
       "NYStgBot,EvenBot,DPMTop6                                          264153\n",
       "NYStgBot,EvenBot,OddBot,EvenBot,OddBot,EvenBot,OddBot,DPMBot6     212455\n",
       "NYStgBot,EvenBot,OddBot,DPMTop6                                   207179\n",
       "NYStgBot,EvenBot,OddBot,EvenBot,DPMTop6                           202840\n",
       "Name: count, dtype: int64"
      ]
     },
     "execution_count": 24,
     "metadata": {},
     "output_type": "execute_result"
    }
   ],
   "source": [
    "df_R2_tagged.groupby('pattern_order_group_R2')['count'].sum().sort_values(ascending=False).head(10)"
   ]
  },
  {
   "cell_type": "markdown",
   "id": "c6d92d05-6287-48dc-a297-490904165a76",
   "metadata": {},
   "source": [
    "Most common starting tags"
   ]
  },
  {
   "cell_type": "code",
   "execution_count": 25,
   "id": "023d1150-ec6b-4658-82b6-14b5f9ff24ee",
   "metadata": {},
   "outputs": [
    {
     "data": {
      "text/plain": [
       "first_tag\n",
       "NYStgBot_8:0-9      886114\n",
       "NYStgBot_37:0-10    304219\n",
       "NYStgBot_19:0-9     246831\n",
       "NYStgBot_20:0-10    226778\n",
       "NYStgBot_40:0-9     215228\n",
       "NYStgBot_41:0-10    214351\n",
       "NYStgBot_35:0-10    201859\n",
       "NYStgBot_7:0-10     194757\n",
       "NYStgBot_10:0-10    194746\n",
       "NYStgBot_12:0-10    189376\n",
       "Name: count, dtype: int64"
      ]
     },
     "execution_count": 25,
     "metadata": {},
     "output_type": "execute_result"
    }
   ],
   "source": [
    "df_R2_tagged.assign(first_tag=df_R2_tagged['pattern_loc_R2'].map(lambda s: s.split(',')[0])) \\\n",
    "    .groupby('first_tag')['count'].sum().sort_values(ascending=False).head(10)"
   ]
  },
  {
   "cell_type": "code",
   "execution_count": 26,
   "id": "3404724c-b6ef-42cd-b895-51b26ddaf571",
   "metadata": {},
   "outputs": [
    {
     "data": {
      "text/plain": [
       "first_tag_group\n",
       "NYStgBot:0-10    3554530\n",
       "NYStgBot:0-9     3441929\n",
       "EvenBot:9-33       55053\n",
       "NYStgBot:0-12      44473\n",
       "EvenBot:10-34      41623\n",
       "DPMTop6:25-45      12402\n",
       "NYStgBot:0-11      11036\n",
       "EvenBot:8-32        7606\n",
       "DPMTop6:26-46       7569\n",
       "OddBot:34-58        3739\n",
       "Name: count, dtype: int64"
      ]
     },
     "execution_count": 26,
     "metadata": {},
     "output_type": "execute_result"
    }
   ],
   "source": [
    "df_R2_tagged.assign(first_tag_group=df_R2_tagged['pattern_loc_group_R2'].map(lambda s: s.split(',')[0])) \\\n",
    "    .groupby('first_tag_group')['count'].sum().sort_values(ascending=False).head(10)"
   ]
  },
  {
   "cell_type": "markdown",
   "id": "839f1e16-d035-4766-a2f3-30a6a078f142",
   "metadata": {},
   "source": [
    "## Oligo reads"
   ]
  },
  {
   "cell_type": "markdown",
   "id": "eff12983-4ea7-4b01-a9a8-f1a8687b123b",
   "metadata": {},
   "source": [
    "Total number of reads containing oligo"
   ]
  },
  {
   "cell_type": "code",
   "execution_count": 27,
   "id": "992e7f3c-c431-4ced-91b4-a818bae83469",
   "metadata": {},
   "outputs": [
    {
     "name": "stdout",
     "output_type": "stream",
     "text": [
      "Total number of oligo-containing reads: 1420981\n"
     ]
    }
   ],
   "source": [
    "print('Total number of oligo-containing reads:', df.loc[df['pattern_order_group'].str.contains('Oligo'), 'count'].sum())"
   ]
  },
  {
   "cell_type": "code",
   "execution_count": 28,
   "id": "c865ea41-f7ae-4913-bf0a-27680b466050",
   "metadata": {},
   "outputs": [
    {
     "name": "stdout",
     "output_type": "stream",
     "text": [
      "Total number of R1 reads starting with OligoRC: 1329579\n"
     ]
    }
   ],
   "source": [
    "print('Total number of R1 reads starting with OligoRC:', df_R1_tagged.loc[df_R1_tagged['pattern_loc_group_R1'].str.startswith('OligoRC:0-'), 'count'].sum())"
   ]
  },
  {
   "cell_type": "markdown",
   "id": "17a649d2-5629-4904-98fd-cd03c86467d6",
   "metadata": {},
   "source": [
    "### Cell barcode oligos (read 1 = oligo + R1-R3)"
   ]
  },
  {
   "cell_type": "code",
   "execution_count": 53,
   "id": "295ffc90-3518-4ac7-b1cb-7ce7f8f221e1",
   "metadata": {},
   "outputs": [],
   "source": [
    "regex_oligo_r1_r1_loc = r'OligoRC:0-\\d+,R1Top'\n",
    "regex_oligo_cell_r1_loc = r'OligoRC:0-\\d+,R1Top:\\d+-\\d+,R2Top:\\d+-\\d+,R3Top:\\d+-\\d+'\n",
    "regex_oligo_cell_short_r2 = r'^NYStgBot,R3Bot,R2Bot,R1Bot,Oligo$'\n",
    "regex_oligo_cell_full_r2 = r'^NYStgBot,EvenBot,OddBot,EvenBot,OddBot,DPMBot6,NYStgBot,R3Bot'"
   ]
  },
  {
   "cell_type": "code",
   "execution_count": 54,
   "id": "76bcc8fe-25bd-4e05-bbb3-21727b05457f",
   "metadata": {},
   "outputs": [
    {
     "name": "stdout",
     "output_type": "stream",
     "text": [
      "Oligo + R1 reads: 629763\n",
      "Oligo + R1-R3 reads: 413131\n",
      "Oligo + R1-R3 + Y reads (Oligo, short): 314846\n",
      "Oligo + R1-R3 + Y + DPM + Odd + Even + Odd + Even + Y reads (Oligo, full): 792\n"
     ]
    }
   ],
   "source": [
    "print('Oligo + R1 reads:', df_R1_tagged.loc[df_R1_tagged['pattern_loc_group_R1'].str.contains(regex_oligo_r1_r1_loc), 'count'].sum())\n",
    "print('Oligo + R1-R3 reads:', df_R1_tagged.loc[df_R1_tagged['pattern_loc_group_R1'].str.contains(regex_oligo_cell_r1_loc), 'count'].sum())\n",
    "print('Oligo + R1-R3 + Y reads (Oligo, short):',\n",
    "      df_R1_tagged.loc[\n",
    "          df_R1_tagged['pattern_loc_group_R1'].str.contains(regex_oligo_cell_r1_loc) &\n",
    "          df_R1_tagged['pattern_order_group_R2'].str.contains(regex_oligo_cell_short_r2),\n",
    "          'count'].sum())\n",
    "print('Oligo + R1-R3 + Y + DPM + Odd + Even + Odd + Even + Y reads (Oligo, full):',\n",
    "      df_R1_tagged.loc[\n",
    "          df_R1_tagged['pattern_loc_group_R1'].str.contains(regex_oligo_cell_r1_loc) &\n",
    "          df_R1_tagged['pattern_order_group_R2'].str.contains(regex_oligo_cell_full_r2),\n",
    "          'count'].sum())"
   ]
  },
  {
   "cell_type": "code",
   "execution_count": 39,
   "id": "e4544062-d348-4e07-9d5b-70c2726d58a8",
   "metadata": {},
   "outputs": [
    {
     "data": {
      "text/plain": [
       "pattern_loc_group_R2\n",
       "NYStgBot:0-9,R3Bot:9-32,R2Bot:32-55,R1Bot:55-78,Oligo:94-116                                                     69821\n",
       "NYStgBot:0-9,R3Bot:9-32,R2Bot:32-55,R1Bot:55-78,Oligo:94-115                                                     64138\n",
       "NYStgBot:0-10,R3Bot:10-33,R2Bot:33-56,R1Bot:56-79,Oligo:95-117                                                   56844\n",
       "NYStgBot:0-10,R3Bot:10-33,R2Bot:33-56,R1Bot:56-79,Oligo:95-116                                                   51919\n",
       "NYStgBot:0-12,R3Bot:12-35,R2Bot:35-58,R1Bot:58-81,Oligo:97-119                                                   17582\n",
       "NYStgBot:0-12,R3Bot:12-35,R2Bot:35-58,R1Bot:58-81,Oligo:97-118                                                   15814\n",
       "NYStgBot:0-9,R3Bot:9-32,R2Bot:32-55,R1Bot:55-77,Oligo:93-114                                                      2528\n",
       "NYStgBot:0-9,R3Bot:9-32,R2Bot:32-55,R1Bot:55-77,Oligo:93-115                                                      2525\n",
       "NYStgBot:0-10,EvenBot:10-34,OddBot:34-58,EvenBot:58-82,R3Bot:82-105,R2Bot:105-128,R1Bot:128-151,Oligo:167-188     2197\n",
       "NYStgBot:0-10,EvenBot:10-34,OddBot:34-58,EvenBot:58-82,R3Bot:82-105,R2Bot:105-128,R1Bot:128-151,Oligo:167-189     2152\n",
       "Name: count, dtype: int64"
      ]
     },
     "execution_count": 39,
     "metadata": {},
     "output_type": "execute_result"
    }
   ],
   "source": [
    "df_R1_tagged.loc[df_R1_tagged['pattern_loc_group_R1'].str.contains(regex_oligo_cell_r1_loc)] \\\n",
    "    .groupby('pattern_loc_group_R2')['count'].sum() \\\n",
    "    .sort_values(ascending=False).head(10)"
   ]
  },
  {
   "cell_type": "markdown",
   "id": "f162888e-7d4f-43d6-817d-f96a34d6322d",
   "metadata": {},
   "source": [
    "Other tag orders with R1-R3 cell barcode"
   ]
  },
  {
   "cell_type": "code",
   "execution_count": 40,
   "id": "24e5a471-8d1e-4098-b9f3-13414a7dd0a5",
   "metadata": {},
   "outputs": [
    {
     "data": {
      "text/plain": [
       "pattern_order_group_R2\n",
       "NYStgBot,R3Bot,R2Bot,R1Bot,Oligo                           314846\n",
       "NYStgBot,EvenBot,OddBot,EvenBot,R3Bot,R2Bot,R1Bot,Oligo     10465\n",
       "NYStgBot,R3Bot,R2Bot,R1Bot,Oligo,DPMBot6                     9584\n",
       "NYStgBot,R3Bot,R2Bot,R1Bot,adapter                           9237\n",
       "R3Bot,R2Bot,R1Bot,Oligo                                      5670\n",
       "Name: count, dtype: int64"
      ]
     },
     "execution_count": 40,
     "metadata": {},
     "output_type": "execute_result"
    }
   ],
   "source": [
    "df_R1_tagged.loc[df_R1_tagged['pattern_loc_group_R1'].str.contains(regex_oligo_cell_r1_loc)] \\\n",
    "    .groupby('pattern_order_group_R2')['count'].sum() \\\n",
    "    .sort_values(ascending=False).head()"
   ]
  },
  {
   "cell_type": "markdown",
   "id": "b071f784-5efb-47e4-b0b3-7072c5883baa",
   "metadata": {},
   "source": [
    "Tag orders with full oligo barcode"
   ]
  },
  {
   "cell_type": "code",
   "execution_count": 43,
   "id": "1996e27a-5d83-4cd0-adec-b57e44748c22",
   "metadata": {},
   "outputs": [
    {
     "data": {
      "text/plain": [
       "pattern_order_group_R2\n",
       "NYStgBot,EvenBot,OddBot,EvenBot,OddBot,DPMBot6,NYStgBot,R3Bot          608\n",
       "NYStgBot,EvenBot,OddBot,EvenBot,OddBot,DPMBot6,NYStgBot,R3Bot,R2Bot    184\n",
       "NYStgBot,EvenBot,OddBot,EvenBot,OddBot,DPMBot6,NYStgBot                 13\n",
       "NYStgBot,EvenBot,OddBot,EvenBot,OddBot,DPMBot6,NYStgBot,R2Bot            1\n",
       "Name: count, dtype: int64"
      ]
     },
     "execution_count": 43,
     "metadata": {},
     "output_type": "execute_result"
    }
   ],
   "source": [
    "df_R1_tagged.loc[\n",
    "    df_R1_tagged['pattern_loc_group_R1'].str.contains(regex_oligo_cell_r1_loc) &\n",
    "    df_R1_tagged['pattern_order_group_R2'].str.contains(regex_oligo_cell_full_r2)] \\\n",
    "    .groupby('pattern_order_group_R2')['count'].sum() \\\n",
    "    .sort_values(ascending=False).head()"
   ]
  },
  {
   "cell_type": "markdown",
   "id": "1732a958-d4fc-457a-90b4-77618bc40379",
   "metadata": {},
   "source": [
    "How does read 2 extend all the way to R2Bot?\n",
    "- It seems like the 5' end of NYStgBot is trimmed. Potential explanations include sonication or exonuclease activity during end repair / dA-tailing."
   ]
  },
  {
   "cell_type": "code",
   "execution_count": 45,
   "id": "4058cdbb-3318-4507-9149-48bb122027b4",
   "metadata": {},
   "outputs": [
    {
     "data": {
      "text/plain": [
       "pattern_loc_group_R2\n",
       "NYStgBot:0-9,EvenBot:9-33,OddBot:33-57,EvenBot:57-81,OddBot:81-105,DPMBot6:128-137,NYStgBot:140-149,R3Bot:149-172,R2Bot:172-195      12\n",
       "NYStgBot:0-9,EvenBot:9-33,OddBot:33-57,EvenBot:57-81,OddBot:81-105,DPMBot6:128-137,NYStgBot:138-148,R3Bot:148-171,R2Bot:171-194      10\n",
       "NYStgBot:0-10,EvenBot:10-34,OddBot:34-58,EvenBot:58-82,OddBot:82-106,DPMBot6:129-138,NYStgBot:141-150,R3Bot:150-173,R2Bot:173-196    10\n",
       "NYStgBot:0-9,EvenBot:9-33,OddBot:33-57,EvenBot:57-81,OddBot:81-105,DPMBot6:128-137,NYStgBot:141-150,R3Bot:150-173,R2Bot:173-196       9\n",
       "NYStgBot:0-10,EvenBot:10-34,OddBot:34-58,EvenBot:58-82,OddBot:82-106,DPMBot6:129-138,NYStgBot:143-153,R3Bot:153-176,R2Bot:176-199     9\n",
       "Name: count, dtype: int64"
      ]
     },
     "execution_count": 45,
     "metadata": {},
     "output_type": "execute_result"
    }
   ],
   "source": [
    "df_R1_tagged.loc[\n",
    "    df_R1_tagged['pattern_loc_group_R1'].str.contains(regex_oligo_cell_r1_loc) &\n",
    "    df_R1_tagged['pattern_order_group_R2'].str.contains(regex_oligo_cell_full_r2) &\n",
    "    df_R1_tagged['pattern_order_group_R2'].str.contains('R2Bot')] \\\n",
    "    .groupby('pattern_loc_group_R2')['count'].sum() \\\n",
    "    .sort_values(ascending=False).head()"
   ]
  },
  {
   "cell_type": "markdown",
   "id": "634ac546-0edc-44a1-b465-f0b6b52e342c",
   "metadata": {},
   "source": [
    "### Cluster barcode oligos (read 1 = oligo + odd + even + odd)"
   ]
  },
  {
   "cell_type": "code",
   "execution_count": 55,
   "id": "2605a0c1-8db9-42d3-a4f9-f3d087dcd8e1",
   "metadata": {},
   "outputs": [],
   "source": [
    "regex_oligo_odd_r1_loc = r'OligoRC:0-\\d+,OddTop'\n",
    "regex_oligo_cluster_r1_loc = r'OligoRC:0-\\d+,OddTop:\\d+-\\d+,EvenTop:\\d+-\\d+,OddTop:\\d+-\\d+'\n",
    "regex_oligo_cluster_r2 = r'^NYStgBot,EvenBot,OddBot,EvenBot,OddBot,Oligo$'"
   ]
  },
  {
   "cell_type": "code",
   "execution_count": 56,
   "id": "136591c4-cdb4-4c51-ad63-b755f0652805",
   "metadata": {},
   "outputs": [
    {
     "name": "stdout",
     "output_type": "stream",
     "text": [
      "Oligo + Odd reads: 476101\n",
      "Oligo + Odd + Even + Odd R1 reads: 342796\n",
      "Oligo + Odd + Even + Odd + Even + Y reads (Oligo, cluster only): 274254\n"
     ]
    }
   ],
   "source": [
    "print('Oligo + Odd reads:', df_R1_tagged.loc[df_R1_tagged['pattern_loc_group_R1'].str.contains(regex_oligo_odd_r1_loc), 'count'].sum())\n",
    "print('Oligo + Odd + Even + Odd R1 reads:', df_R1_tagged.loc[df_R1_tagged['pattern_loc_group_R1'].str.contains(regex_oligo_cluster_r1_loc), 'count'].sum())\n",
    "print('Oligo + Odd + Even + Odd + Even + Y reads (Oligo, cluster only):',\n",
    "      df_R1_tagged.loc[\n",
    "          df_R1_tagged['pattern_loc_group_R1'].str.contains(regex_oligo_cluster_r1_loc) &\n",
    "          df_R1_tagged['pattern_order_group_R2'].str.contains(regex_oligo_cluster_r2),\n",
    "          'count'].sum())"
   ]
  },
  {
   "cell_type": "markdown",
   "id": "53a72a10-5609-476c-a23c-dca39dc91980",
   "metadata": {},
   "source": [
    "Other tag orders with Oligo + Odd + Even + Odd cluster barcode"
   ]
  },
  {
   "cell_type": "code",
   "execution_count": 59,
   "id": "b3581b1b-fd78-49aa-84ef-00869a551a65",
   "metadata": {},
   "outputs": [
    {
     "data": {
      "text/plain": [
       "pattern_order_group_R2\n",
       "NYStgBot,EvenBot,OddBot,EvenBot,OddBot,Oligo                   274254\n",
       "NYStgBot,EvenBot,OddBot,EvenBot,OddBot,EvenBot,OddBot,Oligo     13663\n",
       "NYStgBot,EvenBot,OddBot,EvenBot,OddBot,adapter                   9889\n",
       "NYStgBot,EvenBot,OddBot,EvenBot,OddBot,Oligo,DPMBot6             7349\n",
       "NYStgBot,EvenBot,OddBot,OddBot,EvenBot,OddBot,Oligo              4274\n",
       "Name: count, dtype: int64"
      ]
     },
     "execution_count": 59,
     "metadata": {},
     "output_type": "execute_result"
    }
   ],
   "source": [
    "df_R1_tagged.loc[df_R1_tagged['pattern_loc_group_R1'].str.contains(regex_oligo_cluster_r1_loc)] \\\n",
    "    .groupby('pattern_order_group_R2')['count'].sum() \\\n",
    "    .sort_values(ascending=False).head()"
   ]
  },
  {
   "cell_type": "markdown",
   "id": "05b04a99-08ad-4eec-ae30-b6640797f7b4",
   "metadata": {},
   "source": [
    "### Other Oligos"
   ]
  },
  {
   "cell_type": "markdown",
   "id": "eb3c9247-6c3b-4f5b-bb53-7c176fa08b83",
   "metadata": {},
   "source": [
    "The most common tag order for oligos not ligated by R1 or Odd is directly to NYLigEven."
   ]
  },
  {
   "cell_type": "code",
   "execution_count": 60,
   "id": "f02945e0-1f05-4f1e-ba09-64b84d3160e9",
   "metadata": {},
   "outputs": [
    {
     "data": {
      "text/plain": [
       "pattern_loc_group_R1\n",
       "OligoRC:0-9,DPMTop6:25-45,OddTop:50-74,EvenTop:74-98     6433\n",
       "OligoRC:0-9,EvenTop:36-60,OddTop:60-84                   6410\n",
       "OligoRC:0-10,EvenTop:37-61,OddTop:61-85                  4271\n",
       "OligoRC:0-9,NYLigEvenStgTop:17-34,adapter:34-47          3909\n",
       "OligoRC:0-10,DPMTop6:26-46,OddTop:51-75,EvenTop:75-99    3797\n",
       "Name: count, dtype: int64"
      ]
     },
     "execution_count": 60,
     "metadata": {},
     "output_type": "execute_result"
    }
   ],
   "source": [
    "df_R1_tagged.loc[df_R1_tagged['pattern_loc_group_R1'].str.contains('OligoRC:0-\\d+,(?!OddTop|R1Top)')] \\\n",
    "    .groupby('pattern_loc_group_R1')['count'].sum() \\\n",
    "    .sort_values(ascending=False).head()"
   ]
  },
  {
   "cell_type": "code",
   "execution_count": 61,
   "id": "be8ffb06-17ae-4174-862e-474d25dbd944",
   "metadata": {},
   "outputs": [
    {
     "data": {
      "text/plain": [
       "pattern_order_group_R1\n",
       "OligoRC,EvenTop,OddTop                     46131\n",
       "OligoRC,NYLigEvenStgTop,adapter            41400\n",
       "OligoRC,DPMTop6,OddTop,EvenTop             32511\n",
       "OligoRC,EvenTop,NYLigEvenStgTop,adapter    27213\n",
       "OligoRC,EvenTop,OddTop,EvenTop             17820\n",
       "Name: count, dtype: int64"
      ]
     },
     "execution_count": 61,
     "metadata": {},
     "output_type": "execute_result"
    }
   ],
   "source": [
    "df_R1_tagged.loc[df_R1_tagged['pattern_loc_group_R1'].str.contains('OligoRC:0-\\d+,(?!OddTop|R1Top)')] \\\n",
    "    .groupby('pattern_order_group_R1')['count'].sum() \\\n",
    "    .sort_values(ascending=False).head()"
   ]
  },
  {
   "cell_type": "markdown",
   "id": "d3ab8c34-8f8c-4033-84de-8807e4855c8c",
   "metadata": {},
   "source": [
    "#### Oligo, short (DPM top)\n",
    "\n",
    "Conclusion: not a major product\n",
    "\n",
    "Expected structure:\n",
    "\n",
    "- R1 (1): oligo barcode (rc) + UMI (rc) + R1 + R2 + R3 + Y + DPM top\n",
    "  - Cannot observe with R1 read length of only 100\r",
    "- \n",
    "R1 (2): DPM_bot + Y_bot + R3_bot + R2_bot + R1_bot + UMI (rc) + oligo barcode (rc)"
   ]
  },
  {
   "cell_type": "code",
   "execution_count": 62,
   "id": "9516b45f-c257-4399-bb1d-2f0548a52c8f",
   "metadata": {},
   "outputs": [
    {
     "data": {
      "text/plain": [
       "pattern_order_group_R1\n",
       "OligoRC,R1Top,DPMTop6,OddTop                     18772\n",
       "OligoRC,R1Top,DPMTop6                             4638\n",
       "OligoRC,R1Top,R2Top,DPMTop6                       3573\n",
       "OligoRC,R1Top,DPMTop6,NYLigEvenStgTop              451\n",
       "OligoRC,R1Top,DPMTop6,NYLigEvenStgTop,adapter      406\n",
       "Name: count, dtype: int64"
      ]
     },
     "execution_count": 62,
     "metadata": {},
     "output_type": "execute_result"
    }
   ],
   "source": [
    "df_R1_tagged.loc[\n",
    "    df_R1_tagged['pattern_loc_group_R1'].str.contains(regex_oligo_r1_r1_loc) &\n",
    "    df_R1_tagged['pattern_order_group_R1'].str.contains('DPMTop6')] \\\n",
    "    .groupby('pattern_order_group_R1')['count'].sum() \\\n",
    "    .sort_values(ascending=False).head()"
   ]
  },
  {
   "cell_type": "markdown",
   "id": "67b3076e-a90f-4823-8067-fbfe94cf9bdf",
   "metadata": {},
   "source": [
    "No (or almost no) R1 reads have `DPM_bot + Y_bot + R3_bot` structure"
   ]
  },
  {
   "cell_type": "code",
   "execution_count": 63,
   "id": "9d720b1b-3677-4855-a55d-a4ff6efd3f73",
   "metadata": {},
   "outputs": [
    {
     "data": {
      "text/plain": [
       "13111"
      ]
     },
     "execution_count": 63,
     "metadata": {},
     "output_type": "execute_result"
    }
   ],
   "source": [
    "df_R1_tagged.loc[df_R1_tagged['pattern_loc_group_R1'].str.contains('^DPMBot6:[0-9]-\\d+,NYStgBot'), 'count'].sum()"
   ]
  },
  {
   "cell_type": "code",
   "execution_count": 64,
   "id": "08755ce2-c9f9-4c23-9bac-31fde3f3a0d3",
   "metadata": {},
   "outputs": [
    {
     "data": {
      "text/plain": [
       "pattern_order_group_R1\n",
       "DPMBot6,NYStgBot,OddTop,EvenTop             4438\n",
       "DPMBot6,NYStgBot,EvenTop,NYLigEvenStgTop    3997\n",
       "DPMBot6,NYStgBot                            1026\n",
       "DPMBot6,NYStgBot,adapter                     891\n",
       "DPMBot6,NYStgBot,EvenTop,OddTop              719\n",
       "Name: count, dtype: int64"
      ]
     },
     "execution_count": 64,
     "metadata": {},
     "output_type": "execute_result"
    }
   ],
   "source": [
    "df_R1_tagged.loc[df_R1_tagged['pattern_loc_group_R1'].str.contains('^DPMBot6:[0-9]-\\d+,NYStgBot')] \\\n",
    "    .groupby('pattern_order_group_R1')['count'].sum() \\\n",
    "    .sort_values(ascending=False).head()"
   ]
  },
  {
   "cell_type": "markdown",
   "id": "f7b9b401-2ee0-49ea-8f54-d6ead4abd444",
   "metadata": {},
   "source": [
    "Just in case, check R2 for such structures. Practically no R2 reads start with DPMBot6."
   ]
  },
  {
   "cell_type": "code",
   "execution_count": 65,
   "id": "27184b41-e173-4faf-a6b2-5b81ee136fdc",
   "metadata": {},
   "outputs": [
    {
     "data": {
      "text/plain": [
       "10576"
      ]
     },
     "execution_count": 65,
     "metadata": {},
     "output_type": "execute_result"
    }
   ],
   "source": [
    "df_R2_tagged.loc[df_R2_tagged['pattern_order_group_R2'].str.startswith('DPMBot6'), 'count'].sum()"
   ]
  },
  {
   "cell_type": "code",
   "execution_count": 66,
   "id": "2aa7ff1d-8728-450e-a7c9-2395a3dee7c8",
   "metadata": {},
   "outputs": [
    {
     "data": {
      "text/plain": [
       "pattern_order_group_R2\n",
       "DPMBot6,DPMTop6            5144\n",
       "DPMBot6                    2108\n",
       "DPMBot6,adapter             995\n",
       "DPMBot6,DPMBot6,adapter     418\n",
       "DPMBot6,DPMTop6,DPMBot6     233\n",
       "Name: count, dtype: int64"
      ]
     },
     "execution_count": 66,
     "metadata": {},
     "output_type": "execute_result"
    }
   ],
   "source": [
    "df_R2_tagged.loc[df_R2_tagged['pattern_order_group_R2'].str.startswith('DPMBot6')] \\\n",
    "    .groupby('pattern_order_group_R2')['count'].sum() \\\n",
    "    .sort_values(ascending=False).head()"
   ]
  },
  {
   "cell_type": "markdown",
   "id": "18ba6dae-6f27-4821-9daf-1fdb008491d0",
   "metadata": {},
   "source": [
    "## DPM Reads"
   ]
  },
  {
   "cell_type": "markdown",
   "id": "dc6a6b5c-d703-4e6d-aaf4-91edd450f332",
   "metadata": {},
   "source": [
    "Most R1 reads start with DPMBot. Most of the remaining reads start with oligo_rc"
   ]
  },
  {
   "cell_type": "code",
   "execution_count": 71,
   "id": "b63932ab-7818-41a9-acd2-18f5d8e58671",
   "metadata": {},
   "outputs": [
    {
     "name": "stdout",
     "output_type": "stream",
     "text": [
      "R1 reads starting with DPMBot: 5542531 (75.73%)\n"
     ]
    }
   ],
   "source": [
    "print('R1 reads starting with DPMBot: {} ({:.2%})'.format(\n",
    "    df_R1_tagged.loc[df_R1_tagged['pattern_loc_group_R1'].str.startswith('DPMBot6:0-'), 'count'].sum(),\n",
    "    df_R1_tagged.loc[df_R1_tagged['pattern_loc_group_R1'].str.startswith('DPMBot6:0-'), 'count'].sum() / df['count'].sum()))"
   ]
  },
  {
   "cell_type": "code",
   "execution_count": 72,
   "id": "7b7d07d4-4a05-48a3-8766-94d02369d984",
   "metadata": {},
   "outputs": [
    {
     "name": "stdout",
     "output_type": "stream",
     "text": [
      "R1 reads starting with oligo_rc: 1329579 (18.17%)\n"
     ]
    }
   ],
   "source": [
    "print('R1 reads starting with oligo_rc: {} ({:.2%})'.format(\n",
    "    df_R1_tagged.loc[df_R1_tagged['pattern_loc_group_R1'].str.startswith('OligoRC:0-'), 'count'].sum(),\n",
    "    df_R1_tagged.loc[df_R1_tagged['pattern_loc_group_R1'].str.startswith('OligoRC:0-'), 'count'].sum() / df['count'].sum()))"
   ]
  },
  {
   "cell_type": "markdown",
   "id": "aaf8fba4-92a6-4ab1-a3c9-458b91eb620c",
   "metadata": {},
   "source": [
    "### DPM Dimer + Cluster Barcode"
   ]
  },
  {
   "cell_type": "code",
   "execution_count": 115,
   "id": "5032c2b7-2270-4b6b-8453-98e5b68687b5",
   "metadata": {},
   "outputs": [
    {
     "data": {
      "text/plain": [
       "pattern_order_group_R2\n",
       "NYStgBot,EvenBot,OddBot,EvenBot,OddBot,DPMBot6,DPMTop6    2139174\n",
       "Name: count, dtype: int64"
      ]
     },
     "execution_count": 115,
     "metadata": {},
     "output_type": "execute_result"
    }
   ],
   "source": [
    "df_pair_tagged.loc[\n",
    "    df_pair_tagged['pattern_loc_group_R1'].str.startswith('DPMBot6:0-') &\n",
    "    df_pair_tagged['pattern_order_group_R1'].str.startswith('DPMBot6,DPMTop6,OddTop,EvenTop') &\n",
    "    df_pair_tagged['pattern_order_group_R2'].str.match('^NYStgBot,EvenBot,OddBot,EvenBot,OddBot,DPMBot6,DPMTop6$')] \\\n",
    "    .groupby('pattern_order_group_R2')['count'].sum() \\\n",
    "    .sort_values(ascending=False).head()"
   ]
  },
  {
   "cell_type": "markdown",
   "id": "fffa4d3f-f839-4ad2-85a8-8c9017834a34",
   "metadata": {},
   "source": [
    "### DPMBot with or without dT"
   ]
  },
  {
   "cell_type": "markdown",
   "id": "b4995493-3dbc-47c4-aaf1-b1ddbde5c999",
   "metadata": {},
   "source": [
    "- The vast majority of R1 reads starting with DPMBot have do not have the dT overhang at the 3' end of DPMBot.\n",
    "  - This suggests that only DPMBot is not really there; only DPMTop is.\n",
    "  - Most of these reads have the DPMBot unique sequence followed by an A, suggesting dA-tailing. (This is presumably how DPMTop subsequently gets ligated on.) Therefore, it seems as if these molecules don't actually have DPMBot, but rather some sequence to which DPMTop is complementary.\n",
    "- However, most R1 reads that only contain (and start with) DPMBot have the dT overhang, suggesting that these correspond to expected dA-tailed chromatin DNA."
   ]
  },
  {
   "cell_type": "code",
   "execution_count": 87,
   "id": "db5ceaa9-8025-40db-b1dc-1efab8db9662",
   "metadata": {},
   "outputs": [
    {
     "name": "stdout",
     "output_type": "stream",
     "text": [
      "4160161  DPMBot6:0-9                                                                               A\n",
      "294143   DPMBot6:0-9,EvenTop:26-50,OddTop:50-74,EvenTop:74-98                                      A\n",
      "148586   DPMBot6:0-9                                                                               T\n",
      "143109   DPMBot6:0-9,NYLigEvenStgTop:26-43,adapter:43-56                                           A\n",
      "113085   DPMBot6:0-9,NYLigEvenStgTop:26-42,adapter:42-55                                           A\n",
      "99128    DPMBot6:0-9,OddTop:26-50,EvenTop:50-74,NYLigEvenStgTop:74-91                              A\n",
      "98763    DPMBot6:0-9,EvenTop:26-50,NYLigEvenStgTop:50-67,adapter:67-80                             A\n",
      "90129    DPMBot6:0-9,EvenTop:26-50,NYLigEvenStgTop:50-66,adapter:66-79                             A\n",
      "83831    DPMBot6:0-9,OddTop:26-50,EvenTop:50-74,NYLigEvenStgTop:74-90                              A\n",
      "31255    DPMBot6:0-9,OddTop:26-50,EvenTop:50-74,OddTop:74-98                                       A\n",
      "16372    DPMBot6:0-9                                                                               G\n",
      "14970    DPMBot6:0-9                                                                               C\n",
      "10514    DPMBot6:0-9,Oligo:26-47                                                                   T\n",
      "8899     DPMBot6:0-9,DPMTop6:9-29,OddTop:34-58,EvenTop:58-82                                       A\n",
      "8035     DPMBot6:0-9,EvenTop:50-74,OddTop:74-98                                                    A\n",
      "7689     DPMBot6:0-9,DPMTop6:9-30,OddTop:35-59,EvenTop:59-83                                       A\n",
      "7541     DPMBot6:0-9,EvenTop:26-50,OddTop:50-74                                                    A\n",
      "7013     DPMBot6:0-9,Oligo:26-48                                                                   T\n",
      "3694     DPMBot6:0-9,EvenTop:50-74,NYLigEvenStgTop:74-91                                           A\n",
      "3220     DPMBot6:0-9,OddTop:26-50,EvenTop:50-74                                                    A\n"
     ]
    }
   ],
   "source": [
    "%%bash -s {DIR_PROC}\n",
    "DIR_PROC=\"$1\"\n",
    "\n",
    "PATH_OUTPUT=\"${DIR_PROC}/out_R1-all_short.fastq.gz\"\n",
    "\n",
    "unpigz -c \"$PATH_OUTPUT\" |\n",
    "    awk -v pattern='LX:Z:DPMBot[^:]+:0,0-' \\\n",
    "        'BEGIN{RS=\"@\"; FS=\"\\n\"} $1 ~ pattern {printf \"@%s\\t%s\\n\", $1, substr($2, 10, 1)}' |\n",
    "    sed -E -e 's/^@\\S+\\sLX:Z://' -e 's/:0,/:/g' -e 's/[^,:]+:1\\S+//' -e 's/_([0-9]+|bc[0-9]):/:/g' -e 's/,\\t/\\t/' |\n",
    "    sort |\n",
    "    uniq -c |\n",
    "    sed -E -e 's/^\\s+//' -e 's/\\s+/\\t/' |\n",
    "    sort -n -r -k1 -k2 |\n",
    "    column -t -s $'\\t' | \n",
    "    head -n 20"
   ]
  },
  {
   "cell_type": "code",
   "execution_count": 76,
   "id": "ac1706ce-601b-4854-af7d-5bd6c8fe1455",
   "metadata": {},
   "outputs": [
    {
     "name": "stdout",
     "output_type": "stream",
     "text": [
      "5270846 A\n",
      " 219906 T\n",
      "  26340 C\n",
      "  25439 G\n"
     ]
    }
   ],
   "source": [
    "%%bash -s {DIR_PROC}\n",
    "DIR_PROC=\"$1\"\n",
    "\n",
    "PATH_OUTPUT=\"${DIR_PROC}/out_R1-all_short.fastq.gz\"\n",
    "\n",
    "unpigz -c \"$PATH_OUTPUT\" |\n",
    "    awk -v pattern='LX:Z:DPMBot[^:]+:0,0-' \\\n",
    "        'BEGIN{RS=\"@\"; FS=\"\\n\"} $1 ~ pattern {print substr($2, 10, 1)}' |\n",
    "    sort | uniq -c |\n",
    "    sort -n -r"
   ]
  },
  {
   "cell_type": "markdown",
   "id": "ec95cf4e-77fc-4d62-a76a-5e59477562ac",
   "metadata": {},
   "source": [
    "### Chromatin Reads"
   ]
  },
  {
   "cell_type": "markdown",
   "id": "959e6670-2c15-4266-a509-181770471b08",
   "metadata": {},
   "source": [
    "#### Insert length < R1 length: DPMBot + insert + DPMTop\n",
    "Reads with DPMBot + insert (>= 11 bp) + DPMTop"
   ]
  },
  {
   "cell_type": "code",
   "execution_count": 80,
   "id": "b3b453b3-1ddd-47a0-a614-a672fc6548dd",
   "metadata": {},
   "outputs": [
    {
     "data": {
      "text/plain": [
       "4742"
      ]
     },
     "execution_count": 80,
     "metadata": {},
     "output_type": "execute_result"
    }
   ],
   "source": [
    "df_R1_tagged.loc[df_R1_tagged['pattern_loc_group_R1'].str.extract('^DPMBot6:0-\\d+,DPMTop6:(\\d+)', expand=False).astype(float) >= 20, 'count'].sum()"
   ]
  },
  {
   "cell_type": "markdown",
   "id": "cce9db84-2457-4235-bdd5-fd4c12a936f4",
   "metadata": {},
   "source": [
    "Trimming: Remove 5' DPMBot and 3' DPMTop (`DPM_bot + DNA + A + DPM + ...` --> `DNA`)"
   ]
  },
  {
   "cell_type": "code",
   "execution_count": 82,
   "id": "41a0577b-ffa2-403b-9a48-8766799da3b0",
   "metadata": {},
   "outputs": [
    {
     "name": "stderr",
     "output_type": "stream",
     "text": [
      "* Using a list of 192 tags (vector size: 288; map size: 2,061,476; num elements in map: 2,129,871)\n",
      "* will process sample 1: -\n",
      "* processing the reads ...\n",
      "done \n",
      "* processed 4,742 reads, 4,742 reads were assigned\n"
     ]
    }
   ],
   "source": [
    "%%bash -s {DIR_PROC} {DIR_AUX}\n",
    "DIR_PROC=\"$1\"\n",
    "DIR_AUX=\"$2\"\n",
    "\n",
    "CONFIG_NAME=\"R1_3prime_DPM_trim\"\n",
    "\n",
    "PATH_CONFIG=\"${DIR_AUX}/splitcode_config-${CONFIG_NAME}.tsv\"\n",
    "PATH_MAPPING=\"${DIR_AUX}/mapping-${CONFIG_NAME}.tsv\"\n",
    "PATH_SUMMARY=\"${DIR_AUX}/summary-${CONFIG_NAME}.json\"\n",
    "PATH_OUTPUT=\"${DIR_PROC}/out_R1-all_short.fastq.gz\"\n",
    "PATH_OUTPUT_TRIMMED=\"${DIR_PROC}/out_${CONFIG_NAME}.fastq.gz\"\n",
    "\n",
    "unpigz -c \"$PATH_OUTPUT\" |\n",
    "    awk -v pattern='LX:Z:DPMBot[^:]+:0,0-[0-9]+,DPMTop[^:]+:0,([0-9]+)' \\\n",
    "        'BEGIN{RS=\"@\"; FS=\"\\n\"} $1 ~ pattern { match($1, pattern, arr); if (arr[1] >= 20) {printf \"@%s\\n%s\\n+\\n%s\\n\", $1, $2, $4}}' |\n",
    "    splitcode -c \"$PATH_CONFIG\" \\\n",
    "        --assign --no-outb --empty-remove --mod-names --gzip --compress 6 -t 4 \\\n",
    "        --output \"$PATH_OUTPUT_TRIMMED\" --mapping=\"$PATH_MAPPING\" --summary=\"$PATH_SUMMARY\" \\\n",
    "        -"
   ]
  },
  {
   "cell_type": "markdown",
   "id": "27fb3436-84b9-4512-bd90-48c1f10ae397",
   "metadata": {},
   "source": [
    "Mapping with Bowtie2"
   ]
  },
  {
   "cell_type": "code",
   "execution_count": 184,
   "id": "394a0ddb-805e-4647-872c-da1597c7a553",
   "metadata": {},
   "outputs": [
    {
     "name": "stderr",
     "output_type": "stream",
     "text": [
      "Time loading reference: 00:00:01\n",
      "Time loading forward index: 00:00:01\n",
      "Time loading mirror index: 00:00:00\n",
      "Multiseed full-index search: 00:00:01\n",
      "4742 reads; of these:\n",
      "  4742 (100.00%) were unpaired; of these:\n",
      "    1812 (38.21%) aligned 0 times\n",
      "    1724 (36.36%) aligned exactly 1 time\n",
      "    1206 (25.43%) aligned >1 times\n",
      "61.79% overall alignment rate\n",
      "Time searching: 00:00:03\n",
      "Overall time: 00:00:03\n"
     ]
    }
   ],
   "source": [
    "%%bash -s {DIR_PROC}\n",
    "DIR_PROC=\"$1\"\n",
    "\n",
    "source ~/.bashrc\n",
    "conda activate chipdip\n",
    "\n",
    "PATH_OUTPUT_TRIMMED=\"${DIR_PROC}/out_R1_3prime_DPM_trim.fastq.gz\"\n",
    "PATH_MAPPED_CHROMATIN=\"${DIR_PROC}/out_R1_3prime_DPM_trim.bam\"\n",
    "PATH_BOWTIE2_INDEX=\"/central/groups/guttman/genomes/homo_sapiens/hg38/GRCh38_noalt_as/GRCh38_noalt_as\"\n",
    "\n",
    "bowtie2 -p 10 -t --phred33 \\\n",
    "    -x \"$PATH_BOWTIE2_INDEX\" \\\n",
    "    -U \"$PATH_OUTPUT_TRIMMED\" |\n",
    "samtools view -h -F 4 -F 256 -b -q 10 - |\n",
    "samtools sort > \"$PATH_MAPPED_CHROMATIN\"\n",
    "samtools index \"$PATH_MAPPED_CHROMATIN\""
   ]
  },
  {
   "cell_type": "code",
   "execution_count": 185,
   "id": "6a9319ba-7756-4586-b257-093ff99e81d1",
   "metadata": {},
   "outputs": [
    {
     "name": "stdout",
     "output_type": "stream",
     "text": [
      "Mapped reads: 2085\n",
      "Mapped reads (primary alignment)s overlapping known HEK H3K4me3 peaks: 50\n"
     ]
    }
   ],
   "source": [
    "%%bash -s {DIR_PROC} {path_ENCODE_HEK_H3K4me3}\n",
    "DIR_PROC=\"$1\"\n",
    "path_ENCODE_HEK_H3K4me3=\"$2\"\n",
    "\n",
    "source ~/.bashrc\n",
    "conda activate chipdip\n",
    "\n",
    "PATH_MAPPED_CHROMATIN=\"${DIR_PROC}/out_R1_3prime_DPM_trim.bam\"\n",
    "\n",
    "echo \"Mapped reads:\" $(samtools view -c \"$PATH_MAPPED_CHROMATIN\")\n",
    "# samtools -L <FILE>: Only output alignments overlapping the input BED FILE.\n",
    "echo \"Mapped reads (primary alignment)s overlapping known HEK H3K4me3 peaks:\" \\\n",
    "    \"$(samtools view -c -L \"$path_ENCODE_HEK_H3K4me3\" \"$PATH_MAPPED_CHROMATIN\")\""
   ]
  },
  {
   "cell_type": "markdown",
   "id": "9a24fbab-508b-4265-8bb8-3b4e015d9af2",
   "metadata": {},
   "source": [
    "#### Insert length > R1 length\n",
    "Reads with no technical sequences in R1 other than DPMBot\n",
    "- Unclear if detected Illumina adapters are actually adapters (versus false positives), because we would expect to see `DPMTop`, etc., before we get all the way to the Illumina adapter."
   ]
  },
  {
   "cell_type": "code",
   "execution_count": 85,
   "id": "d93e0819-b661-4903-8b6e-d35ae2f2b65a",
   "metadata": {},
   "outputs": [
    {
     "name": "stderr",
     "output_type": "stream",
     "text": [
      "/tmp/ipykernel_113798/1231155170.py:1: UserWarning: This pattern is interpreted as a regular expression, and has match groups. To actually get the groups, use str.extract.\n",
      "  df_R1_tagged.loc[df_R1_tagged['pattern_loc_group_R1'].str.contains('^DPMBot6:0-\\d+(,adapter:\\d+-\\d+)?$')] \\\n"
     ]
    },
    {
     "data": {
      "text/plain": [
       "pattern_order_group_R1\n",
       "DPMBot6            103532\n",
       "DPMBot6,adapter     76745\n",
       "Name: count, dtype: int64"
      ]
     },
     "execution_count": 85,
     "metadata": {},
     "output_type": "execute_result"
    }
   ],
   "source": [
    "df_R1_tagged.loc[df_R1_tagged['pattern_loc_group_R1'].str.contains('^DPMBot6:0-\\d+(,adapter:\\d+-\\d+)?$')] \\\n",
    "    .groupby('pattern_order_group_R1')['count'].sum()"
   ]
  },
  {
   "cell_type": "markdown",
   "id": "e603382a-f0fb-4345-ae2a-6f2d39dafc88",
   "metadata": {},
   "source": [
    "Trimming: Remove 5' DPMBot (do not trim any putative 3' Illumina adapter)"
   ]
  },
  {
   "cell_type": "code",
   "execution_count": 89,
   "id": "1096019f-4e97-41fe-9716-aee3916f3856",
   "metadata": {},
   "outputs": [
    {
     "name": "stderr",
     "output_type": "stream",
     "text": [
      "* Using a list of 96 tags (vector size: 96; map size: 3,552; num elements in map: 3,552)\n",
      "* will process sample 1: -\n",
      "* processing the reads ...\n",
      "done \n",
      "* processed 180,277 reads, 180,277 reads were assigned\n"
     ]
    }
   ],
   "source": [
    "%%bash -s {DIR_PROC} {DIR_AUX}\n",
    "DIR_PROC=\"$1\"\n",
    "DIR_AUX=\"$2\"\n",
    "\n",
    "source ~/.bashrc\n",
    "conda activate chipdip\n",
    "\n",
    "CONFIG_NAME=\"R1_DPM_trim\"\n",
    "\n",
    "PATH_CONFIG=\"${DIR_AUX}/splitcode_config-${CONFIG_NAME}.tsv\"\n",
    "PATH_MAPPING=\"${DIR_AUX}/mapping-${CONFIG_NAME}.tsv\"\n",
    "PATH_SUMMARY=\"${DIR_AUX}/summary-${CONFIG_NAME}.json\"\n",
    "PATH_OUTPUT=\"${DIR_PROC}/out_R1-all_short.fastq.gz\"\n",
    "PATH_OUTPUT_TRIMMED=\"${DIR_PROC}/out_${CONFIG_NAME}.fastq.gz\"\n",
    "\n",
    "unpigz -c \"$PATH_OUTPUT\" |\n",
    "    sed -E -e 's/,[^,:]+:1\\S+//' | \n",
    "    awk -v pattern='LX:Z:DPMBot[^:]+:0,0-[0-9]+(,adapter:[^:]+)?$' \\\n",
    "        'BEGIN{RS=\"@\"; FS=\"\\n\"} $1 ~ pattern {printf \"@%s\\n%s\\n+\\n%s\\n\", $1, $2, $4}' |\n",
    "    splitcode -c \"$PATH_CONFIG\" \\\n",
    "        --assign --no-outb --empty-remove --mod-names --gzip --compress 6 -t 4 \\\n",
    "        --output \"$PATH_OUTPUT_TRIMMED\" --mapping=\"$PATH_MAPPING\" --summary=\"$PATH_SUMMARY\" \\\n",
    "        -"
   ]
  },
  {
   "cell_type": "markdown",
   "id": "6ef7fce6-e9e4-4dd1-b127-476599b6bc73",
   "metadata": {},
   "source": [
    "Mapping with Bowtie2"
   ]
  },
  {
   "cell_type": "code",
   "execution_count": 186,
   "id": "1c674b27-cc8b-4093-9674-209f049ee05a",
   "metadata": {},
   "outputs": [
    {
     "name": "stderr",
     "output_type": "stream",
     "text": [
      "Time loading reference: 00:00:00\n",
      "Time loading forward index: 00:00:01\n",
      "Time loading mirror index: 00:00:01\n",
      "Multiseed full-index search: 00:00:03\n",
      "180277 reads; of these:\n",
      "  180277 (100.00%) were unpaired; of these:\n",
      "    86875 (48.19%) aligned 0 times\n",
      "    74662 (41.42%) aligned exactly 1 time\n",
      "    18740 (10.40%) aligned >1 times\n",
      "51.81% overall alignment rate\n",
      "Time searching: 00:00:05\n",
      "Overall time: 00:00:05\n"
     ]
    }
   ],
   "source": [
    "%%bash -s {DIR_PROC}\n",
    "DIR_PROC=\"$1\"\n",
    "\n",
    "source ~/.bashrc\n",
    "conda activate chipdip\n",
    "\n",
    "PATH_OUTPUT_TRIMMED=\"${DIR_PROC}/out_R1_DPM_trim.fastq.gz\"\n",
    "PATH_MAPPED_CHROMATIN=\"${DIR_PROC}/out_R1_DPM_trim.bam\"\n",
    "PATH_BOWTIE2_INDEX=\"/central/groups/guttman/genomes/homo_sapiens/hg38/GRCh38_noalt_as/GRCh38_noalt_as\"\n",
    "\n",
    "bowtie2 -p 10 -t --phred33 \\\n",
    "    -x \"$PATH_BOWTIE2_INDEX\" \\\n",
    "    -U \"$PATH_OUTPUT_TRIMMED\" |\n",
    "samtools view -h -F 4 -F 256 -b -q 10 - |\n",
    "samtools sort > \"$PATH_MAPPED_CHROMATIN\"\n",
    "samtools index \"$PATH_MAPPED_CHROMATIN\""
   ]
  },
  {
   "cell_type": "code",
   "execution_count": 187,
   "id": "42f3f6f0-4d11-4bb3-821b-54aedaff8055",
   "metadata": {},
   "outputs": [
    {
     "name": "stdout",
     "output_type": "stream",
     "text": [
      "Mapped reads: 81840\n",
      "Mapped reads (primary alignment)s overlapping known HEK H3K4me3 peaks: 4282\n"
     ]
    }
   ],
   "source": [
    "%%bash -s {DIR_PROC} {path_ENCODE_HEK_H3K4me3}\n",
    "DIR_PROC=\"$1\"\n",
    "path_ENCODE_HEK_H3K4me3=\"$2\"\n",
    "\n",
    "source ~/.bashrc\n",
    "conda activate chipdip\n",
    "\n",
    "PATH_MAPPED_CHROMATIN=\"${DIR_PROC}/out_R1_DPM_trim.bam\"\n",
    "\n",
    "echo \"Mapped reads:\" $(samtools view -c \"$PATH_MAPPED_CHROMATIN\")\n",
    "# samtools -L <FILE>: Only output alignments overlapping the input BED FILE.\n",
    "echo \"Mapped reads (primary alignment)s overlapping known HEK H3K4me3 peaks:\" \\\n",
    "    \"$(samtools view -c -L \"$path_ENCODE_HEK_H3K4me3\" \"$PATH_MAPPED_CHROMATIN\")\""
   ]
  },
  {
   "cell_type": "markdown",
   "id": "29892864-c7b7-4aa8-8a2b-96a6282ed222",
   "metadata": {},
   "source": [
    "# Barcode Statistics"
   ]
  },
  {
   "cell_type": "markdown",
   "id": "293154c4-35d0-4e07-acdd-8fb18645c45a",
   "metadata": {},
   "source": [
    "## Cell barcodes\n",
    "\n",
    "Note: No need to account for the aliquot as a round of split-pool, which only matters for the cluster barcode, but not cell barcode."
   ]
  },
  {
   "cell_type": "code",
   "execution_count": 125,
   "id": "ae02479a-9c32-4792-831a-578051eb6fa3",
   "metadata": {},
   "outputs": [],
   "source": [
    "%%bash -s {DIR_PROC} {DIR_AUX}\n",
    "DIR_PROC=\"$1\"\n",
    "DIR_AUX=\"$2\"\n",
    "\n",
    "CONFIG_NAME=\"oligo_cell_barcode_short\"\n",
    "\n",
    "PATH_R1=\"${DIR_PROC}/R1.fastq.gz\"\n",
    "PATH_R2=\"${DIR_PROC}/R2.fastq.gz\"\n",
    "PATH_CONFIG=\"${DIR_AUX}/splitcode_config-${CONFIG_NAME}.tsv\"\n",
    "PATH_MAPPING=\"${DIR_AUX}/mapping-${CONFIG_NAME}.tsv\"\n",
    "PATH_SUMMARY=\"${DIR_AUX}/summary-${CONFIG_NAME}.json\"\n",
    "PATH_OUTPUT=\"${DIR_PROC}/read_names-${CONFIG_NAME}.txt\"\n",
    "\n",
    "splitcode -c \"$PATH_CONFIG\" \\\n",
    "    --nFastqs=2 --assign --mod-names --x-names --no-x-out --no-outb --out-fasta -t 4 \\\n",
    "    --mapping=\"$PATH_MAPPING\" --summary=\"$PATH_SUMMARY\" \\\n",
    "    --select=0 --pipe \"$PATH_R1\" \"$PATH_R2\" |\n",
    "    awk '$1 ~ /^>/' > \"$PATH_OUTPUT\""
   ]
  },
  {
   "cell_type": "code",
   "execution_count": 28,
   "id": "d2b8edeb-74d3-47dd-bc24-d8168e7ce5e2",
   "metadata": {},
   "outputs": [],
   "source": [
    "regex_oligo_cell_barcode = re.compile((\n",
    "    r'\\[OligoRC_(?P<R1_oligo>bc\\d)\\]'\n",
    "    r'\\[R1Top_(?P<R1_R1>\\d+)\\]'\n",
    "    r'\\[R2Top_(?P<R1_R2>\\d+)\\]'\n",
    "    r'\\[R3Top_(?P<R1_R3>\\d+)\\]'\n",
    "    r'(?P<barcode>'\n",
    "    r'\\[NYStgBot_(?P<R2_Y>\\d+)\\]'\n",
    "    r'\\[R3Bot_(?P<R2_R3>\\d+)\\]'\n",
    "    r'\\[R2Bot_(?P<R2_R2>\\d+)\\]'\n",
    "    r'\\[R1Bot_(?P<R2_R1>\\d+)\\])'\n",
    "    r'\\[Oligo_(?P<R2_oligo>bc\\d)\\]'))\n",
    "regex_umi = re.compile(r'RX:Z:([ATCG]+)')"
   ]
  },
  {
   "cell_type": "code",
   "execution_count": 29,
   "id": "9931bb31-8de9-4dfb-8b4d-9d3d8c1cd47c",
   "metadata": {
    "scrolled": true
   },
   "outputs": [
    {
     "name": "stdout",
     "output_type": "stream",
     "text": [
      "Different R1 and R2 tags: [OligoRC_bc3][R1Top_17][R2Top_4][R3Top_16][NYStgBot_16][R3Bot_16][R2Bot_23][R1Bot_17][Oligo_bc3]\n",
      "Different R1 and R2 tags: [OligoRC_bc3][R1Top_17][R2Top_4][R3Top_16][NYStgBot_16][R3Bot_16][R2Bot_23][R1Bot_17][Oligo_bc3]\n",
      "Different R1 and R2 tags: [OligoRC_bc4][R1Top_7][R2Top_14][R3Top_14][NYStgBot_48][R3Bot_23][R2Bot_14][R1Bot_7][Oligo_bc4]\n",
      "Different R1 and R2 tags: [OligoRC_bc4][R1Top_7][R2Top_14][R3Top_14][NYStgBot_48][R3Bot_23][R2Bot_14][R1Bot_7][Oligo_bc4]\n",
      "Different R1 and R2 tags: [OligoRC_bc4][R1Top_7][R2Top_14][R3Top_14][NYStgBot_48][R3Bot_23][R2Bot_14][R1Bot_7][Oligo_bc4]\n"
     ]
    }
   ],
   "source": [
    "cells = dict()\n",
    "path_cell_barcodes = os.path.join(DIR_PROC, 'read_names-oligo_cell_barcode_short.txt')\n",
    "with open(path_cell_barcodes) as f:\n",
    "    for name in f:\n",
    "        name = name.strip()\n",
    "        match = regex_oligo_cell_barcode.search(name)\n",
    "        if match:\n",
    "            tags = match.groupdict()\n",
    "            if (tags['R1_oligo'] != tags['R2_oligo']) or \\\n",
    "               (tags['R1_R1'] != tags['R2_R1']) or \\\n",
    "               (tags['R1_R2'] != tags['R2_R2']) or \\\n",
    "               (tags['R1_R3'] != tags['R2_R3']):\n",
    "                print('Different R1 and R2 tags:', match.group())\n",
    "            else:\n",
    "                barcode = tags['barcode']\n",
    "                umi = regex_umi.search(name).group(1)\n",
    "                if barcode not in cells:\n",
    "                    cells[barcode] = collections.defaultdict(int)\n",
    "                cells[barcode][umi] += 1\n",
    "        else:\n",
    "            print(f'No match for {name}')"
   ]
  },
  {
   "cell_type": "code",
   "execution_count": 9,
   "id": "81a0acb6-903d-4f9e-b180-1fea9ceb5f1e",
   "metadata": {},
   "outputs": [],
   "source": [
    "dist_oligos = pd.Series(sum(d.values()) for d in cells.values())\n",
    "dist_unique_oligos = pd.Series(map(len, cells.values()))"
   ]
  },
  {
   "cell_type": "code",
   "execution_count": 10,
   "id": "4f688567-b958-476b-94ce-9b3409855221",
   "metadata": {},
   "outputs": [
    {
     "name": "stdout",
     "output_type": "stream",
     "text": [
      "Number of cell barcodes: 78049\n",
      "Frequency of most common cell barcodes: [2752 1439  845  530  500  499  473  429  406  398]\n",
      "Frequency of most common cell barcodes (dedup): [1042  524  324  264  214  195  183  180  176  159]\n"
     ]
    }
   ],
   "source": [
    "print('Number of cell barcodes:', len(cells))\n",
    "print('Frequency of most common cell barcodes:', dist_oligos.sort_values(ascending=False).values[:10])\n",
    "print('Frequency of most common cell barcodes (dedup):', dist_unique_oligos.sort_values(ascending=False).values[:10])"
   ]
  },
  {
   "cell_type": "markdown",
   "id": "c4cb9e12-d5e9-464b-a10d-38565ec2570c",
   "metadata": {},
   "source": [
    "Interpretation\n",
    "- The most common cell barcode (R1-R3 + Y) had 2752 reads, of which 1042 corresponded to unique UMIs (oligo ID + UMI).\n",
    "  - The minimum number of cell barcode oligos associated with that cell was 1042. It cannot be determined whether the remaining reads are PCR duplicates or due a limiting number of UMIs (where different physical oligo molecules with the same UMI label the same cell)."
   ]
  },
  {
   "cell_type": "markdown",
   "id": "63ba73f6-3398-4dce-be7f-e5fea583b747",
   "metadata": {},
   "source": [
    "### Number of oligos per cell barcode (akin to scSPRITE Figure 1C)"
   ]
  },
  {
   "cell_type": "code",
   "execution_count": 132,
   "id": "a7efde2f-50d0-4b8c-b81f-099cea353fc3",
   "metadata": {},
   "outputs": [
    {
     "data": {
      "image/png": "[encoded data removed]",
      "text/plain": [
       "<Figure size 800x300 with 2 Axes>"
      ]
     },
     "metadata": {},
     "output_type": "display_data"
    }
   ],
   "source": [
    "fig, axs = plt.subplots(1, 2, figsize=(8, 3), constrained_layout=True, sharex=True)\n",
    "sns.lineplot(\n",
    "    dist_unique_oligos.sort_values(ascending=False).reset_index(drop=True) \\\n",
    "        .rename('unique oligos per cell').rename_axis('Cell barcode ID').reset_index(),\n",
    "    x='Cell barcode ID',\n",
    "    y='unique oligos per cell',\n",
    "    ax=axs[0])\n",
    "sns.lineplot(\n",
    "    dist_oligos.sort_values(ascending=False).reset_index(drop=True) \\\n",
    "        .rename('oligos per cell').rename_axis('Cell barcode ID').reset_index(),\n",
    "    x='Cell barcode ID',\n",
    "    y='oligos per cell',\n",
    "    ax=axs[1])\n",
    "for ax in axs:\n",
    "    ax.set_yscale('log')\n",
    "    ax.axvline(x=1500, c='C1', label='1500 cell barcodes')\n",
    "    ax.legend()\n",
    "fig.show()"
   ]
  },
  {
   "cell_type": "markdown",
   "id": "7f0cffc9-88b9-46df-8957-61a09e9b0d11",
   "metadata": {},
   "source": [
    "### Distribution of oligos per cell"
   ]
  },
  {
   "cell_type": "code",
   "execution_count": 179,
   "id": "a87748ff-bc8c-4525-a05e-f3a6732d2c40",
   "metadata": {},
   "outputs": [
    {
     "data": {
      "image/png": "[encoded data removed]",
      "text/plain": [
       "<Figure size 800x400 with 2 Axes>"
      ]
     },
     "metadata": {},
     "output_type": "display_data"
    }
   ],
   "source": [
    "fig, axs = plt.subplots(1, 2, figsize=(8, 4), constrained_layout=True, sharey=True)\n",
    "axs[0].hist(dist_unique_oligos.values, bins=100, cumulative=-1, log=True)\n",
    "axs[0].axhline(y=1500, c='C1', label='1500 cell barcodes')\n",
    "axs[0].legend()\n",
    "axs[0].set(xlabel='# unique oligos per cell', ylabel='number of cells\\n(reverse cumulative)')\n",
    "axs[1].hist(dist_oligos.values, bins=100, cumulative=-1, log=True)\n",
    "axs[1].axhline(y=1500, c='C1', label='1500 cell barcodes')\n",
    "axs[1].legend()\n",
    "axs[1].set(xlabel='# oligos per cell', ylabel='number of cells\\n(reverse cumulative)')\n",
    "fig.suptitle('Oligos per cell')\n",
    "fig.show()"
   ]
  },
  {
   "cell_type": "code",
   "execution_count": 178,
   "id": "996392eb-297d-4668-9faf-5c60c75813a3",
   "metadata": {},
   "outputs": [
    {
     "data": {
      "image/png": "[encoded data removed]",
      "text/plain": [
       "<Figure size 800x400 with 2 Axes>"
      ]
     },
     "metadata": {},
     "output_type": "display_data"
    }
   ],
   "source": [
    "fig, axs = plt.subplots(1, 2, figsize=(8, 4), constrained_layout=True, sharey=True)\n",
    "axs[0].hist(dist_unique_oligos.values, bins=list(range(15)), cumulative=-1, log=True)\n",
    "axs[0].axhline(y=1500, c='C1', label='1500 cell barcodes')\n",
    "axs[0].legend()\n",
    "axs[0].set(xlabel='# unique oligos per cell', ylabel='number of cells\\n(reverse cumulative)')\n",
    "axs[1].hist(dist_oligos.values, bins=list(range(15)), cumulative=-1, log=True)\n",
    "axs[1].axhline(y=1500, c='C1', label='1500 cell barcodes')\n",
    "axs[1].legend()\n",
    "axs[1].set(xlabel='# oligos per cell', ylabel='number of cells\\n(reverse cumulative)')\n",
    "fig.suptitle('Oligos per cell (zoom-in)')\n",
    "fig.show()"
   ]
  },
  {
   "cell_type": "markdown",
   "id": "60501bd9-20ee-489c-8217-6002c89c2e3e",
   "metadata": {},
   "source": [
    "### Recluster allowing for 1 tag substitution"
   ]
  },
  {
   "cell_type": "code",
   "execution_count": 122,
   "id": "4da97290-6bf6-43d0-9a05-5f5ca0660097",
   "metadata": {},
   "outputs": [],
   "source": [
    "df_umi_counts = []\n",
    "for barcode, cell in cells.items():\n",
    "    for umi, count in cell.items():\n",
    "        df_umi_counts.append([barcode, umi, count])\n",
    "df_umi_counts = pd.DataFrame(df_umi_counts, columns=['barcode', 'umi', 'count'])"
   ]
  },
  {
   "cell_type": "code",
   "execution_count": 123,
   "id": "444e09ef-5bae-4768-9eda-5234b95e7f26",
   "metadata": {},
   "outputs": [],
   "source": [
    "df_umi_counts['Y'] = df_umi_counts['barcode'].str.extract('\\[NYStgBot_(\\d+)\\]', expand=False).astype(int)\n",
    "df_umi_counts['R1'] = df_umi_counts['barcode'].str.extract('\\[R1Bot_(\\d+)\\]', expand=False).astype(int)\n",
    "df_umi_counts['R2'] = df_umi_counts['barcode'].str.extract('\\[R2Bot_(\\d+)\\]', expand=False).astype(int)\n",
    "df_umi_counts['R3'] = df_umi_counts['barcode'].str.extract('\\[R3Bot_(\\d+)\\]', expand=False).astype(int)\n",
    "df_oligo_counts_unique = df_umi_counts \\\n",
    "    .groupby(['barcode', 'Y', 'R1', 'R2', 'R3'])['umi'].count() \\\n",
    "    .reset_index().rename(columns={'umi': 'count'}) \\\n",
    "    .sort_values('count', ascending=False)\n",
    "df_oligo_counts = df_umi_counts \\\n",
    "    .groupby(['barcode', 'Y', 'R1', 'R2', 'R3'])['count'].sum() \\\n",
    "    .reset_index().sort_values('count', ascending=False)"
   ]
  },
  {
   "cell_type": "code",
   "execution_count": 124,
   "id": "4b518c62-1ff7-465f-8d64-2165a7f5c16f",
   "metadata": {},
   "outputs": [],
   "source": [
    "tmp = df_oligo_counts.set_index('barcode').sort_values('count', ascending=False)\n",
    "df_oligo_counts_clustered = []\n",
    "while len(tmp) > 0:\n",
    "    current_barcode = tmp.iloc[0].copy()\n",
    "    mask_R1 = tmp['R1'] == current_barcode['R1']\n",
    "    mask_R2 = tmp['R2'] == current_barcode['R2']\n",
    "    mask_R3 = tmp['R3'] == current_barcode['R3']\n",
    "    mask_Y = tmp['Y'] == current_barcode['Y']\n",
    "    mask_cluster = \\\n",
    "        (mask_R1 & mask_R2 & mask_R3) | \\\n",
    "        (mask_R1 & mask_R2 & mask_Y) | \\\n",
    "        (mask_R1 & mask_Y & mask_R3) | \\\n",
    "        (mask_Y & mask_R2 & mask_R3)\n",
    "    current_barcode['count'] = tmp.loc[mask_cluster, 'count'].sum()\n",
    "    df_oligo_counts_clustered.append(current_barcode)\n",
    "    tmp = tmp.loc[~mask_cluster]\n",
    "df_oligo_counts_clustered = pd.concat(df_oligo_counts_clustered, axis=1).T"
   ]
  },
  {
   "cell_type": "code",
   "execution_count": 125,
   "id": "cf9d22b9-cfea-458a-ac3d-acc4a5752f9f",
   "metadata": {},
   "outputs": [],
   "source": [
    "tmp = df_oligo_counts_unique.set_index('barcode').sort_values('count', ascending=False)\n",
    "df_oligo_counts_unique_clustered = []\n",
    "while len(tmp) > 0:\n",
    "    current_barcode = tmp.iloc[0].copy()\n",
    "    mask_R1 = tmp['R1'] == current_barcode['R1']\n",
    "    mask_R2 = tmp['R2'] == current_barcode['R2']\n",
    "    mask_R3 = tmp['R3'] == current_barcode['R3']\n",
    "    mask_Y = tmp['Y'] == current_barcode['Y']\n",
    "    mask_cluster = \\\n",
    "        (mask_R1 & mask_R2 & mask_R3) | \\\n",
    "        (mask_R1 & mask_R2 & mask_Y) | \\\n",
    "        (mask_R1 & mask_Y & mask_R3) | \\\n",
    "        (mask_Y & mask_R2 & mask_R3)\n",
    "    current_barcode['count'] = tmp.loc[mask_cluster, 'count'].sum()\n",
    "    df_oligo_counts_unique_clustered.append(current_barcode)\n",
    "    tmp = tmp.loc[~mask_cluster]\n",
    "df_oligo_counts_unique_clustered = pd.concat(df_oligo_counts_unique_clustered, axis=1).T"
   ]
  },
  {
   "cell_type": "markdown",
   "id": "9a21de14-583b-41ae-92a5-127cda384c8b",
   "metadata": {},
   "source": [
    "#### Number of oligos per cell barcode (akin to scSPRITE Figure 1C)"
   ]
  },
  {
   "cell_type": "code",
   "execution_count": 127,
   "id": "21d310fa-de7a-4489-bf7b-e2272bf78e9f",
   "metadata": {},
   "outputs": [
    {
     "data": {
      "image/png": "[encoded data removed]",
      "text/plain": [
       "<Figure size 800x300 with 2 Axes>"
      ]
     },
     "metadata": {},
     "output_type": "display_data"
    }
   ],
   "source": [
    "fig, axs = plt.subplots(1, 2, figsize=(8, 3), constrained_layout=True, sharex=True)\n",
    "sns.lineplot(\n",
    "    df_oligo_counts_unique_clustered['count'].sort_values(ascending=False).reset_index(drop=True) \\\n",
    "        .rename('unique oligos per cell').rename_axis('Cell barcode ID').reset_index(),\n",
    "    x='Cell barcode ID',\n",
    "    y='unique oligos per cell',\n",
    "    ax=axs[0])\n",
    "sns.lineplot(\n",
    "    df_oligo_counts_clustered['count'].sort_values(ascending=False).reset_index(drop=True) \\\n",
    "        .rename('oligos per cell').rename_axis('Cell barcode ID').reset_index(),\n",
    "    x='Cell barcode ID',\n",
    "    y='oligos per cell',\n",
    "    ax=axs[1])\n",
    "for ax in axs:\n",
    "    ax.set_yscale('log')\n",
    "    ax.axvline(x=1500, c='C1', label='1500 cell barcodes')\n",
    "    ax.legend()\n",
    "fig.show()"
   ]
  },
  {
   "cell_type": "markdown",
   "id": "f7dbae4d-dd92-48ff-a1cd-8e7d972d5e37",
   "metadata": {},
   "source": [
    "#### Distribution of oligos per cell"
   ]
  },
  {
   "cell_type": "code",
   "execution_count": 128,
   "id": "ea683d5e-7bae-434d-b55d-2b99933b8550",
   "metadata": {},
   "outputs": [
    {
     "data": {
      "image/png": "[encoded data removed]",
      "text/plain": [
       "<Figure size 800x400 with 2 Axes>"
      ]
     },
     "metadata": {},
     "output_type": "display_data"
    }
   ],
   "source": [
    "fig, axs = plt.subplots(1, 2, figsize=(8, 4), constrained_layout=True, sharey=True)\n",
    "axs[0].hist(df_oligo_counts_unique_clustered['count'].values, bins=100, cumulative=-1, log=True)\n",
    "axs[0].axhline(y=1500, c='C1', label='1500 cell barcodes')\n",
    "axs[0].legend()\n",
    "axs[0].set(xlabel='# unique oligos per cell', ylabel='number of cells\\n(reverse cumulative)')\n",
    "axs[1].hist(df_oligo_counts_clustered['count'].values, bins=100, cumulative=-1, log=True)\n",
    "axs[1].axhline(y=1500, c='C1', label='1500 cell barcodes')\n",
    "axs[1].legend()\n",
    "axs[1].set(xlabel='# oligos per cell', ylabel='number of cells\\n(reverse cumulative)')\n",
    "fig.suptitle('Oligos per cell')\n",
    "fig.show()"
   ]
  },
  {
   "cell_type": "code",
   "execution_count": 129,
   "id": "6187a6af-128f-4026-a43b-fd56d30fb840",
   "metadata": {},
   "outputs": [
    {
     "data": {
      "image/png": "[encoded data removed]",
      "text/plain": [
       "<Figure size 800x400 with 2 Axes>"
      ]
     },
     "metadata": {},
     "output_type": "display_data"
    }
   ],
   "source": [
    "fig, axs = plt.subplots(1, 2, figsize=(8, 4), constrained_layout=True, sharey=True)\n",
    "axs[0].hist(df_oligo_counts_unique_clustered['count'].values, bins=list(range(15)), cumulative=-1, log=True)\n",
    "axs[0].axhline(y=1500, c='C1', label='1500 cell barcodes')\n",
    "axs[0].legend()\n",
    "axs[0].set(xlabel='# unique oligos per cell', ylabel='number of cells\\n(reverse cumulative)')\n",
    "axs[1].hist(df_oligo_counts_clustered['count'].values, bins=list(range(15)), cumulative=-1, log=True)\n",
    "axs[1].axhline(y=1500, c='C1', label='1500 cell barcodes')\n",
    "axs[1].legend()\n",
    "axs[1].set(xlabel='# oligos per cell', ylabel='number of cells\\n(reverse cumulative)')\n",
    "fig.suptitle('Oligos per cell (zoom-in)')\n",
    "fig.show()"
   ]
  },
  {
   "cell_type": "markdown",
   "id": "10d0325c-dd41-483f-a24c-78ab6a909d50",
   "metadata": {},
   "source": [
    "## Cluster barcodes\n",
    "\n",
    "Unfortunately, because so few read pairs contain both a cell barcode and cluster barcode, this dataset cannot resolve whether there were on-bead collisions where chromatin from 2 cells clustered together."
   ]
  },
  {
   "cell_type": "markdown",
   "id": "b377389b-9a28-4a82-9394-fedb01fcf7aa",
   "metadata": {},
   "source": [
    "# Old"
   ]
  },
  {
   "cell_type": "markdown",
   "id": "57c25bbd-85b9-4bcf-81a0-68391d1b1b78",
   "metadata": {},
   "source": [
    "## Chromatin reads (old)"
   ]
  },
  {
   "cell_type": "markdown",
   "id": "29ea5681-2ccb-442b-b486-8f1e5119f60a",
   "metadata": {},
   "source": [
    "How many Read 1 reads start with DPM?\n",
    "- Trim those reads\n",
    "  - How many of those trimmed reads have any technical (tag) sequences?\n",
    "  - Try mapping those reads to DNA"
   ]
  },
  {
   "cell_type": "markdown",
   "id": "13ae6dc9-fb48-4dee-8186-b9ac3c750663",
   "metadata": {},
   "source": [
    "Most R1 reads start with DPMBot"
   ]
  },
  {
   "cell_type": "code",
   "execution_count": 23,
   "id": "b30d8289-94ae-4268-9b43-bbcdfb9549dc",
   "metadata": {},
   "outputs": [
    {
     "name": "stderr",
     "output_type": "stream",
     "text": [
      "* Using a list of 48 tags (vector size: 48; map size: 1,968; num elements in map: 1,968)\n",
      "* will process sample 1: /central/groups/guttman/btyeh/scBarcode/data/20230831_HEK_H3K4me3_scChIPseq/20230831_btyeh_HEK_H3K4me3_scChIPseq_aliquot_2_5pct_1_S23_R1_001.fastq.gz\n",
      "* processing the reads ...\n",
      "done \n",
      "* processed 124,871 reads, 82,466 reads were assigned\n"
     ]
    }
   ],
   "source": [
    "%%bash -s {DIR_DATA} {DIR_READ_STRUCTURE}\n",
    "DIR_DATA=\"$1\"\n",
    "DIR_READ_STRUCTURE=\"$2\"\n",
    "\n",
    "PATH_R1=\"${DIR_DATA}/20230831_btyeh_HEK_H3K4me3_scChIPseq_aliquot_2_5pct_1_S23_R1_001.fastq.gz\"\n",
    "PATH_CONFIG=\"${DIR_READ_STRUCTURE}/splitcode-config_R1-DPM.tsv\"\n",
    "PATH_MAPPING=\"${DIR_READ_STRUCTURE}/mapping_R1-DPM.tsv\"\n",
    "PATH_SUMMARY=\"${DIR_READ_STRUCTURE}/summary_R1-DPM.json\"\n",
    "\n",
    "splitcode -c \"$PATH_CONFIG\" \\\n",
    "    --assign --no-output --no-outb -t 4 \\\n",
    "    --mapping=\"$PATH_MAPPING\" \\\n",
    "    --summary=\"$PATH_SUMMARY\" \\\n",
    "    \"$PATH_R1\""
   ]
  },
  {
   "cell_type": "markdown",
   "id": "99acc36f-c9d6-44a6-b32a-d8699bebe7ca",
   "metadata": {},
   "source": [
    "Trim R1 reads that start with DPMBot\n",
    "- Remove the 5' DPMBot tag\n",
    "- Remove any 3' Illumina adapter"
   ]
  },
  {
   "cell_type": "code",
   "execution_count": 24,
   "id": "25b0e320-b03b-4a86-91aa-cfc2f1137859",
   "metadata": {},
   "outputs": [
    {
     "name": "stderr",
     "output_type": "stream",
     "text": [
      "* Using a list of 49 tags (vector size: 50; map size: 9,742; num elements in map: 10,126)\n",
      "* will process sample 1: /central/groups/guttman/btyeh/scBarcode/data/20230831_HEK_H3K4me3_scChIPseq/20230831_btyeh_HEK_H3K4me3_scChIPseq_aliquot_2_5pct_1_S23_R1_001.fastq.gz\n",
      "* processing the reads ...\n",
      "done \n",
      "* processed 124,871 reads, 82,212 reads were assigned\n"
     ]
    }
   ],
   "source": [
    "%%bash -s {DIR_DATA} {DIR_READ_STRUCTURE}\n",
    "DIR_DATA=\"$1\"\n",
    "DIR_READ_STRUCTURE=\"$2\"\n",
    "\n",
    "SET=\"R1-DPM-trim\"\n",
    "\n",
    "PATH_R1=\"${DIR_DATA}/20230831_btyeh_HEK_H3K4me3_scChIPseq_aliquot_2_5pct_1_S23_R1_001.fastq.gz\"\n",
    "PATH_CONFIG=\"${DIR_READ_STRUCTURE}/splitcode-config_${SET}.tsv\"\n",
    "PATH_MAPPING=\"${DIR_READ_STRUCTURE}/mapping_${SET}.tsv\"\n",
    "PATH_SUMMARY=\"${DIR_READ_STRUCTURE}/summary_${SET}.json\"\n",
    "PATH_OUTPUT=\"${DIR_READ_STRUCTURE}/out_${SET}.fastq\"\n",
    "\n",
    "splitcode -c \"$PATH_CONFIG\" \\\n",
    "    --assign --no-outb -t 4 \\\n",
    "    --output \"$PATH_OUTPUT\" --mapping=\"$PATH_MAPPING\" --summary=\"$PATH_SUMMARY\" \\\n",
    "    \"$PATH_R1\""
   ]
  },
  {
   "cell_type": "markdown",
   "id": "0be44a51-0630-462e-9020-c9ddd419ea4e",
   "metadata": {},
   "source": [
    "Further trim R1 reads that start with DPMBot (`DPM_bot + DNA + A + DPM + Odd + Even + Odd + Even + Y` --> `DNA`)\n",
    "- Remove DPMTop and anything 3' of that\n",
    "- `PATH_OUTPUT` presumably contains short DNA inserts where `DPM_bot + DNA + A + DPM` was <= R1 read length of 100 bp\n",
    "- `PATH_UNASSIGNED` presumably contains long DNA inserts where `DPM` is not in R1"
   ]
  },
  {
   "cell_type": "code",
   "execution_count": 27,
   "id": "65f916bf-9568-4de6-ad27-e592fd27833b",
   "metadata": {},
   "outputs": [
    {
     "name": "stderr",
     "output_type": "stream",
     "text": [
      "* Using a list of 49 tags (vector size: 49; map size: 2,165; num elements in map: 2,172)\n",
      "* will process sample 1: /central/groups/guttman/btyeh/scBarcode/data_aux/20230831_HEK_H3K4me3_scChIPseq/read_structure/out_R1-DPM-trim.fastq\n",
      "* processing the reads ...\n",
      "done \n",
      "* processed 82,212 reads, 99 reads were assigned\n"
     ]
    }
   ],
   "source": [
    "%%bash -s {DIR_READ_STRUCTURE}\n",
    "DIR_READ_STRUCTURE=\"$1\"\n",
    "\n",
    "CONFIG_NAME=\"R1-3prime-DPM-trim\"\n",
    "\n",
    "PATH_R1=\"${DIR_READ_STRUCTURE}/out_R1-DPM-trim.fastq\"\n",
    "PATH_CONFIG=\"${DIR_READ_STRUCTURE}/splitcode-config_${CONFIG_NAME}.tsv\"\n",
    "PATH_MAPPING=\"${DIR_READ_STRUCTURE}/mapping_${CONFIG_NAME}.tsv\"\n",
    "PATH_SUMMARY=\"${DIR_READ_STRUCTURE}/summary_${CONFIG_NAME}.json\"\n",
    "PATH_OUTPUT=\"${DIR_READ_STRUCTURE}/out_${CONFIG_NAME}.fastq\"\n",
    "PATH_UNASSIGNED=\"${DIR_READ_STRUCTURE}/unmapped_${CONFIG_NAME}.fastq\"\n",
    "\n",
    "splitcode -c \"$PATH_CONFIG\" \\\n",
    "    --assign --no-outb --empty-remove --mod-names -t 4 \\\n",
    "    --output=\"$PATH_OUTPUT\" --unassigned=\"$PATH_UNASSIGNED\" --mapping=\"$PATH_MAPPING\" --summary=\"$PATH_SUMMARY\" \\\n",
    "    \"$PATH_R1\""
   ]
  },
  {
   "cell_type": "markdown",
   "id": "12a37052-696c-4d1a-a458-9435dd87a5e2",
   "metadata": {},
   "source": [
    "How many of the presumably long DNA insert reads contain any technical (tag) sequences?"
   ]
  },
  {
   "cell_type": "code",
   "execution_count": 32,
   "id": "f5c15ac2-6143-4d4d-9a04-4e3361d2b4dd",
   "metadata": {},
   "outputs": [
    {
     "name": "stderr",
     "output_type": "stream",
     "text": [
      "* Using a list of 1008 tags (vector size: 1008; map size: 465,601; num elements in map: 465,693)\n",
      "* will process sample 1: /central/groups/guttman/btyeh/scBarcode/data_aux/20230831_HEK_H3K4me3_scChIPseq/read_structure/unmapped_R1-3prime-DPM-trim.fastq\n",
      "* processing the reads ...\n",
      "done \n",
      "* processed 82,104 reads, 79,585 reads were assigned\n"
     ]
    }
   ],
   "source": [
    "%%bash -s {DIR_READ_STRUCTURE}\n",
    "DIR_READ_STRUCTURE=\"$1\"\n",
    "\n",
    "PATH_R1=\"${DIR_READ_STRUCTURE}/unmapped_R1-3prime-DPM-trim.fastq\"\n",
    "PATH_CONFIG=\"${DIR_READ_STRUCTURE}/splitcode-config_all-short.tsv\"\n",
    "PATH_MAPPING=\"${DIR_READ_STRUCTURE}/mapping_R1-3prime-DPM-trim_tags.tsv\"\n",
    "PATH_SUMMARY=\"${DIR_READ_STRUCTURE}/summary_R1-3prime-DPM-trim_tags.json\"\n",
    "PATH_OUTPUT=\"${DIR_READ_STRUCTURE}/out_R1-3prime-DPM-trim_tags.fastq\"\n",
    "\n",
    "splitcode -c \"$PATH_CONFIG\" \\\n",
    "    --assign --no-outb -t 4 --loc-names \\\n",
    "    --output=\"$PATH_OUTPUT\" --mapping=\"$PATH_MAPPING\" --summary=\"$PATH_SUMMARY\" \\\n",
    "    \"$PATH_R1\""
   ]
  },
  {
   "cell_type": "code",
   "execution_count": 35,
   "id": "21e9bf0b-42bf-4106-beca-9bb6b0edf4e4",
   "metadata": {},
   "outputs": [
    {
     "name": "stdout",
     "output_type": "stream",
     "text": [
      "@VH00472:215:AAF3KCVM5:1:1101:52372:1057 LX:Z:DPMTop6_75:0,0-20,NYStgBot_31:0,21-30,EvenTop_31:0,49-73\n",
      "ATAAATCGGAGATCGGAAGACATGACAAGTCAAACGTCTTCTACTAGGCAGTTGTCAGATCCACACAGCAACACAAGTCAAACGTCTTCTA\n",
      "+\n",
      "CCCCCC;CCCCCCCCCCCCCCCCCCCCCC;CCCCCCCCCCCCCCCCCCCCCCCC-CCC;CCCCCCCCCCCCCCCCCCCCCC;CCCCCCCCC\n"
     ]
    }
   ],
   "source": [
    "%%bash -s {DIR_READ_STRUCTURE}\n",
    "DIR_READ_STRUCTURE=\"$1\"\n",
    "\n",
    "PATH_R1=\"${DIR_READ_STRUCTURE}/test.fastq\"\n",
    "PATH_CONFIG=\"${DIR_READ_STRUCTURE}/splitcode-config_all-short.tsv\"\n",
    "\n",
    "splitcode -c \"$PATH_CONFIG\" \\\n",
    "    --assign --no-outb -t 4 --loc-names --mapping /dev/null \\\n",
    "    --pipe \"$PATH_R1\""
   ]
  },
  {
   "cell_type": "markdown",
   "id": "caf57f6f-470e-43a7-932a-a570add37bb3",
   "metadata": {},
   "source": [
    "Try mapping those reads to DNA"
   ]
  },
  {
   "cell_type": "code",
   "execution_count": 28,
   "id": "decfea7d-3135-49a5-8e43-12d40fdcede2",
   "metadata": {},
   "outputs": [
    {
     "name": "stderr",
     "output_type": "stream",
     "text": [
      "Time loading reference: 00:00:00\n",
      "Time loading forward index: 00:00:01\n",
      "Time loading mirror index: 00:00:01\n",
      "Warning: skipping read 'VH00472:215:AAF3KCVM5:1:1204:70361:35058' because length (1) <= # seed mismatches (0)\n",
      "Warning: skipping read 'VH00472:215:AAF3KCVM5:1:1204:70361:35058' because it was < 2 characters long\n",
      "Warning: skipping read 'VH00472:215:AAF3KCVM5:1:2201:23136:48424' because length (1) <= # seed mismatches (0)\n",
      "Warning: skipping read 'VH00472:215:AAF3KCVM5:1:2201:23136:48424' because it was < 2 characters long\n",
      "Warning: skipping read 'VH00472:215:AAF3KCVM5:1:2204:39382:33392' because length (1) <= # seed mismatches (0)\n",
      "Warning: skipping read 'VH00472:215:AAF3KCVM5:1:2204:39382:33392' because it was < 2 characters long\n",
      "Multiseed full-index search: 00:00:01\n",
      "82104 reads; of these:\n",
      "  82104 (100.00%) were unpaired; of these:\n",
      "    79172 (96.43%) aligned 0 times\n",
      "    1401 (1.71%) aligned exactly 1 time\n",
      "    1531 (1.86%) aligned >1 times\n",
      "3.57% overall alignment rate\n",
      "Time searching: 00:00:03\n",
      "Overall time: 00:00:03\n"
     ]
    }
   ],
   "source": [
    "%%bash -s {DIR_READ_STRUCTURE}\n",
    "DIR_READ_STRUCTURE=\"$1\"\n",
    "\n",
    "source ~/.bashrc\n",
    "conda activate chipdip\n",
    "\n",
    "PATH_R1=\"${DIR_READ_STRUCTURE}/unmapped_R1-3prime-DPM-trim.fastq\"\n",
    "PATH_BOWTIE2_INDEX=\"/central/groups/guttman/genomes/homo_sapiens/hg38/GRCh38_noalt_as/GRCh38_noalt_as\"\n",
    "PATH_OUT=\"${DIR_READ_STRUCTURE}/R1.sam\"\n",
    "\n",
    "bowtie2 \\\n",
    "    -p 10 \\\n",
    "    -t \\\n",
    "    --phred33 \\\n",
    "    -S \"$PATH_OUT\" \\\n",
    "    -x \"$PATH_BOWTIE2_INDEX\" \\\n",
    "    -U \"$PATH_R1\""
   ]
  },
  {
   "cell_type": "code",
   "execution_count": 29,
   "id": "ed7e6825-7abf-4276-ba74-ff0450185063",
   "metadata": {},
   "outputs": [
    {
     "name": "stderr",
     "output_type": "stream",
     "text": [
      "Time loading reference: 00:00:00\n",
      "Time loading forward index: 00:00:01\n",
      "Time loading mirror index: 00:00:01\n",
      "Multiseed full-index search: 00:00:00\n",
      "81 reads; of these:\n",
      "  81 (100.00%) were unpaired; of these:\n",
      "    35 (43.21%) aligned 0 times\n",
      "    22 (27.16%) aligned exactly 1 time\n",
      "    24 (29.63%) aligned >1 times\n",
      "56.79% overall alignment rate\n",
      "Time searching: 00:00:02\n",
      "Overall time: 00:00:02\n"
     ]
    }
   ],
   "source": [
    "%%bash -s {DIR_READ_STRUCTURE}\n",
    "DIR_READ_STRUCTURE=\"$1\"\n",
    "\n",
    "source ~/.bashrc\n",
    "conda activate chipdip\n",
    "\n",
    "PATH_R1=\"${DIR_READ_STRUCTURE}/out_R1-3prime-DPM-trim.fastq\"\n",
    "PATH_BOWTIE2_INDEX=\"/central/groups/guttman/genomes/homo_sapiens/hg38/GRCh38_noalt_as/GRCh38_noalt_as\"\n",
    "PATH_OUT=\"${DIR_READ_STRUCTURE}/R1_short_insert.sam\"\n",
    "\n",
    "bowtie2 \\\n",
    "    -p 10 \\\n",
    "    -t \\\n",
    "    --phred33 \\\n",
    "    -S \"$PATH_OUT\" \\\n",
    "    -x \"$PATH_BOWTIE2_INDEX\" \\\n",
    "    -U \"$PATH_R1\""
   ]
  },
  {
   "cell_type": "code",
   "execution_count": null,
   "id": "8509096f-813e-4152-91d9-154255518d3a",
   "metadata": {},
   "outputs": [],
   "source": []
  },
  {
   "cell_type": "code",
   "execution_count": null,
   "id": "c19bfabc-bd8b-453a-b980-692b54079572",
   "metadata": {},
   "outputs": [],
   "source": [
    "# %%bash -s {DIR_DATA} {DIR_READ_STRUCTURE}\n",
    "# DIR_DATA=\"$1\"\n",
    "# DIR_READ_STRUCTURE=\"$2\"\n",
    "\n",
    "# PATH_R1=\"${DIR_DATA}/20230831_btyeh_HEK_H3K4me3_scChIPseq_aliquot_2_5pct_1_S23_R1_001.fastq.gz\"\n",
    "# PATH_CONFIG=\"${DIR_READ_STRUCTURE}/splitcode_config-all_short_collapsed.tsv\"\n",
    "# PATH_MAPPING=\"${DIR_READ_STRUCTURE}/mapping_R1-all_short_collapsed.tsv\"\n",
    "# PATH_SUMMARY=\"${DIR_READ_STRUCTURE}/summary_R1-all_short_collapsed.json\"\n",
    "# PATH_OUTPUT=\"${DIR_READ_STRUCTURE}/out_R1-all_short_collapsed.fastq\"\n",
    "\n",
    "# splitcode -c \"$PATH_CONFIG\" \\\n",
    "#     --assign --no-outb --loc-names -t 4 \\\n",
    "#     --output=\"$PATH_OUTPUT\" --mapping=\"$PATH_MAPPING\" --summary=\"$PATH_SUMMARY\" \\\n",
    "#     \"$PATH_R1\""
   ]
  },
  {
   "cell_type": "code",
   "execution_count": 227,
   "id": "9fa59233-2c9a-4d40-96db-71a4d15402fb",
   "metadata": {},
   "outputs": [],
   "source": [
    "%%bash -s {DIR_READ_STRUCTURE}\n",
    "DIR_READ_STRUCTURE=\"$1\"\n",
    "PATH_OUTPUT=\"${DIR_READ_STRUCTURE}/out_R1-all_short_collapsed.fastq\"\n",
    "PATH_MAPPING_LOC=\"${DIR_READ_STRUCTURE}/mapping-loc_R1-all_short_collapsed.tsv\"\n",
    "\n",
    "grep -o -E -e \"LX:Z:(([^:]+:0,[0-9]+-[0-9]+),?)+\" \"$PATH_OUTPUT\" | \n",
    "    sed -e \"s/LX:Z://\" -e \"s/:0,/:/g\" -e \"s/,$//\" |\n",
    "    sort |\n",
    "    uniq -c |\n",
    "    sort -n -r -k1 |\n",
    "    sed -E -e \"s/^\\s+//\" -e \"s/\\s+/\\t/\" > \"$PATH_MAPPING_LOC\""
   ]
  },
  {
   "cell_type": "code",
   "execution_count": 228,
   "id": "720933ed-742e-4808-b36f-5b60ed28cf43",
   "metadata": {},
   "outputs": [
    {
     "name": "stdout",
     "output_type": "stream",
     "text": [
      "38284\tDPMBot:0-9,DPMTop:10-30,OddTop:35-59,EvenTop:59-83\n",
      "5916\tDPMBot:0-9,DPMTop:10-30,OddTop:35-59,EvenTop:59-83,NYLigEvenStgTop:83-100\n",
      "5591\toligo_rc:0-10,R1Top:18-41,R2Top:41-64,R3Top:64-87\n",
      "5562\toligo_rc:0-9,R1Top:17-40,R2Top:40-63,R3Top:63-86\n",
      "5548\tDPMBot:0-9,EvenTop:26-50,OddTop:50-74,EvenTop:74-98\n",
      "4471\toligo_rc:0-9,OddTop:17-41,EvenTop:41-65,OddTop:65-89\n",
      "4091\tDPMBot:0-9,DPMTop:10-30,OddTop:35-59,EvenTop:59-83,NYLigEvenStgTop:83-99\n",
      "2415\tDPMBot:0-9,NYLigEvenStgTop:26-43,adapter:43-56\n",
      "2305\tDPMBot:0-9,DPMTop:10-30,NYLigEvenStgTop:35-52,adapter:52-65\n",
      "2261\tDPMBot:0-9\n"
     ]
    }
   ],
   "source": [
    "%%bash -s {DIR_READ_STRUCTURE}\n",
    "DIR_READ_STRUCTURE=\"$1\"\n",
    "PATH_MAPPING_LOC=\"${DIR_READ_STRUCTURE}/mapping-loc_R1-all_short_collapsed.tsv\"\n",
    "head \"$PATH_MAPPING_LOC\""
   ]
  },
  {
   "cell_type": "markdown",
   "id": "6bdbeeb0-6e9e-405a-a6fc-77488cd729ea",
   "metadata": {},
   "source": [
    "Collapse by tag order (ignore exact locations)"
   ]
  },
  {
   "cell_type": "code",
   "execution_count": 236,
   "id": "51132c5e-7398-4ded-832a-6017bafb7d7a",
   "metadata": {},
   "outputs": [],
   "source": [
    "%%bash -s {DIR_READ_STRUCTURE}\n",
    "DIR_READ_STRUCTURE=\"$1\"\n",
    "PATH_MAPPING_LOC=\"${DIR_READ_STRUCTURE}/mapping-loc_R1-all_short_collapsed.tsv\"\n",
    "PATH_MAPPING_R1=\"${DIR_READ_STRUCTURE}/mapping_R1-all_short_collapsed.tsv\"\n",
    "sed -E -e 's/:[0-9]+-[0-9]+//g' \"$PATH_MAPPING_LOC\" |\n",
    "    awk -F'\\t' -v OFS='\\t' '{key = $2; value = $1; sum[key] += value} END {for (key in sum) {print sum[key], key}}' |\n",
    "    sort -n -r -k 1 > \"$PATH_MAPPING_R1\""
   ]
  },
  {
   "cell_type": "code",
   "execution_count": 237,
   "id": "d596e97a-093b-4881-8696-babe518d9725",
   "metadata": {},
   "outputs": [
    {
     "name": "stdout",
     "output_type": "stream",
     "text": [
      "39550\tDPMBot,DPMTop,OddTop,EvenTop\n",
      "11994\toligo_rc,R1Top,R2Top,R3Top\n",
      "10279\tDPMBot,DPMTop,OddTop,EvenTop,NYLigEvenStgTop\n",
      "7195\toligo_rc,OddTop,EvenTop,OddTop\n",
      "5837\tDPMBot,EvenTop,OddTop,EvenTop\n",
      "4681\tDPMBot,NYLigEvenStgTop,adapter\n",
      "4549\tDPMBot,DPMTop,NYLigEvenStgTop,adapter\n",
      "3874\tDPMBot,EvenTop,NYLigEvenStgTop,adapter\n",
      "3771\tDPMBot,OddTop,EvenTop,NYLigEvenStgTop\n",
      "2274\tDPMBot\n"
     ]
    }
   ],
   "source": [
    "%%bash -s {DIR_READ_STRUCTURE}\n",
    "DIR_READ_STRUCTURE=\"$1\"\n",
    "PATH_MAPPING_R1=\"${DIR_READ_STRUCTURE}/mapping_R1-all_short_collapsed.tsv\"\n",
    "head \"$PATH_MAPPING_R1\""
   ]
  },
  {
   "cell_type": "markdown",
   "id": "85d7ce15-7525-45f8-901f-a88e92e35452",
   "metadata": {},
   "source": [
    "Starting tag counts"
   ]
  },
  {
   "cell_type": "code",
   "execution_count": 229,
   "id": "d0cb2afc-509b-40b9-9d71-f511ad63a39b",
   "metadata": {},
   "outputs": [
    {
     "name": "stdout",
     "output_type": "stream",
     "text": [
      "DPMBot:0-9     83026\n",
      "oligo_rc:0-9   17544\n",
      "oligo_rc:0-10  14376\n",
      "DPMTop:9-29    640\n",
      "DPMTop:3-23    517\n",
      "OddTop:25-49   420\n",
      "NYStgBot:0-10  385\n",
      "DPMTop:1-21    370\n",
      "DPMTop:10-30   345\n",
      "DPMTop:2-22    333\n"
     ]
    }
   ],
   "source": [
    "%%bash -s {DIR_READ_STRUCTURE}\n",
    "DIR_READ_STRUCTURE=\"$1\"\n",
    "PATH_MAPPING_LOC=\"${DIR_READ_STRUCTURE}/mapping-loc_R1-all_short_collapsed.tsv\"\n",
    "sed -E -e \"s/,.*//\" \"$PATH_MAPPING_LOC\" |\n",
    "    awk -F'\\t' -v OFS='\\t' '{key = $2; value = $1; sum[key] += value} END {for (key in sum) {print key, sum[key]}}' |\n",
    "    sort -n -r -k 2 |\n",
    "    head -n 10 | column -t -s $'\\t'"
   ]
  },
  {
   "cell_type": "code",
   "execution_count": null,
   "id": "754068d2-dd08-49e1-93f0-b1a268cd4791",
   "metadata": {},
   "outputs": [],
   "source": []
  },
  {
   "cell_type": "code",
   "execution_count": null,
   "id": "03c22600-9716-49bc-a526-1378b75d9615",
   "metadata": {},
   "outputs": [],
   "source": [
    "# %%bash -s {DIR_DATA} {DIR_READ_STRUCTURE}\n",
    "# DIR_DATA=\"$1\"\n",
    "# DIR_READ_STRUCTURE=\"$2\"\n",
    "\n",
    "# PATH_R2=\"${DIR_DATA}/20230831_btyeh_HEK_H3K4me3_scChIPseq_aliquot_2_5pct_1_S23_R2_001.fastq.gz\"\n",
    "# PATH_CONFIG=\"${DIR_READ_STRUCTURE}/splitcode_config-all_short_collapsed.tsv\"\n",
    "# PATH_MAPPING=\"${DIR_READ_STRUCTURE}/mapping_R2-all_short_collapsed.tsv\"\n",
    "# PATH_SUMMARY=\"${DIR_READ_STRUCTURE}/summary_R2-all_short_collapsed.json\"\n",
    "# PATH_OUTPUT=\"${DIR_READ_STRUCTURE}/out_R2-all_short_collapsed.fastq\"\n",
    "\n",
    "# splitcode -c \"$PATH_CONFIG\" \\\n",
    "#     --assign --no-outb --loc-names -t 4 \\\n",
    "#     --output=\"$PATH_OUTPUT\" --mapping=\"$PATH_MAPPING\" --summary=\"$PATH_SUMMARY\" \\\n",
    "#     \"$PATH_R2\""
   ]
  },
  {
   "cell_type": "code",
   "execution_count": 240,
   "id": "40a2e3bb-05e6-4e17-ae9c-6155cb3f1d0b",
   "metadata": {},
   "outputs": [],
   "source": [
    "%%bash -s {DIR_READ_STRUCTURE}\n",
    "DIR_READ_STRUCTURE=\"$1\"\n",
    "PATH_OUTPUT=\"${DIR_READ_STRUCTURE}/out_R2-all_short_collapsed.fastq\"\n",
    "PATH_MAPPING_LOC=\"${DIR_READ_STRUCTURE}/mapping-loc_R2-all_short_collapsed.tsv\"\n",
    "\n",
    "grep -o -E -e \"(([^:,]+:1,[0-9]+-[0-9]+),?)+\" \"$PATH_OUTPUT\" | \n",
    "    sed -e \"s/:1,/:/g\" -e \"s/,$//\" |\n",
    "    sort |\n",
    "    uniq -c |\n",
    "    sort -n -r -k1 |\n",
    "    sed -E -e \"s/^\\s+//\" -e \"s/\\s+/\\t/\" > \"$PATH_MAPPING_LOC\""
   ]
  },
  {
   "cell_type": "code",
   "execution_count": 241,
   "id": "904a37ce-d112-4c0b-92f9-30235693b10f",
   "metadata": {},
   "outputs": [
    {
     "name": "stdout",
     "output_type": "stream",
     "text": [
      "10979\tNYStgBot:0-10,EvenBot:10-34,OddBot:34-58,EvenBot:58-82,OddBot:82-106,DPMBot:129-138,DPMTop:139-159\n",
      "8325\tNYStgBot:0-9,EvenBot:9-33,OddBot:33-57,EvenBot:57-81,OddBot:81-105,DPMBot:128-137,DPMTop:138-158\n",
      "4105\tNYStgBot:0-10,EvenBot:10-34,OddBot:34-58,DPMBot:81-90,DPMTop:91-111\n",
      "2961\tNYStgBot:0-9,EvenBot:9-33,OddBot:33-57,DPMBot:80-89,DPMTop:90-110\n",
      "2016\tNYStgBot:0-10,EvenBot:10-34,OddBot:34-58,EvenBot:58-82,OddBot:82-106,DPMTop:106-126\n",
      "1993\tNYStgBot:0-10,EvenBot:10-34,DPMTop:34-54\n",
      "1823\tNYStgBot:0-10,EvenBot:10-34,OddBot:34-58,EvenBot:58-82,OddBot:83-106,DPMBot:129-138,DPMTop:139-159\n",
      "1794\tNYStgBot:0-10,EvenBot:10-34,OddBot:34-58,EvenBot:58-82,DPMTop:82-102\n",
      "1709\tNYStgBot:0-10,DPMBot:33-42,DPMTop:43-63\n",
      "1595\tNYStgBot:0-10,EvenBot:10-34,OddBot:34-58,EvenBot:58-82,OddBot:82-106,DPMBot:129-138,DPMTop:139-159,DPMBot:176-185\n"
     ]
    }
   ],
   "source": [
    "%%bash -s {DIR_READ_STRUCTURE}\n",
    "DIR_READ_STRUCTURE=\"$1\"\n",
    "PATH_MAPPING_LOC=\"${DIR_READ_STRUCTURE}/mapping-loc_R2-all_short_collapsed.tsv\"\n",
    "head \"$PATH_MAPPING_LOC\""
   ]
  },
  {
   "cell_type": "markdown",
   "id": "7cec19dd-8aef-4c58-b067-2301f97069b6",
   "metadata": {},
   "source": [
    "Collapse by tag order (ignore exact locations)"
   ]
  },
  {
   "cell_type": "code",
   "execution_count": 243,
   "id": "f3db0420-913d-46d2-bd4d-c85e2eed9a65",
   "metadata": {},
   "outputs": [],
   "source": [
    "%%bash -s {DIR_READ_STRUCTURE}\n",
    "DIR_READ_STRUCTURE=\"$1\"\n",
    "PATH_MAPPING_LOC=\"${DIR_READ_STRUCTURE}/mapping-loc_R2-all_short_collapsed.tsv\"\n",
    "PATH_MAPPING_R2=\"${DIR_READ_STRUCTURE}/mapping_R2-all_short_collapsed.tsv\"\n",
    "sed -E -e 's/:[0-9]+-[0-9]+//g' \"$PATH_MAPPING_LOC\" |\n",
    "    awk -F'\\t' -v OFS='\\t' '{key = $2; value = $1; sum[key] += value} END {for (key in sum) {print sum[key], key}}' |\n",
    "    sort -n -r -k 1 > \"$PATH_MAPPING_R2\""
   ]
  },
  {
   "cell_type": "code",
   "execution_count": 244,
   "id": "d8709c91-eed3-4722-8010-893210fdfa02",
   "metadata": {},
   "outputs": [
    {
     "name": "stdout",
     "output_type": "stream",
     "text": [
      "24030\tNYStgBot,EvenBot,OddBot,EvenBot,OddBot,DPMBot,DPMTop\n",
      "8327\tNYStgBot,EvenBot,OddBot,DPMBot,DPMTop\n",
      "6091\tNYStgBot,R3Bot,R2Bot,R1Bot,oligo\n",
      "5246\tNYStgBot,EvenBot,OddBot,EvenBot,OddBot,oligo\n",
      "5166\tNYStgBot,EvenBot,OddBot,EvenBot,OddBot,DPMBot,DPMTop,DPMBot\n",
      "4953\tNYStgBot,EvenBot,OddBot,EvenBot,OddBot,DPMTop\n",
      "3925\tNYStgBot,EvenBot,DPMTop\n",
      "3772\tNYStgBot,EvenBot,OddBot,EvenBot,DPMTop\n",
      "3513\tNYStgBot,EvenBot,OddBot,DPMTop\n",
      "3495\tNYStgBot,DPMBot,DPMTop\n"
     ]
    }
   ],
   "source": [
    "%%bash -s {DIR_READ_STRUCTURE}\n",
    "DIR_READ_STRUCTURE=\"$1\"\n",
    "PATH_MAPPING_R2=\"${DIR_READ_STRUCTURE}/mapping_R2-all_short_collapsed.tsv\"\n",
    "head \"$PATH_MAPPING_R2\""
   ]
  },
  {
   "cell_type": "markdown",
   "id": "97ba8e31-a4f5-409c-9872-b3bcad1e6bcf",
   "metadata": {},
   "source": [
    "Starting tag counts"
   ]
  },
  {
   "cell_type": "code",
   "execution_count": 242,
   "id": "7b3c51b1-e5cb-4a81-92a1-c5f0fa61733c",
   "metadata": {},
   "outputs": [
    {
     "name": "stdout",
     "output_type": "stream",
     "text": [
      "NYStgBot:0-10  65409\n",
      "NYStgBot:0-9   52780\n",
      "NYStgBot:0-12  1367\n",
      "EvenBot:9-33   731\n",
      "EvenBot:10-34  727\n",
      "oligo_rc:0-9   622\n",
      "oligo_rc:0-10  437\n",
      "NYStgBot:0-11  368\n",
      "R3Bot:9-32     103\n",
      "EvenBot:8-32   102\n"
     ]
    }
   ],
   "source": [
    "%%bash -s {DIR_READ_STRUCTURE}\n",
    "DIR_READ_STRUCTURE=\"$1\"\n",
    "PATH_MAPPING_LOC=\"${DIR_READ_STRUCTURE}/mapping-loc_R2-all_short_collapsed.tsv\"\n",
    "sed -E -e \"s/,.*//\" \"$PATH_MAPPING_LOC\" |\n",
    "    awk -F'\\t' -v OFS='\\t' '{key = $2; value = $1; sum[key] += value} END {for (key in sum) {print key, sum[key]}}' |\n",
    "    sort -n -r -k 2 |\n",
    "    head -n 10 | column -t -s $'\\t'"
   ]
  },
  {
   "cell_type": "code",
   "execution_count": null,
   "id": "0b03cb0f-ff86-4994-a603-c543413c3318",
   "metadata": {},
   "outputs": [],
   "source": []
  },
  {
   "cell_type": "code",
   "execution_count": null,
   "id": "296e8184-c4b4-4abf-9ba3-a24393ca14aa",
   "metadata": {},
   "outputs": [],
   "source": []
  },
  {
   "cell_type": "code",
   "execution_count": 130,
   "id": "e1229ff5-2241-4d46-b317-0bed2d647524",
   "metadata": {},
   "outputs": [
    {
     "name": "stdout",
     "output_type": "stream",
     "text": [
      "Number of sequences with oligo in forward orientation:\n",
      "0\n"
     ]
    }
   ],
   "source": [
    "%%bash -s {DIR_READ_STRUCTURE}\n",
    "DIR_READ_STRUCTURE=\"$1\"\n",
    "PATH_MAPPING_LOC=\"${DIR_READ_STRUCTURE}/mapping-loc_R1-all_short_collapsed.tsv\"\n",
    "echo \"Number of sequences with oligo in forward orientation:\"\n",
    "grep \"oligo:\" \"$PATH_MAPPING_LOC\" | wc -l"
   ]
  },
  {
   "cell_type": "code",
   "execution_count": 131,
   "id": "d96b19d8-b696-4c9d-b302-a1d8272f61c3",
   "metadata": {},
   "outputs": [
    {
     "name": "stdout",
     "output_type": "stream",
     "text": [
      "Number of sequences with oligo_rc not at the start of the read:\n",
      "207\n"
     ]
    }
   ],
   "source": [
    "%%bash -s {DIR_READ_STRUCTURE}\n",
    "DIR_READ_STRUCTURE=\"$1\"\n",
    "PATH_MAPPING_LOC=\"${DIR_READ_STRUCTURE}/mapping-loc_R1-all_short_collapsed.tsv\"\n",
    "echo \"Number of sequences with oligo_rc not at the start of the read:\"\n",
    "grep -E -e \",oligo_rc\" -e \"oligo_rc:[^0]+-\" \"$PATH_MAPPING_LOC\" |\n",
    "    cut -f 1 -d ' ' |\n",
    "    awk '{n = n + $1} END {print n}'"
   ]
  },
  {
   "cell_type": "code",
   "execution_count": 132,
   "id": "a595e805-a763-460c-99f8-105c76ab270f",
   "metadata": {},
   "outputs": [],
   "source": [
    "path_mapping_loc = os.path.join(DIR_READ_STRUCTURE, 'mapping-loc_R1-all_short_collapsed.tsv')\n",
    "path_mapping = os.path.join(DIR_READ_STRUCTURE, 'mapping_R1-all_short_collapsed.tsv')\n",
    "df_collapsed = pd.read_csv(path_mapping, sep='\\t', header=None, names=['final barcode', 'pattern', 'count']) \\\n",
    "    .drop(columns='final barcode') \\\n",
    "    .sort_values('count', ascending=False)\n",
    "df_collapsed_loc = pd.read_csv(path_mapping_loc, sep='\\t', header=None, names=['count', 'pattern'])"
   ]
  },
  {
   "cell_type": "code",
   "execution_count": null,
   "id": "ca5eefc2-6bc8-4b03-8a8f-c2b9372d2c18",
   "metadata": {},
   "outputs": [],
   "source": []
  },
  {
   "cell_type": "code",
   "execution_count": null,
   "id": "cc011bf8-1b55-4e7c-a164-a9adecc2ed34",
   "metadata": {},
   "outputs": [],
   "source": []
  },
  {
   "cell_type": "markdown",
   "id": "8efc997a-3081-451b-951c-c57735d24b85",
   "metadata": {},
   "source": [
    "#### Cell Barcode Ligation Efficiency\n",
    "\n",
    "How many oligos were ligated with cell barcode (R1-R3), versus only a cluster barcode (odd, even, etc.)?"
   ]
  },
  {
   "cell_type": "code",
   "execution_count": 133,
   "id": "726e62eb-8f42-4095-88d5-52c87def1cf1",
   "metadata": {},
   "outputs": [
    {
     "name": "stdout",
     "output_type": "stream",
     "text": [
      "Most oligos were ligated with R1Top:\n",
      "52.4% oligos ligated with R1Top\n",
      "- 38.3% oligos ligated with R1Top, R2Top, and R3Top\n",
      "32.0% oligos ligated with OddTop\n",
      "- 22.6% oligos ligated with OddTop, EvenTop, OddTop\n"
     ]
    }
   ],
   "source": [
    "print('Most oligos were ligated with R1Top:')\n",
    "print(f'{16729 / 31920:.1%} oligos ligated with R1Top')\n",
    "print(f'- {12221 / 31920:.1%} oligos ligated with R1Top, R2Top, and R3Top')\n",
    "print(f'{10223 / 31920:.1%} oligos ligated with OddTop')\n",
    "print(f'- {7210 / 31920:.1%} oligos ligated with OddTop, EvenTop, OddTop')"
   ]
  },
  {
   "cell_type": "code",
   "execution_count": 134,
   "id": "da1f98a8-f154-414c-85d7-7aa3288bb6fd",
   "metadata": {},
   "outputs": [
    {
     "name": "stdout",
     "output_type": "stream",
     "text": [
      "Total number of reads starting with oligo_rc:\n"
     ]
    },
    {
     "data": {
      "text/plain": [
       "31920"
      ]
     },
     "execution_count": 134,
     "metadata": {},
     "output_type": "execute_result"
    }
   ],
   "source": [
    "print('Total number of reads starting with oligo_rc:')\n",
    "df_collapsed_loc.loc[df_collapsed_loc['pattern'].str.startswith('oligo_rc:0'), 'count'].sum()"
   ]
  },
  {
   "cell_type": "code",
   "execution_count": 135,
   "id": "0b55d167-b2b4-4b57-812f-7c0959827099",
   "metadata": {},
   "outputs": [
    {
     "name": "stdout",
     "output_type": "stream",
     "text": [
      "Oligos ligated with R1Top:\n"
     ]
    },
    {
     "data": {
      "text/plain": [
       "16729"
      ]
     },
     "execution_count": 135,
     "metadata": {},
     "output_type": "execute_result"
    }
   ],
   "source": [
    "print('Oligos ligated with R1Top:')\n",
    "df_collapsed_loc.loc[df_collapsed_loc['pattern'].str.contains('^oligo_rc:0-\\d+,R1Top'), 'count'].sum()"
   ]
  },
  {
   "cell_type": "code",
   "execution_count": 206,
   "id": "1fbd4f01-390c-4694-9de1-dcfd4b566acc",
   "metadata": {},
   "outputs": [
    {
     "name": "stdout",
     "output_type": "stream",
     "text": [
      "Oligos ligated with R1Top, R2Top, and R3Top:\n"
     ]
    },
    {
     "data": {
      "text/plain": [
       "12221"
      ]
     },
     "execution_count": 206,
     "metadata": {},
     "output_type": "execute_result"
    }
   ],
   "source": [
    "print('Oligos ligated with R1Top, R2Top, and R3Top:')\n",
    "df_collapsed_loc.loc[df_collapsed_loc['pattern'].str.contains(\n",
    "    '^oligo_rc:0-\\d+,R1Top:\\d+-\\d+,R2Top:\\d+-\\d+,R3Top:\\d+-\\d+'), 'count'].sum()"
   ]
  },
  {
   "cell_type": "code",
   "execution_count": 137,
   "id": "cbae274a-90a1-441c-b7d1-0ade0c32c028",
   "metadata": {},
   "outputs": [
    {
     "name": "stdout",
     "output_type": "stream",
     "text": [
      "Oligos ligated with OddTop:\n"
     ]
    },
    {
     "data": {
      "text/plain": [
       "10080"
      ]
     },
     "execution_count": 137,
     "metadata": {},
     "output_type": "execute_result"
    }
   ],
   "source": [
    "print('Oligos ligated with OddTop:')\n",
    "df_collapsed_loc.loc[df_collapsed_loc['pattern'].str.contains(\n",
    "    '^oligo_rc:0-\\d+,OddTop'), 'count'].sum()"
   ]
  },
  {
   "cell_type": "code",
   "execution_count": 138,
   "id": "ad23b0f3-cfaf-405a-8f91-384400ed9be5",
   "metadata": {},
   "outputs": [
    {
     "name": "stdout",
     "output_type": "stream",
     "text": [
      "Oligos ligated with OddTop, EvenTop, OddTop:\n"
     ]
    },
    {
     "data": {
      "text/plain": [
       "7191"
      ]
     },
     "execution_count": 138,
     "metadata": {},
     "output_type": "execute_result"
    }
   ],
   "source": [
    "print('Oligos ligated with OddTop, EvenTop, OddTop:')\n",
    "df_collapsed_loc.loc[df_collapsed_loc['pattern'].str.contains(\n",
    "    '^oligo_rc:0-\\d+,OddTop:\\d+-\\d+,EvenTop:\\d+-\\d+,OddTop:\\d+-\\d+'), 'count'].sum()"
   ]
  },
  {
   "cell_type": "code",
   "execution_count": 139,
   "id": "65a6e0ae-2638-409e-987f-99ab2f1f7f7f",
   "metadata": {},
   "outputs": [
    {
     "name": "stdout",
     "output_type": "stream",
     "text": [
      "Unligated oligos:\n"
     ]
    },
    {
     "data": {
      "text/plain": [
       "34"
      ]
     },
     "execution_count": 139,
     "metadata": {},
     "output_type": "execute_result"
    }
   ],
   "source": [
    "print('Unligated oligos:')\n",
    "df_collapsed_loc.loc[df_collapsed_loc['pattern'].str.contains('^oligo_rc:0-\\d+$'), 'count'].sum()"
   ]
  },
  {
   "cell_type": "markdown",
   "id": "193ef34a-12ee-4381-ac98-c67f27587c8a",
   "metadata": {},
   "source": [
    "Most oligos ligated with neither R1Top or OddTop were ligated by NYLigEvenStgTop"
   ]
  },
  {
   "cell_type": "code",
   "execution_count": 140,
   "id": "18813bbf-9b9f-48d3-b611-c46691b6316e",
   "metadata": {},
   "outputs": [
    {
     "name": "stdout",
     "output_type": "stream",
     "text": [
      "Oligos ligated with neither R1Top nor OddTop:\n"
     ]
    },
    {
     "data": {
      "text/plain": [
       "5077"
      ]
     },
     "execution_count": 140,
     "metadata": {},
     "output_type": "execute_result"
    }
   ],
   "source": [
    "print('Oligos ligated with neither R1Top nor OddTop:')\n",
    "df_collapsed_loc.loc[df_collapsed_loc['pattern'].str.contains(\n",
    "    '^oligo_rc:0-\\d+,(?!OddTop|R1Top)'), 'count'].sum()"
   ]
  },
  {
   "cell_type": "code",
   "execution_count": 141,
   "id": "9babb350-1b61-4227-a95b-94812a403430",
   "metadata": {},
   "outputs": [
    {
     "data": {
      "text/html": [
       "<div>\n",
       "<style scoped>\n",
       "    .dataframe tbody tr th:only-of-type {\n",
       "        vertical-align: middle;\n",
       "    }\n",
       "\n",
       "    .dataframe tbody tr th {\n",
       "        vertical-align: top;\n",
       "    }\n",
       "\n",
       "    .dataframe thead th {\n",
       "        text-align: right;\n",
       "    }\n",
       "</style>\n",
       "<table border=\"1\" class=\"dataframe\">\n",
       "  <thead>\n",
       "    <tr style=\"text-align: right;\">\n",
       "      <th></th>\n",
       "      <th>count</th>\n",
       "      <th>pattern</th>\n",
       "    </tr>\n",
       "  </thead>\n",
       "  <tbody>\n",
       "    <tr>\n",
       "      <th>30</th>\n",
       "      <td>246</td>\n",
       "      <td>oligo_rc:0-9,NYLigEvenStgTop:17-34,adapter:34-47</td>\n",
       "    </tr>\n",
       "    <tr>\n",
       "      <th>37</th>\n",
       "      <td>198</td>\n",
       "      <td>oligo_rc:0-9,NYLigEvenStgTop:17-33,adapter:33-46</td>\n",
       "    </tr>\n",
       "    <tr>\n",
       "      <th>57</th>\n",
       "      <td>137</td>\n",
       "      <td>oligo_rc:0-10,NYLigEvenStgTop:18-35,adapter:35-48</td>\n",
       "    </tr>\n",
       "    <tr>\n",
       "      <th>58</th>\n",
       "      <td>133</td>\n",
       "      <td>oligo_rc:0-9,EvenTop:36-60,OddTop:60-84</td>\n",
       "    </tr>\n",
       "    <tr>\n",
       "      <th>64</th>\n",
       "      <td>117</td>\n",
       "      <td>oligo_rc:0-10,NYLigEvenStgTop:18-34,adapter:34-47</td>\n",
       "    </tr>\n",
       "    <tr>\n",
       "      <th>67</th>\n",
       "      <td>115</td>\n",
       "      <td>oligo_rc:0-9,DPMTop:25-45,OddTop:50-74,EvenTop...</td>\n",
       "    </tr>\n",
       "    <tr>\n",
       "      <th>71</th>\n",
       "      <td>111</td>\n",
       "      <td>oligo_rc:0-10,EvenTop:37-61,OddTop:61-85</td>\n",
       "    </tr>\n",
       "    <tr>\n",
       "      <th>80</th>\n",
       "      <td>89</td>\n",
       "      <td>oligo_rc:0-10,DPMTop:26-46,OddTop:51-75,EvenTo...</td>\n",
       "    </tr>\n",
       "    <tr>\n",
       "      <th>120</th>\n",
       "      <td>56</td>\n",
       "      <td>oligo_rc:0-9,EvenTop:26-50,OddTop:50-74,EvenTo...</td>\n",
       "    </tr>\n",
       "    <tr>\n",
       "      <th>125</th>\n",
       "      <td>54</td>\n",
       "      <td>oligo_rc:0-9,EvenTop:27-51,OddTop:51-75,EvenTo...</td>\n",
       "    </tr>\n",
       "  </tbody>\n",
       "</table>\n",
       "</div>"
      ],
      "text/plain": [
       "     count                                            pattern\n",
       "30     246   oligo_rc:0-9,NYLigEvenStgTop:17-34,adapter:34-47\n",
       "37     198   oligo_rc:0-9,NYLigEvenStgTop:17-33,adapter:33-46\n",
       "57     137  oligo_rc:0-10,NYLigEvenStgTop:18-35,adapter:35-48\n",
       "58     133            oligo_rc:0-9,EvenTop:36-60,OddTop:60-84\n",
       "64     117  oligo_rc:0-10,NYLigEvenStgTop:18-34,adapter:34-47\n",
       "67     115  oligo_rc:0-9,DPMTop:25-45,OddTop:50-74,EvenTop...\n",
       "71     111           oligo_rc:0-10,EvenTop:37-61,OddTop:61-85\n",
       "80      89  oligo_rc:0-10,DPMTop:26-46,OddTop:51-75,EvenTo...\n",
       "120     56  oligo_rc:0-9,EvenTop:26-50,OddTop:50-74,EvenTo...\n",
       "125     54  oligo_rc:0-9,EvenTop:27-51,OddTop:51-75,EvenTo..."
      ]
     },
     "execution_count": 141,
     "metadata": {},
     "output_type": "execute_result"
    }
   ],
   "source": [
    "df_collapsed_loc.loc[df_collapsed_loc['pattern'].str.contains('^oligo_rc:0-\\d+,(?!OddTop|R1Top)')].head(10)"
   ]
  },
  {
   "cell_type": "code",
   "execution_count": 142,
   "id": "0e6b9db3-ef6c-4c79-8fff-a7427630afb4",
   "metadata": {},
   "outputs": [
    {
     "data": {
      "text/html": [
       "<div>\n",
       "<style scoped>\n",
       "    .dataframe tbody tr th:only-of-type {\n",
       "        vertical-align: middle;\n",
       "    }\n",
       "\n",
       "    .dataframe tbody tr th {\n",
       "        vertical-align: top;\n",
       "    }\n",
       "\n",
       "    .dataframe thead th {\n",
       "        text-align: right;\n",
       "    }\n",
       "</style>\n",
       "<table border=\"1\" class=\"dataframe\">\n",
       "  <thead>\n",
       "    <tr style=\"text-align: right;\">\n",
       "      <th></th>\n",
       "      <th>pattern</th>\n",
       "      <th>count</th>\n",
       "    </tr>\n",
       "  </thead>\n",
       "  <tbody>\n",
       "    <tr>\n",
       "      <th>16</th>\n",
       "      <td>oligo_rc,NYLigEvenStgTop,adapter</td>\n",
       "      <td>1267</td>\n",
       "    </tr>\n",
       "    <tr>\n",
       "      <th>5</th>\n",
       "      <td>oligo_rc,EvenTop,OddTop</td>\n",
       "      <td>949</td>\n",
       "    </tr>\n",
       "    <tr>\n",
       "      <th>47</th>\n",
       "      <td>oligo_rc,DPMTop,OddTop,EvenTop</td>\n",
       "      <td>688</td>\n",
       "    </tr>\n",
       "    <tr>\n",
       "      <th>26</th>\n",
       "      <td>oligo_rc,EvenTop,NYLigEvenStgTop,adapter</td>\n",
       "      <td>554</td>\n",
       "    </tr>\n",
       "    <tr>\n",
       "      <th>46</th>\n",
       "      <td>oligo_rc,EvenTop,OddTop,EvenTop</td>\n",
       "      <td>399</td>\n",
       "    </tr>\n",
       "    <tr>\n",
       "      <th>90</th>\n",
       "      <td>oligo_rc,EvenTop</td>\n",
       "      <td>175</td>\n",
       "    </tr>\n",
       "    <tr>\n",
       "      <th>93</th>\n",
       "      <td>oligo_rc,adapter</td>\n",
       "      <td>161</td>\n",
       "    </tr>\n",
       "    <tr>\n",
       "      <th>74</th>\n",
       "      <td>oligo_rc,DPMTop,OddTop</td>\n",
       "      <td>106</td>\n",
       "    </tr>\n",
       "  </tbody>\n",
       "</table>\n",
       "</div>"
      ],
      "text/plain": [
       "                                     pattern  count\n",
       "16          oligo_rc,NYLigEvenStgTop,adapter   1267\n",
       "5                    oligo_rc,EvenTop,OddTop    949\n",
       "47            oligo_rc,DPMTop,OddTop,EvenTop    688\n",
       "26  oligo_rc,EvenTop,NYLigEvenStgTop,adapter    554\n",
       "46           oligo_rc,EvenTop,OddTop,EvenTop    399\n",
       "90                          oligo_rc,EvenTop    175\n",
       "93                          oligo_rc,adapter    161\n",
       "74                    oligo_rc,DPMTop,OddTop    106"
      ]
     },
     "execution_count": 142,
     "metadata": {},
     "output_type": "execute_result"
    }
   ],
   "source": [
    "df_collapsed.loc[df_collapsed['pattern'].str.contains('^oligo_rc,(?!OddTop|R1Top)')].head(8)"
   ]
  },
  {
   "cell_type": "code",
   "execution_count": null,
   "id": "c609d6b6-e0d9-4f3e-b2e4-8543cab25c4d",
   "metadata": {},
   "outputs": [],
   "source": []
  },
  {
   "cell_type": "code",
   "execution_count": null,
   "id": "a65cd180-20ce-4f25-9fa6-c2e717681c79",
   "metadata": {},
   "outputs": [],
   "source": []
  },
  {
   "cell_type": "markdown",
   "id": "2f67d187-a478-4a94-9c70-7a21046a0389",
   "metadata": {},
   "source": [
    "All oligo sequences are essentially only present in reverse complement orientation at the start of R1. (This can be checked "
   ]
  },
  {
   "cell_type": "code",
   "execution_count": 56,
   "id": "b35d69cb-a8eb-44d6-bcd0-241517845bd8",
   "metadata": {},
   "outputs": [
    {
     "name": "stdout",
     "output_type": "stream",
     "text": [
      "Number of reads with forward orientation oligo: 1269\n"
     ]
    }
   ],
   "source": [
    "print('Number of reads with forward orientation oligo:',\n",
    "      df.loc[df['pattern_loc_group_R1'].str.contains('Oligo:') | df['pattern_loc_group_R2'].str.contains('OligoRC:'), 'count'].sum())"
   ]
  },
  {
   "cell_type": "code",
   "execution_count": 61,
   "id": "cfc45064-463b-44d9-b061-f7bf152f8d56",
   "metadata": {},
   "outputs": [
    {
     "name": "stdout",
     "output_type": "stream",
     "text": [
      "Number of reads with reverse orientation oligo not at the start of R1: 2286\n"
     ]
    }
   ],
   "source": [
    "print('Number of reads with reverse orientation oligo not at the start of R1:',\n",
    "      df_R1_tagged.loc[df_R1_tagged['pattern_loc_group_R1'].str.contains(',OligoRC:') | df_R1_tagged['pattern_order_group_R2'].str.contains('Oligo,'), 'count'].sum())"
   ]
  },
  {
   "cell_type": "code",
   "execution_count": null,
   "id": "ab69e3f3-403c-4514-992d-6c199fc595a2",
   "metadata": {},
   "outputs": [],
   "source": []
  },
  {
   "cell_type": "code",
   "execution_count": null,
   "id": "9a3cfadd-a7ab-40bb-8ead-4565a5b8710c",
   "metadata": {},
   "outputs": [],
   "source": []
  },
  {
   "cell_type": "code",
   "execution_count": null,
   "id": "c81b5b4b-3496-4eb4-8f00-0bc8a2c50b9d",
   "metadata": {},
   "outputs": [],
   "source": []
  },
  {
   "cell_type": "code",
   "execution_count": 220,
   "id": "99b79f2c-4e58-4cec-affd-a2bd89d30f90",
   "metadata": {},
   "outputs": [],
   "source": [
    "regex_oligo_cell = re.compile('oligo_rc:0,0-\\d+,R1Top:0,\\d+-\\d+,R2Top:0,\\d+-\\d+,R3Top:0,\\d+-\\d+')\n",
    "regex_oligo_cluster = re.compile('oligo_rc:0,0-\\d+,OddTop:0,\\d+-\\d+,EvenTop:0,\\d+-\\d+,OddTop:0,\\d+-\\d+')"
   ]
  },
  {
   "cell_type": "code",
   "execution_count": 252,
   "id": "5c3e16d8-749d-44c6-8df8-005a202f29ee",
   "metadata": {},
   "outputs": [
    {
     "data": {
      "text/html": [
       "<div>\n",
       "<style scoped>\n",
       "    .dataframe tbody tr th:only-of-type {\n",
       "        vertical-align: middle;\n",
       "    }\n",
       "\n",
       "    .dataframe tbody tr th {\n",
       "        vertical-align: top;\n",
       "    }\n",
       "\n",
       "    .dataframe thead th {\n",
       "        text-align: right;\n",
       "    }\n",
       "</style>\n",
       "<table border=\"1\" class=\"dataframe\">\n",
       "  <thead>\n",
       "    <tr style=\"text-align: right;\">\n",
       "      <th></th>\n",
       "      <th>count</th>\n",
       "      <th>pattern</th>\n",
       "    </tr>\n",
       "  </thead>\n",
       "  <tbody>\n",
       "    <tr>\n",
       "      <th>15</th>\n",
       "      <td>1452</td>\n",
       "      <td>oligo_rc:0,0-10,R1Top:0,18-41,R2Top:0,41-64,R3...</td>\n",
       "    </tr>\n",
       "    <tr>\n",
       "      <th>19</th>\n",
       "      <td>1225</td>\n",
       "      <td>oligo_rc:0,0-9,R1Top:0,17-40,R2Top:0,40-63,R3T...</td>\n",
       "    </tr>\n",
       "    <tr>\n",
       "      <th>22</th>\n",
       "      <td>1134</td>\n",
       "      <td>oligo_rc:0,0-9,R1Top:0,17-40,R2Top:0,40-63,R3T...</td>\n",
       "    </tr>\n",
       "    <tr>\n",
       "      <th>25</th>\n",
       "      <td>951</td>\n",
       "      <td>oligo_rc:0,0-10,R1Top:0,18-41,R2Top:0,41-64,R3...</td>\n",
       "    </tr>\n",
       "    <tr>\n",
       "      <th>28</th>\n",
       "      <td>626</td>\n",
       "      <td>oligo_rc:0,0-9,R1Top:0,17-40,R2Top:0,40-63,R3T...</td>\n",
       "    </tr>\n",
       "    <tr>\n",
       "      <th>...</th>\n",
       "      <td>...</td>\n",
       "      <td>...</td>\n",
       "    </tr>\n",
       "    <tr>\n",
       "      <th>10022</th>\n",
       "      <td>1</td>\n",
       "      <td>oligo_rc:0,0-10,R1Top:0,17-40,R2Top:0,40-63,R3...</td>\n",
       "    </tr>\n",
       "    <tr>\n",
       "      <th>10023</th>\n",
       "      <td>1</td>\n",
       "      <td>oligo_rc:0,0-10,R1Top:0,17-40,R2Top:0,40-63,R3...</td>\n",
       "    </tr>\n",
       "    <tr>\n",
       "      <th>10024</th>\n",
       "      <td>1</td>\n",
       "      <td>oligo_rc:0,0-10,R1Top:0,17-40,R2Top:0,40-63,R3...</td>\n",
       "    </tr>\n",
       "    <tr>\n",
       "      <th>10025</th>\n",
       "      <td>1</td>\n",
       "      <td>oligo_rc:0,0-10,R1Top:0,17-40,R2Top:0,40-62,R3...</td>\n",
       "    </tr>\n",
       "    <tr>\n",
       "      <th>10036</th>\n",
       "      <td>1</td>\n",
       "      <td>oligo_rc:0,0-10,R1Top:0,16-39,R2Top:0,39-62,R3...</td>\n",
       "    </tr>\n",
       "  </tbody>\n",
       "</table>\n",
       "<p>1242 rows × 2 columns</p>\n",
       "</div>"
      ],
      "text/plain": [
       "       count                                            pattern\n",
       "15      1452  oligo_rc:0,0-10,R1Top:0,18-41,R2Top:0,41-64,R3...\n",
       "19      1225  oligo_rc:0,0-9,R1Top:0,17-40,R2Top:0,40-63,R3T...\n",
       "22      1134  oligo_rc:0,0-9,R1Top:0,17-40,R2Top:0,40-63,R3T...\n",
       "25       951  oligo_rc:0,0-10,R1Top:0,18-41,R2Top:0,41-64,R3...\n",
       "28       626  oligo_rc:0,0-9,R1Top:0,17-40,R2Top:0,40-63,R3T...\n",
       "...      ...                                                ...\n",
       "10022      1  oligo_rc:0,0-10,R1Top:0,17-40,R2Top:0,40-63,R3...\n",
       "10023      1  oligo_rc:0,0-10,R1Top:0,17-40,R2Top:0,40-63,R3...\n",
       "10024      1  oligo_rc:0,0-10,R1Top:0,17-40,R2Top:0,40-63,R3...\n",
       "10025      1  oligo_rc:0,0-10,R1Top:0,17-40,R2Top:0,40-62,R3...\n",
       "10036      1  oligo_rc:0,0-10,R1Top:0,16-39,R2Top:0,39-62,R3...\n",
       "\n",
       "[1242 rows x 2 columns]"
      ]
     },
     "execution_count": 252,
     "metadata": {},
     "output_type": "execute_result"
    }
   ],
   "source": [
    "df_collapsed_loc.loc[df_collapsed_loc['pattern'].str.contains('oligo_rc:0,0-\\d+,R1Top:0,\\d+-\\d+,R2Top:0,\\d+-\\d+,R3Top:0,\\d+-\\d+')]"
   ]
  },
  {
   "cell_type": "code",
   "execution_count": 221,
   "id": "9f52f8c9-2044-4395-9dc4-72cecc35e4bc",
   "metadata": {},
   "outputs": [],
   "source": [
    "oligo_spritezero_R2_barcode_loc_counts = collections.defaultdict(int)\n",
    "oligo_spritezero_R2_barcode_counts = collections.defaultdict(int)\n",
    "oligo_cluster_R2_barcode_loc_counts = collections.defaultdict(int)\n",
    "oligo_cluster_R2_barcode_counts = collections.defaultdict(int)"
   ]
  },
  {
   "cell_type": "code",
   "execution_count": 222,
   "id": "54d2c3f8-4c4b-4499-b0a8-7005c853b7e4",
   "metadata": {},
   "outputs": [],
   "source": [
    "path_r1_annotated = os.path.join(DIR_READ_STRUCTURE, 'out_R1-all_short_collapsed.fastq')\n",
    "path_r2_annotated = os.path.join(DIR_READ_STRUCTURE, 'out_R2-all_short_collapsed.fastq')\n",
    "with file_open(path_r1_annotated) as read_1, \\\n",
    "     file_open(path_r2_annotated) as read_2:\n",
    "    for ((qname1, seq1, _, _), (qname2, seq2, _, _)) in zip(fastq_parse(read_1), fastq_parse(read_2)):\n",
    "        barcode_r2_loc = re.sub(':0,', ':', qname2.split('LX:Z:')[1])\n",
    "        barcode_r2 = re.sub(':\\d+-\\d+', '', barcode_r2_loc)\n",
    "        if regex_oligo_spritezero.search(qname1):\n",
    "            oligo_spritezero_R2_barcode_loc_counts[barcode_r2_loc] += 1\n",
    "            oligo_spritezero_R2_barcode_counts[barcode_r2] += 1\n",
    "        elif regex_oligo_cluster.search(qname1):\n",
    "            oligo_cluster_R2_barcode_loc_counts[barcode_r2_loc] += 1\n",
    "            oligo_cluster_R2_barcode_counts[barcode_r2] += 1"
   ]
  },
  {
   "cell_type": "code",
   "execution_count": 212,
   "id": "35aac346-1e4e-40bb-8157-ae85457bd83e",
   "metadata": {},
   "outputs": [
    {
     "name": "stdout",
     "output_type": "stream",
     "text": [
      "12185\n"
     ]
    },
    {
     "data": {
      "text/plain": [
       "NYStgBot,EvenBot,OddBot,EvenBot,OddBot,DPMBot,DPMTop           2314\n",
       "NYStgBot,EvenBot,OddBot,DPMBot,DPMTop                           817\n",
       "NYStgBot,R3Bot,R2Bot,R1Bot,oligo                                603\n",
       "NYStgBot,EvenBot,OddBot,EvenBot,OddBot,DPMTop                   498\n",
       "NYStgBot,EvenBot,OddBot,EvenBot,OddBot,oligo                    496\n",
       "NYStgBot,EvenBot,OddBot,EvenBot,OddBot,DPMBot,DPMTop,DPMBot     496\n",
       "NYStgBot,EvenBot,DPMTop                                         371\n",
       "NYStgBot,EvenBot,OddBot,DPMTop                                  366\n",
       "NYStgBot,EvenBot,OddBot,EvenBot,DPMTop                          358\n",
       "NYStgBot,DPMBot,DPMTop                                          320\n",
       "dtype: int64"
      ]
     },
     "execution_count": 212,
     "metadata": {},
     "output_type": "execute_result"
    }
   ],
   "source": [
    "oligo_spritezero_R2_barcode_counts = pd.Series(oligo_spritezero_R2_barcode_counts).sort_values(ascending=False)\n",
    "print(oligo_spritezero_R2_barcode_counts.sum())\n",
    "oligo_spritezero_R2_barcode_counts.head(10)"
   ]
  },
  {
   "cell_type": "code",
   "execution_count": 223,
   "id": "9eb2de1e-e4ac-4fcd-a8f2-7803cb63fc1c",
   "metadata": {},
   "outputs": [
    {
     "name": "stdout",
     "output_type": "stream",
     "text": [
      "7169\n"
     ]
    },
    {
     "data": {
      "text/plain": [
       "NYStgBot,EvenBot,OddBot,EvenBot,OddBot,DPMBot,DPMTop           1345\n",
       "NYStgBot,EvenBot,OddBot,DPMBot,DPMTop                           469\n",
       "NYStgBot,R3Bot,R2Bot,R1Bot,oligo                                376\n",
       "NYStgBot,EvenBot,OddBot,EvenBot,OddBot,oligo                    330\n",
       "NYStgBot,EvenBot,OddBot,EvenBot,OddBot,DPMBot,DPMTop,DPMBot     305\n",
       "NYStgBot,EvenBot,OddBot,EvenBot,OddBot,DPMTop                   298\n",
       "NYStgBot,EvenBot,DPMTop                                         251\n",
       "NYStgBot,DPMBot,DPMTop                                          215\n",
       "NYStgBot,EvenBot,OddBot,DPMTop                                  211\n",
       "NYStgBot,EvenBot,OddBot,EvenBot,DPMTop                          210\n",
       "dtype: int64"
      ]
     },
     "execution_count": 223,
     "metadata": {},
     "output_type": "execute_result"
    }
   ],
   "source": [
    "oligo_cluster_R2_barcode_counts = pd.Series(oligo_cluster_R2_barcode_counts).sort_values(ascending=False)\n",
    "print(oligo_cluster_R2_barcode_counts.sum())\n",
    "oligo_cluster_R2_barcode_counts.head(10)"
   ]
  },
  {
   "cell_type": "code",
   "execution_count": null,
   "id": "c8ea9b86-5cf0-4ff2-9131-ef705de3b5d9",
   "metadata": {},
   "outputs": [],
   "source": []
  },
  {
   "cell_type": "code",
   "execution_count": null,
   "id": "501fea5e-aee1-433f-affd-d55c19c70347",
   "metadata": {},
   "outputs": [],
   "source": []
  },
  {
   "cell_type": "markdown",
   "id": "d8da2268-b787-4c69-a278-6d1a5a308f94",
   "metadata": {},
   "source": [
    "DPMBot is essentially only present at the start of R1"
   ]
  },
  {
   "cell_type": "code",
   "execution_count": 134,
   "id": "19a84783-c077-4919-89da-e0889ee2b924",
   "metadata": {},
   "outputs": [
    {
     "name": "stdout",
     "output_type": "stream",
     "text": [
      "Number of R1 reads with 5' DPMBot and an internal DPMBot:\n"
     ]
    },
    {
     "data": {
      "text/plain": [
       "230"
      ]
     },
     "execution_count": 134,
     "metadata": {},
     "output_type": "execute_result"
    }
   ],
   "source": [
    "print('Number of R1 reads with 5\\' DPMBot and an internal DPMBot:')\n",
    "df_R1_tagged.loc[df_R1_tagged['pattern_order_group_R1'].str.contains('^DPMBot.*DPMBot'), 'count'].sum()"
   ]
  },
  {
   "cell_type": "code",
   "execution_count": 135,
   "id": "d2852eee-5ccf-41e8-89b3-859b785c8356",
   "metadata": {},
   "outputs": [
    {
     "name": "stdout",
     "output_type": "stream",
     "text": [
      "Number of R1 reads with no 5' DPMBot but an internal DPMBot:\n"
     ]
    },
    {
     "data": {
      "text/plain": [
       "28"
      ]
     },
     "execution_count": 135,
     "metadata": {},
     "output_type": "execute_result"
    }
   ],
   "source": [
    "# negative lookahead assertion\n",
    "print('Number of R1 reads with no 5\\' DPMBot but an internal DPMBot:')\n",
    "df_R1_tagged.loc[df_R1_tagged['pattern_order_group_R1'].str.contains('^(?!DPMBot).*DPMBot'), 'count'].sum()"
   ]
  },
  {
   "cell_type": "code",
   "execution_count": null,
   "id": "56a95e99-f187-4f5a-a5a8-ca3f29580b1c",
   "metadata": {},
   "outputs": [],
   "source": []
  },
  {
   "cell_type": "markdown",
   "id": "ebe2d930-a0a0-4a97-9f28-8bd5b82805cf",
   "metadata": {},
   "source": [
    "### Merge Read 1 and Read2 via NGMerge"
   ]
  },
  {
   "cell_type": "code",
   "execution_count": null,
   "id": "3038faf3-2a0a-426d-9f1a-12c35fd854ef",
   "metadata": {},
   "outputs": [],
   "source": [
    "# Options\n",
    "# -d: check for dovetailing\n",
    "# -e: minimum overlap of dovetailed alignments\n",
    "# -m: minimum overlap of the paired-end reads\n",
    "# -z: gzip output\n",
    "cmd_merge = (\n",
    "    'NGmerge -1 {path_read1} -2 {path_read2} -o {path_merged} -f {path_failed}'\n",
    "    ' -d -m 30 -e 50 -z'\n",
    "    ' -l {path_log_stich}'\n",
    "    ' -c {path_log_dovetail}'\n",
    "    ' -j {path_log_alignment}'\n",
    "    ' -n {n_threads}')"
   ]
  },
  {
   "cell_type": "code",
   "execution_count": 16,
   "id": "8eda8466-7993-406f-bbdc-d7a2bfddaac3",
   "metadata": {},
   "outputs": [],
   "source": [
    "dir_merged = os.path.join(DIR_PROC, 'merged')\n",
    "os.makedirs(dir_merged, exist_ok=True)"
   ]
  },
  {
   "cell_type": "code",
   "execution_count": 17,
   "id": "633381d5-a881-473d-a729-32f502a9dcd0",
   "metadata": {},
   "outputs": [],
   "source": [
    "n_threads = 10\n",
    "for sample, group in df_data.groupby('sample'):\n",
    "    path_merged = os.path.join(dir_merged, f'{sample}.fastq.gz')\n",
    "    if not os.path.exists(path_merged):\n",
    "        path_read1 = os.path.join(DIR_DATA, group.loc[group['read'] == 1, 'filename'].item())\n",
    "        path_read2 = os.path.join(DIR_DATA, group.loc[group['read'] == 2, 'filename'].item())\n",
    "        path_failed = os.path.join(dir_merged, f'{sample}_failed')\n",
    "        path_log_stich = os.path.join(dir_merged, f'{sample}.stitch.log')\n",
    "        path_log_dovetail = os.path.join(dir_merged, f'{sample}.dovetail.log')\n",
    "        path_log_alignment = os.path.join(dir_merged, f'{sample}.alignment.log')\n",
    "        cmd_run = cmd_merge.format(\n",
    "            path_read1=path_read1,\n",
    "            path_read2=path_read2,\n",
    "            path_merged=path_merged,\n",
    "            path_failed=path_failed,\n",
    "            path_log_stich=path_log_stich,\n",
    "            path_log_dovetail=path_log_dovetail,\n",
    "            path_log_alignment=path_log_alignment,\n",
    "            n_threads=n_threads)\n",
    "        subprocess.run(cmd_run, shell=True)"
   ]
  },
  {
   "cell_type": "markdown",
   "id": "7ff3c674-94f1-4215-97a6-381546bdb165",
   "metadata": {},
   "source": [
    "Run FASTQC on merged FASTQ files"
   ]
  },
  {
   "cell_type": "code",
   "execution_count": 18,
   "id": "6a5db9c0-467a-4ecf-a07c-db14472c7cfb",
   "metadata": {},
   "outputs": [],
   "source": [
    "paths_fastq_merged = []\n",
    "for sample in df_data['sample'].unique():\n",
    "    path_merged_fastqc = os.path.join(dir_merged, f'{sample}_fastqc.html')\n",
    "    if not os.path.exists(path_merged_fastqc):\n",
    "        paths_fastq_merged.append(os.path.join(dir_merged, f'{sample}.fastq.gz'))\n",
    "if len(paths_fastq_merged) > 0:\n",
    "    paths_fastq_merged = ' '.join((f'\"{s}\"' for s in paths_fastq_merged))\n",
    "    sprite_env.run(f'fastqc {paths_fastq_merged} -o {dir_merged} -t {n_threads}')"
   ]
  },
  {
   "cell_type": "code",
   "execution_count": null,
   "id": "75385468-8d7d-4063-9644-2337148cfae6",
   "metadata": {},
   "outputs": [],
   "source": []
  },
  {
   "cell_type": "code",
   "execution_count": null,
   "id": "5e4c79a0-23b4-4d0b-a547-91dfcabdbdb3",
   "metadata": {},
   "outputs": [],
   "source": []
  },
  {
   "cell_type": "code",
   "execution_count": null,
   "id": "909b72a5-1298-42eb-aae0-f6948a3df9b3",
   "metadata": {},
   "outputs": [],
   "source": []
  },
  {
   "cell_type": "code",
   "execution_count": 13,
   "id": "946d51ad-65e5-4c0c-b6de-f3ba918311f5",
   "metadata": {},
   "outputs": [],
   "source": [
    "dir_clusters = os.path.join(DIR_PROC, 'clusters')\n",
    "os.makedirs(dir_clusters, exist_ok=True)"
   ]
  },
  {
   "cell_type": "code",
   "execution_count": 14,
   "id": "5a27fbe0-42e3-4b8b-afff-76b8a65920d5",
   "metadata": {},
   "outputs": [],
   "source": [
    "regex_readname = re.compile('::\\[[^\\]]+\\]\\[odd\\](' + 4 * '\\[[^\\]]+\\]' + ') RX:Z:([ATCG]+)')"
   ]
  },
  {
   "cell_type": "code",
   "execution_count": 17,
   "id": "bf01bba9-80a7-45d2-9e9a-26a600d8e9f6",
   "metadata": {},
   "outputs": [
    {
     "name": "stdout",
     "output_type": "stream",
     "text": [
      "0-15625cell_aliquot1_150bp\n"
     ]
    },
    {
     "data": {
      "application/vnd.jupyter.widget-view+json": {
       "model_id": "d83adf1c271f46c5a7c3b32abf2fd521",
       "version_major": 2,
       "version_minor": 0
      },
      "text/plain": [
       "0it [00:00, ?it/s]"
      ]
     },
     "metadata": {},
     "output_type": "display_data"
    },
    {
     "name": "stdout",
     "output_type": "stream",
     "text": [
      "0-5cell_aliquotA6_barcode\n"
     ]
    },
    {
     "data": {
      "application/vnd.jupyter.widget-view+json": {
       "model_id": "de0cd01f54fa4218b1f2278da59f834a",
       "version_major": 2,
       "version_minor": 0
      },
      "text/plain": [
       "0it [00:00, ?it/s]"
      ]
     },
     "metadata": {},
     "output_type": "display_data"
    },
    {
     "name": "stdout",
     "output_type": "stream",
     "text": [
      "0-5cell_aliquotE9_barcode\n"
     ]
    },
    {
     "data": {
      "application/vnd.jupyter.widget-view+json": {
       "model_id": "5bd65102a76441ecb05988a96a9d6ff0",
       "version_major": 2,
       "version_minor": 0
      },
      "text/plain": [
       "0it [00:00, ?it/s]"
      ]
     },
     "metadata": {},
     "output_type": "display_data"
    },
    {
     "name": "stdout",
     "output_type": "stream",
     "text": [
      "0-625cell_aliquot3_barcode\n"
     ]
    },
    {
     "data": {
      "application/vnd.jupyter.widget-view+json": {
       "model_id": "c45cf0f2e9d6458aba1b686fe60a4a5c",
       "version_major": 2,
       "version_minor": 0
      },
      "text/plain": [
       "0it [00:00, ?it/s]"
      ]
     },
     "metadata": {},
     "output_type": "display_data"
    },
    {
     "name": "stdout",
     "output_type": "stream",
     "text": [
      "10cell_aliquot1_barcode\n"
     ]
    },
    {
     "data": {
      "application/vnd.jupyter.widget-view+json": {
       "model_id": "f0bc0db29fb2403ab974ecd454088419",
       "version_major": 2,
       "version_minor": 0
      },
      "text/plain": [
       "0it [00:00, ?it/s]"
      ]
     },
     "metadata": {},
     "output_type": "display_data"
    }
   ],
   "source": [
    "all_clusters = dict()\n",
    "for sample in df_data['sample'].unique():\n",
    "    print(sample)\n",
    "    path_barcoded = os.path.join(dir_barcodes, f'{sample}.fastq.gz')\n",
    "    path_clusters = os.path.join(dir_clusters, f'{sample}.json')\n",
    "    if not os.path.exists(path_clusters) or True:\n",
    "        clusters = dict()\n",
    "        with gzip.open(path_barcoded) as f:\n",
    "            for (name, seq, _, qual) in tqdm(fastq_parse(f)):\n",
    "                match = regex_readname.search(name.strip())\n",
    "                if match:\n",
    "                    barcode, umi = match.groups()\n",
    "                    if barcode not in clusters:\n",
    "                        clusters[barcode] = collections.defaultdict(int)\n",
    "                    clusters[barcode][umi] += 1\n",
    "        with open(path_clusters, 'wt') as f:\n",
    "            json.dump(clusters, f)\n",
    "    else:\n",
    "        with open(path_clusters, 'rt') as f:\n",
    "            clusters = json.load(f)\n",
    "    all_clusters[sample] = clusters"
   ]
  },
  {
   "cell_type": "code",
   "execution_count": null,
   "id": "23b2ef66-134d-449a-82bb-d177979e00a3",
   "metadata": {},
   "outputs": [],
   "source": []
  },
  {
   "cell_type": "code",
   "execution_count": 56,
   "id": "a29c60cb-508f-4cf7-b697-4bbdce3bc75b",
   "metadata": {},
   "outputs": [],
   "source": [
    "path_mapping = os.path.join(DIR_READ_STRUCTURE, 'mapping_R1-all_short.tsv')\n",
    "df_mapping_R1 = pd.read_csv(path_mapping, sep='\\t', header=None, names=['final barcode', 'pattern', 'count']) \\\n",
    "    .drop(columns='final barcode') \\\n",
    "    .sort_values('count', ascending=False)"
   ]
  },
  {
   "cell_type": "code",
   "execution_count": 73,
   "id": "38436fad-c07d-4119-b1c9-2392b381ffe5",
   "metadata": {},
   "outputs": [
    {
     "data": {
      "text/plain": [
       "pattern\n",
       "oligo_bc4_rc    4033\n",
       "oligo_bc5_rc    3034\n",
       "oligo_bc3_rc    2897\n",
       "DPMBot6_22      2750\n",
       "oligo_bc2_rc    2623\n",
       "DPMBot6_18      2508\n",
       "DPMBot6_21      1757\n",
       "DPMBot6_14      1579\n",
       "DPMBot6_1       1557\n",
       "DPMBot6_44      1032\n",
       "Name: count, dtype: int64"
      ]
     },
     "execution_count": 73,
     "metadata": {},
     "output_type": "execute_result"
    }
   ],
   "source": [
    "df_mapping_R1['pattern'].str.split(',').map(lambda x: x[0]).value_counts().sort_values(ascending=False).head(10)"
   ]
  },
  {
   "cell_type": "code",
   "execution_count": 65,
   "id": "2670594b-603f-4f70-826d-049e85525551",
   "metadata": {},
   "outputs": [
    {
     "data": {
      "text/html": [
       "<div>\n",
       "<style scoped>\n",
       "    .dataframe tbody tr th:only-of-type {\n",
       "        vertical-align: middle;\n",
       "    }\n",
       "\n",
       "    .dataframe tbody tr th {\n",
       "        vertical-align: top;\n",
       "    }\n",
       "\n",
       "    .dataframe thead th {\n",
       "        text-align: right;\n",
       "    }\n",
       "</style>\n",
       "<table border=\"1\" class=\"dataframe\">\n",
       "  <thead>\n",
       "    <tr style=\"text-align: right;\">\n",
       "      <th></th>\n",
       "      <th>pattern</th>\n",
       "      <th>count</th>\n",
       "    </tr>\n",
       "  </thead>\n",
       "  <tbody>\n",
       "    <tr>\n",
       "      <th>1200</th>\n",
       "      <td>oligo_bc4_rc,R1TopA4,R2TopB19,R3TopC5</td>\n",
       "      <td>49</td>\n",
       "    </tr>\n",
       "    <tr>\n",
       "      <th>5316</th>\n",
       "      <td>oligo_bc5_rc,R1TopA4,R2TopB19,R3TopC5</td>\n",
       "      <td>35</td>\n",
       "    </tr>\n",
       "    <tr>\n",
       "      <th>2673</th>\n",
       "      <td>oligo_bc2_rc,R1TopA4,R2TopB19,R3TopC5</td>\n",
       "      <td>32</td>\n",
       "    </tr>\n",
       "    <tr>\n",
       "      <th>1800</th>\n",
       "      <td>oligo_bc5_rc,R1TopA2,R2TopB4,R3TopC8</td>\n",
       "      <td>32</td>\n",
       "    </tr>\n",
       "    <tr>\n",
       "      <th>8322</th>\n",
       "      <td>oligo_bc4_rc,R1TopA2,R2TopB4,R3TopC8</td>\n",
       "      <td>27</td>\n",
       "    </tr>\n",
       "    <tr>\n",
       "      <th>2150</th>\n",
       "      <td>oligo_bc3_rc,R1TopA4,R2TopB19,R3TopC5</td>\n",
       "      <td>26</td>\n",
       "    </tr>\n",
       "    <tr>\n",
       "      <th>3220</th>\n",
       "      <td>oligo_bc2_rc,R1TopA5,R2TopB15,R3TopC3</td>\n",
       "      <td>22</td>\n",
       "    </tr>\n",
       "    <tr>\n",
       "      <th>4853</th>\n",
       "      <td>oligo_bc5_rc,R1TopA18,R2TopB3,R3TopC19</td>\n",
       "      <td>20</td>\n",
       "    </tr>\n",
       "    <tr>\n",
       "      <th>7761</th>\n",
       "      <td>oligo_bc2_rc,R1TopA18,R2TopB3,R3TopC19</td>\n",
       "      <td>18</td>\n",
       "    </tr>\n",
       "    <tr>\n",
       "      <th>2820</th>\n",
       "      <td>oligo_bc2_rc,R1TopA2,R2TopB4,R3TopC8</td>\n",
       "      <td>18</td>\n",
       "    </tr>\n",
       "    <tr>\n",
       "      <th>24964</th>\n",
       "      <td>oligo_bc5_rc,R1TopA11,R2TopB19,R3TopC17</td>\n",
       "      <td>16</td>\n",
       "    </tr>\n",
       "    <tr>\n",
       "      <th>70</th>\n",
       "      <td>oligo_bc4_rc,R1TopA10,R2TopB21,R3TopC12</td>\n",
       "      <td>16</td>\n",
       "    </tr>\n",
       "    <tr>\n",
       "      <th>21937</th>\n",
       "      <td>oligo_bc3_rc,R1TopA3,R2TopB18,R3TopC6</td>\n",
       "      <td>15</td>\n",
       "    </tr>\n",
       "    <tr>\n",
       "      <th>9448</th>\n",
       "      <td>oligo_bc3_rc,R1TopA2,R2TopB8,R3TopC9</td>\n",
       "      <td>15</td>\n",
       "    </tr>\n",
       "    <tr>\n",
       "      <th>4523</th>\n",
       "      <td>oligo_bc2_rc,R1TopA6,R2TopB13,R3TopC18</td>\n",
       "      <td>15</td>\n",
       "    </tr>\n",
       "    <tr>\n",
       "      <th>8090</th>\n",
       "      <td>oligo_bc4_rc,R1TopA2,R2TopB4,R3TopC10</td>\n",
       "      <td>14</td>\n",
       "    </tr>\n",
       "    <tr>\n",
       "      <th>2198</th>\n",
       "      <td>oligo_bc3_rc,R1TopA22,R2TopB2,R3TopC12</td>\n",
       "      <td>14</td>\n",
       "    </tr>\n",
       "    <tr>\n",
       "      <th>6169</th>\n",
       "      <td>oligo_bc3_rc,R1TopA4,R2TopB16,R3TopC13</td>\n",
       "      <td>13</td>\n",
       "    </tr>\n",
       "    <tr>\n",
       "      <th>3526</th>\n",
       "      <td>oligo_bc5_rc,R1TopA10,R2TopB21,R3TopC12</td>\n",
       "      <td>13</td>\n",
       "    </tr>\n",
       "    <tr>\n",
       "      <th>13151</th>\n",
       "      <td>oligo_bc4_rc,R1TopA10,R2TopB21,R3TopC11</td>\n",
       "      <td>13</td>\n",
       "    </tr>\n",
       "  </tbody>\n",
       "</table>\n",
       "</div>"
      ],
      "text/plain": [
       "                                       pattern  count\n",
       "1200     oligo_bc4_rc,R1TopA4,R2TopB19,R3TopC5     49\n",
       "5316     oligo_bc5_rc,R1TopA4,R2TopB19,R3TopC5     35\n",
       "2673     oligo_bc2_rc,R1TopA4,R2TopB19,R3TopC5     32\n",
       "1800      oligo_bc5_rc,R1TopA2,R2TopB4,R3TopC8     32\n",
       "8322      oligo_bc4_rc,R1TopA2,R2TopB4,R3TopC8     27\n",
       "2150     oligo_bc3_rc,R1TopA4,R2TopB19,R3TopC5     26\n",
       "3220     oligo_bc2_rc,R1TopA5,R2TopB15,R3TopC3     22\n",
       "4853    oligo_bc5_rc,R1TopA18,R2TopB3,R3TopC19     20\n",
       "7761    oligo_bc2_rc,R1TopA18,R2TopB3,R3TopC19     18\n",
       "2820      oligo_bc2_rc,R1TopA2,R2TopB4,R3TopC8     18\n",
       "24964  oligo_bc5_rc,R1TopA11,R2TopB19,R3TopC17     16\n",
       "70     oligo_bc4_rc,R1TopA10,R2TopB21,R3TopC12     16\n",
       "21937    oligo_bc3_rc,R1TopA3,R2TopB18,R3TopC6     15\n",
       "9448      oligo_bc3_rc,R1TopA2,R2TopB8,R3TopC9     15\n",
       "4523    oligo_bc2_rc,R1TopA6,R2TopB13,R3TopC18     15\n",
       "8090     oligo_bc4_rc,R1TopA2,R2TopB4,R3TopC10     14\n",
       "2198    oligo_bc3_rc,R1TopA22,R2TopB2,R3TopC12     14\n",
       "6169    oligo_bc3_rc,R1TopA4,R2TopB16,R3TopC13     13\n",
       "3526   oligo_bc5_rc,R1TopA10,R2TopB21,R3TopC12     13\n",
       "13151  oligo_bc4_rc,R1TopA10,R2TopB21,R3TopC11     13"
      ]
     },
     "execution_count": 65,
     "metadata": {},
     "output_type": "execute_result"
    }
   ],
   "source": [
    "df_mapping_R1.loc[df_mapping_R1['pattern'].str.contains('oligo_bc[2-5]_rc,R1Top[^,]+,R2Top[^,]+,R3Top[^,]+')].sort_values('count', ascending=False).head(20)"
   ]
  },
  {
   "cell_type": "code",
   "execution_count": 64,
   "id": "0baf6333-394c-4636-a5ec-b99bffe4065a",
   "metadata": {},
   "outputs": [
    {
     "data": {
      "text/plain": [
       "<Axes: >"
      ]
     },
     "execution_count": 64,
     "metadata": {},
     "output_type": "execute_result"
    },
    {
     "data": {
      "image/png": "[encoded data removed]",
      "text/plain": [
       "<Figure size 640x480 with 1 Axes>"
      ]
     },
     "metadata": {},
     "output_type": "display_data"
    }
   ],
   "source": [
    "df_mapping_R1.loc[df_mapping_R1['pattern'].str.contains('oligo_bc[2-5]_rc,R1Top[^,]+,R2Top[^,]+,R3Top[^,]+')]"
   ]
  }
 ],
 "metadata": {
  "kernelspec": {
   "display_name": "py3",
   "language": "python",
   "name": "py3"
  },
  "language_info": {
   "codemirror_mode": {
    "name": "ipython",
    "version": 3
   },
   "file_extension": ".py",
   "mimetype": "text/x-python",
   "name": "python",
   "nbconvert_exporter": "python",
   "pygments_lexer": "ipython3",
   "version": "3.10.12"
  }
 },
 "nbformat": 4,
 "nbformat_minor": 5
}
