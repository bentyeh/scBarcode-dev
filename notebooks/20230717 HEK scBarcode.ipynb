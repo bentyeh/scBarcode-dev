{
 "cells": [
  {
   "cell_type": "code",
   "execution_count": 1,
   "id": "f0f05408-21d6-47e5-9cf4-a52a95efdf99",
   "metadata": {
    "collapsed": true,
    "jupyter": {
     "outputs_hidden": true
    }
   },
   "outputs": [
    {
     "name": "stderr",
     "output_type": "stream",
     "text": [
      "/home/btyeh/miniconda3/envs/py3/lib/python3.10/site-packages/Bio/pairwise2.py:278: BiopythonDeprecationWarning: Bio.pairwise2 has been deprecated, and we intend to remove it in a future release of Biopython. As an alternative, please consider using Bio.Align.PairwiseAligner as a replacement, and contact the Biopython developers if you still need the Bio.pairwise2 module.\n",
      "  warnings.warn(\n"
     ]
    }
   ],
   "source": [
    "import collections\n",
    "import gzip\n",
    "import json\n",
    "import os\n",
    "import re\n",
    "import string\n",
    "import subprocess\n",
    "import sys\n",
    "import numpy as np\n",
    "import pandas as pd\n",
    "import matplotlib.pyplot as plt\n",
    "import seaborn as sns\n",
    "from tqdm.auto import tqdm\n",
    "import editdistance\n",
    "from Bio import pairwise2"
   ]
  },
  {
   "cell_type": "code",
   "execution_count": 21,
   "id": "e2660768-8714-4ef9-bc15-35eca67c577e",
   "metadata": {
    "tags": []
   },
   "outputs": [],
   "source": [
    "DIR_PROJECT = '/central/groups/guttman/btyeh/scBarcode'\n",
    "DIR_DATA = os.path.join(DIR_PROJECT, 'data', '20230717')\n",
    "DIR_PROC = os.path.join(DIR_PROJECT, 'data_proc', '20230717')\n",
    "DIR_REF = os.path.join(DIR_PROJECT, 'data_ref')\n",
    "DIR_AUX = os.path.join(DIR_PROJECT, 'data_aux', '20230717')\n",
    "\n",
    "os.makedirs(DIR_AUX, exist_ok=True)\n",
    "os.makedirs(DIR_PROC, exist_ok=True)"
   ]
  },
  {
   "cell_type": "code",
   "execution_count": 3,
   "id": "8cfaa288-537d-407a-9898-c390d86bc731",
   "metadata": {},
   "outputs": [],
   "source": [
    "n_threads = 10"
   ]
  },
  {
   "cell_type": "markdown",
   "id": "7b4d1f28-dd2a-4603-a6bb-26f2226020ee",
   "metadata": {},
   "source": [
    "# Code Setup"
   ]
  },
  {
   "cell_type": "code",
   "execution_count": 4,
   "id": "45920d3f-2a86-4770-a32a-5b2e67e0f539",
   "metadata": {},
   "outputs": [],
   "source": [
    "from contextlib import AbstractContextManager\n",
    "\n",
    "class BashRunnerWithSharedEnvironment(AbstractContextManager):\n",
    "    \"\"\"\n",
    "    Run multiple bash scripts with persisent environment.\n",
    "    Environment is stored to \"env\" member between runs. This can be updated\n",
    "    directly to adjust the environment, or read to get variables.\n",
    "    \"\"\"\n",
    "\n",
    "    def __init__(self, env=None):\n",
    "        if env is None:\n",
    "            env = dict(os.environ)\n",
    "        self.env: Dict[str, str] = env\n",
    "        self._fd_read, self._fd_write = os.pipe()\n",
    "\n",
    "    def run(self, cmd, **opts):\n",
    "        if self._fd_read is None:\n",
    "            raise RuntimeError(\"BashRunner is already closed\")\n",
    "        write_env_pycode = \";\".join(\n",
    "            [\n",
    "                \"import os\",\n",
    "                \"import json\",\n",
    "                f\"os.write({self._fd_write}, json.dumps(dict(os.environ)).encode())\",\n",
    "            ]\n",
    "        )\n",
    "        write_env_shell_cmd = f\"{sys.executable} -c '{write_env_pycode}'\"\n",
    "        cmd += \"\\n\" + write_env_shell_cmd\n",
    "        result = subprocess.run(\n",
    "            [\"bash\", \"-ce\", cmd], pass_fds=[self._fd_write], env=self.env, **opts\n",
    "        )\n",
    "        self.env = json.loads(os.read(self._fd_read, 50000).decode())\n",
    "        return result\n",
    "\n",
    "    def __exit__(self, exc_type, exc_value, traceback):\n",
    "        if self._fd_read:\n",
    "            os.close(self._fd_read)\n",
    "            os.close(self._fd_write)\n",
    "            self._fd_read = None\n",
    "            self._fd_write = None\n",
    "\n",
    "    def __del__(self):\n",
    "        self.__exit__(None, None, None)"
   ]
  },
  {
   "cell_type": "code",
   "execution_count": 5,
   "id": "42cbce07-d182-40a0-b674-896697885ed3",
   "metadata": {},
   "outputs": [],
   "source": [
    "def fastq_parse(fp):\n",
    "    \"\"\"\n",
    "    Parse fastq file.\n",
    "    \"\"\"\n",
    "    linecount = 0\n",
    "    name, seq, thrd, qual = [None] * 4\n",
    "    for line in fp:\n",
    "        linecount += 1\n",
    "        try:\n",
    "            line_stripped = line.decode(\"UTF-8\").rstrip()\n",
    "        except AttributeError:\n",
    "            line_stripped = line.rstrip()\n",
    "        if linecount % 4 == 1:\n",
    "            name = line_stripped\n",
    "            assert name.startswith(\"@\")\n",
    "        elif linecount % 4 == 2:\n",
    "            seq = line_stripped\n",
    "        elif linecount % 4 == 3:\n",
    "            thrd = line_stripped\n",
    "            assert thrd.startswith(\"+\")\n",
    "        elif linecount % 4 == 0:\n",
    "            qual = line_stripped\n",
    "            assert len(seq) == len(qual)\n",
    "            yield name, seq, thrd, qual\n",
    "            name, seq, thrd, qual = [None] * 4"
   ]
  },
  {
   "cell_type": "code",
   "execution_count": 6,
   "id": "d319e91c-7fa7-4afa-8906-1d699f50527e",
   "metadata": {},
   "outputs": [],
   "source": [
    "dict_complement = {'A': 'T', 'T': 'A', 'C': 'G', 'G': 'C', 'N': 'N'}\n",
    "def reverse_complement(s, allow_noncanonical=False):\n",
    "    if allow_noncanonical is False:\n",
    "        return ''.join(dict_complement[base] for base in reversed(s))\n",
    "    else:\n",
    "        return ''.join(dict_complement.get(base, base) for base in reversed(s))"
   ]
  },
  {
   "cell_type": "code",
   "execution_count": 7,
   "id": "51c5c0fb-ae47-4de3-8492-7e15161608b0",
   "metadata": {},
   "outputs": [
    {
     "data": {
      "text/plain": [
       "CompletedProcess(args=['bash', '-ce', \"source ~/.bashrc; conda activate sprite\\n/home/btyeh/miniconda3/envs/py3/bin/python -c 'import os;import json;os.write(59, json.dumps(dict(os.environ)).encode())'\"], returncode=0)"
      ]
     },
     "execution_count": 7,
     "metadata": {},
     "output_type": "execute_result"
    }
   ],
   "source": [
    "sprite_env = BashRunnerWithSharedEnvironment()\n",
    "sprite_env.run('source ~/.bashrc; conda activate sprite')"
   ]
  },
  {
   "cell_type": "markdown",
   "id": "0bc0d1c8-4dab-48ee-b5ee-38c9037a7efd",
   "metadata": {},
   "source": [
    "# Data"
   ]
  },
  {
   "cell_type": "code",
   "execution_count": 8,
   "id": "795f2e89-e369-41de-a10c-fab3b649bbb9",
   "metadata": {},
   "outputs": [],
   "source": [
    "regex_fastq_files = re.compile('(?P<filename>(?P<sample>(?P<cell_count>^.*)cell_aliquot(?P<aliquot>[^_]+)_(?P<band>barcode|150bp))_.*R(?P<read>1|2)_001.fastq.gz)')"
   ]
  },
  {
   "cell_type": "code",
   "execution_count": 9,
   "id": "b57c66d1-9391-4235-9104-3317c60518f7",
   "metadata": {},
   "outputs": [],
   "source": [
    "df_data = pd.DataFrame([regex_fastq_files.match(file).groupdict() for file in os.listdir(DIR_DATA)])\n",
    "df_data['cell_count'] = df_data['cell_count'].str.replace('-', '.').astype(float)\n",
    "df_data['read'] = df_data['read'].astype(int)"
   ]
  },
  {
   "cell_type": "code",
   "execution_count": 10,
   "id": "d29644e8-b430-48a8-b5fa-047cfde727e3",
   "metadata": {},
   "outputs": [],
   "source": [
    "popen_counts = dict()\n",
    "for sample, group in df_data.groupby('sample'):\n",
    "    filename = group.loc[group['read'] == 1, 'filename'].item()\n",
    "    cmd = \"unpigz -c {path_fastq_raw} | wc -l | awk '{{print $1 / 4}}'\".format(path_fastq_raw=os.path.join(DIR_DATA, filename))\n",
    "    popen_counts[sample] = subprocess.Popen(cmd, shell=True, stdin=subprocess.PIPE, stdout=subprocess.PIPE)"
   ]
  },
  {
   "cell_type": "code",
   "execution_count": 11,
   "id": "5122aff8-dc0e-48df-84e2-b5f5912b581c",
   "metadata": {},
   "outputs": [],
   "source": [
    "df_data['n_reads'] = 0\n",
    "for sample, popen in popen_counts.items():\n",
    "    count, err = popen.communicate()\n",
    "    assert err is None and popen.returncode == 0\n",
    "    df_data.loc[df_data['sample'] == sample, 'n_reads'] = int(count.decode().strip())"
   ]
  },
  {
   "cell_type": "code",
   "execution_count": 12,
   "id": "2db280a1-88ad-43b3-b1d1-b68fe248ceea",
   "metadata": {},
   "outputs": [
    {
     "data": {
      "text/html": [
       "<div>\n",
       "<style scoped>\n",
       "    .dataframe tbody tr th:only-of-type {\n",
       "        vertical-align: middle;\n",
       "    }\n",
       "\n",
       "    .dataframe tbody tr th {\n",
       "        vertical-align: top;\n",
       "    }\n",
       "\n",
       "    .dataframe thead th {\n",
       "        text-align: right;\n",
       "    }\n",
       "</style>\n",
       "<table border=\"1\" class=\"dataframe\">\n",
       "  <thead>\n",
       "    <tr style=\"text-align: right;\">\n",
       "      <th></th>\n",
       "      <th>filename</th>\n",
       "      <th>sample</th>\n",
       "      <th>cell_count</th>\n",
       "      <th>aliquot</th>\n",
       "      <th>band</th>\n",
       "      <th>read</th>\n",
       "      <th>n_reads</th>\n",
       "    </tr>\n",
       "  </thead>\n",
       "  <tbody>\n",
       "    <tr>\n",
       "      <th>8</th>\n",
       "      <td>0-15625cell_aliquot1_150bp_S3_L001_R1_001.fast...</td>\n",
       "      <td>0-15625cell_aliquot1_150bp</td>\n",
       "      <td>0.15625</td>\n",
       "      <td>1</td>\n",
       "      <td>150bp</td>\n",
       "      <td>1</td>\n",
       "      <td>159327</td>\n",
       "    </tr>\n",
       "    <tr>\n",
       "      <th>2</th>\n",
       "      <td>0-15625cell_aliquot1_150bp_S3_L001_R2_001.fast...</td>\n",
       "      <td>0-15625cell_aliquot1_150bp</td>\n",
       "      <td>0.15625</td>\n",
       "      <td>1</td>\n",
       "      <td>150bp</td>\n",
       "      <td>2</td>\n",
       "      <td>159327</td>\n",
       "    </tr>\n",
       "    <tr>\n",
       "      <th>5</th>\n",
       "      <td>0-5cell_aliquotA6_barcode_S4_L001_R1_001.fastq.gz</td>\n",
       "      <td>0-5cell_aliquotA6_barcode</td>\n",
       "      <td>0.50000</td>\n",
       "      <td>A6</td>\n",
       "      <td>barcode</td>\n",
       "      <td>1</td>\n",
       "      <td>2651</td>\n",
       "    </tr>\n",
       "    <tr>\n",
       "      <th>6</th>\n",
       "      <td>0-5cell_aliquotA6_barcode_S4_L001_R2_001.fastq.gz</td>\n",
       "      <td>0-5cell_aliquotA6_barcode</td>\n",
       "      <td>0.50000</td>\n",
       "      <td>A6</td>\n",
       "      <td>barcode</td>\n",
       "      <td>2</td>\n",
       "      <td>2651</td>\n",
       "    </tr>\n",
       "    <tr>\n",
       "      <th>1</th>\n",
       "      <td>0-5cell_aliquotE9_barcode_S5_L001_R1_001.fastq.gz</td>\n",
       "      <td>0-5cell_aliquotE9_barcode</td>\n",
       "      <td>0.50000</td>\n",
       "      <td>E9</td>\n",
       "      <td>barcode</td>\n",
       "      <td>1</td>\n",
       "      <td>11121</td>\n",
       "    </tr>\n",
       "    <tr>\n",
       "      <th>7</th>\n",
       "      <td>0-5cell_aliquotE9_barcode_S5_L001_R2_001.fastq.gz</td>\n",
       "      <td>0-5cell_aliquotE9_barcode</td>\n",
       "      <td>0.50000</td>\n",
       "      <td>E9</td>\n",
       "      <td>barcode</td>\n",
       "      <td>2</td>\n",
       "      <td>11121</td>\n",
       "    </tr>\n",
       "    <tr>\n",
       "      <th>3</th>\n",
       "      <td>0-625cell_aliquot3_barcode_S2_L001_R1_001.fast...</td>\n",
       "      <td>0-625cell_aliquot3_barcode</td>\n",
       "      <td>0.62500</td>\n",
       "      <td>3</td>\n",
       "      <td>barcode</td>\n",
       "      <td>1</td>\n",
       "      <td>42984</td>\n",
       "    </tr>\n",
       "    <tr>\n",
       "      <th>9</th>\n",
       "      <td>0-625cell_aliquot3_barcode_S2_L001_R2_001.fast...</td>\n",
       "      <td>0-625cell_aliquot3_barcode</td>\n",
       "      <td>0.62500</td>\n",
       "      <td>3</td>\n",
       "      <td>barcode</td>\n",
       "      <td>2</td>\n",
       "      <td>42984</td>\n",
       "    </tr>\n",
       "    <tr>\n",
       "      <th>0</th>\n",
       "      <td>10cell_aliquot1_barcode_S1_L001_R1_001.fastq.gz</td>\n",
       "      <td>10cell_aliquot1_barcode</td>\n",
       "      <td>10.00000</td>\n",
       "      <td>1</td>\n",
       "      <td>barcode</td>\n",
       "      <td>1</td>\n",
       "      <td>4441223</td>\n",
       "    </tr>\n",
       "    <tr>\n",
       "      <th>4</th>\n",
       "      <td>10cell_aliquot1_barcode_S1_L001_R2_001.fastq.gz</td>\n",
       "      <td>10cell_aliquot1_barcode</td>\n",
       "      <td>10.00000</td>\n",
       "      <td>1</td>\n",
       "      <td>barcode</td>\n",
       "      <td>2</td>\n",
       "      <td>4441223</td>\n",
       "    </tr>\n",
       "  </tbody>\n",
       "</table>\n",
       "</div>"
      ],
      "text/plain": [
       "                                            filename  \\\n",
       "8  0-15625cell_aliquot1_150bp_S3_L001_R1_001.fast...   \n",
       "2  0-15625cell_aliquot1_150bp_S3_L001_R2_001.fast...   \n",
       "5  0-5cell_aliquotA6_barcode_S4_L001_R1_001.fastq.gz   \n",
       "6  0-5cell_aliquotA6_barcode_S4_L001_R2_001.fastq.gz   \n",
       "1  0-5cell_aliquotE9_barcode_S5_L001_R1_001.fastq.gz   \n",
       "7  0-5cell_aliquotE9_barcode_S5_L001_R2_001.fastq.gz   \n",
       "3  0-625cell_aliquot3_barcode_S2_L001_R1_001.fast...   \n",
       "9  0-625cell_aliquot3_barcode_S2_L001_R2_001.fast...   \n",
       "0    10cell_aliquot1_barcode_S1_L001_R1_001.fastq.gz   \n",
       "4    10cell_aliquot1_barcode_S1_L001_R2_001.fastq.gz   \n",
       "\n",
       "                       sample  cell_count aliquot     band  read  n_reads  \n",
       "8  0-15625cell_aliquot1_150bp     0.15625       1    150bp     1   159327  \n",
       "2  0-15625cell_aliquot1_150bp     0.15625       1    150bp     2   159327  \n",
       "5   0-5cell_aliquotA6_barcode     0.50000      A6  barcode     1     2651  \n",
       "6   0-5cell_aliquotA6_barcode     0.50000      A6  barcode     2     2651  \n",
       "1   0-5cell_aliquotE9_barcode     0.50000      E9  barcode     1    11121  \n",
       "7   0-5cell_aliquotE9_barcode     0.50000      E9  barcode     2    11121  \n",
       "3  0-625cell_aliquot3_barcode     0.62500       3  barcode     1    42984  \n",
       "9  0-625cell_aliquot3_barcode     0.62500       3  barcode     2    42984  \n",
       "0     10cell_aliquot1_barcode    10.00000       1  barcode     1  4441223  \n",
       "4     10cell_aliquot1_barcode    10.00000       1  barcode     2  4441223  "
      ]
     },
     "execution_count": 12,
     "metadata": {},
     "output_type": "execute_result"
    }
   ],
   "source": [
    "df_data = df_data.sort_values(['cell_count', 'aliquot', 'read'])\n",
    "df_data"
   ]
  },
  {
   "cell_type": "markdown",
   "id": "5d27a670-8b14-4bc9-97f7-9bc4a95dbd91",
   "metadata": {},
   "source": [
    "# FastQC"
   ]
  },
  {
   "cell_type": "code",
   "execution_count": 13,
   "id": "b50088ce-20e6-4021-b3b3-04b295378a8d",
   "metadata": {},
   "outputs": [],
   "source": [
    "dir_fastqc = os.path.join(DIR_PROC, 'fastqc')\n",
    "os.makedirs(dir_fastqc, exist_ok=True)"
   ]
  },
  {
   "cell_type": "code",
   "execution_count": 14,
   "id": "3b493300-6bf6-4c67-b541-ddbf53c1159b",
   "metadata": {},
   "outputs": [],
   "source": [
    "paths_fastq_raw = []\n",
    "for filename in df_data['filename']:\n",
    "    path_fastqc = os.path.join(dir_fastqc, filename.replace('.fastq.gz', '_fastqc.html'))\n",
    "    if not os.path.exists(path_fastqc):\n",
    "        paths_fastq_raw.append(os.path.join(DIR_DATA, filename))\n",
    "if len(paths_fastq_raw) > 0:\n",
    "    paths_fastq_raw = ' '.join((f'\"{s}\"' for s in paths_fastq_raw))\n",
    "    sprite_env.run(f'fastqc {paths_fastq_raw} -o {dir_fastqc} -t {n_threads}')"
   ]
  },
  {
   "cell_type": "markdown",
   "id": "c7996434-04c6-4c98-9686-f87e61189272",
   "metadata": {},
   "source": [
    "# Merge read 1 and read 2\n",
    "\n",
    "Strategy: merge read 1 and read 2 --> splitcode on merged reads\n",
    "\n",
    "Alternative strategy (not implemented): (optional) adapter trim --> splitcode on read 1 and read 2"
   ]
  },
  {
   "cell_type": "code",
   "execution_count": 15,
   "id": "e180dd7d-8280-400c-8b58-1301134f641c",
   "metadata": {},
   "outputs": [],
   "source": [
    "cmd_merge = (\n",
    "    'NGmerge -1 {path_read1} -2 {path_read2} -o {path_merged} -f {path_failed}'\n",
    "    ' -d -e 20 -z'\n",
    "    ' -l {path_log_stich}'\n",
    "    ' -c {path_log_dovetail}'\n",
    "    ' -j {path_log_alignment}'\n",
    "    ' -n {n_threads}')"
   ]
  },
  {
   "cell_type": "code",
   "execution_count": 16,
   "id": "29220cdc-daca-476d-8cab-28dfd4aa1849",
   "metadata": {},
   "outputs": [],
   "source": [
    "dir_merged = os.path.join(DIR_PROC, 'merged')\n",
    "os.makedirs(dir_merged, exist_ok=True)"
   ]
  },
  {
   "cell_type": "code",
   "execution_count": 17,
   "id": "94956400-8e8e-4756-a104-4e0349ae6bd1",
   "metadata": {},
   "outputs": [],
   "source": [
    "n_threads = 10\n",
    "for sample, group in df_data.groupby('sample'):\n",
    "    path_merged = os.path.join(dir_merged, f'{sample}.fastq.gz')\n",
    "    if not os.path.exists(path_merged):\n",
    "        path_read1 = os.path.join(DIR_DATA, group.loc[group['read'] == 1, 'filename'].item())\n",
    "        path_read2 = os.path.join(DIR_DATA, group.loc[group['read'] == 2, 'filename'].item())\n",
    "        path_failed = os.path.join(dir_merged, f'{sample}_failed')\n",
    "        path_log_stich = os.path.join(dir_merged, f'{sample}.stitch.log')\n",
    "        path_log_dovetail = os.path.join(dir_merged, f'{sample}.dovetail.log')\n",
    "        path_log_alignment = os.path.join(dir_merged, f'{sample}.alignment.log')\n",
    "        cmd_run = cmd_merge.format(\n",
    "            path_read1=path_read1,\n",
    "            path_read2=path_read2,\n",
    "            path_merged=path_merged,\n",
    "            path_failed=path_failed,\n",
    "            path_log_stich=path_log_stich,\n",
    "            path_log_dovetail=path_log_dovetail,\n",
    "            path_log_alignment=path_log_alignment,\n",
    "            n_threads=n_threads)\n",
    "        subprocess.run(cmd_run, shell=True)"
   ]
  },
  {
   "cell_type": "markdown",
   "id": "65688b10-3db8-4b0b-8f15-a4473d22250a",
   "metadata": {},
   "source": [
    "Run FASTQC on merged FASTQ files"
   ]
  },
  {
   "cell_type": "code",
   "execution_count": 18,
   "id": "223ae7e7-7666-456f-b4b6-cc1ca7ba29ad",
   "metadata": {},
   "outputs": [],
   "source": [
    "paths_fastq_merged = []\n",
    "for sample in df_data['sample'].unique():\n",
    "    path_merged_fastqc = os.path.join(dir_merged, f'{sample}_fastqc.html')\n",
    "    if not os.path.exists(path_merged_fastqc):\n",
    "        paths_fastq_merged.append(os.path.join(dir_merged, f'{sample}.fastq.gz'))\n",
    "if len(paths_fastq_merged) > 0:\n",
    "    paths_fastq_merged = ' '.join((f'\"{s}\"' for s in paths_fastq_merged))\n",
    "    sprite_env.run(f'fastqc {paths_fastq_merged} -o {dir_merged} -t {n_threads}')"
   ]
  },
  {
   "cell_type": "markdown",
   "id": "9cf827b3-ebfd-401a-b268-4d011e5a9b05",
   "metadata": {},
   "source": [
    "# Barcode Identification"
   ]
  },
  {
   "cell_type": "markdown",
   "id": "71cc6232-4fc6-4736-82ee-08482f27afe0",
   "metadata": {},
   "source": [
    "## Create config file\n",
    "\n",
    "- `spritezero_tags.csv` generated from Mario's Google Sheet [scRNAbarcodeBot](https://docs.google.com/spreadsheets/d/1ucpUbArWQl1EUA2CRq7o9Zhc-kuE72fn/) via my Google Colab notebook [SPRITE Zero Tags Config](https://colab.research.google.com/drive/1O8EIRJz3x6inn1-K9bzOYOjfQcMsnPfh)\n",
    "- `sprite_tags.csv`\n",
    "\n",
    "Experimental Notes\n",
    "- R2: did not have cells in wells D9-D12\n",
    "- R3: did not have cells nor barcode in wells F10-F12\n",
    "- NY ligates odd: rows C+D; did not have cells nor barcodes for barcodes D11-D12\n",
    "\n",
    "See [expected library barcode structure](https://benchling.com/s/seq-T9t12cM5vSMuNkk1PUH1) (and [reverse complement](https://benchling.com/s/seq-CUVIraYbDqaaljL0CPZf)) on Benchling"
   ]
  },
  {
   "cell_type": "code",
   "execution_count": 19,
   "id": "cd212e17-7a3f-48c7-b010-308c6cac2fd6",
   "metadata": {},
   "outputs": [],
   "source": [
    "path_config = os.path.join(DIR_AUX, 'splitcode-config.txt')"
   ]
  },
  {
   "cell_type": "code",
   "execution_count": 20,
   "id": "cac65f5e-83db-407d-8171-ba7fb8cb7718",
   "metadata": {},
   "outputs": [],
   "source": [
    "df_oligos = pd.DataFrame({\n",
    "    'groups': 'oligo',\n",
    "    'ids': ('PC50_8merUMI_bc2_odd_sticky', 'PC50_8merUMI_bc3_odd_sticky', 'PC50_8merUMI_bc4_odd_sticky', 'PC50_8merUMI_bc5_odd_sticky'),\n",
    "    'tags': ('TAGCTACCTT', 'CCTTGAGAG', 'CCACCGAAT', 'CATCAGTTGT')})\n",
    "df_oligos['tags'] = df_oligos['tags'].map(reverse_complement)"
   ]
  },
  {
   "cell_type": "code",
   "execution_count": 21,
   "id": "2d942001-c93f-465a-b78a-55b687cd5c10",
   "metadata": {},
   "outputs": [],
   "source": [
    "df_sprite = pd.read_csv(os.path.join(DIR_REF, 'sprite_tags.csv'))\n",
    "df_sprite = df_sprite \\\n",
    "    .loc[(df_sprite['Plate'] == 'NYLigOddStgTop') &\n",
    "         (df_sprite['Well'].str.match('(C|D)\\d+')) &\n",
    "         ~df_sprite['Well'].isin(('D11', 'D12'))] \\\n",
    "    .rename(columns={'Plate': 'groups', 'Name': 'ids', 'Unique Sequence': 'tags'}) \\\n",
    "    [['groups', 'ids', 'tags']]"
   ]
  },
  {
   "cell_type": "code",
   "execution_count": 22,
   "id": "89e7a9f7-4604-41ed-8d1d-1ef21c710bd2",
   "metadata": {},
   "outputs": [],
   "source": [
    "df_spritezero = pd.read_csv(os.path.join(DIR_AUX, 'spritezero_tags.csv'))\n",
    "df_spritezero = df_spritezero.loc[df_spritezero['Orientation'] == 'Top'].rename(\n",
    "    columns={'Plate': 'groups', 'Name': 'ids', 'Unique Sequence': 'tags'}) \\\n",
    "    [['groups', 'ids', 'tags']]"
   ]
  },
  {
   "cell_type": "code",
   "execution_count": 23,
   "id": "5048a6af-13cd-470c-89c5-11962bc36023",
   "metadata": {},
   "outputs": [],
   "source": [
    "df_spacer = pd.DataFrame({'groups': ('spacer',), 'ids': ('odd',), 'tags': ('CAAGTCA',)})"
   ]
  },
  {
   "cell_type": "code",
   "execution_count": 24,
   "id": "3d6744e2-4235-4f32-a088-5c5dbfb5f108",
   "metadata": {},
   "outputs": [],
   "source": [
    "df_config = pd.concat((df_oligos, df_spritezero, df_sprite, df_spacer), axis=0, ignore_index=True)"
   ]
  },
  {
   "cell_type": "code",
   "execution_count": 25,
   "id": "cb49ab09-98a9-405c-876c-1a26fe9d8547",
   "metadata": {},
   "outputs": [],
   "source": [
    "df_config['distances'] = 1\n",
    "df_config['minFindsG'] = 1\n",
    "df_config['maxFindsG'] = 1"
   ]
  },
  {
   "cell_type": "code",
   "execution_count": 26,
   "id": "f1e645c8-faa2-4e72-b941-dea552d5ba01",
   "metadata": {},
   "outputs": [],
   "source": [
    "df_config['next'] = '-'\n",
    "df_config.loc[df_config['groups'] == 'oligo', 'next'] = '{{spacer}}8-8'\n",
    "df_config.loc[df_config['groups'] == 'spacer', 'next'] = '{{R1Top}}0-0'\n",
    "df_config.loc[df_config['groups'] == 'R1Top', 'next'] = '{{R2Top}}5-9'\n",
    "df_config.loc[df_config['groups'] == 'R2Top', 'next'] = '{{R3Top}}5-9'\n",
    "df_config.loc[df_config['groups'] == 'R3Top', 'next'] = '{{NYLigOddStgTop}}5-9'"
   ]
  },
  {
   "cell_type": "code",
   "execution_count": 27,
   "id": "501b27c1-7f7b-4615-b1c3-06d8b731e8df",
   "metadata": {},
   "outputs": [],
   "source": [
    "df_config['locations'] = '0:0'\n",
    "df_config.loc[df_config['groups'] == 'oligo', 'locations'] = '0:0:10'\n",
    "df_config.loc[df_config['groups'] == 'spacer', 'locations'] = '0:16:25'\n",
    "df_config.loc[df_config['groups'] == 'R1Top', 'locations'] = '0:23:45'\n",
    "df_config.loc[df_config['groups'] == 'R2Top', 'locations'] = '0:45:65'\n",
    "df_config.loc[df_config['groups'] == 'R3Top', 'locations'] = '0:65:88'\n",
    "df_config.loc[df_config['groups'] == 'NYLigOddStgTop', 'locations'] = '0:88:0'"
   ]
  },
  {
   "cell_type": "code",
   "execution_count": 28,
   "id": "e2de1f3e-6f30-4fcf-a696-144c3b0378f3",
   "metadata": {},
   "outputs": [],
   "source": [
    "extraction_header = '@extract <umi{{oligo}}>,{{oligo}}<umi[8]>{{spacer}}'"
   ]
  },
  {
   "cell_type": "code",
   "execution_count": 29,
   "id": "bf729f9b-5352-4c00-b6d0-adcf288a2e83",
   "metadata": {},
   "outputs": [],
   "source": [
    "if not os.path.exists(path_config):\n",
    "    with open(path_config, 'wt') as f:\n",
    "        f.write(extraction_header + '\\n')\n",
    "        df_config.to_csv(f, sep='\\t', index=False)"
   ]
  },
  {
   "cell_type": "markdown",
   "id": "1a1d2526-ecb2-4e0b-812f-1944992b953e",
   "metadata": {},
   "source": [
    "## Splitcode\n",
    "\n",
    "Add barcode and UMI to read name:\n",
    "\n",
    "`@read::[oligo][spacer][R1Top][R2Top][R3Top][NYLigOddStg] RX:Z:<oligo barcode + UMI>`"
   ]
  },
  {
   "cell_type": "code",
   "execution_count": 16,
   "id": "2022cc40-b2bf-451c-ba0d-381b35a079b5",
   "metadata": {},
   "outputs": [],
   "source": [
    "dir_barcodes = os.path.join(DIR_PROC, 'barcodes')\n",
    "os.makedirs(dir_barcodes, exist_ok=True)"
   ]
  },
  {
   "cell_type": "code",
   "execution_count": 31,
   "id": "107493ff-2555-4126-965f-1a2e83bc8c4d",
   "metadata": {},
   "outputs": [],
   "source": [
    "cmd_splitcode = (\n",
    "    f'splitcode -c {path_config} --nFastqs=1 --assign --x-names --mod-names –-no-x-out'\n",
    "    ' -o {path_output}'\n",
    "    ' -u {path_unassigned}'\n",
    "    ' -m {path_mapping}'\n",
    "    ' -s {path_summary}'\n",
    "    ' {path_input}')"
   ]
  },
  {
   "cell_type": "code",
   "execution_count": 32,
   "id": "873b8e4a-5148-4607-b0fb-69492e20b541",
   "metadata": {},
   "outputs": [],
   "source": [
    "for sample in df_data['sample'].unique():\n",
    "    path_output = os.path.join(dir_barcodes, f'{sample}.fastq.gz')\n",
    "    if not os.path.exists(path_output):\n",
    "        path_input = os.path.join(dir_merged, f'{sample}.fastq.gz')\n",
    "        path_output = os.path.join(dir_barcodes, f'{sample}.fastq.gz')\n",
    "        path_unassigned = os.path.join(dir_barcodes, f'{sample}_unassigned.fastq.gz')\n",
    "        path_summary = os.path.join(dir_barcodes, f'{sample}.summary')\n",
    "        path_mapping = os.path.join(dir_barcodes, f'{sample}.mapping')\n",
    "        cmd_run = cmd_splitcode.format(\n",
    "            path_output=path_output,\n",
    "            path_unassigned=path_unassigned,\n",
    "            path_summary=path_summary,\n",
    "            path_mapping=path_mapping,\n",
    "            path_input=path_input)\n",
    "        print(sample)\n",
    "        subprocess.run(cmd_run, shell=True)"
   ]
  },
  {
   "cell_type": "markdown",
   "id": "a7598193-7c91-4e19-86a6-2ee63ff57336",
   "metadata": {
    "tags": []
   },
   "source": [
    "# Clusters\n",
    "\n",
    "Here, \"cluster\" refers to a set of reads with the same barcode (R1-R3 + Y).\n",
    "\n",
    "The `all_clusters` dictionary is structured as follows:\n",
    "- key: sample\n",
    "  - key: barcode / cluster, presumably corresponding to individual cells\n",
    "    - key: UMI (oligo ID + oligo UMI) - the number of such UMIs per cluster gives the \"deduplicated\" count of \"cluster size\" (the number of oligos per cluster (cell))\n",
    "    - value: number of reads"
   ]
  },
  {
   "cell_type": "code",
   "execution_count": 13,
   "id": "38a1f85b-bbfc-4f73-a64d-e780d9630b3f",
   "metadata": {},
   "outputs": [],
   "source": [
    "dir_clusters = os.path.join(DIR_PROC, 'clusters')\n",
    "os.makedirs(dir_clusters, exist_ok=True)"
   ]
  },
  {
   "cell_type": "code",
   "execution_count": 14,
   "id": "c1f7ae95-ec75-4248-894b-8ad2b741c7d4",
   "metadata": {},
   "outputs": [],
   "source": [
    "regex_readname = re.compile('::\\[[^\\]]+\\]\\[odd\\](' + 4 * '\\[[^\\]]+\\]' + ') RX:Z:([ATCG]+)')"
   ]
  },
  {
   "cell_type": "code",
   "execution_count": 17,
   "id": "75851ac7-6fa9-466b-bb18-ddb616370c8a",
   "metadata": {},
   "outputs": [
    {
     "name": "stdout",
     "output_type": "stream",
     "text": [
      "0-15625cell_aliquot1_150bp\n"
     ]
    },
    {
     "data": {
      "application/vnd.jupyter.widget-view+json": {
       "model_id": "d83adf1c271f46c5a7c3b32abf2fd521",
       "version_major": 2,
       "version_minor": 0
      },
      "text/plain": [
       "0it [00:00, ?it/s]"
      ]
     },
     "metadata": {},
     "output_type": "display_data"
    },
    {
     "name": "stdout",
     "output_type": "stream",
     "text": [
      "0-5cell_aliquotA6_barcode\n"
     ]
    },
    {
     "data": {
      "application/vnd.jupyter.widget-view+json": {
       "model_id": "de0cd01f54fa4218b1f2278da59f834a",
       "version_major": 2,
       "version_minor": 0
      },
      "text/plain": [
       "0it [00:00, ?it/s]"
      ]
     },
     "metadata": {},
     "output_type": "display_data"
    },
    {
     "name": "stdout",
     "output_type": "stream",
     "text": [
      "0-5cell_aliquotE9_barcode\n"
     ]
    },
    {
     "data": {
      "application/vnd.jupyter.widget-view+json": {
       "model_id": "5bd65102a76441ecb05988a96a9d6ff0",
       "version_major": 2,
       "version_minor": 0
      },
      "text/plain": [
       "0it [00:00, ?it/s]"
      ]
     },
     "metadata": {},
     "output_type": "display_data"
    },
    {
     "name": "stdout",
     "output_type": "stream",
     "text": [
      "0-625cell_aliquot3_barcode\n"
     ]
    },
    {
     "data": {
      "application/vnd.jupyter.widget-view+json": {
       "model_id": "c45cf0f2e9d6458aba1b686fe60a4a5c",
       "version_major": 2,
       "version_minor": 0
      },
      "text/plain": [
       "0it [00:00, ?it/s]"
      ]
     },
     "metadata": {},
     "output_type": "display_data"
    },
    {
     "name": "stdout",
     "output_type": "stream",
     "text": [
      "10cell_aliquot1_barcode\n"
     ]
    },
    {
     "data": {
      "application/vnd.jupyter.widget-view+json": {
       "model_id": "f0bc0db29fb2403ab974ecd454088419",
       "version_major": 2,
       "version_minor": 0
      },
      "text/plain": [
       "0it [00:00, ?it/s]"
      ]
     },
     "metadata": {},
     "output_type": "display_data"
    }
   ],
   "source": [
    "all_clusters = dict()\n",
    "for sample in df_data['sample'].unique():\n",
    "    print(sample)\n",
    "    path_barcoded = os.path.join(dir_barcodes, f'{sample}.fastq.gz')\n",
    "    path_clusters = os.path.join(dir_clusters, f'{sample}.json')\n",
    "    if not os.path.exists(path_clusters) or True:\n",
    "        clusters = dict()\n",
    "        with gzip.open(path_barcoded) as f:\n",
    "            for (name, seq, _, qual) in tqdm(fastq_parse(f)):\n",
    "                match = regex_readname.search(name.strip())\n",
    "                if match:\n",
    "                    barcode, umi = match.groups()\n",
    "                    if barcode not in clusters:\n",
    "                        clusters[barcode] = collections.defaultdict(int)\n",
    "                    clusters[barcode][umi] += 1\n",
    "        with open(path_clusters, 'wt') as f:\n",
    "            json.dump(clusters, f)\n",
    "    else:\n",
    "        with open(path_clusters, 'rt') as f:\n",
    "            clusters = json.load(f)\n",
    "    all_clusters[sample] = clusters"
   ]
  },
  {
   "cell_type": "markdown",
   "id": "9b03c150-e1e3-4a93-aa33-9b0357fa2c99",
   "metadata": {},
   "source": [
    "## Cluster statistics\n",
    "\n",
    "1. Distribution of cluster size (without deduplicating UMIs)\n",
    "2. Distribution of cluster size (after deduplicating UMIs)\n",
    "3. In putative cell clusters, duplicate rate of UMIs and number of unique UMIs"
   ]
  },
  {
   "cell_type": "code",
   "execution_count": 18,
   "id": "cc3731e6-fb7e-4e75-9f89-6ba35c6b3320",
   "metadata": {},
   "outputs": [],
   "source": [
    "cluster_stats = dict()"
   ]
  },
  {
   "cell_type": "code",
   "execution_count": 19,
   "id": "450decf0-07e9-4b1e-8734-57cdb69572c4",
   "metadata": {},
   "outputs": [
    {
     "name": "stdout",
     "output_type": "stream",
     "text": [
      "0-15625cell_aliquot1_150bp\n",
      "Number of clusters: 44\n",
      "Size of largest clusters: [3 3 2 2 1 1 1 1 1]\n",
      "Size of largest clusters (dedup): [3 3 2 1 1 1 1 1 1]\n",
      "\n",
      "0-5cell_aliquotA6_barcode\n",
      "Number of clusters: 429\n",
      "Size of largest clusters: [557 154  65  65  58  48  48  48  35]\n",
      "Size of largest clusters (dedup): [557 154  65  64  58  48  48  48  35]\n",
      "\n",
      "0-5cell_aliquotE9_barcode\n",
      "Number of clusters: 2947\n",
      "Size of largest clusters: [201 179 149 133 131 128 122 113 110]\n",
      "Size of largest clusters (dedup): [201 179 149 133 130 126 121 113 110]\n",
      "\n",
      "0-625cell_aliquot3_barcode\n",
      "Number of clusters: 13196\n",
      "Size of largest clusters: [1415  794  728  725  619  587  493  386  355]\n",
      "Size of largest clusters (dedup): [1131  624  571  554  491  452  392  307  280]\n",
      "\n",
      "10cell_aliquot1_barcode\n",
      "Number of clusters: 105026\n",
      "Size of largest clusters: [2231337   36185   33217   30136   28967   28294   23827   22698   22536]\n",
      "Size of largest clusters (dedup): [248057  25258  23534  21335  20704  20145  17172  16404  16147]\n",
      "\n"
     ]
    }
   ],
   "source": [
    "for sample, clusters in all_clusters.items():\n",
    "    cluster_stats[sample] = dict()\n",
    "    cluster_stats[sample]['cluster_sizes_dedup'] = np.array(list(map(len, clusters.values())))\n",
    "    cluster_stats[sample]['cluster_sizes'] = np.array([sum(cluster.values()) for cluster in clusters.values()])\n",
    "    print(sample)\n",
    "    print('Number of clusters:', len(cluster_stats[sample]['cluster_sizes']))\n",
    "    print('Size of largest clusters:', np.sort(cluster_stats[sample]['cluster_sizes'])[-1:-10:-1])\n",
    "    print('Size of largest clusters (dedup):', np.sort(cluster_stats[sample]['cluster_sizes_dedup'])[-1:-10:-1])\n",
    "    print()"
   ]
  },
  {
   "cell_type": "markdown",
   "id": "6ecc3193-5bd6-47d6-8499-dbe0fa0d28fa",
   "metadata": {},
   "source": [
    "Interpretation\n",
    "- Each sample yielded multiple barcodes (clusters), presumably due to free barcodes in solution that were amplified, not just the barcodes on cells.\n",
    "- No clear 1-cell clusters\n",
    "- The 10-cell aliquot had 1 massive cluster and >100K smaller clusters.\n",
    "  - The massive cluster had ~10x more molecules sequenced than unique oligos. Note that the maximum possible number of unique oligos is 4**8 (8 bp UMI) * 4 (4 different oligo barcodes) = 262144. The number of unique oligos observed was 248057.\n",
    "\n",
    "Conclusion\n",
    "- Observed SPRITE zero barcodes in correct order\n",
    "- Could not determine whether individual cells/nuclei received unique barcodes from other cells/nuclei\n",
    "- Could not determine whether barcodes were on nucleosomes or DNA-bound proteins, versus other cellular structures or cell fragments."
   ]
  },
  {
   "cell_type": "code",
   "execution_count": 20,
   "id": "9d9162a6-4f17-4b29-aee0-dda083d2f4fe",
   "metadata": {},
   "outputs": [
    {
     "data": {
      "image/png": "[encoded data removed]",
      "text/plain": [
       "<Figure size 640x480 with 1 Axes>"
      ]
     },
     "metadata": {},
     "output_type": "display_data"
    }
   ],
   "source": [
    "for barcode, cluster in all_clusters['10cell_aliquot1_barcode'].items():\n",
    "    if sum(cluster.values()) == 2231337:\n",
    "        plt.bar(np.arange(max(cluster.values())+1), np.bincount(list(cluster.values())))\n",
    "        plt.xlabel('Number of replicates')\n",
    "        plt.ylabel('Number of UMIs')\n",
    "        plt.title('Distribution of UMI replicates in largest cluster (2,231,337 reads)\\nin 10cell_aliquot1_barcode sample')\n",
    "        break"
   ]
  },
  {
   "cell_type": "markdown",
   "id": "84c3dd27-e93e-4c9c-b367-65545f823ea6",
   "metadata": {},
   "source": [
    "# Recluster allowing for 1 tag substitution\n",
    "\n",
    "Based on observation that most barcodes are within 1 tag substitution from largest cluster. Interpretation: Suboptimal SPRITE Zero ligation conditions (reactant concentrations, temperature, duration) --> many barcodes are not ligated with the latest tag before they are pooled with other barcodes and tags --> other tags can ligate the same barcode. Perhaps more likely to happen with R1, since that reaction is expected to take longer (Instant Sticky needs to enter cell nuclei)."
   ]
  },
  {
   "cell_type": "code",
   "execution_count": 39,
   "id": "75e96848-c175-4f6e-a0d8-d7655a89b3e1",
   "metadata": {},
   "outputs": [],
   "source": [
    "df_barcodes = []\n",
    "for sample in df_data['sample'].unique():\n",
    "    path_mapping = os.path.join(dir_barcodes, f'{sample}.mapping')\n",
    "    df_barcodes.append(\n",
    "        pd.read_csv(path_mapping, sep='\\s+', names=['tmp', 'barcode', 'count']) \\\n",
    "        .drop(columns='tmp') \\\n",
    "        .pipe(lambda df: pd.concat((df['barcode'].str.split(',', expand=True), df['count']), axis=1)) \\\n",
    "        .drop(columns=1).rename(columns={0: 'oligo', 2: 'R1', 3: 'R2', 4: 'R3', 5: 'Term'}) \\\n",
    "        .sort_values('count', ascending=False) \\\n",
    "        .assign(sample=sample))\n",
    "df_barcodes = pd.concat(df_barcodes, axis=0, ignore_index=True)"
   ]
  },
  {
   "cell_type": "code",
   "execution_count": 40,
   "id": "25692b7b-21c5-454e-bf5b-0115d25178ae",
   "metadata": {},
   "outputs": [],
   "source": [
    "df_barcodes_agg = df_barcodes.groupby(['R1', 'R2', 'R3', 'Term', 'sample'])['count'].sum().reset_index().sort_values(['sample', 'count'], ascending=False)"
   ]
  },
  {
   "cell_type": "code",
   "execution_count": 41,
   "id": "c19de862-07c8-4fa3-a7a9-1e4a68af05c9",
   "metadata": {},
   "outputs": [
    {
     "data": {
      "text/html": [
       "<div>\n",
       "<style scoped>\n",
       "    .dataframe tbody tr th:only-of-type {\n",
       "        vertical-align: middle;\n",
       "    }\n",
       "\n",
       "    .dataframe tbody tr th {\n",
       "        vertical-align: top;\n",
       "    }\n",
       "\n",
       "    .dataframe thead th {\n",
       "        text-align: right;\n",
       "    }\n",
       "</style>\n",
       "<table border=\"1\" class=\"dataframe\">\n",
       "  <thead>\n",
       "    <tr style=\"text-align: right;\">\n",
       "      <th></th>\n",
       "      <th>R1</th>\n",
       "      <th>R2</th>\n",
       "      <th>R3</th>\n",
       "      <th>Term</th>\n",
       "      <th>sample</th>\n",
       "      <th>count</th>\n",
       "    </tr>\n",
       "  </thead>\n",
       "  <tbody>\n",
       "    <tr>\n",
       "      <th>76591</th>\n",
       "      <td>R1TopA24</td>\n",
       "      <td>R2TopB3</td>\n",
       "      <td>R3TopC12</td>\n",
       "      <td>NYLigOddStgTop_42</td>\n",
       "      <td>10cell_aliquot1_barcode</td>\n",
       "      <td>2231337</td>\n",
       "    </tr>\n",
       "    <tr>\n",
       "      <th>19787</th>\n",
       "      <td>R1TopA11</td>\n",
       "      <td>R2TopB3</td>\n",
       "      <td>R3TopC12</td>\n",
       "      <td>NYLigOddStgTop_42</td>\n",
       "      <td>10cell_aliquot1_barcode</td>\n",
       "      <td>36185</td>\n",
       "    </tr>\n",
       "    <tr>\n",
       "      <th>43676</th>\n",
       "      <td>R1TopA17</td>\n",
       "      <td>R2TopB3</td>\n",
       "      <td>R3TopC12</td>\n",
       "      <td>NYLigOddStgTop_42</td>\n",
       "      <td>10cell_aliquot1_barcode</td>\n",
       "      <td>33217</td>\n",
       "    </tr>\n",
       "    <tr>\n",
       "      <th>50760</th>\n",
       "      <td>R1TopA18</td>\n",
       "      <td>R2TopB3</td>\n",
       "      <td>R3TopC12</td>\n",
       "      <td>NYLigOddStgTop_42</td>\n",
       "      <td>10cell_aliquot1_barcode</td>\n",
       "      <td>30136</td>\n",
       "    </tr>\n",
       "    <tr>\n",
       "      <th>70229</th>\n",
       "      <td>R1TopA22</td>\n",
       "      <td>R2TopB3</td>\n",
       "      <td>R3TopC12</td>\n",
       "      <td>NYLigOddStgTop_42</td>\n",
       "      <td>10cell_aliquot1_barcode</td>\n",
       "      <td>28967</td>\n",
       "    </tr>\n",
       "  </tbody>\n",
       "</table>\n",
       "</div>"
      ],
      "text/plain": [
       "             R1       R2        R3               Term  \\\n",
       "76591  R1TopA24  R2TopB3  R3TopC12  NYLigOddStgTop_42   \n",
       "19787  R1TopA11  R2TopB3  R3TopC12  NYLigOddStgTop_42   \n",
       "43676  R1TopA17  R2TopB3  R3TopC12  NYLigOddStgTop_42   \n",
       "50760  R1TopA18  R2TopB3  R3TopC12  NYLigOddStgTop_42   \n",
       "70229  R1TopA22  R2TopB3  R3TopC12  NYLigOddStgTop_42   \n",
       "\n",
       "                        sample    count  \n",
       "76591  10cell_aliquot1_barcode  2231337  \n",
       "19787  10cell_aliquot1_barcode    36185  \n",
       "43676  10cell_aliquot1_barcode    33217  \n",
       "50760  10cell_aliquot1_barcode    30136  \n",
       "70229  10cell_aliquot1_barcode    28967  "
      ]
     },
     "execution_count": 41,
     "metadata": {},
     "output_type": "execute_result"
    }
   ],
   "source": [
    "df_barcodes_agg.head()"
   ]
  },
  {
   "cell_type": "code",
   "execution_count": 42,
   "id": "36ed17a2-06c8-43e0-b79c-86791bf424dd",
   "metadata": {},
   "outputs": [],
   "source": [
    "path_barcode_agg = os.path.join(DIR_AUX, 'barcode_agg.json')\n",
    "if not os.path.exists(path_barcode_agg):\n",
    "    barcode_to_barcode_agg = dict()\n",
    "    for sample, group in df_barcodes_agg.groupby('sample'):\n",
    "        print(sample)\n",
    "        barcode_to_barcode_agg[sample] = dict()\n",
    "        df_sorted = group.sort_values('count', ascending=False).assign(unclustered=True)\n",
    "        df_sorted['barcode'] = '[' + df_sorted['R1'] + ']' + '[' + df_sorted['R2'] + ']' + '[' + df_sorted['R3'] + ']' + '[' + df_sorted['Term'] + ']'\n",
    "        while df_sorted['unclustered'].any():\n",
    "            s_cluster = df_sorted.loc[df_sorted['unclustered']].iloc[0]\n",
    "            R1, R2, R3, Term = s_cluster[['R1', 'R2', 'R3', 'Term']]\n",
    "            barcode_agg = s_cluster['barcode']\n",
    "            mask_R1 = df_sorted['R1'] == R1\n",
    "            mask_R2 = df_sorted['R2'] == R2\n",
    "            mask_R3 = df_sorted['R3'] == R3\n",
    "            mask_Term = df_sorted['Term'] == Term\n",
    "            mask_cluster = \\\n",
    "                (mask_R1 & mask_R2 & mask_R3) | \\\n",
    "                (mask_R1 & mask_R2 & mask_Term) | \\\n",
    "                (mask_R1 & mask_Term & mask_R3) | \\\n",
    "                (mask_Term & mask_R2 & mask_R3)\n",
    "            mask_cluster &= df_sorted['unclustered']\n",
    "            barcode_to_barcode_agg[sample].update({barcode: barcode_agg for barcode in df_sorted.loc[mask_cluster, 'barcode']})\n",
    "            df_sorted.loc[mask_cluster, 'unclustered'] = False\n",
    "    with open(path_barcode_agg, 'wt') as f:\n",
    "        json.dump(barcode_to_barcode_agg, f)\n",
    "else:\n",
    "    with open(path_barcode_agg, 'rt') as f:\n",
    "        barcode_to_barcode_agg = json.load(f)"
   ]
  },
  {
   "cell_type": "code",
   "execution_count": 16,
   "id": "24409d5c-cb8a-44bf-9645-ddfdcfdde2e5",
   "metadata": {},
   "outputs": [
    {
     "name": "stdout",
     "output_type": "stream",
     "text": [
      "10cell_aliquot1_barcode\n",
      "0-5cell_aliquotE9_barcode\n",
      "0-15625cell_aliquot1_150bp\n",
      "0-625cell_aliquot3_barcode\n",
      "0-5cell_aliquotA6_barcode\n"
     ]
    }
   ],
   "source": [
    "all_clusters_agg = dict()\n",
    "for sample in df_data['sample'].unique():\n",
    "    print(sample)\n",
    "    path_barcoded = os.path.join(dir_barcodes, f'{sample}.fastq.gz')\n",
    "    path_clusters = os.path.join(dir_clusters, f'{sample}_agg.json')\n",
    "    if not os.path.exists(path_clusters):\n",
    "        clusters = dict()\n",
    "        with gzip.open(path_barcoded) as f:\n",
    "            for (name, seq, _, qual) in tqdm(fastq_parse(f)):\n",
    "                match = regex_readname.search(name.strip())\n",
    "                if match:\n",
    "                    barcode, umi = match.groups()\n",
    "                barcode_agg = barcode_to_barcode_agg[sample][barcode]\n",
    "                if barcode_agg not in clusters:\n",
    "                    clusters[barcode_agg] = collections.defaultdict(int)\n",
    "                clusters[barcode_agg][umi] += 1\n",
    "        with open(path_clusters, 'wt') as f:\n",
    "            json.dump(clusters, f)\n",
    "    else:\n",
    "        with open(path_clusters, 'rt') as f:\n",
    "            clusters = json.load(f)\n",
    "    all_clusters_agg[sample] = clusters"
   ]
  },
  {
   "cell_type": "code",
   "execution_count": 18,
   "id": "ddef19cb-1814-4a98-9cc3-3ef38be7196d",
   "metadata": {},
   "outputs": [
    {
     "name": "stdout",
     "output_type": "stream",
     "text": [
      "10cell_aliquot1_barcode\n",
      "Number of clusters: 5994\n",
      "Size of largest clusters: [2680231   90429   82591   69090   47645   40252   37448   31637   28632]\n",
      "Size of largest clusters (dedup): [252245  54593  51704  43616  31809  27573  25933  21914  20196]\n",
      "\n",
      "0-5cell_aliquotE9_barcode\n",
      "Number of clusters: 553\n",
      "Size of largest clusters: [1801 1401  648  426  319  311  218  206  135]\n",
      "Size of largest clusters (dedup): [1792 1389  647  425  319  310  217  206  134]\n",
      "\n",
      "0-15625cell_aliquot1_150bp\n",
      "Number of clusters: 40\n",
      "Size of largest clusters: [10  2  1  1  1  1  1  1  1]\n",
      "Size of largest clusters (dedup): [10  1  1  1  1  1  1  1  1]\n",
      "\n",
      "0-625cell_aliquot3_barcode\n",
      "Number of clusters: 3177\n",
      "Size of largest clusters: [5499 3372 2825 1388  490  477  432  426  404]\n",
      "Size of largest clusters (dedup): [4270 2647 2253 1088  385  378  337  336  317]\n",
      "\n",
      "0-5cell_aliquotA6_barcode\n",
      "Number of clusters: 120\n",
      "Size of largest clusters: [1384  182  138  133   83   64   40   33   21]\n",
      "Size of largest clusters (dedup): [1380  182  137  133   83   64   40   33   21]\n",
      "\n"
     ]
    }
   ],
   "source": [
    "cluster_agg_stats = dict()\n",
    "for sample, clusters in all_clusters_agg.items():\n",
    "    cluster_agg_stats[sample] = dict()\n",
    "    cluster_agg_stats[sample]['cluster_sizes_dedup'] = np.array(list(map(len, clusters.values())))\n",
    "    cluster_agg_stats[sample]['cluster_sizes'] = np.array([sum(cluster.values()) for cluster in clusters.values()])\n",
    "    print(sample)\n",
    "    print('Number of clusters:', len(cluster_agg_stats[sample]['cluster_sizes']))\n",
    "    print('Size of largest clusters:', np.sort(cluster_agg_stats[sample]['cluster_sizes'])[-1:-10:-1])\n",
    "    print('Size of largest clusters (dedup):', np.sort(cluster_agg_stats[sample]['cluster_sizes_dedup'])[-1:-10:-1])\n",
    "    print()"
   ]
  },
  {
   "cell_type": "markdown",
   "id": "27a009ba-b671-4c5d-b139-bb09a4374a24",
   "metadata": {},
   "source": [
    "Even after reclustering, the main interpretation of the results is unchanged."
   ]
  },
  {
   "cell_type": "markdown",
   "id": "bfc4506f-1025-47b9-8061-64205aa59f12",
   "metadata": {
    "tags": []
   },
   "source": [
    "# Check identity of ~150 bp PCR product\n",
    "\n",
    "See https://benchling.com/s/seq-ZfdqkzPO5jOEQQREG64L"
   ]
  },
  {
   "cell_type": "code",
   "execution_count": 46,
   "id": "a920a056-aeee-49fe-979a-347be33ac62a",
   "metadata": {},
   "outputs": [],
   "source": [
    "template = 'AATGATACGGCGACCACCGAGATCTACACTCCATAACACACTCTTTCCCTACACGACGCTCTTCAGATCTGAAGAGCACACGTCTGAACTCCAGTCACCGCCTTCCATCTCGTATGCCGTCTTCTGCTTG'\n",
    "template_rc = reverse_complement(template)\n",
    "template_r1 = 'GAAGAGCACACGTCTGAACTCCAGTCACCGCCTTCCATCTCGTATGCCGTCTTCTGCTTG'\n",
    "template_r2 = 'GAAGAGCGTCGTGTAGGGAAAGAGTGTGTTATGGAGTGTAGATCTCGGTGGTCGCCGTATCATT'\n",
    "template_r2_rc = reverse_complement(template_r2)"
   ]
  },
  {
   "cell_type": "code",
   "execution_count": 47,
   "id": "f030087f-5c5a-447e-896b-58b15007c237",
   "metadata": {},
   "outputs": [],
   "source": [
    "path_r1 = os.path.join(DIR_DATA, '0-15625cell_aliquot1_150bp_S3_L001_R1_001.fastq.gz')\n",
    "path_r2 = os.path.join(DIR_DATA, '0-15625cell_aliquot1_150bp_S3_L001_R2_001.fastq.gz')"
   ]
  },
  {
   "cell_type": "markdown",
   "id": "5917d355-8490-4e2c-ac22-d27d5c4f303f",
   "metadata": {},
   "source": [
    "Spot-check 10 read pairs"
   ]
  },
  {
   "cell_type": "code",
   "execution_count": 48,
   "id": "d7d427d3-a30f-4a76-9fd4-89e0afe02d71",
   "metadata": {},
   "outputs": [
    {
     "name": "stdout",
     "output_type": "stream",
     "text": [
      "@M06105:68:000000000-KK7Y7:1:1101:14160:1074\n",
      "----------------------------------------------------------------------GAAGAGCACACGTCTGAACTCCAGTCACCGCCTTCCATCTCGTTTGCCGTCTTCTGCTTGAAAAAAAAAAACTATAC\n",
      "                                                                      |||||||||||||||||||||||||||||||||||||||||||.||||||||||||||||                 \n",
      "AATGATACGGCGACCACCGAGATCTACACTCCATAACACACTCTTTCCCTACACGACGCTCTTCAGATCTGAAGAGCACACGTCTGAACTCCAGTCACCGCCTTCCATCTCGTATGCCGTCTTCTGCTTG-----------------\n",
      "  Score=59\n",
      "\n",
      "------------AATGATACGGC-GACCACCGAGATCTACACTCCATAACACACTCTTTCCCTACACGACGCTCTTCAGATCTGAAGAGCACACGTCTGAACTCCAGTCACCGCCTTCCATCTCGTATGCCGTCTTCTGCTTG\n",
      "            |||...||.|| |.||.|||..||.||||||||||||||||||||||||||||||||||||||||                                                                  \n",
      "GTTTTTTTTATTAATTCCACCGCCGCCCCCCGCAATTTACACTCCATAACACACTCTTTCCCTACACGACGCTCTTC------------------------------------------------------------------\n",
      "  Score=54\n",
      "\n",
      "@M06105:68:000000000-KK7Y7:1:1101:14262:1114\n",
      "----------------------------------------------------------------------GAAGAGCACACGTCTGAACTCCAGTCACCGCCTTCCATCTCGTATGCCGTCTTCTGCTTGAAAAAAAAAAAAAAAAA\n",
      "                                                                      ||||||||||||||||||||||||||||||||||||||||||||||||||||||||||||                 \n",
      "AATGATACGGCGACCACCGAGATCTACACTCCATAACACACTCTTTCCCTACACGACGCTCTTCAGATCTGAAGAGCACACGTCTGAACTCCAGTCACCGCCTTCCATCTCGTATGCCGTCTTCTGCTTG-----------------\n",
      "  Score=60\n",
      "\n",
      "------------AAT-GATACGGCGACCACCGAGATCTACACTCCATAACACACTCTTTCCCTACACGACGCTCTTCAGATCTGAAGAGCACACGTCTGAACTCCAGTCACCGCCTTCCATCTCGTATGCCGTCTTCTGCTTG\n",
      "            |.. |.|.||.|..||.|||.|.|||...|||||.||||||||||||||||||||||||||||||                                                                  \n",
      "TTTTTTTTACTTACCCGGTCCGCCCCCCGCCGTGCTCTTACCTCCAAAACACACTCTTTCCCTACACGACGCTCTTC------------------------------------------------------------------\n",
      "  Score=49\n",
      "\n",
      "@M06105:68:000000000-KK7Y7:1:1101:13726:1118\n",
      "----------------------------------------------------------------------GAAGAGCACACGTCTGAACTCCAGTCACCGCCTTCCATCTCGTATGCCGTCTTCTGCTTGAAAAAAAAAAAAACTCA\n",
      "                                                                      ||||||||||||||||||||||||||||||||||||||||||||||||||||||||||||                 \n",
      "AATGATACGGCGACCACCGAGATCTACACTCCATAACACACTCTTTCCCTACACGACGCTCTTCAGATCTGAAGAGCACACGTCTGAACTCCAGTCACCGCCTTCCATCTCGTATGCCGTCTTCTGCTTG-----------------\n",
      "  Score=60\n",
      "\n",
      "-----------AAT-GATACGGCGACCACC-GAGATCTACACTCCATAACACACTCTTTCCCTACACGACGCTCTTCAGATCTGAAGAGCACACGTCTGAACTCCAGTCACCGCCTTCCATCTCGTATGCCGTCTTCTGCTTG\n",
      "           ||. |...|.||..||.|| ||.|.|||.||||||||||||||||||||||||||||.||||||||                                                                  \n",
      "TTTTTTTTTTTAACAGGCCCCGCCCCCCCCAGAAAACTAAACTCCATAACACACTCTTTCCCTACACGCCGCTCTTC------------------------------------------------------------------\n",
      "  Score=50\n",
      "\n",
      "@M06105:68:000000000-KK7Y7:1:1101:17180:1144\n",
      "----------------------------------------------------------------------GAAGAGCACACGTCTGAACTCCCGTCACCGCCTTCCATCTCGTATGCCGTCTTCCGCTTGAAAAAAAAAAAAAAGAC\n",
      "                                                                      ||||||||||||||||||||||.|||||||||||||||||||||||||||||||.|||||                 \n",
      "AATGATACGGCGACCACCGAGATCTACACTCCATAACACACTCTTTCCCTACACGACGCTCTTCAGATCTGAAGAGCACACGTCTGAACTCCAGTCACCGCCTTCCATCTCGTATGCCGTCTTCTGCTTG-----------------\n",
      "  Score=58\n",
      "\n",
      "-----------A-ATGATACGG-CGACCACCGAGATCTACACTCCATAACACACTCTTTCCCTACACGACGCTCTTCAGATCTGAAGAGCACACGTCTGAACTCCAGTCACCGCCTTCCATCTCGTATGCCGTCTTCTGCTTG\n",
      "           | |..|.||.. |..||.||||...||||||.|||||||||||||||.|||||||||.||||||||                                                                  \n",
      "TTTGTTATAGTACACCACACCCACCCCCCCCGAACACTACACCCCATAACACACTCTTCCCCTACACGCCGCTCTTC------------------------------------------------------------------\n",
      "  Score=48\n",
      "\n",
      "@M06105:68:000000000-KK7Y7:1:1101:10826:1146\n",
      "----------------------------------------------------------------------GAAGAGCACACGTCTGAACTCCAGTCACCGCCTTCCATCACGTATGCCGTCTTCTGCTTGAAAAAAAAAACAAACAC\n",
      "                                                                      |||||||||||||||||||||||||||||||||||||||.||||||||||||||||||||                 \n",
      "AATGATACGGCGACCACCGAGATCTACACTCCATAACACACTCTTTCCCTACACGACGCTCTTCAGATCTGAAGAGCACACGTCTGAACTCCAGTCACCGCCTTCCATCTCGTATGCCGTCTTCTGCTTG-----------------\n",
      "  Score=59\n",
      "\n",
      "------------AATGATACGGCGA-CCACCGAGATCTACACTCCATAACACACTCTTTCCCTACACGACGCTCTTCAGATCTGAAGAGCACACGTCTGAACTCCAGTCACCGCCTTCCATCTCGTATGCCGTCTTCTGCTTG\n",
      "            ||..|..||.|.| |||||||.||.|||||||||.|||||||||||||||.||||||||||||||                                                                  \n",
      "AATTATTTCTATAAAAAATCGACAAACCACCGAAATATACACTCCAAAACACACTCTTTCCCAACACGACGCTCTTC------------------------------------------------------------------\n",
      "  Score=53\n",
      "\n",
      "@M06105:68:000000000-KK7Y7:1:1101:20998:1171\n",
      "----------------------------------------------------------------------GAAGAGCACACGTCTGAACTCCAGTCACCGCCTTCCATCTCGTATGCCGTCTTCTGCTTGAAAAAAAAAAATCAACA\n",
      "                                                                      ||||||||||||||||||||||||||||||||||||||||||||||||||||||||||||                 \n",
      "AATGATACGGCGACCACCGAGATCTACACTCCATAACACACTCTTTCCCTACACGACGCTCTTCAGATCTGAAGAGCACACGTCTGAACTCCAGTCACCGCCTTCCATCTCGTATGCCGTCTTCTGCTTG-----------------\n",
      "  Score=60\n",
      "\n",
      "------------AATG-ATACGGCGACCACCGAGATCTACACTCCATAACACACTCTTTCCCTACACGACGCTCTTCAGATCTGAAGAGCACACGTCTGAACTCCAGTCACCGCCTTCCATCTCGTATGCCGTCTTCTGCTTG\n",
      "            ||.| |..||.||.||||||||||||||||||||||||||||||||||||||||||.||||||||                                                                  \n",
      "TTCTTTTCTTGCAACGGAGCCGCCGCCCACCGAGATCTACACTCCATAACACACTCTTTCCCTACACGCCGCTCTTC------------------------------------------------------------------\n",
      "  Score=57\n",
      "\n",
      "@M06105:68:000000000-KK7Y7:1:1101:12878:1175\n",
      "----------------------------------------------------------------------GAAGAGCACACGTCTGGACTCCAGTCACCGCCTTCCAACTCGTATGCCGTCTTCTGCTTGAAAAAAAAAACACAACC\n",
      "                                                                      ||||||||||||||||.||||||||||||||||||||.||||||||||||||||||||||                 \n",
      "AATGATACGGCGACCACCGAGATCTACACTCCATAACACACTCTTTCCCTACACGACGCTCTTCAGATCTGAAGAGCACACGTCTGAACTCCAGTCACCGCCTTCCATCTCGTATGCCGTCTTCTGCTTG-----------------\n",
      "  Score=58\n",
      "\n",
      "------------AAT-GATACGGCGACCACCGAGATCTACACTCCATAACACACTCTTTCCCTACACGACGCTCTTCAGATCTGAAGAGCACACGTCTGAACTCCAGTCACCGCCTTCCATCTCGTATGCCGTCTTCTGCTTG\n",
      "            |.. ||||||....||.|||||||||.|||||.|.||||.|||||||||||||||||||||||||                                                                  \n",
      "TGATGTTTATTGACGCGATACGCACCCCCCCGAGATCTCCACTCAAAAACAAACTCTTTCCCTACACGACGCTCTTC------------------------------------------------------------------\n",
      "  Score=52\n",
      "\n",
      "@M06105:68:000000000-KK7Y7:1:1101:9923:1179\n",
      "----------------------------------------------------------------------GAAGAGCACACGTCTGAACTCCAGTCACCGCCTTCCATCTCGTATGCCGTCTTCTGCTTGAAAAAAAAAAATATATG\n",
      "                                                                      ||||||||||||||||||||||||||||||||||||||||||||||||||||||||||||                 \n",
      "AATGATACGGCGACCACCGAGATCTACACTCCATAACACACTCTTTCCCTACACGACGCTCTTCAGATCTGAAGAGCACACGTCTGAACTCCAGTCACCGCCTTCCATCTCGTATGCCGTCTTCTGCTTG-----------------\n",
      "  Score=60\n",
      "\n",
      "-------------AATGATACGGCGACCACCGAGATCTACACTCCATAACACACTCTTTCCCTACACGACGCTCTTCAGATCTGAAGAGCACACGTCTGAACTCCAGTCACCGCCTTCCATCTCGTATGCCGTCTTCTGCTTG\n",
      "             ||.||||||||||||||||.|||||.||||||||||||||||||||||||||||||||||||||                                                                  \n",
      "TTTTTTTTTCTTAAAGGATACGGCGACCACCGGGATCTCCACTCCATAACACACTCTTTCCCTACACGACGCTCTTC------------------------------------------------------------------\n",
      "  Score=61\n",
      "\n",
      "@M06105:68:000000000-KK7Y7:1:1101:12511:1180\n",
      "----------------------------------------------------------------------GAAGAGCACACGTCTGAACTCCAGTCACCGCCTTCCATCTCGTATGCCGGCTTCTGCTTGAAAAAAAAAAAACCGAG\n",
      "                                                                      |||||||||||||||||||||||||||||||||||||||||||||||||.||||||||||                 \n",
      "AATGATACGGCGACCACCGAGATCTACACTCCATAACACACTCTTTCCCTACACGACGCTCTTCAGATCTGAAGAGCACACGTCTGAACTCCAGTCACCGCCTTCCATCTCGTATGCCGTCTTCTGCTTG-----------------\n",
      "  Score=59\n",
      "\n",
      "-----------AAT-GATACGG-CGACCACCGAGATCTACACTCCATAACACACTCTTTCCCTACACGACGCTCTTCAGATCTGAAGAGCACACGTCTGAACTCCAGTCACCGCCTTCCATCTCGTATGCCGTCTTCTGCTTG\n",
      "           .|| |...||| ||.||||..|||||.||.||||||||||||||||||||||||||||||||||||                                                                  \n",
      "TTCGTTTTTTGTATAGGGCCGGGCGCCCACTCAGATCAACCCTCCATAACACACTCTTTCCCTACACGACGCTCTTC------------------------------------------------------------------\n",
      "  Score=53\n",
      "\n",
      "@M06105:68:000000000-KK7Y7:1:1101:9124:1200\n",
      "----------------------------------------------------------------------GAAGAGCACACGTCTGAACTCCAGTCACCGCCTTCCATCTCGTATGCCGTCTTCTGCTTGAAAAAAAAAAACACATC\n",
      "                                                                      ||||||||||||||||||||||||||||||||||||||||||||||||||||||||||||                 \n",
      "AATGATACGGCGACCACCGAGATCTACACTCCATAACACACTCTTTCCCTACACGACGCTCTTCAGATCTGAAGAGCACACGTCTGAACTCCAGTCACCGCCTTCCATCTCGTATGCCGTCTTCTGCTTG-----------------\n",
      "  Score=60\n",
      "\n",
      "-------------AATGATACGGCGACCACCGAGATCTACACTCCATAACACACTCTTTCCCTACACGACGCTCTTCAGATCTGAAGAGCACACGTCTGAACTCCAGTCACCGCCTTCCATCTCGTATGCCGTCTTCTGCTTG\n",
      "             |..||..||||.|||||||||.||||||||||||||||||||||||||||||||||||||||||                                                                  \n",
      "TTTATATTTTACTAGGGAGCCGGCCACCACCGAGCTCTACACTCCATAACACACTCTTTCCCTACACGACGCTCTTC------------------------------------------------------------------\n",
      "  Score=58\n",
      "\n"
     ]
    }
   ],
   "source": [
    "with gzip.open(path_r1) as f1, gzip.open(path_r2) as f2:\n",
    "    for i, ((name1, seq1, _, _), (name2, seq2, _, _)) in enumerate(zip(fastq_parse(f1), fastq_parse(f2))):\n",
    "        if i > 9:\n",
    "            break\n",
    "        assert name1.split()[0] == name2.split()[0]\n",
    "        print(name1.split()[0])\n",
    "        r1_align = pairwise2.align.globalxs(seq1, template, -1, -1, penalize_end_gaps=False)\n",
    "        r2_align = pairwise2.align.globalxs(template, reverse_complement(seq2), -1, -1, penalize_end_gaps=False)\n",
    "        print(pairwise2.format_alignment(*r1_align[0], full_sequences=True))\n",
    "        print(pairwise2.format_alignment(*r2_align[0], full_sequences=True))"
   ]
  },
  {
   "cell_type": "code",
   "execution_count": 49,
   "id": "c26e171d-0f84-42b9-a25c-6cb14740d27e",
   "metadata": {},
   "outputs": [
    {
     "data": {
      "application/vnd.jupyter.widget-view+json": {
       "model_id": "bbe6002ec9904dfa94fc20faadd98478",
       "version_major": 2,
       "version_minor": 0
      },
      "text/plain": [
       "0it [00:00, ?it/s]"
      ]
     },
     "metadata": {},
     "output_type": "display_data"
    },
    {
     "data": {
      "application/vnd.jupyter.widget-view+json": {
       "model_id": "31ccdefee2a64e8481c0235ee8e8834f",
       "version_major": 2,
       "version_minor": 0
      },
      "text/plain": [
       "0it [00:00, ?it/s]"
      ]
     },
     "metadata": {},
     "output_type": "display_data"
    }
   ],
   "source": [
    "score_r1 = dict()\n",
    "score_r2 = dict()\n",
    "with gzip.open(path_r1) as f:\n",
    "    n = len(template_r1)\n",
    "    for name, seq, _, _ in tqdm(fastq_parse(f)):\n",
    "        score_r1[name.split()[0]] = editdistance.eval(seq[:n], template_r1)\n",
    "with gzip.open(path_r2) as f:\n",
    "    n = len(template_r2)\n",
    "    for name, seq, _, _ in tqdm(fastq_parse(f)):\n",
    "        score_r2[name.split()[0]] = editdistance.eval(seq[:n], template_r2)"
   ]
  },
  {
   "cell_type": "code",
   "execution_count": 50,
   "id": "6543d0b7-4c67-439e-a27f-1d61ec6cc807",
   "metadata": {},
   "outputs": [],
   "source": [
    "df_eds = pd.concat((pd.Series(score_r1).rename('r1'), pd.Series(score_r2).rename('r2')), axis=1)\n",
    "df_eds['both'] = df_eds['r1'] + df_eds['r2']"
   ]
  },
  {
   "cell_type": "code",
   "execution_count": 51,
   "id": "fdf8bb80-3957-4239-aa17-7910d681e2fe",
   "metadata": {},
   "outputs": [
    {
     "data": {
      "text/plain": [
       "[Text(0.5, 0, 'Paired Edit Distance from Template')]"
      ]
     },
     "execution_count": 51,
     "metadata": {},
     "output_type": "execute_result"
    },
    {
     "data": {
      "image/png": "[encoded data removed]",
      "text/plain": [
       "<Figure size 1000x400 with 3 Axes>"
      ]
     },
     "metadata": {},
     "output_type": "display_data"
    }
   ],
   "source": [
    "fig, axs = plt.subplots(1, 3, figsize=(10, 4), constrained_layout=True)\n",
    "sns.ecdfplot(df_eds, x='r1', ax=axs[0])\n",
    "axs[0].set(xlabel='Read 1 Edit Distance from Template')\n",
    "sns.ecdfplot(df_eds, x='r2', ax=axs[1])\n",
    "axs[1].set(xlabel='Read 2 Edit Distance from Template')\n",
    "sns.ecdfplot(df_eds, x='both', ax=axs[2])\n",
    "axs[2].set(xlabel='Paired Edit Distance from Template')"
   ]
  },
  {
   "cell_type": "markdown",
   "id": "d713e6f3-b29c-45f8-97f3-387ce7b9c80d",
   "metadata": {},
   "source": [
    "The really long edit distances presumably come from full barcodes, not the 130 bp primer dimer PCR product."
   ]
  },
  {
   "cell_type": "markdown",
   "id": "c167308a-c16b-4482-8af5-c1d969b670a4",
   "metadata": {
    "jp-MarkdownHeadingCollapsed": true,
    "tags": []
   },
   "source": [
    "# Old code"
   ]
  },
  {
   "cell_type": "raw",
   "id": "8609d27b-00d1-45b2-a5d1-15ac98a4b94b",
   "metadata": {},
   "source": [
    "alignments_r1 = dict()\n",
    "alignments_r2 = dict()\n",
    "with concurrent.futures.ThreadPoolExecutor() as executor:\n",
    "    with gzip.open(path_r1) as f:\n",
    "        for name, seq, _, _ in tqdm(fastq_parse(f)):\n",
    "            alignments_r1[name.split()[0]] = executor.submit(pairwise2.align.globalxs, seq, template_r1, -1, -1, penalize_end_gaps=False)\n",
    "    with gzip.open(path_r2) as f:\n",
    "        for name, seq, _, _ in tqdm(fastq_parse(f)):\n",
    "            alignments_r2[name.split()[0]] = executor.submit(pairwise2.align.globalxs, seq, template_r2, -1, -1, penalize_end_gaps=False)\n",
    "alignments = {k: (alignments_r1[k].result(), alignments_r2[k].result()) for k in alignments_r1}"
   ]
  },
  {
   "cell_type": "raw",
   "id": "fa11fa87-f958-4bcd-ab49-35c58c2aebcd",
   "metadata": {},
   "source": [
    "def merge_barcodes(df):\n",
    "    df_sorted = df.sort_values('count', ascending=False).assign(unclustered=True)\n",
    "    df_sorted['barcode'] = '[' + df_sorted['R1'] + ']' + '[' + df_sorted['R2'] + ']' + '[' + df_sorted['R3'] + ']' + '[' + df_sorted['Term'] + ']'\n",
    "    while df_sorted['unclusterd'].any():\n",
    "        s_cluster = df_sorted.loc[df_sorted['unclusterd']].iloc[0]\n",
    "        R1, R2, R3, Term = s_cluster[['R1', 'R2', 'R3', 'Term']]\n",
    "        cluster_barcode = s_cluster['barcode']\n",
    "        mask_cluster = \\\n",
    "            ((df_sorted['R1'] == R1) & (df_sorted['R2'] == R2) & (df_sorted['R3'] == R3)) | \\\n",
    "            ((df_sorted['R1'] == R1) & (df_sorted['R2'] == R2) & (df_sorted['Term'] == Term)) | \\\n",
    "            ((df_sorted['R1'] == R1) & (df_sorted['Term'] == Term) & (df_sorted['R3'] == R3)) | \\\n",
    "            ((df_sorted['Term'] == Term) & (df_sorted['R2'] == R2) & (df_sorted['R3'] == R3))\n",
    "        df_sorted.loc[df_sorted['unclustered'] & mask_cluster, 'barcode'] = cluster_barcode\n",
    "        df_sorted.loc[mask_cluster, 'unclustered'] = False\n",
    "    return df_sorted"
   ]
  },
  {
   "cell_type": "raw",
   "id": "40313a21-1dab-4bc6-af2d-1b74b91bc018",
   "metadata": {},
   "source": [
    "# alternative way of counting reads from raw FASTQ files\n",
    "subprocess.run(\n",
    "    (f'ls {os.path.join(DIR_DATA, \"*R1*.fastq.gz\")} |'\n",
    "     ' xargs -n 1 -I % sh -c \"basename %; unpigz -c % | wc -l | awk \\'{print \\$1 / 4}\\'\"'),\n",
    "    shell=True)"
   ]
  }
 ],
 "metadata": {
  "kernelspec": {
   "display_name": "py3",
   "language": "python",
   "name": "py3"
  },
  "language_info": {
   "codemirror_mode": {
    "name": "ipython",
    "version": 3
   },
   "file_extension": ".py",
   "mimetype": "text/x-python",
   "name": "python",
   "nbconvert_exporter": "python",
   "pygments_lexer": "ipython3",
   "version": "3.10.12"
  }
 },
 "nbformat": 4,
 "nbformat_minor": 5
}
