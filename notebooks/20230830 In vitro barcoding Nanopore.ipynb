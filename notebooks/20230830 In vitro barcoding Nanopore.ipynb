{
 "cells": [
  {
   "cell_type": "markdown",
   "metadata": {},
   "source": [
    "Samples sequenced on Flongle\n",
    "\n",
    "| user | sample | i5 index | i5 sequence | i7 index | i7 sequence |\n",
    "| ---- | ------ | -------- | ----------- | -------- | ----------- |\n",
    "| btyeh | 197 bp barcoded oligo + 250 bp barcoded oligo | A11 | TGCTATTA | F2 | AAGCAACT |\n",
    "| pbhatta2 | SPIDR RNA | E8 | TTCCAGCT | E8 | GTCTTAGT |\n",
    "| pbhatta2 | C9 RAP | E3 | TCAGGCTT | E3 | ATCCGACA |\n",
    "| pbhatta2 | C9 RAP | E4 | GCTGATTC | E4 | CAAGGCGA |"
   ]
  },
  {
   "cell_type": "markdown",
   "metadata": {},
   "source": [
    "Reference sequences\n",
    "- i5 adapter: AATGATACGGCGACCACCGAGATCTACAC<8bp i5>ACACTCTTTCCCTACACGACGCTCTTCCGATC\n",
    "  - i5 rc: GATCGGAAGAGCGTCGTGTAGGGAAAGAGTGT<8bp i5 rc>GTGTAGATCTCGGTGGTCGCCGTATCATT\n",
    "- i7 adapter: CAAGCAGAAGACGGCATACGAGAT<8bp i7>GTGACTGGAGTTCAGACGTGTGCTCTTCCGATCT\n",
    "  - i7 rc: AGATCGGAAGAGCACACGTCTGAACTCCAGTCAC<8bp i7 rc>ATCTCGTATGCCGTCTTCTGCTTG\n",
    "- [Nanopore Ligation Adapters](https://community.nanoporetech.com/technical_documents/chemistry-technical-document/v/chtd_500_v1_revaj_07jul2016/ligation-sequencing-kit-family)\n",
    "  - Top strand: 5'-TTTTTTTTCCTGTACTTCGTTCAGTTACGTATTGCT-3’\n",
    "  - Bottom strand: 5’-GCAATACGTAACTGAACGAAGTACAGG-3’\n",
    "    - RC: CCTGTACTTCGTTCAGTTACGTATTGC\n",
    "    - C: CGTTATGCATTGACTTGCTTCATGTCC\n",
    "    - R: GGACATGAAGCAAGTCAATGCATAACG"
   ]
  },
  {
   "cell_type": "code",
   "execution_count": 1,
   "metadata": {},
   "outputs": [],
   "source": [
    "import gzip\n",
    "import os\n",
    "import re"
   ]
  },
  {
   "cell_type": "code",
   "execution_count": 2,
   "metadata": {},
   "outputs": [],
   "source": [
    "DIR_PROJECT = '/central/groups/guttman/btyeh/scBarcode'\n",
    "DIR_DATA = os.path.join(DIR_PROJECT, 'data', '20230831')\n",
    "DIR_AUX = os.path.join(DIR_PROJECT, 'data_aux', '20230831')"
   ]
  },
  {
   "cell_type": "code",
   "execution_count": 3,
   "metadata": {},
   "outputs": [
    {
     "name": "stdout",
     "output_type": "stream",
     "text": [
      "basecalling model: model_version_id=dna_r10.4.1_e8.2_5khz_400bps_sup@v4.2.0\n"
     ]
    }
   ],
   "source": [
    "with gzip.open(os.path.join(DIR_DATA, 'all_concat.fastq.gz')) as f:\n",
    "    for line in f:\n",
    "        break\n",
    "print('basecalling model:', re.search('model_version_id=\\S+', line.decode().strip()).group())"
   ]
  },
  {
   "cell_type": "code",
   "execution_count": 4,
   "metadata": {},
   "outputs": [
    {
     "name": "stdout",
     "output_type": "stream",
     "text": [
      "number of passing reads from basecaller: 335717\n"
     ]
    }
   ],
   "source": [
    "n_reads = !unpigz -c \"{os.path.join(DIR_DATA, 'all_concat.fastq.gz')}\" | wc -l | awk '{{print $$1 / 4}}'\n",
    "n_reads = int(n_reads[0])\n",
    "print('number of passing reads from basecaller:', n_reads)"
   ]
  },
  {
   "cell_type": "markdown",
   "metadata": {},
   "source": [
    "# Understanding Nanopore Reads"
   ]
  },
  {
   "cell_type": "markdown",
   "metadata": {},
   "source": [
    "Note about splitcode options\n",
    "- `--assign`\n",
    "  > A second reason to use `--assign` is if you want only certain reads that meet a tag condition to be outputted. This means that all reads that **don’t meet the minFinds/minFindsG criteria** (i.e. aren’t found the minimum number of times specified) or have **zero tags identified** will be considered **unassigned**. Those unassigned reads can be written to separate output files via the `--unassigned` option. If the `--assign` option is not specified, those unassigned reads will still be outputted as normal with the rest of the output. [[FAQ](https://splitcode.readthedocs.io/en/latest/FAQ.html#when-should-i-use-assign-when-running-splitcode)]\n",
    "- `--no-outb`: do not output final barcode sequences, and do not prepend them to the reads of the first output FASTQ file [[FAQ](https://splitcode.readthedocs.io/en/latest/FAQ.html#how-do-i-specify-the-output-of-the-final-barcodes)]\n",
    "- `--mapping`: required (if not provided, program will raise an error message)"
   ]
  },
  {
   "cell_type": "markdown",
   "metadata": {},
   "source": [
    "## Ligation adapter sequences"
   ]
  },
  {
   "cell_type": "markdown",
   "metadata": {},
   "source": [
    "Number of reads that begin with the top-strand sequence\n",
    "- splitcode config: look for 15 nt of the 3' end of top-strand sequence within the first 40 nt of the read, allowing for a distance of 3 (up to 2 indels or 2 substitutions)\n",
    "- note that there are a handful of reads containing 2 copies of the ligation adapter top strand sequence within the first 40 nt"
   ]
  },
  {
   "cell_type": "code",
   "execution_count": 5,
   "metadata": {
    "vscode": {
     "languageId": "shellscript"
    }
   },
   "outputs": [
    {
     "name": "stderr",
     "output_type": "stream",
     "text": [
      "* Using a list of 1 tags (vector size: 1; map size: 632,499; num elements in map: 655,238)\n",
      "* will process sample 1: /central/groups/guttman/btyeh/scBarcode/data/20230831/all_concat.fastq.gz\n",
      "* processing the reads ...\n",
      "done \n",
      "* processed 335,717 reads, 264,980 reads were assigned\n"
     ]
    },
    {
     "name": "stdout",
     "output_type": "stream",
     "text": [
      "\n",
      "number of reads beginning with top-strand sequence: 264980\n",
      "\n",
      "Mapping\n",
      "AAAAAAAAAAAAAAAA\tLA\t264953\n",
      "AAAAAAAAAAAAAAAC\tLA,LA\t27\n"
     ]
    }
   ],
   "source": [
    "%%bash -s {DIR_DATA} {DIR_AUX}\n",
    "DIR_DATA=\"$1\"\n",
    "DIR_AUX=\"$2\"\n",
    "source ~/.bashrc\n",
    "\n",
    "cd \"$DIR_AUX\"\n",
    "\n",
    "PATH_INPUT=\"$DIR_DATA/all_concat.fastq.gz\"\n",
    "PATH_CONFIG=\"$DIR_AUX/splitcode-config_ligation-adapter-top.txt\"\n",
    "PATH_OUTPUT=\"$DIR_AUX/out_ligation-adapter-top.fasta\"\n",
    "PATH_MAPPING=\"$DIR_AUX/mapping_ligation-adapter-top.txt\"\n",
    "PATH_SUMMARY=\"$DIR_AUX/summary_ligation-adapter-top.txt\"\n",
    "\n",
    "rm -f \"$PATH_OUTPUT\" \"$PATH_MAPPING\" \"$PATH_SUMMARY\"\n",
    "\n",
    "splitcode -c \"$PATH_CONFIG\" --nFastqs=1 --assign --out-fasta --mod-names --no-outb \\\n",
    "    --mapping \"$PATH_MAPPING\" --summary \"$PATH_SUMMARY\" --output \"$PATH_OUTPUT\" \\\n",
    "    \"$PATH_INPUT\"\n",
    "echo \"\"\n",
    "echo \"number of reads beginning with top-strand sequence:\" $(wc -l \"$PATH_OUTPUT\" | awk '{print $1 / 2}')\n",
    "echo -e \"\\nMapping\"\n",
    "cat \"$PATH_MAPPING\""
   ]
  },
  {
   "cell_type": "markdown",
   "metadata": {},
   "source": [
    "Number of reads ending with the bottom-strand sequence\n",
    "- splitcode config: check presence of at least 7 nt (with 1 substitution allowed) from first 15 nt of bottom-strand sequence"
   ]
  },
  {
   "cell_type": "code",
   "execution_count": 6,
   "metadata": {
    "vscode": {
     "languageId": "shellscript"
    }
   },
   "outputs": [
    {
     "name": "stderr",
     "output_type": "stream",
     "text": [
      "* Using a list of 1 tags (vector size: 2; map size: 8,805; num elements in map: 12,910)\n",
      "* will process sample 1: /central/groups/guttman/btyeh/scBarcode/data/20230831/all_concat.fastq.gz\n",
      "* processing the reads ...\n",
      "done \n",
      "* processed 335,717 reads, 169,914 reads were assigned\n"
     ]
    },
    {
     "name": "stdout",
     "output_type": "stream",
     "text": [
      "\n",
      "number of reads ending with bottom-strand sequence: 169914\n",
      "\n",
      "Mapping\n",
      "AAAAAAAAAAAAAAAA\tLA\t169914\n"
     ]
    }
   ],
   "source": [
    "%%bash -s {DIR_DATA} {DIR_AUX}\n",
    "DIR_DATA=\"$1\"\n",
    "DIR_AUX=\"$2\"\n",
    "source ~/.bashrc\n",
    "\n",
    "cd \"$DIR_AUX\"\n",
    "\n",
    "PATH_INPUT=\"$DIR_DATA/all_concat.fastq.gz\"\n",
    "PATH_CONFIG=\"$DIR_AUX/splitcode-config_ligation-adapter-bottom.txt\"\n",
    "PATH_OUTPUT=\"$DIR_AUX/out_ligation-adapter-bottom.fasta\"\n",
    "PATH_MAPPING=\"$DIR_AUX/mapping_ligation-adapter-bottom.txt\"\n",
    "PATH_SUMMARY=\"$DIR_AUX/summary_ligation-adapter-bottom.txt\"\n",
    "\n",
    "rm -f \"$PATH_OUTPUT\" \"$PATH_MAPPING\" \"$PATH_SUMMARY\"\n",
    "\n",
    "splitcode -c \"$PATH_CONFIG\" --nFastqs=1 --assign --out-fasta --mod-names --no-outb \\\n",
    "    --mapping \"$PATH_MAPPING\" --summary \"$PATH_SUMMARY\" --output \"$PATH_OUTPUT\" \\\n",
    "    \"$PATH_INPUT\"\n",
    "echo \"\"\n",
    "echo \"number of reads ending with bottom-strand sequence:\" $(wc -l \"$PATH_OUTPUT\" | awk '{print $1 / 2}')\n",
    "echo -e \"\\nMapping\"\n",
    "cat \"$PATH_MAPPING\""
   ]
  },
  {
   "cell_type": "markdown",
   "metadata": {},
   "source": [
    "## 2Puni, 2Pbc sequences"
   ]
  },
  {
   "cell_type": "markdown",
   "metadata": {},
   "source": [
    "Reads matching both 2Puni and 2Pbc"
   ]
  },
  {
   "cell_type": "code",
   "execution_count": 7,
   "metadata": {
    "vscode": {
     "languageId": "shellscript"
    }
   },
   "outputs": [
    {
     "name": "stderr",
     "output_type": "stream",
     "text": [
      "* Using a list of 400 tags (vector size: 400; map size: 13,341,104; num elements in map: 13,752,483)\n",
      "* will process sample 1: /central/groups/guttman/btyeh/scBarcode/data/20230831/all_concat.fastq.gz\n",
      "* processing the reads ...\n",
      "done \n",
      "* processed 335,717 reads, 116,236 reads were assigned\n"
     ]
    },
    {
     "name": "stdout",
     "output_type": "stream",
     "text": [
      "number of reads with 2Puni and 2Pbc sequences: 116236\n",
      "\n",
      "Mapping:\n",
      "2Puni_5prime_1,2Puni_5prime_2,i5_E8,2Puni_3prime_1,2Puni_3prime_2,2Pbc_3prime_2_rc,2Pbc_3prime_1_rc,i7rc_E8,2Pbc_5prime_2_rc,2Pbc_5prime_1_rc\t45224\n",
      "2Pbc_5prime_1,2Pbc_5prime_2,i7_E8,2Pbc_3prime_1,2Pbc_3prime_2,2Puni_3prime_2_rc,2Puni_3prime_1_rc,i5rc_E8,2Puni_5prime_2_rc,2Puni_5prime_1_rc\t42189\n",
      "2Puni_5prime_1,2Puni_5prime_2,i5_E3,2Puni_3prime_1,2Puni_3prime_2,2Pbc_3prime_2_rc,2Pbc_3prime_1_rc,i7rc_E3,2Pbc_5prime_2_rc,2Pbc_5prime_1_rc\t9545\n",
      "2Puni_5prime_1,2Puni_5prime_2,i5_E2,2Puni_3prime_1,2Puni_3prime_2,2Pbc_3prime_2_rc,2Pbc_3prime_1_rc,i7rc_E2,2Pbc_5prime_2_rc,2Pbc_5prime_1_rc\t7061\n",
      "2Pbc_5prime_1,2Pbc_5prime_2,i7_E3,2Pbc_3prime_1,2Pbc_3prime_2,2Puni_3prime_2_rc,2Puni_3prime_1_rc,i5rc_E3,2Puni_5prime_2_rc,2Puni_5prime_1_rc\t4116\n",
      "2Puni_5prime_1,2Puni_5prime_2,i5_A11,2Puni_3prime_1,2Puni_3prime_2,2Pbc_3prime_2_rc,2Pbc_3prime_1_rc,i7rc_F2,2Pbc_5prime_2_rc,2Pbc_5prime_1_rc\t2990\n",
      "2Pbc_5prime_1,2Pbc_5prime_2,i7_F2,2Pbc_3prime_1,2Pbc_3prime_2,2Puni_3prime_2_rc,2Puni_3prime_1_rc,i5rc_A11,2Puni_5prime_2_rc,2Puni_5prime_1_rc\t1842\n",
      "2Pbc_5prime_1,2Pbc_5prime_2,i7_E2,2Pbc_3prime_1,2Pbc_3prime_2,2Puni_3prime_2_rc,2Puni_3prime_1_rc,i5rc_E2,2Puni_5prime_2_rc,2Puni_5prime_1_rc\t1103\n"
     ]
    }
   ],
   "source": [
    "%%bash -s {DIR_DATA} {DIR_AUX}\n",
    "DIR_DATA=\"$1\"\n",
    "DIR_AUX=\"$2\"\n",
    "source ~/.bashrc\n",
    "\n",
    "cd \"$DIR_AUX\"\n",
    "\n",
    "PATH_INPUT=\"$DIR_DATA/all_concat.fastq.gz\"\n",
    "PATH_CONFIG=\"$DIR_AUX/splitcode-config_2Puni-2Pbc-strict.txt\"\n",
    "PATH_OUTPUT=\"$DIR_AUX/out_2Puni-2Pbc-strict.fasta\"\n",
    "PATH_MAPPING=\"$DIR_AUX/mapping_2Puni-2Pbc-strict.txt\"\n",
    "PATH_SUMMARY=\"$DIR_AUX/summary_2Puni-2Pbc-strict.txt\"\n",
    "\n",
    "rm -f \"$PATH_OUTPUT\" \"$PATH_MAPPING\" \"$PATH_SUMMARY\"\n",
    "\n",
    "splitcode -c \"$PATH_CONFIG\" --nFastqs=1 --assign --out-fasta --mod-names --no-outb \\\n",
    "    --mapping \"$PATH_MAPPING\" --summary \"$PATH_SUMMARY\" --output \"$PATH_OUTPUT\" \\\n",
    "    \"$PATH_INPUT\"\n",
    "echo \"number of reads with 2Puni and 2Pbc sequences:\" $(wc -l \"$PATH_OUTPUT\" | awk '{print $1 / 2}')\n",
    "echo -e \"\\nMapping:\"\n",
    "sort -n -r -k 3 \"$PATH_MAPPING\" | cut -f 2,3 | head -n 8"
   ]
  },
  {
   "cell_type": "code",
   "execution_count": 9,
   "metadata": {
    "vscode": {
     "languageId": "shellscript"
    }
   },
   "outputs": [
    {
     "name": "stderr",
     "output_type": "stream",
     "text": [
      "* Using a list of 8 tags (vector size: 8; map size: 7,496,328; num elements in map: 7,735,466)\n",
      "* will process sample 1: /central/groups/guttman/btyeh/scBarcode/data/20230831/all_concat.fastq.gz\n",
      "* processing the reads ...\n",
      "done \n",
      "* processed 335,717 reads, 203,160 reads were assigned\n"
     ]
    },
    {
     "name": "stdout",
     "output_type": "stream",
     "text": [
      "number of reads with 2Puni and 2Pbc sequences: 203160\n",
      "\n",
      "Mapping:\n",
      "2Puni_3prime_2,2Pbc_3prime_2_rc\t110619\n",
      "2Pbc_3prime_2,2Puni_3prime_2_rc\t92536\n",
      "2Pbc_3prime_2,2Pbc_3prime_2,2Puni_3prime_2_rc\t3\n",
      "2Puni_3prime_2,2Puni_3prime_2,2Pbc_3prime_2_rc\t1\n",
      "2Pbc_3prime_2,2Puni_3prime_2,2Pbc_3prime_2_rc\t1\n"
     ]
    }
   ],
   "source": [
    "%%bash -s {DIR_DATA} {DIR_AUX}\n",
    "DIR_DATA=\"$1\"\n",
    "DIR_AUX=\"$2\"\n",
    "source ~/.bashrc\n",
    "\n",
    "cd \"$DIR_AUX\"\n",
    "\n",
    "PATH_INPUT=\"$DIR_DATA/all_concat.fastq.gz\"\n",
    "PATH_CONFIG=\"$DIR_AUX/splitcode-config_orient.txt\"\n",
    "PATH_OUTPUT=\"$DIR_AUX/out_orient.fasta\"\n",
    "PATH_MAPPING=\"$DIR_AUX/mapping_orient.txt\"\n",
    "PATH_SUMMARY=\"$DIR_AUX/summary_orient.txt\"\n",
    "PATH_UNASSIGNED=\"$DIR_AUX/unassigned_orient.fasta\"\n",
    "\n",
    "rm -f \"$PATH_OUTPUT\" \"$PATH_MAPPING\" \"$PATH_SUMMARY\"\n",
    "\n",
    "splitcode -c \"$PATH_CONFIG\" --nFastqs=1 --assign --out-fasta --mod-names --no-outb \\\n",
    "    --mapping \"$PATH_MAPPING\" --summary \"$PATH_SUMMARY\" --unassigned \"$PATH_UNASSIGNED\" --output \"$PATH_OUTPUT\" \\\n",
    "    \"$PATH_INPUT\"\n",
    "echo \"number of reads with 2Puni and 2Pbc sequences:\" $(wc -l \"$PATH_OUTPUT\" | awk '{print $1 / 2}')\n",
    "echo -e \"\\nMapping:\"\n",
    "sort -n -r -k 3 \"$PATH_MAPPING\" | cut -f 2,3 | head -n 8"
   ]
  },
  {
   "cell_type": "code",
   "execution_count": 12,
   "metadata": {
    "vscode": {
     "languageId": "shellscript"
    }
   },
   "outputs": [
    {
     "name": "stderr",
     "output_type": "stream",
     "text": [
      "* Using a list of 8 tags (vector size: 8; map size: 783,040; num elements in map: 786,487)\n",
      "* will process sample 1: /central/groups/guttman/btyeh/scBarcode/data/20230831/all_concat.fastq.gz\n",
      "* processing the reads ...\n",
      "done \n",
      "* processed 335,717 reads, 300,683 reads were assigned\n"
     ]
    },
    {
     "name": "stdout",
     "output_type": "stream",
     "text": [
      "number of reads with 2Puni and 2Pbc sequences: 300683\n",
      "\n",
      "Mapping:\n",
      "2Puni_5prime,2Puni_3prime,2Pbc_3prime_rc,2Pbc_5prime_rc\t57280\n",
      "2Pbc_5prime,2Pbc_3prime,2Puni_3prime_rc,2Puni_5prime_rc\t44056\n",
      "2Pbc_3prime_rc,2Pbc_5prime_rc\t27007\n",
      "2Pbc_5prime\t26187\n",
      "2Pbc_5prime,2Pbc_3prime,2Puni_3prime_rc\t25848\n",
      "2Puni_5prime\t22038\n",
      "2Puni_3prime_rc,2Puni_5prime_rc\t19616\n",
      "2Puni_5prime,2Puni_3prime\t18206\n"
     ]
    }
   ],
   "source": [
    "%%bash -s {DIR_DATA} {DIR_AUX}\n",
    "DIR_DATA=\"$1\"\n",
    "DIR_AUX=\"$2\"\n",
    "source ~/.bashrc\n",
    "\n",
    "cd \"$DIR_AUX\"\n",
    "\n",
    "PATH_INPUT=\"$DIR_DATA/all_concat.fastq.gz\"\n",
    "PATH_CONFIG=\"$DIR_AUX/splitcode-config_orient-long.txt\"\n",
    "PATH_OUTPUT=\"$DIR_AUX/out_orient-long.fasta\"\n",
    "PATH_MAPPING=\"$DIR_AUX/mapping_orient-long.txt\"\n",
    "PATH_SUMMARY=\"$DIR_AUX/summary_orient-long.txt\"\n",
    "PATH_UNASSIGNED=\"$DIR_AUX/unassigned_orient-long.fasta\"\n",
    "\n",
    "rm -f \"$PATH_OUTPUT\" \"$PATH_MAPPING\" \"$PATH_SUMMARY\"\n",
    "\n",
    "splitcode -c \"$PATH_CONFIG\" --nFastqs=1 --assign --out-fasta --loc-names --no-outb \\\n",
    "    --mapping \"$PATH_MAPPING\" --summary \"$PATH_SUMMARY\" --unassigned \"$PATH_UNASSIGNED\" --output \"$PATH_OUTPUT\" \\\n",
    "    \"$PATH_INPUT\"\n",
    "echo \"number of reads with 2Puni and 2Pbc sequences:\" $(wc -l \"$PATH_OUTPUT\" | awk '{print $1 / 2}')\n",
    "echo -e \"\\nMapping:\"\n",
    "sort -n -r -k 3 \"$PATH_MAPPING\" | cut -f 2,3 | head -n 8"
   ]
  },
  {
   "cell_type": "markdown",
   "metadata": {},
   "source": [
    "# Tests"
   ]
  },
  {
   "cell_type": "code",
   "execution_count": 31,
   "metadata": {
    "vscode": {
     "languageId": "shellscript"
    }
   },
   "outputs": [
    {
     "name": "stderr",
     "output_type": "stream",
     "text": [
      "* Using a list of 2 tags (vector size: 2; map size: 975,875; num elements in map: 1,010,913)\n",
      "* will process sample 1: /central/groups/guttman/btyeh/scBarcode/data/20230831/test_orient.fastq\n",
      "* processing the reads ...\n",
      "done \n",
      "* processed 1 reads, 1 reads were assigned\n"
     ]
    },
    {
     "name": "stdout",
     "output_type": "stream",
     "text": [
      "number of reads with 2Puni and 2Pbc sequences: 1\n",
      "\n",
      "Mapping:\n",
      "2Puni_3prime_2,2Pbc_3prime_2_rc\t1\n",
      ">67d75a6c-fd5d-4803-86c9-f0bdf8ae8a20 LX:Z:2Puni_3prime_2:0,87-103,2Pbc_3prime_2_rc:0,163-179\n",
      "ATTTATATCCTACTTCGTTCAGTTACGTATTGCTAATGATACGGCGACCACCGAGATCTACACTGCTATTAACACTCTTTCCCTACACGACGCTCTTCCGATCTAAGGTAGCTAAATTGCTCCAAGTCAAAGATACTTCTGTAGGCAGTTGTCAACGCATAGAAGATCGGAAGACATAGAAAGTCAAGCTAGATTCCACGAAGAGTTGTAGAGGTAGCAGGAGATTTCGGAAGAGCACACGTCTGAACTCCAGTCACAGTTGCTTATCTCGTATGCCGTCTTCTGCTTGAGCAATACGTGG\n"
     ]
    }
   ],
   "source": [
    "%%bash -s {DIR_DATA} {DIR_AUX}\n",
    "DIR_DATA=\"$1\"\n",
    "DIR_AUX=\"$2\"\n",
    "source ~/.bashrc\n",
    "\n",
    "cd \"$DIR_AUX\"\n",
    "\n",
    "PATH_INPUT=\"$DIR_DATA/test_orient.fastq\"\n",
    "PATH_CONFIG=\"$DIR_AUX/splitcode-config_test.txt\"\n",
    "PATH_OUTPUT=\"$DIR_AUX/out_test.fasta\"\n",
    "PATH_MAPPING=\"$DIR_AUX/mapping_test.txt\"\n",
    "PATH_SUMMARY=\"$DIR_AUX/summary_test.txt\"\n",
    "PATH_UNASSIGNED=\"$DIR_AUX/unassigned_test.fasta\"\n",
    "\n",
    "rm -f \"$PATH_OUTPUT\" \"$PATH_MAPPING\" \"$PATH_SUMMARY\"\n",
    "\n",
    "splitcode -c \"$PATH_CONFIG\" --nFastqs=1 --assign --out-fasta --loc-names --no-outb \\\n",
    "    --mapping \"$PATH_MAPPING\" --summary \"$PATH_SUMMARY\" --unassigned \"$PATH_UNASSIGNED\" --output \"$PATH_OUTPUT\" \\\n",
    "    \"$PATH_INPUT\"\n",
    "echo \"number of reads with 2Puni and 2Pbc sequences:\" $(wc -l \"$PATH_OUTPUT\" | awk '{print $1 / 2}')\n",
    "echo -e \"\\nMapping:\"\n",
    "sort -n -r -k 3 \"$PATH_MAPPING\" | cut -f 2,3 | head -n 8\n",
    "\n",
    "cat \"$PATH_OUTPUT\""
   ]
  },
  {
   "cell_type": "code",
   "execution_count": 14,
   "metadata": {
    "vscode": {
     "languageId": "shellscript"
    }
   },
   "outputs": [
    {
     "name": "stdout",
     "output_type": "stream",
     "text": [
      ">67d75a6c-fd5d-4803-86c9-f0bdf8ae8a20 LX:Z:2Puni_3prime_1:0,71-87,2Puni_3prime_2:0,87-103,2Pbc_3prime_2_rc:0,163-179,2Pbc_3prime_1_rc:0,240-257\n",
      "ATTTATATCCTACTTCGTTCAGTTACGTATTGCTAATGATACGGCGACCACCGAGATCTACACTGCTATTAACACTCTTTCCCTACACGACGCTCTTCCGATCTAAGGTAGCTAAATTGCTCCAAGTCAAAGATACTTCTGTAGGCAGTTGTCAACGCATAGAAGATCGGAAGACATAGAAAGTCAAGCTAGATTCCACGAAGAGTTGTAGAGGTAGCAGGAGATTTCGGAAGAGCACACGTCTGAACTCCAGTCACAGTTGCTTATCTCGTATGCCGTCTTCTGCTTGAGCAATACGTGG\n"
     ]
    }
   ],
   "source": [
    "%%bash -s {DIR_DATA} {DIR_AUX}\n",
    "DIR_DATA=\"$1\"\n",
    "DIR_AUX=\"$2\"\n",
    "source ~/.bashrc\n",
    "\n",
    "cd \"$DIR_AUX\"\n",
    "\n",
    "PATH_INPUT=\"$DIR_DATA/test_orient.fastq\"\n",
    "PATH_CONFIG=\"$DIR_AUX/splitcode-config_test.txt\"\n",
    "PATH_OUTPUT=\"$DIR_AUX/out_test.fasta\"\n",
    "PATH_MAPPING=\"$DIR_AUX/mapping_test.txt\"\n",
    "PATH_SUMMARY=\"$DIR_AUX/summary_test.txt\"\n",
    "PATH_UNASSIGNED=\"$DIR_AUX/unassigned_test.fasta\"\n",
    "\n",
    "cat \"$PATH_OUTPUT\""
   ]
  },
  {
   "cell_type": "code",
   "execution_count": null,
   "metadata": {
    "vscode": {
     "languageId": "shellscript"
    }
   },
   "outputs": [],
   "source": []
  },
  {
   "cell_type": "markdown",
   "metadata": {},
   "source": [
    "Reads matching 2Puni"
   ]
  },
  {
   "cell_type": "code",
   "execution_count": 69,
   "metadata": {
    "vscode": {
     "languageId": "shellscript"
    }
   },
   "outputs": [
    {
     "name": "stderr",
     "output_type": "stream",
     "text": [
      "* Using a list of 98 tags (vector size: 98; map size: 416,239; num elements in map: 441,712)\n",
      "* will process sample 1: /central/groups/guttman/btyeh/scBarcode/data/20230831/test_2Puni.fastq\n",
      "* processing the reads ...\n",
      "done \n",
      "* processed 1 reads, 1 reads were assigned\n"
     ]
    },
    {
     "name": "stdout",
     "output_type": "stream",
     "text": [
      "number of reads with 2Puni sequences: 1\n",
      "\n",
      "Mapping:\n",
      "2Puni_5prime_2,i5_E3,2Puni_3prime_1\t1\n",
      ">eaf97d93-2a95-4a53-8764-6ff71f263314 LX:Z:2Puni_5prime_2:0,43-55,i5_E3:0,55-63,2Puni_3prime_1:0,63-71\n",
      "AACCTATTGGTTCGGTTGGTCTTGCTAATGATACGGCGACCACCGAGATCTACACTCAGGCTTACACTCTTTCCCTACACGACGCTCTTCCGATCTGACGCTCTTCCGATCTGACGCTCTTCCGATCTGACGCTCTTCCGATCTGACGCTCTTCCGATCTGACGCTCTTCCCGATCTGACGCTCTTCCGATCTGACGCTCTTCCGATCTGACGGAAGAGCACACGTCTGAACTCCAGTCACTGTCGGATATCTCATTATGCCATC\n"
     ]
    }
   ],
   "source": [
    "%%bash -s {DIR_DATA} {DIR_AUX}\n",
    "DIR_DATA=\"$1\"\n",
    "DIR_AUX=\"$2\"\n",
    "source ~/.bashrc\n",
    "\n",
    "cd \"$DIR_AUX\"\n",
    "\n",
    "PATH_INPUT=\"$DIR_DATA/test_2Puni.fastq\"\n",
    "PATH_CONFIG=\"$DIR_AUX/splitcode-config_2Puni-12.txt\"\n",
    "PATH_OUTPUT=\"$DIR_AUX/out_test-2Puni-12.fasta\"\n",
    "PATH_MAPPING=\"$DIR_AUX/mapping_test-2Puni-12.txt\"\n",
    "PATH_SUMMARY=\"$DIR_AUX/summary_test-2Puni-12.txt\"\n",
    "\n",
    "rm -f \"$PATH_OUTPUT\" \"$PATH_MAPPING\" \"$PATH_SUMMARY\"\n",
    "\n",
    "splitcode -c \"$PATH_CONFIG\" --nFastqs=1 --assign --out-fasta --loc-names --no-outb \\\n",
    "    --mapping \"$PATH_MAPPING\" --summary \"$PATH_SUMMARY\" --output \"$PATH_OUTPUT\" \\\n",
    "    \"$PATH_INPUT\"\n",
    "echo \"number of reads with 2Puni sequences:\" $(wc -l \"$PATH_OUTPUT\" | awk '{print $1 / 2}')\n",
    "echo -e \"\\nMapping:\"\n",
    "sort -n -r -k 3 \"$PATH_MAPPING\" | cut -f 2,3 | head -n 8\n",
    "cat \"$PATH_OUTPUT\""
   ]
  },
  {
   "cell_type": "code",
   "execution_count": 70,
   "metadata": {
    "vscode": {
     "languageId": "shellscript"
    }
   },
   "outputs": [
    {
     "name": "stderr",
     "output_type": "stream",
     "text": [
      "* Using a list of 98 tags (vector size: 98; map size: 129,039; num elements in map: 145,675)\n",
      "* will process sample 1: /central/groups/guttman/btyeh/scBarcode/data/20230831/test_2Puni.fastq\n",
      "* processing the reads ...\n",
      "done \n",
      "* processed 1 reads, 0 reads were assigned\n"
     ]
    },
    {
     "name": "stdout",
     "output_type": "stream",
     "text": [
      "number of reads with 2Puni sequences: 0\n",
      "\n",
      "Mapping:\n"
     ]
    }
   ],
   "source": [
    "%%bash -s {DIR_DATA} {DIR_AUX}\n",
    "DIR_DATA=\"$1\"\n",
    "DIR_AUX=\"$2\"\n",
    "source ~/.bashrc\n",
    "\n",
    "cd \"$DIR_AUX\"\n",
    "\n",
    "PATH_INPUT=\"$DIR_DATA/test_2Puni.fastq\"\n",
    "PATH_CONFIG=\"$DIR_AUX/splitcode-config_2Puni-8.txt\"\n",
    "PATH_OUTPUT=\"$DIR_AUX/out_test-2Puni-8.fasta\"\n",
    "PATH_MAPPING=\"$DIR_AUX/mapping_test-2Puni-8.txt\"\n",
    "PATH_SUMMARY=\"$DIR_AUX/summary_test-2Puni-8.txt\"\n",
    "\n",
    "rm -f \"$PATH_OUTPUT\" \"$PATH_MAPPING\" \"$PATH_SUMMARY\"\n",
    "\n",
    "splitcode -c \"$PATH_CONFIG\" --nFastqs=1 --assign --out-fasta --loc-names --no-outb \\\n",
    "    --mapping \"$PATH_MAPPING\" --summary \"$PATH_SUMMARY\" --output \"$PATH_OUTPUT\" \\\n",
    "    \"$PATH_INPUT\"\n",
    "echo \"number of reads with 2Puni sequences:\" $(wc -l \"$PATH_OUTPUT\" | awk '{print $1 / 2}')\n",
    "echo -e \"\\nMapping:\"\n",
    "sort -n -r -k 3 \"$PATH_MAPPING\" | cut -f 2,3 | head -n 8\n",
    "cat \"$PATH_OUTPUT\""
   ]
  },
  {
   "cell_type": "code",
   "execution_count": 75,
   "metadata": {
    "vscode": {
     "languageId": "shellscript"
    }
   },
   "outputs": [
    {
     "name": "stderr",
     "output_type": "stream",
     "text": [
      "* Using a list of 2 tags (vector size: 2; map size: 67,060; num elements in map: 73,663)\n",
      "* will process sample 1: /central/groups/guttman/btyeh/scBarcode/data/20230831/test_2Puni.fastq\n",
      "* processing the reads ...\n",
      "done \n",
      "* processed 1 reads, 1 reads were assigned\n"
     ]
    },
    {
     "name": "stdout",
     "output_type": "stream",
     "text": [
      "number of reads with 2Puni sequences: 1\n",
      "\n",
      "Mapping:\n",
      "2Puni_5prime_2,2Puni_5prime_2,2Puni_5prime_2,i5_E3,2Puni_5prime_2,2Puni_5prime_2,2Puni_5prime_2,2Puni_5prime_2,2Puni_5prime_2,2Puni_5prime_2,2Puni_5prime_2,2Puni_5prime_2,2Puni_5prime_2,2Puni_5prime_2,2Puni_5prime_2,2Puni_5prime_2,2Puni_5prime_2,2Puni_5prime_2,2Puni_5prime_2,2Puni_5prime_2,2Puni_5prime_2,2Puni_5prime_2,2Puni_5prime_2,2Puni_5prime_2,2Puni_5prime_2,2Puni_5prime_2,2Puni_5prime_2\t1\n",
      ">eaf97d93-2a95-4a53-8764-6ff71f263314 LX:Z:2Puni_5prime_2:0,27-34,2Puni_5prime_2:0,38-44,2Puni_5prime_2:0,47-55,i5_E3:0,55-63,2Puni_5prime_2:0,63-69,2Puni_5prime_2:0,70-80,2Puni_5prime_2:0,84-91,2Puni_5prime_2:0,91-101,2Puni_5prime_2:0,101-107,2Puni_5prime_2:0,107-117,2Puni_5prime_2:0,117-123,2Puni_5prime_2:0,123-133,2Puni_5prime_2:0,133-139,2Puni_5prime_2:0,139-149,2Puni_5prime_2:0,149-155,2Puni_5prime_2:0,155-165,2Puni_5prime_2:0,165-172,2Puni_5prime_2:0,172-182,2Puni_5prime_2:0,182-188,2Puni_5prime_2:0,188-198,2Puni_5prime_2:0,198-204,2Puni_5prime_2:0,205-212,2Puni_5prime_2:0,217-224,2Puni_5prime_2:0,225-232,2Puni_5prime_2:0,235-241,2Puni_5prime_2:0,247-254,2Puni_5prime_2:0,254-261\n",
      "AACCTATTGGTTCGGTTGGTCTTGCTAATGATACGGCGACCACCGAGATCTACACTCAGGCTTACACTCTTTCCCTACACGACGCTCTTCCGATCTGACGCTCTTCCGATCTGACGCTCTTCCGATCTGACGCTCTTCCGATCTGACGCTCTTCCGATCTGACGCTCTTCCCGATCTGACGCTCTTCCGATCTGACGCTCTTCCGATCTGACGGAAGAGCACACGTCTGAACTCCAGTCACTGTCGGATATCTCATTATGCCATC\n"
     ]
    }
   ],
   "source": [
    "%%bash -s {DIR_DATA} {DIR_AUX}\n",
    "DIR_DATA=\"$1\"\n",
    "DIR_AUX=\"$2\"\n",
    "source ~/.bashrc\n",
    "\n",
    "cd \"$DIR_AUX\"\n",
    "\n",
    "PATH_INPUT=\"$DIR_DATA/test_2Puni.fastq\"\n",
    "PATH_CONFIG=\"$DIR_AUX/splitcode-config_test.txt\"\n",
    "PATH_OUTPUT=\"$DIR_AUX/out_test-2Puni-8.fasta\"\n",
    "PATH_MAPPING=\"$DIR_AUX/mapping_test-2Puni-8.txt\"\n",
    "PATH_SUMMARY=\"$DIR_AUX/summary_test-2Puni-8.txt\"\n",
    "\n",
    "rm -f \"$PATH_OUTPUT\" \"$PATH_MAPPING\" \"$PATH_SUMMARY\"\n",
    "\n",
    "splitcode -c \"$PATH_CONFIG\" --nFastqs=1 --assign --out-fasta --loc-names --no-outb \\\n",
    "    --mapping \"$PATH_MAPPING\" --summary \"$PATH_SUMMARY\" --output \"$PATH_OUTPUT\" \\\n",
    "    \"$PATH_INPUT\"\n",
    "echo \"number of reads with 2Puni sequences:\" $(wc -l \"$PATH_OUTPUT\" | awk '{print $1 / 2}')\n",
    "echo -e \"\\nMapping:\"\n",
    "sort -n -r -k 3 \"$PATH_MAPPING\" | cut -f 2,3 | head -n 8\n",
    "cat \"$PATH_OUTPUT\""
   ]
  },
  {
   "cell_type": "code",
   "execution_count": null,
   "metadata": {
    "vscode": {
     "languageId": "shellscript"
    }
   },
   "outputs": [],
   "source": []
  },
  {
   "cell_type": "code",
   "execution_count": 63,
   "metadata": {
    "vscode": {
     "languageId": "shellscript"
    }
   },
   "outputs": [
    {
     "name": "stderr",
     "output_type": "stream",
     "text": [
      "* Using a list of 98 tags (vector size: 98; map size: 416,239; num elements in map: 441,712)\n",
      "* will process sample 1: /central/groups/guttman/btyeh/scBarcode/data/20230831/all_concat.fastq.gz\n",
      "* processing the reads ...\n",
      "done \n",
      "* processed 335,717 reads, 132,290 reads were assigned\n"
     ]
    },
    {
     "name": "stdout",
     "output_type": "stream",
     "text": [
      "number of reads with 2Puni sequences: 132290\n",
      "\n",
      "Mapping:\n",
      "2Puni_5prime_2,i5_E8,2Puni_3prime_1\t90165\n",
      "2Puni_5prime_2,i5_E3,2Puni_3prime_1\t20001\n",
      "2Puni_5prime_2,i5_E2,2Puni_3prime_1\t14905\n",
      "2Puni_5prime_2,i5_A11,2Puni_3prime_1\t6184\n",
      "2Puni_5prime_2,i5_E2,2Puni_3prime_1,2Puni_5prime_2\t342\n",
      "2Puni_5prime_2,i5_E3,2Puni_3prime_1,2Puni_5prime_2\t276\n",
      "2Puni_5prime_2,i5_C11,2Puni_3prime_1\t145\n",
      "2Puni_5prime_2,i5_E8,2Puni_3prime_1,2Puni_5prime_2\t104\n"
     ]
    }
   ],
   "source": [
    "%%bash -s {DIR_DATA} {DIR_AUX}\n",
    "DIR_DATA=\"$1\"\n",
    "DIR_AUX=\"$2\"\n",
    "source ~/.bashrc\n",
    "\n",
    "cd \"$DIR_AUX\"\n",
    "\n",
    "PATH_INPUT=\"$DIR_DATA/all_concat.fastq.gz\"\n",
    "PATH_CONFIG=\"$DIR_AUX/splitcode-config_2Puni-12.txt\"\n",
    "PATH_OUTPUT=\"$DIR_AUX/out_2Puni-12.fasta\"\n",
    "PATH_MAPPING=\"$DIR_AUX/mapping_2Puni-12.txt\"\n",
    "PATH_SUMMARY=\"$DIR_AUX/summary_2Puni-12.txt\"\n",
    "\n",
    "rm -f \"$PATH_OUTPUT\" \"$PATH_MAPPING\" \"$PATH_SUMMARY\"\n",
    "\n",
    "splitcode -c \"$PATH_CONFIG\" --nFastqs=1 --assign --out-fasta --mod-names --no-outb \\\n",
    "    --mapping \"$PATH_MAPPING\" --summary \"$PATH_SUMMARY\" --output \"$PATH_OUTPUT\" \\\n",
    "    \"$PATH_INPUT\"\n",
    "echo \"number of reads with 2Puni sequences:\" $(wc -l \"$PATH_OUTPUT\" | awk '{print $1 / 2}')\n",
    "echo -e \"\\nMapping:\"\n",
    "sort -n -r -k 3 \"$PATH_MAPPING\" | cut -f 2,3 | head -n 8"
   ]
  },
  {
   "cell_type": "code",
   "execution_count": 64,
   "metadata": {
    "vscode": {
     "languageId": "shellscript"
    }
   },
   "outputs": [
    {
     "name": "stderr",
     "output_type": "stream",
     "text": [
      "* Using a list of 98 tags (vector size: 98; map size: 129,039; num elements in map: 145,675)\n",
      "* will process sample 1: /central/groups/guttman/btyeh/scBarcode/data/20230831/all_concat.fastq.gz\n",
      "* processing the reads ...\n",
      "done \n",
      "* processed 335,717 reads, 1,322 reads were assigned\n"
     ]
    },
    {
     "name": "stdout",
     "output_type": "stream",
     "text": [
      "number of reads with 2Puni sequences: 1322\n",
      "\n",
      "Mapping:\n",
      "2Puni_5prime_2,i5_E8,2Puni_3prime_1,2Puni_5prime_2\t442\n",
      "2Puni_5prime_2,i5_E3,2Puni_3prime_1,2Puni_5prime_2\t227\n",
      "2Puni_5prime_2,i5_E2,2Puni_3prime_1,2Puni_5prime_2\t184\n",
      "2Puni_5prime_2,i5_A11,2Puni_3prime_1,2Puni_5prime_2\t45\n",
      "2Puni_5prime_2,i5_H2,2Puni_3prime_1,2Puni_5prime_2\t40\n",
      "2Puni_5prime_2,i5_G2,2Puni_3prime_1,2Puni_5prime_2\t27\n",
      "2Puni_5prime_2,i5_H12,2Puni_3prime_1,2Puni_5prime_2\t21\n",
      "2Puni_5prime_2,i5_H8,2Puni_3prime_1,2Puni_5prime_2\t21\n"
     ]
    }
   ],
   "source": [
    "%%bash -s {DIR_DATA} {DIR_AUX}\n",
    "DIR_DATA=\"$1\"\n",
    "DIR_AUX=\"$2\"\n",
    "source ~/.bashrc\n",
    "\n",
    "cd \"$DIR_AUX\"\n",
    "\n",
    "PATH_INPUT=\"$DIR_DATA/all_concat.fastq.gz\"\n",
    "PATH_CONFIG=\"$DIR_AUX/splitcode-config_2Puni-8.txt\"\n",
    "PATH_OUTPUT=\"$DIR_AUX/out_2Puni-8.fasta\"\n",
    "PATH_MAPPING=\"$DIR_AUX/mapping_2Puni-8.txt\"\n",
    "PATH_SUMMARY=\"$DIR_AUX/summary_2Puni-8.txt\"\n",
    "\n",
    "rm -f \"$PATH_OUTPUT\" \"$PATH_MAPPING\" \"$PATH_SUMMARY\"\n",
    "\n",
    "splitcode -c \"$PATH_CONFIG\" --nFastqs=1 --assign --out-fasta --mod-names --no-outb \\\n",
    "    --mapping \"$PATH_MAPPING\" --summary \"$PATH_SUMMARY\" --output \"$PATH_OUTPUT\" \\\n",
    "    \"$PATH_INPUT\"\n",
    "echo \"number of reads with 2Puni sequences:\" $(wc -l \"$PATH_OUTPUT\" | awk '{print $1 / 2}')\n",
    "echo -e \"\\nMapping:\"\n",
    "sort -n -r -k 3 \"$PATH_MAPPING\" | cut -f 2,3 | head -n 8"
   ]
  },
  {
   "cell_type": "markdown",
   "metadata": {},
   "source": [
    "Reads matching 2Puni"
   ]
  },
  {
   "cell_type": "code",
   "execution_count": null,
   "metadata": {
    "vscode": {
     "languageId": "shellscript"
    }
   },
   "outputs": [],
   "source": []
  },
  {
   "cell_type": "code",
   "execution_count": 35,
   "metadata": {
    "vscode": {
     "languageId": "shellscript"
    }
   },
   "outputs": [
    {
     "name": "stderr",
     "output_type": "stream",
     "text": [
      "* Using a list of 400 tags (vector size: 400; map size: 438,072; num elements in map: 447,631)\n",
      "* will process sample 1: /central/groups/guttman/btyeh/scBarcode/data/20230831/test.fastq\n",
      "* processing the reads ...\n",
      "done \n",
      "* processed 2 reads, 1 reads were assigned\n"
     ]
    },
    {
     "name": "stdout",
     "output_type": "stream",
     "text": [
      "number of reads with 2Puni and 2Pbc sequences: 1\n"
     ]
    }
   ],
   "source": [
    "%%bash -s {DIR_DATA} {DIR_AUX}\n",
    "DIR_DATA=\"$1\"\n",
    "DIR_AUX=\"$2\"\n",
    "source ~/.bashrc\n",
    "\n",
    "cd \"$DIR_AUX\"\n",
    "\n",
    "PATH_INPUT=\"$DIR_DATA/test.fastq\"\n",
    "PATH_CONFIG=\"$DIR_AUX/splitcode-config_2Puni-2Pbc-strict.txt\"\n",
    "PATH_OUTPUT=\"$DIR_AUX/out_test.fasta\"\n",
    "PATH_MAPPING=\"$DIR_AUX/mapping_test.txt\"\n",
    "PATH_SUMMARY=\"$DIR_AUX/summary_test.txt\"\n",
    "\n",
    "splitcode -c \"$PATH_CONFIG\" --nFastqs=1 --assign --out-fasta --mod-names --no-outb \\\n",
    "    --mapping \"$PATH_MAPPING\" --summary \"$PATH_SUMMARY\" --output \"$PATH_OUTPUT\" \\\n",
    "    \"$PATH_INPUT\"\n",
    "echo \"number of reads with 2Puni and 2Pbc sequences:\" $(wc -l \"$PATH_OUTPUT\" | awk '{print $1 / 2}')\n",
    "# rm \"$PATH_OUTPUT\""
   ]
  },
  {
   "cell_type": "markdown",
   "metadata": {},
   "source": [
    "Separate sequences starting with i5 vs. i7 sequence"
   ]
  },
  {
   "cell_type": "code",
   "execution_count": 10,
   "metadata": {
    "vscode": {
     "languageId": "shellscript"
    }
   },
   "outputs": [
    {
     "name": "stderr",
     "output_type": "stream",
     "text": [
      "* Using a list of 8 tags (vector size: 8; map size: 18,106,818; num elements in map: 18,247,768)\n",
      "* will process sample 1: /central/groups/guttman/btyeh/scBarcode/data/20230831/all_concat.fastq.gz\n",
      "* processing the reads ...\n",
      "done \n",
      "* processed 335,717 reads\n"
     ]
    }
   ],
   "source": [
    "%%bash -s {DIR_DATA} {DIR_AUX}\n",
    "DIR_DATA=\"$1\"\n",
    "DIR_AUX=\"$2\"\n",
    "source ~/.bashrc\n",
    "\n",
    "PATH_INPUT=\"$DIR_DATA/all_concat.fastq.gz\"\n",
    "PATH_CONFIG=\"$DIR_AUX/splitcode-config_i5-vs-i7.txt\"\n",
    "PATH_SELECT=\"$DIR_AUX/splitcode-select_i5-vs-i7.txt\"\n",
    "\n",
    "cd \"$DIR_AUX\"\n",
    "\n",
    "splitcode -c \"$PATH_CONFIG\" --nFastqs=1 --keep-grp=\"$PATH_SELECT\" --out-fasta --no-output --unassigned=\"unmapped.fasta\" \"$PATH_INPUT\""
   ]
  },
  {
   "cell_type": "markdown",
   "metadata": {},
   "source": [
    "Check for ligation adapter"
   ]
  },
  {
   "cell_type": "code",
   "execution_count": 12,
   "metadata": {
    "vscode": {
     "languageId": "shellscript"
    }
   },
   "outputs": [
    {
     "name": "stderr",
     "output_type": "stream",
     "text": [
      "* Using a list of 1 tags (vector size: 1; map size: 4,115,826; num elements in map: 4,209,561)\n",
      "* will process sample 1: /central/groups/guttman/btyeh/scBarcode/data_aux/20230831/i5_0.fasta\n",
      "* processing the reads ...bash: line 10: 149949 Segmentation fault      splitcode -c \"$PATH_CONFIG\" --nFastqs=1 --out-fasta --no-output --summary='i5_ligation.summary' \"$PATH_INPUT\"\n"
     ]
    },
    {
     "ename": "CalledProcessError",
     "evalue": "Command 'b'DIR_DATA=\"$1\"\\nDIR_AUX=\"$2\"\\nsource ~/.bashrc\\n\\nPATH_INPUT=\"$DIR_AUX/i5_0.fasta\"\\nPATH_CONFIG=\"$DIR_AUX/splitcode-config_ligation-adapter.txt\"\\n\\ncd \"$DIR_AUX\"\\n\\nsplitcode -c \"$PATH_CONFIG\" --nFastqs=1 --out-fasta --no-output --summary=\\'i5_ligation.summary\\' \"$PATH_INPUT\"\\n'' returned non-zero exit status 139.",
     "output_type": "error",
     "traceback": [
      "\u001b[0;31m---------------------------------------------------------------------------\u001b[0m",
      "\u001b[0;31mCalledProcessError\u001b[0m                        Traceback (most recent call last)",
      "Cell \u001b[0;32mIn[12], line 1\u001b[0m\n\u001b[0;32m----> 1\u001b[0m get_ipython()\u001b[39m.\u001b[39;49mrun_cell_magic(\u001b[39m'\u001b[39;49m\u001b[39mbash\u001b[39;49m\u001b[39m'\u001b[39;49m, \u001b[39m'\u001b[39;49m\u001b[39m-s \u001b[39;49m\u001b[39m{DIR_DATA}\u001b[39;49;00m\u001b[39m \u001b[39;49m\u001b[39m{DIR_AUX}\u001b[39;49;00m\u001b[39m'\u001b[39;49m, \u001b[39m'\u001b[39;49m\u001b[39mDIR_DATA=\u001b[39;49m\u001b[39m\"\u001b[39;49m\u001b[39m$1\u001b[39;49m\u001b[39m\"\u001b[39;49m\u001b[39m\\n\u001b[39;49;00m\u001b[39mDIR_AUX=\u001b[39;49m\u001b[39m\"\u001b[39;49m\u001b[39m$2\u001b[39;49m\u001b[39m\"\u001b[39;49m\u001b[39m\\n\u001b[39;49;00m\u001b[39msource ~/.bashrc\u001b[39;49m\u001b[39m\\n\u001b[39;49;00m\u001b[39m\\n\u001b[39;49;00m\u001b[39mPATH_INPUT=\u001b[39;49m\u001b[39m\"\u001b[39;49m\u001b[39m$DIR_AUX/i5_0.fasta\u001b[39;49m\u001b[39m\"\u001b[39;49m\u001b[39m\\n\u001b[39;49;00m\u001b[39mPATH_CONFIG=\u001b[39;49m\u001b[39m\"\u001b[39;49m\u001b[39m$DIR_AUX/splitcode-config_ligation-adapter.txt\u001b[39;49m\u001b[39m\"\u001b[39;49m\u001b[39m\\n\u001b[39;49;00m\u001b[39m\\n\u001b[39;49;00m\u001b[39mcd \u001b[39;49m\u001b[39m\"\u001b[39;49m\u001b[39m$DIR_AUX\u001b[39;49m\u001b[39m\"\u001b[39;49m\u001b[39m\\n\u001b[39;49;00m\u001b[39m\\n\u001b[39;49;00m\u001b[39msplitcode -c \u001b[39;49m\u001b[39m\"\u001b[39;49m\u001b[39m$PATH_CONFIG\u001b[39;49m\u001b[39m\"\u001b[39;49m\u001b[39m --nFastqs=1 --out-fasta --no-output --summary=\u001b[39;49m\u001b[39m\\'\u001b[39;49;00m\u001b[39mi5_ligation.summary\u001b[39;49m\u001b[39m\\'\u001b[39;49;00m\u001b[39m \u001b[39;49m\u001b[39m\"\u001b[39;49m\u001b[39m$PATH_INPUT\u001b[39;49m\u001b[39m\"\u001b[39;49m\u001b[39m\\n\u001b[39;49;00m\u001b[39m'\u001b[39;49m)\n",
      "File \u001b[0;32m~/miniconda3/envs/py3/lib/python3.10/site-packages/IPython/core/interactiveshell.py:2478\u001b[0m, in \u001b[0;36mInteractiveShell.run_cell_magic\u001b[0;34m(self, magic_name, line, cell)\u001b[0m\n\u001b[1;32m   2476\u001b[0m \u001b[39mwith\u001b[39;00m \u001b[39mself\u001b[39m\u001b[39m.\u001b[39mbuiltin_trap:\n\u001b[1;32m   2477\u001b[0m     args \u001b[39m=\u001b[39m (magic_arg_s, cell)\n\u001b[0;32m-> 2478\u001b[0m     result \u001b[39m=\u001b[39m fn(\u001b[39m*\u001b[39;49margs, \u001b[39m*\u001b[39;49m\u001b[39m*\u001b[39;49mkwargs)\n\u001b[1;32m   2480\u001b[0m \u001b[39m# The code below prevents the output from being displayed\u001b[39;00m\n\u001b[1;32m   2481\u001b[0m \u001b[39m# when using magics with decodator @output_can_be_silenced\u001b[39;00m\n\u001b[1;32m   2482\u001b[0m \u001b[39m# when the last Python token in the expression is a ';'.\u001b[39;00m\n\u001b[1;32m   2483\u001b[0m \u001b[39mif\u001b[39;00m \u001b[39mgetattr\u001b[39m(fn, magic\u001b[39m.\u001b[39mMAGIC_OUTPUT_CAN_BE_SILENCED, \u001b[39mFalse\u001b[39;00m):\n",
      "File \u001b[0;32m~/miniconda3/envs/py3/lib/python3.10/site-packages/IPython/core/magics/script.py:154\u001b[0m, in \u001b[0;36mScriptMagics._make_script_magic.<locals>.named_script_magic\u001b[0;34m(line, cell)\u001b[0m\n\u001b[1;32m    152\u001b[0m \u001b[39melse\u001b[39;00m:\n\u001b[1;32m    153\u001b[0m     line \u001b[39m=\u001b[39m script\n\u001b[0;32m--> 154\u001b[0m \u001b[39mreturn\u001b[39;00m \u001b[39mself\u001b[39;49m\u001b[39m.\u001b[39;49mshebang(line, cell)\n",
      "File \u001b[0;32m~/miniconda3/envs/py3/lib/python3.10/site-packages/IPython/core/magics/script.py:314\u001b[0m, in \u001b[0;36mScriptMagics.shebang\u001b[0;34m(self, line, cell)\u001b[0m\n\u001b[1;32m    309\u001b[0m \u001b[39mif\u001b[39;00m args\u001b[39m.\u001b[39mraise_error \u001b[39mand\u001b[39;00m p\u001b[39m.\u001b[39mreturncode \u001b[39m!=\u001b[39m \u001b[39m0\u001b[39m:\n\u001b[1;32m    310\u001b[0m     \u001b[39m# If we get here and p.returncode is still None, we must have\u001b[39;00m\n\u001b[1;32m    311\u001b[0m     \u001b[39m# killed it but not yet seen its return code. We don't wait for it,\u001b[39;00m\n\u001b[1;32m    312\u001b[0m     \u001b[39m# in case it's stuck in uninterruptible sleep. -9 = SIGKILL\u001b[39;00m\n\u001b[1;32m    313\u001b[0m     rc \u001b[39m=\u001b[39m p\u001b[39m.\u001b[39mreturncode \u001b[39mor\u001b[39;00m \u001b[39m-\u001b[39m\u001b[39m9\u001b[39m\n\u001b[0;32m--> 314\u001b[0m     \u001b[39mraise\u001b[39;00m CalledProcessError(rc, cell)\n",
      "\u001b[0;31mCalledProcessError\u001b[0m: Command 'b'DIR_DATA=\"$1\"\\nDIR_AUX=\"$2\"\\nsource ~/.bashrc\\n\\nPATH_INPUT=\"$DIR_AUX/i5_0.fasta\"\\nPATH_CONFIG=\"$DIR_AUX/splitcode-config_ligation-adapter.txt\"\\n\\ncd \"$DIR_AUX\"\\n\\nsplitcode -c \"$PATH_CONFIG\" --nFastqs=1 --out-fasta --no-output --summary=\\'i5_ligation.summary\\' \"$PATH_INPUT\"\\n'' returned non-zero exit status 139."
     ]
    }
   ],
   "source": [
    "%%bash -s {DIR_DATA} {DIR_AUX}\n",
    "DIR_DATA=\"$1\"\n",
    "DIR_AUX=\"$2\"\n",
    "source ~/.bashrc\n",
    "\n",
    "PATH_INPUT=\"$DIR_AUX/i5_0.fasta\"\n",
    "PATH_CONFIG=\"$DIR_AUX/splitcode-config_ligation-adapter.txt\"\n",
    "\n",
    "cd \"$DIR_AUX\"\n",
    "\n",
    "splitcode -c \"$PATH_CONFIG\" --nFastqs=1 --out-fasta --no-output --summary='i5_ligation.summary' \"$PATH_INPUT\""
   ]
  },
  {
   "cell_type": "markdown",
   "metadata": {},
   "source": [
    "Observations\n",
    "- Essentially all sequences starting with i5 are prefixed with the top strand ligation adapter sequence"
   ]
  },
  {
   "cell_type": "markdown",
   "metadata": {},
   "source": [
    "1. How many ways the reads start\n"
   ]
  },
  {
   "cell_type": "markdown",
   "metadata": {},
   "source": [
    "Check for all 4 orientations of my sequences\n",
    "\n",
    "| start | end |\n",
    "\n",
    "\n",
    "- i5, i7 r\n",
    "- i5, i7 rc\n",
    "- i5 "
   ]
  },
  {
   "cell_type": "code",
   "execution_count": null,
   "metadata": {},
   "outputs": [],
   "source": []
  }
 ],
 "metadata": {
  "kernelspec": {
   "display_name": "py3",
   "language": "python",
   "name": "py3"
  },
  "language_info": {
   "codemirror_mode": {
    "name": "ipython",
    "version": 3
   },
   "file_extension": ".py",
   "mimetype": "text/x-python",
   "name": "python",
   "nbconvert_exporter": "python",
   "pygments_lexer": "ipython3",
   "version": "3.10.12"
  },
  "orig_nbformat": 4
 },
 "nbformat": 4,
 "nbformat_minor": 2
}
